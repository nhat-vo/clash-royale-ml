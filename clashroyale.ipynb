{
 "cells": [
  {
   "cell_type": "markdown",
   "metadata": {},
   "source": [
    "<a href=\"https://www.kaggle.com/code/duynhatvo/clashroyale?scriptVersionId=93721569\" target=\"_blank\"><img align=\"left\" alt=\"Kaggle\" title=\"Open in Kaggle\" src=\"https://kaggle.com/static/images/open-in-kaggle.svg\"></a>"
   ]
  },
  {
   "cell_type": "markdown",
   "metadata": {},
   "source": [
    "# Clash Royale Dataset Analysis"
   ]
  },
  {
   "cell_type": "markdown",
   "metadata": {},
   "source": [
    "### TODO\n",
    "\n",
    "1) Average Elixir (Classification)\n",
    "- compute average elixir for each deck and try to figure out if there is a specific range which is better than others\n",
    "\n",
    "2) Troop types\n",
    "- air/ground/spell/building\n",
    "\n",
    "3) Rarity\n",
    "- common/rare/legend/champion"
   ]
  },
  {
   "cell_type": "markdown",
   "metadata": {},
   "source": [
    "## 1. Introduction\n",
    "\n",
    "In this notebook, we are going to analyze the [Clash Royale Dataset](https://www.kaggle.com/datasets/nonrice/clash-royale-battles-upper-ladder-december-2021). This dataset documents over 700 thousands matches of the mobile game [Clash Royale](https://clashroyale.com/) by Supercell. We will first brief through the basic mechanics of the games and the goal of this project, then the analysis and conclusion part."
   ]
  },
  {
   "cell_type": "markdown",
   "metadata": {},
   "source": [
    "## 2. Objectives:\n",
    "### a. Clash Royale:\n",
    "Clash Royale is a realtime strategy mobile game, where 2 players fight over a 3-minute match to destroy their opponent's towers. Each player will have a prechosen deck consisting of 8 cards, and will continuously deploy their cards which are either minions or spells. The game ends after 3 minutes, or if a player's main tower is destroyed.\n",
    "\n",
    "As simple as it may sound, analyzing who would win a match is very difficult, due to the huge permutations of cards (there are 106 cards in total), as well as the different players' skills. In this notebook, we are going to analyze the dataset with the following assumptions:\n",
    "- The matches happen in a small time span (December 2021), and no update (tweaks to each card's stats) are done.\n",
    "- The matches happen between the top-ranked players in the world, and they all have very similar skills.\n",
    "\n",
    "### b. Our approach:\n",
    "In this notebook, we are going to try and see whether we can predict an outcome of a match using the decks and the rank of each player."
   ]
  },
  {
   "cell_type": "code",
   "execution_count": 6,
   "metadata": {
    "_cell_guid": "b1076dfc-b9ad-4769-8c92-a6c4dae69d19",
    "_uuid": "8f2839f25d086af736a60e9eeb907d3b93b6e0e5",
    "execution": {
     "iopub.execute_input": "2022-04-22T13:00:16.978456Z",
     "iopub.status.busy": "2022-04-22T13:00:16.977804Z",
     "iopub.status.idle": "2022-04-22T13:00:17.007514Z",
     "shell.execute_reply": "2022-04-22T13:00:17.006534Z",
     "shell.execute_reply.started": "2022-04-22T13:00:16.97836Z"
    },
    "vscode": {
     "languageId": "python"
    }
   },
   "outputs": [],
   "source": [
    "# This Python 3 environment comes with many helpful analytics libraries installed\n",
    "# It is defined by the kaggle/python Docker image: https://github.com/kaggle/docker-python\n",
    "# For example, here's several helpful packages to load\n",
    "\n",
    "import numpy as np # linear algebra\n",
    "import pandas as pd # data processing, CSV file I/O (e.g. pd.read_csv)\n",
    "import matplotlib.pyplot as plt\n",
    "\n",
    "# Input data files are available in the read-only \"../input/\" directory\n",
    "# For example, running this (by clicking run or pressing Shift+Enter) will list all files under the input directory\n",
    "\n",
    "import os\n",
    "# for dirname, _, filenames in os.walk('/kaggle/input'):\n",
    "#     for filename in filenames:\n",
    "#         print(os.path.join(dirname, filename))\n",
    "import json\n",
    "\n",
    "# You can write up to 20GB to the current directory (/kaggle/working/) that gets preserved as output when you create a version using \"Save & Run All\" \n",
    "# You can also write temporary files to /kaggle/temp/, but they won't be saved outside of the current session"
   ]
  },
  {
   "cell_type": "code",
   "execution_count": 9,
   "metadata": {
    "execution": {
     "iopub.execute_input": "2022-04-22T13:01:25.319233Z",
     "iopub.status.busy": "2022-04-22T13:01:25.318903Z",
     "iopub.status.idle": "2022-04-22T13:01:25.349344Z",
     "shell.execute_reply": "2022-04-22T13:01:25.348762Z",
     "shell.execute_reply.started": "2022-04-22T13:01:25.319199Z"
    },
    "vscode": {
     "languageId": "python"
    }
   },
   "outputs": [
    {
     "ename": "ValueError",
     "evalue": "Expected object or value",
     "output_type": "error",
     "traceback": [
      "\u001b[0;31m---------------------------------------------------------------------------\u001b[0m",
      "\u001b[0;31mValueError\u001b[0m                                Traceback (most recent call last)",
      "\u001b[0;32m<ipython-input-9-6350559502d4>\u001b[0m in \u001b[0;36m<module>\u001b[0;34m\u001b[0m\n\u001b[0;32m----> 1\u001b[0;31m \u001b[0mcards\u001b[0m \u001b[0;34m=\u001b[0m \u001b[0mpd\u001b[0m\u001b[0;34m.\u001b[0m\u001b[0mread_json\u001b[0m\u001b[0;34m(\u001b[0m\u001b[0;34m'/data/cards.json'\u001b[0m\u001b[0;34m)\u001b[0m\u001b[0;34m\u001b[0m\u001b[0;34m\u001b[0m\u001b[0m\n\u001b[0m\u001b[1;32m      2\u001b[0m \u001b[0mcards\u001b[0m\u001b[0;34m.\u001b[0m\u001b[0mdrop\u001b[0m\u001b[0;34m(\u001b[0m\u001b[0mcolumns\u001b[0m\u001b[0;34m=\u001b[0m\u001b[0;34m[\u001b[0m\u001b[0;34m'arena'\u001b[0m\u001b[0;34m,\u001b[0m \u001b[0;34m'description'\u001b[0m\u001b[0;34m]\u001b[0m\u001b[0;34m)\u001b[0m\u001b[0;34m\u001b[0m\u001b[0;34m\u001b[0m\u001b[0m\n",
      "\u001b[0;32m/usr/local/Anaconda3-2021.05/lib/python3.8/site-packages/pandas/util/_decorators.py\u001b[0m in \u001b[0;36mwrapper\u001b[0;34m(*args, **kwargs)\u001b[0m\n\u001b[1;32m    197\u001b[0m                 \u001b[0;32melse\u001b[0m\u001b[0;34m:\u001b[0m\u001b[0;34m\u001b[0m\u001b[0;34m\u001b[0m\u001b[0m\n\u001b[1;32m    198\u001b[0m                     \u001b[0mkwargs\u001b[0m\u001b[0;34m[\u001b[0m\u001b[0mnew_arg_name\u001b[0m\u001b[0;34m]\u001b[0m \u001b[0;34m=\u001b[0m \u001b[0mnew_arg_value\u001b[0m\u001b[0;34m\u001b[0m\u001b[0;34m\u001b[0m\u001b[0m\n\u001b[0;32m--> 199\u001b[0;31m             \u001b[0;32mreturn\u001b[0m \u001b[0mfunc\u001b[0m\u001b[0;34m(\u001b[0m\u001b[0;34m*\u001b[0m\u001b[0margs\u001b[0m\u001b[0;34m,\u001b[0m \u001b[0;34m**\u001b[0m\u001b[0mkwargs\u001b[0m\u001b[0;34m)\u001b[0m\u001b[0;34m\u001b[0m\u001b[0;34m\u001b[0m\u001b[0m\n\u001b[0m\u001b[1;32m    200\u001b[0m \u001b[0;34m\u001b[0m\u001b[0m\n\u001b[1;32m    201\u001b[0m         \u001b[0;32mreturn\u001b[0m \u001b[0mcast\u001b[0m\u001b[0;34m(\u001b[0m\u001b[0mF\u001b[0m\u001b[0;34m,\u001b[0m \u001b[0mwrapper\u001b[0m\u001b[0;34m)\u001b[0m\u001b[0;34m\u001b[0m\u001b[0;34m\u001b[0m\u001b[0m\n",
      "\u001b[0;32m/usr/local/Anaconda3-2021.05/lib/python3.8/site-packages/pandas/util/_decorators.py\u001b[0m in \u001b[0;36mwrapper\u001b[0;34m(*args, **kwargs)\u001b[0m\n\u001b[1;32m    297\u001b[0m                 )\n\u001b[1;32m    298\u001b[0m                 \u001b[0mwarnings\u001b[0m\u001b[0;34m.\u001b[0m\u001b[0mwarn\u001b[0m\u001b[0;34m(\u001b[0m\u001b[0mmsg\u001b[0m\u001b[0;34m,\u001b[0m \u001b[0mFutureWarning\u001b[0m\u001b[0;34m,\u001b[0m \u001b[0mstacklevel\u001b[0m\u001b[0;34m=\u001b[0m\u001b[0mstacklevel\u001b[0m\u001b[0;34m)\u001b[0m\u001b[0;34m\u001b[0m\u001b[0;34m\u001b[0m\u001b[0m\n\u001b[0;32m--> 299\u001b[0;31m             \u001b[0;32mreturn\u001b[0m \u001b[0mfunc\u001b[0m\u001b[0;34m(\u001b[0m\u001b[0;34m*\u001b[0m\u001b[0margs\u001b[0m\u001b[0;34m,\u001b[0m \u001b[0;34m**\u001b[0m\u001b[0mkwargs\u001b[0m\u001b[0;34m)\u001b[0m\u001b[0;34m\u001b[0m\u001b[0;34m\u001b[0m\u001b[0m\n\u001b[0m\u001b[1;32m    300\u001b[0m \u001b[0;34m\u001b[0m\u001b[0m\n\u001b[1;32m    301\u001b[0m         \u001b[0;32mreturn\u001b[0m \u001b[0mwrapper\u001b[0m\u001b[0;34m\u001b[0m\u001b[0;34m\u001b[0m\u001b[0m\n",
      "\u001b[0;32m/usr/local/Anaconda3-2021.05/lib/python3.8/site-packages/pandas/io/json/_json.py\u001b[0m in \u001b[0;36mread_json\u001b[0;34m(path_or_buf, orient, typ, dtype, convert_axes, convert_dates, keep_default_dates, numpy, precise_float, date_unit, encoding, lines, chunksize, compression, nrows, storage_options)\u001b[0m\n\u001b[1;32m    561\u001b[0m \u001b[0;34m\u001b[0m\u001b[0m\n\u001b[1;32m    562\u001b[0m     \u001b[0;32mwith\u001b[0m \u001b[0mjson_reader\u001b[0m\u001b[0;34m:\u001b[0m\u001b[0;34m\u001b[0m\u001b[0;34m\u001b[0m\u001b[0m\n\u001b[0;32m--> 563\u001b[0;31m         \u001b[0;32mreturn\u001b[0m \u001b[0mjson_reader\u001b[0m\u001b[0;34m.\u001b[0m\u001b[0mread\u001b[0m\u001b[0;34m(\u001b[0m\u001b[0;34m)\u001b[0m\u001b[0;34m\u001b[0m\u001b[0;34m\u001b[0m\u001b[0m\n\u001b[0m\u001b[1;32m    564\u001b[0m \u001b[0;34m\u001b[0m\u001b[0m\n\u001b[1;32m    565\u001b[0m \u001b[0;34m\u001b[0m\u001b[0m\n",
      "\u001b[0;32m/usr/local/Anaconda3-2021.05/lib/python3.8/site-packages/pandas/io/json/_json.py\u001b[0m in \u001b[0;36mread\u001b[0;34m(self)\u001b[0m\n\u001b[1;32m    692\u001b[0m                 \u001b[0mobj\u001b[0m \u001b[0;34m=\u001b[0m \u001b[0mself\u001b[0m\u001b[0;34m.\u001b[0m\u001b[0m_get_object_parser\u001b[0m\u001b[0;34m(\u001b[0m\u001b[0mself\u001b[0m\u001b[0;34m.\u001b[0m\u001b[0m_combine_lines\u001b[0m\u001b[0;34m(\u001b[0m\u001b[0mdata_lines\u001b[0m\u001b[0;34m)\u001b[0m\u001b[0;34m)\u001b[0m\u001b[0;34m\u001b[0m\u001b[0;34m\u001b[0m\u001b[0m\n\u001b[1;32m    693\u001b[0m         \u001b[0;32melse\u001b[0m\u001b[0;34m:\u001b[0m\u001b[0;34m\u001b[0m\u001b[0;34m\u001b[0m\u001b[0m\n\u001b[0;32m--> 694\u001b[0;31m             \u001b[0mobj\u001b[0m \u001b[0;34m=\u001b[0m \u001b[0mself\u001b[0m\u001b[0;34m.\u001b[0m\u001b[0m_get_object_parser\u001b[0m\u001b[0;34m(\u001b[0m\u001b[0mself\u001b[0m\u001b[0;34m.\u001b[0m\u001b[0mdata\u001b[0m\u001b[0;34m)\u001b[0m\u001b[0;34m\u001b[0m\u001b[0;34m\u001b[0m\u001b[0m\n\u001b[0m\u001b[1;32m    695\u001b[0m         \u001b[0mself\u001b[0m\u001b[0;34m.\u001b[0m\u001b[0mclose\u001b[0m\u001b[0;34m(\u001b[0m\u001b[0;34m)\u001b[0m\u001b[0;34m\u001b[0m\u001b[0;34m\u001b[0m\u001b[0m\n\u001b[1;32m    696\u001b[0m         \u001b[0;32mreturn\u001b[0m \u001b[0mobj\u001b[0m\u001b[0;34m\u001b[0m\u001b[0;34m\u001b[0m\u001b[0m\n",
      "\u001b[0;32m/usr/local/Anaconda3-2021.05/lib/python3.8/site-packages/pandas/io/json/_json.py\u001b[0m in \u001b[0;36m_get_object_parser\u001b[0;34m(self, json)\u001b[0m\n\u001b[1;32m    714\u001b[0m         \u001b[0mobj\u001b[0m \u001b[0;34m=\u001b[0m \u001b[0;32mNone\u001b[0m\u001b[0;34m\u001b[0m\u001b[0;34m\u001b[0m\u001b[0m\n\u001b[1;32m    715\u001b[0m         \u001b[0;32mif\u001b[0m \u001b[0mtyp\u001b[0m \u001b[0;34m==\u001b[0m \u001b[0;34m\"frame\"\u001b[0m\u001b[0;34m:\u001b[0m\u001b[0;34m\u001b[0m\u001b[0;34m\u001b[0m\u001b[0m\n\u001b[0;32m--> 716\u001b[0;31m             \u001b[0mobj\u001b[0m \u001b[0;34m=\u001b[0m \u001b[0mFrameParser\u001b[0m\u001b[0;34m(\u001b[0m\u001b[0mjson\u001b[0m\u001b[0;34m,\u001b[0m \u001b[0;34m**\u001b[0m\u001b[0mkwargs\u001b[0m\u001b[0;34m)\u001b[0m\u001b[0;34m.\u001b[0m\u001b[0mparse\u001b[0m\u001b[0;34m(\u001b[0m\u001b[0;34m)\u001b[0m\u001b[0;34m\u001b[0m\u001b[0;34m\u001b[0m\u001b[0m\n\u001b[0m\u001b[1;32m    717\u001b[0m \u001b[0;34m\u001b[0m\u001b[0m\n\u001b[1;32m    718\u001b[0m         \u001b[0;32mif\u001b[0m \u001b[0mtyp\u001b[0m \u001b[0;34m==\u001b[0m \u001b[0;34m\"series\"\u001b[0m \u001b[0;32mor\u001b[0m \u001b[0mobj\u001b[0m \u001b[0;32mis\u001b[0m \u001b[0;32mNone\u001b[0m\u001b[0;34m:\u001b[0m\u001b[0;34m\u001b[0m\u001b[0;34m\u001b[0m\u001b[0m\n",
      "\u001b[0;32m/usr/local/Anaconda3-2021.05/lib/python3.8/site-packages/pandas/io/json/_json.py\u001b[0m in \u001b[0;36mparse\u001b[0;34m(self)\u001b[0m\n\u001b[1;32m    829\u001b[0m \u001b[0;34m\u001b[0m\u001b[0m\n\u001b[1;32m    830\u001b[0m         \u001b[0;32melse\u001b[0m\u001b[0;34m:\u001b[0m\u001b[0;34m\u001b[0m\u001b[0;34m\u001b[0m\u001b[0m\n\u001b[0;32m--> 831\u001b[0;31m             \u001b[0mself\u001b[0m\u001b[0;34m.\u001b[0m\u001b[0m_parse_no_numpy\u001b[0m\u001b[0;34m(\u001b[0m\u001b[0;34m)\u001b[0m\u001b[0;34m\u001b[0m\u001b[0;34m\u001b[0m\u001b[0m\n\u001b[0m\u001b[1;32m    832\u001b[0m \u001b[0;34m\u001b[0m\u001b[0m\n\u001b[1;32m    833\u001b[0m         \u001b[0;32mif\u001b[0m \u001b[0mself\u001b[0m\u001b[0;34m.\u001b[0m\u001b[0mobj\u001b[0m \u001b[0;32mis\u001b[0m \u001b[0;32mNone\u001b[0m\u001b[0;34m:\u001b[0m\u001b[0;34m\u001b[0m\u001b[0;34m\u001b[0m\u001b[0m\n",
      "\u001b[0;32m/usr/local/Anaconda3-2021.05/lib/python3.8/site-packages/pandas/io/json/_json.py\u001b[0m in \u001b[0;36m_parse_no_numpy\u001b[0;34m(self)\u001b[0m\n\u001b[1;32m   1077\u001b[0m         \u001b[0;32mif\u001b[0m \u001b[0morient\u001b[0m \u001b[0;34m==\u001b[0m \u001b[0;34m\"columns\"\u001b[0m\u001b[0;34m:\u001b[0m\u001b[0;34m\u001b[0m\u001b[0;34m\u001b[0m\u001b[0m\n\u001b[1;32m   1078\u001b[0m             self.obj = DataFrame(\n\u001b[0;32m-> 1079\u001b[0;31m                 \u001b[0mloads\u001b[0m\u001b[0;34m(\u001b[0m\u001b[0mjson\u001b[0m\u001b[0;34m,\u001b[0m \u001b[0mprecise_float\u001b[0m\u001b[0;34m=\u001b[0m\u001b[0mself\u001b[0m\u001b[0;34m.\u001b[0m\u001b[0mprecise_float\u001b[0m\u001b[0;34m)\u001b[0m\u001b[0;34m,\u001b[0m \u001b[0mdtype\u001b[0m\u001b[0;34m=\u001b[0m\u001b[0;32mNone\u001b[0m\u001b[0;34m\u001b[0m\u001b[0;34m\u001b[0m\u001b[0m\n\u001b[0m\u001b[1;32m   1080\u001b[0m             )\n\u001b[1;32m   1081\u001b[0m         \u001b[0;32melif\u001b[0m \u001b[0morient\u001b[0m \u001b[0;34m==\u001b[0m \u001b[0;34m\"split\"\u001b[0m\u001b[0;34m:\u001b[0m\u001b[0;34m\u001b[0m\u001b[0;34m\u001b[0m\u001b[0m\n",
      "\u001b[0;31mValueError\u001b[0m: Expected object or value"
     ]
    }
   ],
   "source": [
    "cards = pd.read_json('/data/cards.json')\n",
    "cards.drop(columns=['arena', 'description'])"
   ]
  },
  {
   "cell_type": "code",
   "execution_count": 3,
   "metadata": {
    "execution": {
     "iopub.execute_input": "2022-04-22T10:14:18.928508Z",
     "iopub.status.busy": "2022-04-22T10:14:18.928207Z",
     "iopub.status.idle": "2022-04-22T10:14:18.936496Z",
     "shell.execute_reply": "2022-04-22T10:14:18.935484Z",
     "shell.execute_reply.started": "2022-04-22T10:14:18.928476Z"
    },
    "vscode": {
     "languageId": "python"
    }
   },
   "outputs": [
    {
     "ename": "NameError",
     "evalue": "name 'cards' is not defined",
     "output_type": "error",
     "traceback": [
      "\u001b[0;31m---------------------------------------------------------------------------\u001b[0m",
      "\u001b[0;31mNameError\u001b[0m                                 Traceback (most recent call last)",
      "\u001b[0;32m<ipython-input-3-e820808715df>\u001b[0m in \u001b[0;36m<module>\u001b[0;34m\u001b[0m\n\u001b[0;32m----> 1\u001b[0;31m \u001b[0mcards\u001b[0m\u001b[0;34m[\u001b[0m\u001b[0;34m'type'\u001b[0m\u001b[0;34m]\u001b[0m\u001b[0;34m.\u001b[0m\u001b[0munique\u001b[0m\u001b[0;34m(\u001b[0m\u001b[0;34m)\u001b[0m\u001b[0;34m\u001b[0m\u001b[0;34m\u001b[0m\u001b[0m\n\u001b[0m",
      "\u001b[0;31mNameError\u001b[0m: name 'cards' is not defined"
     ]
    }
   ],
   "source": [
    "cards['type'].unique()"
   ]
  },
  {
   "cell_type": "code",
   "execution_count": null,
   "metadata": {
    "execution": {
     "iopub.execute_input": "2022-04-22T13:01:29.36634Z",
     "iopub.status.busy": "2022-04-22T13:01:29.365725Z",
     "iopub.status.idle": "2022-04-22T13:01:29.421489Z",
     "shell.execute_reply": "2022-04-22T13:01:29.420815Z",
     "shell.execute_reply.started": "2022-04-22T13:01:29.366301Z"
    },
    "vscode": {
     "languageId": "python"
    }
   },
   "outputs": [],
   "source": [
    "with open('/kaggle/input/clash-royale-dataset/data/cards_stats.json') as file:\n",
    "    cards_stats = json.load(file)\n",
    "for i in cards_stats['troop']:\n",
    "    if i['key'] == 'barbarian-barrel':\n",
    "        print(i)"
   ]
  },
  {
   "cell_type": "code",
   "execution_count": null,
   "metadata": {
    "collapsed": true,
    "execution": {
     "iopub.execute_input": "2022-04-22T13:01:38.987843Z",
     "iopub.status.busy": "2022-04-22T13:01:38.987047Z",
     "iopub.status.idle": "2022-04-22T13:01:41.004814Z",
     "shell.execute_reply": "2022-04-22T13:01:40.99271Z",
     "shell.execute_reply.started": "2022-04-22T13:01:38.9878Z"
    },
    "jupyter": {
     "outputs_hidden": true
    },
    "vscode": {
     "languageId": "python"
    }
   },
   "outputs": [],
   "source": [
    "cards_stats"
   ]
  },
  {
   "cell_type": "markdown",
   "metadata": {},
   "source": [
    "## 3. Preliminary Analysis:\n",
    "### a. A brief overview:\n",
    "We are first going to have a quick look to get a sense of the data. As the dataset has over 700 thousand points, we are first going to only use the first 20 thousand to reduce computing power, before generalizing to bigger dataset.\n",
    "\n",
    "We then have a look at the dataset, and its correlation matrix."
   ]
  },
  {
   "cell_type": "code",
   "execution_count": null,
   "metadata": {
    "execution": {
     "iopub.execute_input": "2022-04-16T08:53:04.418079Z",
     "iopub.status.busy": "2022-04-16T08:53:04.417796Z",
     "iopub.status.idle": "2022-04-16T08:53:05.688068Z",
     "shell.execute_reply": "2022-04-16T08:53:05.687357Z",
     "shell.execute_reply.started": "2022-04-16T08:53:04.418052Z"
    },
    "vscode": {
     "languageId": "python"
    }
   },
   "outputs": [],
   "source": [
    "df_full = pd.read_csv('../input/clash-royale-battles-upper-ladder-december-2021/data_ord.csv')\n",
    "df_full.drop(columns='Unnamed: 0', inplace=True)\n",
    "card_names = pd.read_csv('../input/clash-royale-battles-upper-ladder-december-2021/cardlist.csv')['card']\n",
    "N_CARDS = card_names.shape[0]"
   ]
  },
  {
   "cell_type": "code",
   "execution_count": null,
   "metadata": {
    "execution": {
     "iopub.execute_input": "2022-04-16T08:53:05.68987Z",
     "iopub.status.busy": "2022-04-16T08:53:05.689628Z",
     "iopub.status.idle": "2022-04-16T08:53:05.746733Z",
     "shell.execute_reply": "2022-04-16T08:53:05.745949Z",
     "shell.execute_reply.started": "2022-04-16T08:53:05.689837Z"
    },
    "vscode": {
     "languageId": "python"
    }
   },
   "outputs": [],
   "source": [
    "SIZE = 50000\n",
    "df = df_full.sample(SIZE, random_state=84, ignore_index=True)\n",
    "df"
   ]
  },
  {
   "cell_type": "code",
   "execution_count": null,
   "metadata": {
    "execution": {
     "iopub.execute_input": "2022-04-16T08:53:10.95044Z",
     "iopub.status.busy": "2022-04-16T08:53:10.950161Z",
     "iopub.status.idle": "2022-04-16T08:53:11.036305Z",
     "shell.execute_reply": "2022-04-16T08:53:11.035558Z",
     "shell.execute_reply.started": "2022-04-16T08:53:10.950411Z"
    },
    "vscode": {
     "languageId": "python"
    }
   },
   "outputs": [],
   "source": [
    "df.describe()"
   ]
  },
  {
   "cell_type": "code",
   "execution_count": null,
   "metadata": {
    "execution": {
     "iopub.execute_input": "2022-04-16T08:53:11.733381Z",
     "iopub.status.busy": "2022-04-16T08:53:11.732538Z",
     "iopub.status.idle": "2022-04-16T08:53:11.791587Z",
     "shell.execute_reply": "2022-04-16T08:53:11.790868Z",
     "shell.execute_reply.started": "2022-04-16T08:53:11.733331Z"
    },
    "vscode": {
     "languageId": "python"
    }
   },
   "outputs": [],
   "source": [
    "corr = df.corr()"
   ]
  },
  {
   "cell_type": "code",
   "execution_count": null,
   "metadata": {
    "execution": {
     "iopub.execute_input": "2022-04-16T08:53:12.593232Z",
     "iopub.status.busy": "2022-04-16T08:53:12.592756Z",
     "iopub.status.idle": "2022-04-16T08:53:13.027747Z",
     "shell.execute_reply": "2022-04-16T08:53:13.02708Z",
     "shell.execute_reply.started": "2022-04-16T08:53:12.593176Z"
    },
    "vscode": {
     "languageId": "python"
    }
   },
   "outputs": [],
   "source": [
    "f = plt.figure(figsize=(9, 7))\n",
    "plt.imshow(np.abs(corr))\n",
    "plt.title('Correlation Matrix')\n",
    "plt.xticks(np.arange(df.shape[1]), df.columns, rotation=45)\n",
    "plt.yticks(np.arange(df.shape[1]), df.columns)\n",
    "plt.colorbar()\n",
    "plt.show()"
   ]
  },
  {
   "cell_type": "markdown",
   "metadata": {},
   "source": [
    "#### Remarks:\n",
    "From the plotted correlation matrix, we observe that there seems to be a clear relationship between:\n",
    "- The current card and the next card(s) in each player's deck\n",
    "- The players' rankings (trophies) with each other\n",
    "- Players' rankings (trophies) and cards in their deck\n",
    "\n",
    "The first relation is very intuitive. This is because cards often have synergies (i.e some go well with others as support fillers while other do not). In this case, the results can be interpreted to explain that every card is followed by another specific card to complement the first one to build a strategy (catch: this is a strategy game). There are also relationships with further cards in the deck and even though they get weaker it is straightforward to realize that the cards are played out in a specific manner to build a strategy.  \n",
    "\n",
    "Furthermore, the players' rankings should be correlated as well which is well supported by the graph. This is so because the game's \"match-making process\" is based on player rankings, (and players of different rankings seems to use similar decks of cards.) --- how?\n",
    "\n",
    "However, unfortunately, it is evident that there is almost no correlation between the outcome and any other attributes of the dataset from this analysis. We can try to apply some well-known classifications methods and check if they give us promising results."
   ]
  },
  {
   "cell_type": "markdown",
   "metadata": {},
   "source": [
    "### b. Basic Algorithms:\n",
    "In the following cells we do the following:\n",
    "1. We first encode each players' deck into $1 \\times 106$ vectors, where $V_i = 1$ if the $i^{th}$ card is in the deck, $0$ otherwise. This seems to be a better choice than one-hot encoding, as there are $\\begin{pmatrix}106 \\\\ 8 \\end{pmatrix} \\approx 3 \\times 10^{11}$ possible choices of decks.\n",
    "2. We then split the whole data set into training sets and test sets for supervised classification. We also keep a list of all decks choice people used to see if unsupervised learning give us some better insights into the data set.\n",
    "3. We then apply some well-known simple Classification methods (e.g KNN, Decsion Trees, etc.) to see if we get a good result."
   ]
  },
  {
   "cell_type": "code",
   "execution_count": null,
   "metadata": {
    "execution": {
     "iopub.execute_input": "2022-04-16T08:53:15.305738Z",
     "iopub.status.busy": "2022-04-16T08:53:15.305483Z",
     "iopub.status.idle": "2022-04-16T08:53:23.469373Z",
     "shell.execute_reply": "2022-04-16T08:53:23.468609Z",
     "shell.execute_reply.started": "2022-04-16T08:53:15.30571Z"
    },
    "vscode": {
     "languageId": "python"
    }
   },
   "outputs": [],
   "source": [
    "from sklearn.model_selection import train_test_split\n",
    "y_train = df['outcome']\n",
    "x_train, decks = [], []\n",
    "\n",
    "# we first combine the DataFrame into 1x106 vectors, where V[i] = 1 if the ith card is in the deck\n",
    "# this \n",
    "for i in range(df.shape[0]):\n",
    "    p1 = np.zeros(106)\n",
    "    p2 = np.zeros(106)\n",
    "    for j in range(1, 9):\n",
    "        p1[df[f'p1card{j}'][i]] = 1\n",
    "        p2[df[f'p2card{j}'][i]] = 1\n",
    "    decks.append(p1)\n",
    "    decks.append(p2)\n",
    "    x_train.append(np.concatenate((p1, p2)))\n",
    "    \n",
    "x_train = np.array(x_train)\n",
    "decks = np.array(decks)\n",
    "x_train, x_test, y_train, y_test = train_test_split(x_train, y_train, test_size=0.2, random_state=6233)\n",
    "d_train, d_test = train_test_split(decks, test_size=0.2, random_state=47483)"
   ]
  },
  {
   "cell_type": "code",
   "execution_count": null,
   "metadata": {
    "execution": {
     "iopub.execute_input": "2022-04-11T17:04:12.878803Z",
     "iopub.status.busy": "2022-04-11T17:04:12.878117Z",
     "iopub.status.idle": "2022-04-11T17:04:13.121267Z",
     "shell.execute_reply": "2022-04-11T17:04:13.120345Z",
     "shell.execute_reply.started": "2022-04-11T17:04:12.878762Z"
    },
    "vscode": {
     "languageId": "python"
    }
   },
   "outputs": [],
   "source": [
    "from sklearn.tree import DecisionTreeClassifier\n",
    "from sklearn.neighbors import KNeighborsClassifier\n",
    "from sklearn.ensemble import AdaBoostClassifier, BaggingClassifier, ExtraTreesClassifier, RandomForestClassifier"
   ]
  },
  {
   "cell_type": "code",
   "execution_count": null,
   "metadata": {
    "execution": {
     "iopub.execute_input": "2022-04-11T17:04:13.123753Z",
     "iopub.status.busy": "2022-04-11T17:04:13.123428Z",
     "iopub.status.idle": "2022-04-11T17:05:08.994533Z",
     "shell.execute_reply": "2022-04-11T17:05:08.993383Z",
     "shell.execute_reply.started": "2022-04-11T17:04:13.123713Z"
    },
    "vscode": {
     "languageId": "python"
    }
   },
   "outputs": [],
   "source": [
    "knn = KNeighborsClassifier(n_neighbors=5)\n",
    "knn.fit(x_train, y_train)\n",
    "print('Training accuracy:\\t', knn.score(x_train, y_train))\n",
    "print('Testing accuracy:\\t', knn.score(x_test, y_test))"
   ]
  },
  {
   "cell_type": "code",
   "execution_count": null,
   "metadata": {
    "execution": {
     "iopub.execute_input": "2022-04-11T17:05:08.996554Z",
     "iopub.status.busy": "2022-04-11T17:05:08.996121Z",
     "iopub.status.idle": "2022-04-11T17:05:08.999825Z",
     "shell.execute_reply": "2022-04-11T17:05:08.99906Z",
     "shell.execute_reply.started": "2022-04-11T17:05:08.996517Z"
    },
    "vscode": {
     "languageId": "python"
    }
   },
   "outputs": [],
   "source": [
    "# ada = AdaBoostClassifier(DecisionTreeClassifier(max_depth=20))\n",
    "# ada.fit(x_train, y_train)\n",
    "# print('Training accuracy:\\t', ada.score(x_train, y_train))\n",
    "# print('Testing accuracy:\\t', ada.score(x_test, y_test))"
   ]
  },
  {
   "cell_type": "code",
   "execution_count": null,
   "metadata": {
    "execution": {
     "iopub.execute_input": "2022-04-11T17:05:09.002721Z",
     "iopub.status.busy": "2022-04-11T17:05:09.00216Z",
     "iopub.status.idle": "2022-04-11T17:05:19.560104Z",
     "shell.execute_reply": "2022-04-11T17:05:19.559098Z",
     "shell.execute_reply.started": "2022-04-11T17:05:09.002686Z"
    },
    "vscode": {
     "languageId": "python"
    }
   },
   "outputs": [],
   "source": [
    "bagging = BaggingClassifier(DecisionTreeClassifier(max_depth=20))\n",
    "bagging.fit(x_train, y_train)\n",
    "print('Training accuracy:\\t', bagging.score(x_train, y_train))\n",
    "print('Testing accuracy:\\t', bagging.score(x_test, y_test))"
   ]
  },
  {
   "cell_type": "code",
   "execution_count": null,
   "metadata": {
    "execution": {
     "iopub.execute_input": "2022-04-11T17:05:19.561681Z",
     "iopub.status.busy": "2022-04-11T17:05:19.561406Z",
     "iopub.status.idle": "2022-04-11T17:05:35.384486Z",
     "shell.execute_reply": "2022-04-11T17:05:35.383316Z",
     "shell.execute_reply.started": "2022-04-11T17:05:19.561651Z"
    },
    "vscode": {
     "languageId": "python"
    }
   },
   "outputs": [],
   "source": [
    "extra = ExtraTreesClassifier(max_depth=20)\n",
    "extra.fit(x_train, y_train)\n",
    "print('Training accuracy:\\t', extra.score(x_train, y_train))\n",
    "print('Testing accuracy:\\t', extra.score(x_test, y_test))"
   ]
  },
  {
   "cell_type": "code",
   "execution_count": null,
   "metadata": {
    "execution": {
     "iopub.execute_input": "2022-04-11T17:05:35.386026Z",
     "iopub.status.busy": "2022-04-11T17:05:35.3858Z",
     "iopub.status.idle": "2022-04-11T17:05:46.258677Z",
     "shell.execute_reply": "2022-04-11T17:05:46.257807Z",
     "shell.execute_reply.started": "2022-04-11T17:05:35.385999Z"
    },
    "vscode": {
     "languageId": "python"
    }
   },
   "outputs": [],
   "source": [
    "rf = RandomForestClassifier(max_depth=20)\n",
    "rf.fit(x_train, y_train)\n",
    "print('Training accuracy:\\t', rf.score(x_train, y_train))\n",
    "print('Testing accuracy:\\t', rf.score(x_test, y_test))"
   ]
  },
  {
   "cell_type": "markdown",
   "metadata": {},
   "source": [
    "#### Remarks:\n",
    "Unfortunately, our models does not seem to have a good predictions overall (the score is only a bit better than random guessing). In the following parts of the notebook, we are going to see if we could obtain a better fit on this dataset."
   ]
  },
  {
   "cell_type": "markdown",
   "metadata": {},
   "source": [
    "## 4. Decks Analysis:\n",
    "Let us dig deeper into the dataset by analyzing the decks, which seems to be most correlated.\n",
    "\n",
    "We first visualize the correlation matrix (now with the new encoding)."
   ]
  },
  {
   "cell_type": "code",
   "execution_count": null,
   "metadata": {
    "execution": {
     "iopub.execute_input": "2022-04-11T17:05:46.260684Z",
     "iopub.status.busy": "2022-04-11T17:05:46.260308Z",
     "iopub.status.idle": "2022-04-11T17:05:46.746082Z",
     "shell.execute_reply": "2022-04-11T17:05:46.745358Z",
     "shell.execute_reply.started": "2022-04-11T17:05:46.260629Z"
    },
    "vscode": {
     "languageId": "python"
    }
   },
   "outputs": [],
   "source": [
    "d_corr = np.corrcoef(decks.T)\n",
    "f = plt.figure(figsize=(16, 12))\n",
    "plt.imshow(np.abs(d_corr))\n",
    "plt.title('Correlation Matrix')\n",
    "plt.colorbar()\n",
    "plt.show()"
   ]
  },
  {
   "cell_type": "markdown",
   "metadata": {},
   "source": [
    "#### Remarks:\n",
    "We want to observe which pairs have the highest synergy. The following cells sets all correlation under the diagonal to 0, and sort them by value."
   ]
  },
  {
   "cell_type": "code",
   "execution_count": null,
   "metadata": {
    "execution": {
     "iopub.execute_input": "2022-04-11T17:05:46.747154Z",
     "iopub.status.busy": "2022-04-11T17:05:46.746964Z",
     "iopub.status.idle": "2022-04-11T17:05:47.098894Z",
     "shell.execute_reply": "2022-04-11T17:05:47.098073Z",
     "shell.execute_reply.started": "2022-04-11T17:05:46.747129Z"
    },
    "vscode": {
     "languageId": "python"
    }
   },
   "outputs": [],
   "source": [
    "d_corr_u = np.triu(d_corr, k=1)\n",
    "d_corr_u\n",
    "f = plt.figure(figsize=(16, 12))\n",
    "plt.imshow(np.abs(d_corr_u))\n",
    "plt.title('Correlation Matrix')\n",
    "plt.colorbar()\n",
    "plt.show()"
   ]
  },
  {
   "cell_type": "code",
   "execution_count": null,
   "metadata": {
    "execution": {
     "iopub.execute_input": "2022-04-11T17:05:47.101113Z",
     "iopub.status.busy": "2022-04-11T17:05:47.100197Z",
     "iopub.status.idle": "2022-04-11T17:05:47.108765Z",
     "shell.execute_reply": "2022-04-11T17:05:47.107744Z",
     "shell.execute_reply.started": "2022-04-11T17:05:47.101064Z"
    },
    "vscode": {
     "languageId": "python"
    }
   },
   "outputs": [],
   "source": [
    "d_corr_flat = d_corr_u.flatten()\n",
    "d_corr_argsort = np.argsort(d_corr_flat)\n",
    "d_corr_high = [(x // 106, x % 106, d_corr_flat[x]) for x in d_corr_argsort[:-31:-1]]\n",
    "d_corr_low = [(x // 106, x % 106, d_corr_flat[x]) for x in d_corr_argsort[:30]]"
   ]
  },
  {
   "cell_type": "code",
   "execution_count": null,
   "metadata": {
    "execution": {
     "iopub.execute_input": "2022-04-11T17:05:47.110248Z",
     "iopub.status.busy": "2022-04-11T17:05:47.110033Z",
     "iopub.status.idle": "2022-04-11T17:05:47.128157Z",
     "shell.execute_reply": "2022-04-11T17:05:47.127084Z",
     "shell.execute_reply.started": "2022-04-11T17:05:47.110222Z"
    },
    "vscode": {
     "languageId": "python"
    }
   },
   "outputs": [],
   "source": [
    "[(card_names[x], card_names[y], z) for (x, y, z) in d_corr_high]"
   ]
  },
  {
   "cell_type": "code",
   "execution_count": null,
   "metadata": {
    "execution": {
     "iopub.execute_input": "2022-04-11T17:05:47.129982Z",
     "iopub.status.busy": "2022-04-11T17:05:47.129603Z",
     "iopub.status.idle": "2022-04-11T17:05:47.145753Z",
     "shell.execute_reply": "2022-04-11T17:05:47.144842Z",
     "shell.execute_reply.started": "2022-04-11T17:05:47.129938Z"
    },
    "vscode": {
     "languageId": "python"
    }
   },
   "outputs": [],
   "source": [
    "[(card_names[x], card_names[y], z) for (x, y, z) in d_corr_low]"
   ]
  },
  {
   "cell_type": "markdown",
   "metadata": {},
   "source": [
    "#### Remarks:\n",
    "We observe that these card pairs are very common in the strongest decks (from https://www.deckshop.pro/)."
   ]
  },
  {
   "cell_type": "markdown",
   "metadata": {},
   "source": [
    "## 5. A deeper look at Outcome:\n",
    "### a. Applying PCA:"
   ]
  },
  {
   "cell_type": "code",
   "execution_count": null,
   "metadata": {
    "execution": {
     "iopub.execute_input": "2022-04-11T17:05:47.147843Z",
     "iopub.status.busy": "2022-04-11T17:05:47.146905Z",
     "iopub.status.idle": "2022-04-11T17:05:48.973694Z",
     "shell.execute_reply": "2022-04-11T17:05:48.972717Z",
     "shell.execute_reply.started": "2022-04-11T17:05:47.147801Z"
    },
    "vscode": {
     "languageId": "python"
    }
   },
   "outputs": [],
   "source": [
    "data = np.copy(x_train).T.tolist()\n",
    "data.append(y_train)\n",
    "data = np.array(data)"
   ]
  },
  {
   "cell_type": "code",
   "execution_count": null,
   "metadata": {
    "execution": {
     "iopub.execute_input": "2022-04-11T17:05:48.975577Z",
     "iopub.status.busy": "2022-04-11T17:05:48.975123Z",
     "iopub.status.idle": "2022-04-11T17:05:49.484582Z",
     "shell.execute_reply": "2022-04-11T17:05:49.483679Z",
     "shell.execute_reply.started": "2022-04-11T17:05:48.975531Z"
    },
    "vscode": {
     "languageId": "python"
    }
   },
   "outputs": [],
   "source": [
    "corr = np.corrcoef(data)\n",
    "f = plt.figure(figsize=(16, 12))\n",
    "plt.imshow(np.abs(corr))\n",
    "plt.title('Correlation Matrix')\n",
    "plt.colorbar()\n",
    "plt.show()"
   ]
  },
  {
   "cell_type": "code",
   "execution_count": null,
   "metadata": {
    "execution": {
     "iopub.execute_input": "2022-04-11T17:05:49.48611Z",
     "iopub.status.busy": "2022-04-11T17:05:49.485853Z",
     "iopub.status.idle": "2022-04-11T17:05:50.62099Z",
     "shell.execute_reply": "2022-04-11T17:05:50.619965Z",
     "shell.execute_reply.started": "2022-04-11T17:05:49.486079Z"
    },
    "vscode": {
     "languageId": "python"
    }
   },
   "outputs": [],
   "source": [
    "from sklearn.decomposition import PCA\n",
    "pca = PCA(n_components=3)\n",
    "x_train_pca = pca.fit_transform(x_train)"
   ]
  },
  {
   "cell_type": "code",
   "execution_count": null,
   "metadata": {
    "execution": {
     "iopub.execute_input": "2022-04-11T17:05:50.623672Z",
     "iopub.status.busy": "2022-04-11T17:05:50.622841Z",
     "iopub.status.idle": "2022-04-11T17:05:51.032909Z",
     "shell.execute_reply": "2022-04-11T17:05:51.031577Z",
     "shell.execute_reply.started": "2022-04-11T17:05:50.623616Z"
    },
    "vscode": {
     "languageId": "python"
    }
   },
   "outputs": [],
   "source": [
    "data = np.copy(x_train_pca).T.tolist()\n",
    "data.append(y_train)\n",
    "data = np.array(data)\n",
    "corr = np.corrcoef(data)\n",
    "f = plt.figure(figsize=(16, 12))\n",
    "plt.imshow(np.abs(corr))\n",
    "plt.title('Correlation Matrix')\n",
    "plt.colorbar()\n",
    "plt.show()"
   ]
  },
  {
   "cell_type": "code",
   "execution_count": null,
   "metadata": {
    "execution": {
     "iopub.execute_input": "2022-04-11T17:05:51.03473Z",
     "iopub.status.busy": "2022-04-11T17:05:51.034404Z",
     "iopub.status.idle": "2022-04-11T17:05:52.731216Z",
     "shell.execute_reply": "2022-04-11T17:05:52.730356Z",
     "shell.execute_reply.started": "2022-04-11T17:05:51.03469Z"
    },
    "vscode": {
     "languageId": "python"
    }
   },
   "outputs": [],
   "source": [
    "fig = plt.figure()\n",
    "ax = fig.add_subplot(projection='3d')\n",
    "ax.scatter(x_train_pca[:,0].flatten(), x_train_pca[:, 1].flatten(), x_train_pca[:, 2].flatten(), c = y_train.tolist())"
   ]
  },
  {
   "cell_type": "code",
   "execution_count": null,
   "metadata": {
    "execution": {
     "iopub.execute_input": "2022-04-11T17:05:52.732699Z",
     "iopub.status.busy": "2022-04-11T17:05:52.732488Z",
     "iopub.status.idle": "2022-04-11T17:05:54.569673Z",
     "shell.execute_reply": "2022-04-11T17:05:54.568778Z",
     "shell.execute_reply.started": "2022-04-11T17:05:52.732672Z"
    },
    "vscode": {
     "languageId": "python"
    }
   },
   "outputs": [],
   "source": [
    "plt.scatter(x_train_pca[:,0].flatten(), x_train_pca[:, 1].flatten(), c = y_train.tolist())"
   ]
  },
  {
   "cell_type": "code",
   "execution_count": null,
   "metadata": {
    "execution": {
     "iopub.execute_input": "2022-04-11T17:05:54.571291Z",
     "iopub.status.busy": "2022-04-11T17:05:54.571042Z",
     "iopub.status.idle": "2022-04-11T17:05:54.575729Z",
     "shell.execute_reply": "2022-04-11T17:05:54.574808Z",
     "shell.execute_reply.started": "2022-04-11T17:05:54.571261Z"
    },
    "vscode": {
     "languageId": "python"
    }
   },
   "outputs": [],
   "source": [
    "# ada = AdaBoostClassifier(DecisionTreeClassifier(max_depth=15))\n",
    "# ada.fit(x_train_pca, y_train)\n",
    "# print('Training accuracy:\\t', ada.score(x_train_pca, y_train))\n",
    "# print('Testing accuracy:\\t', ada.score(pca.transform(x_test), y_test))"
   ]
  },
  {
   "cell_type": "code",
   "execution_count": null,
   "metadata": {
    "execution": {
     "iopub.execute_input": "2022-04-11T17:05:54.577557Z",
     "iopub.status.busy": "2022-04-11T17:05:54.577078Z",
     "iopub.status.idle": "2022-04-11T17:05:57.033118Z",
     "shell.execute_reply": "2022-04-11T17:05:57.03219Z",
     "shell.execute_reply.started": "2022-04-11T17:05:54.577522Z"
    },
    "vscode": {
     "languageId": "python"
    }
   },
   "outputs": [],
   "source": [
    "extra = ExtraTreesClassifier(max_depth=15)\n",
    "extra.fit(x_train_pca, y_train)\n",
    "print('Training accuracy:\\t', extra.score(x_train_pca, y_train))\n",
    "print('Testing accuracy:\\t', extra.score(pca.transform(x_test), y_test))"
   ]
  },
  {
   "cell_type": "markdown",
   "metadata": {},
   "source": [
    "### b. How about Neural Network?\n",
    "Let's try to see if we can instead obtain a good score using Neural Network. \n",
    "\n",
    "We first try a naive Neural Network, with all layers are dense, and two Dropouts."
   ]
  },
  {
   "cell_type": "code",
   "execution_count": null,
   "metadata": {
    "execution": {
     "iopub.execute_input": "2022-04-11T14:46:27.929142Z",
     "iopub.status.busy": "2022-04-11T14:46:27.928882Z",
     "iopub.status.idle": "2022-04-11T14:47:30.390092Z",
     "shell.execute_reply": "2022-04-11T14:47:30.389088Z",
     "shell.execute_reply.started": "2022-04-11T14:46:27.929111Z"
    },
    "vscode": {
     "languageId": "python"
    }
   },
   "outputs": [],
   "source": [
    "from tensorflow import keras\n",
    "nn = keras.Sequential([\n",
    "    keras.layers.Dense(128, activation='ReLU'),\n",
    "    keras.layers.Dense(32, activation='tanh'),\n",
    "    keras.layers.Dropout(0.2),\n",
    "    keras.layers.BatchNormalization(),\n",
    "    keras.layers.Dense(16, activation='ReLU'),\n",
    "    keras.layers.Dropout(0.2),\n",
    "    keras.layers.BatchNormalization(),\n",
    "    keras.layers.Dense(4, activation='ReLU'),\n",
    "    keras.layers.Dense(1, activation='sigmoid'),\n",
    "])\n",
    "early_stopping = keras.callbacks.EarlyStopping(monitor='loss', patience=2)\n",
    "nn.compile(\n",
    "    optimizer=keras.optimizers.SGD(learning_rate=0.0001),\n",
    "    loss=\"binary_crossentropy\",\n",
    "    metrics=['accuracy'],\n",
    ")\n",
    "nn.fit(x_train, y_train, validation_split=0.1, epochs=10, batch_size=16, callbacks=[early_stopping])"
   ]
  },
  {
   "cell_type": "code",
   "execution_count": null,
   "metadata": {
    "execution": {
     "iopub.execute_input": "2022-04-11T15:16:56.237401Z",
     "iopub.status.busy": "2022-04-11T15:16:56.237152Z",
     "iopub.status.idle": "2022-04-11T15:16:56.258959Z",
     "shell.execute_reply": "2022-04-11T15:16:56.257895Z",
     "shell.execute_reply.started": "2022-04-11T15:16:56.23737Z"
    },
    "vscode": {
     "languageId": "python"
    }
   },
   "outputs": [],
   "source": [
    "nn.evaluate(x_test, y_test)"
   ]
  },
  {
   "cell_type": "markdown",
   "metadata": {},
   "source": [
    "#### Remarks: \n",
    "The previous one did not really give a very good score, so let's try to see if we could use a different network structure.\n",
    "\n",
    "Through the previous analysis on Decks, we observe that a deck is characterized by a small number of cards. With that in mind, it makes sense to use CNN on this model, as in the following cell."
   ]
  },
  {
   "cell_type": "code",
   "execution_count": null,
   "metadata": {
    "execution": {
     "iopub.execute_input": "2022-04-16T09:03:07.501389Z",
     "iopub.status.busy": "2022-04-16T09:03:07.500728Z",
     "iopub.status.idle": "2022-04-16T09:08:02.99436Z",
     "shell.execute_reply": "2022-04-16T09:08:02.993693Z",
     "shell.execute_reply.started": "2022-04-16T09:03:07.501351Z"
    },
    "vscode": {
     "languageId": "python"
    }
   },
   "outputs": [],
   "source": [
    "from tensorflow import keras\n",
    "cnn = keras.Sequential([\n",
    "    keras.layers.Dense(212, activation='relu'),\n",
    "    keras.layers.Conv1D(32, 4, padding='same', activation='relu'),\n",
    "    keras.layers.Conv1D(32, 4, activation='relu'),\n",
    "    keras.layers.Dropout(0.2),\n",
    "    keras.layers.BatchNormalization(),\n",
    "    \n",
    "    keras.layers.MaxPool1D(8),\n",
    "    keras.layers.Conv1D(64, 4, activation='relu'),\n",
    "    keras.layers.Conv1D(64, 4, activation='relu'),\n",
    "    keras.layers.Dropout(0.2),\n",
    "    keras.layers.BatchNormalization(),\n",
    "    \n",
    "    keras.layers.MaxPool1D(8),\n",
    "    keras.layers.Dense(128, activation='ReLU'),\n",
    "    keras.layers.Dense(32, activation='relu'),\n",
    "    keras.layers.Dropout(0.2),\n",
    "    keras.layers.BatchNormalization(),\n",
    "    keras.layers.Dense(16, activation='relu'),\n",
    "    keras.layers.Dropout(0.2),\n",
    "    keras.layers.BatchNormalization(),\n",
    "    keras.layers.Dense(4, activation='relu'),\n",
    "    keras.layers.Dense(1, activation='sigmoid'),\n",
    "])\n",
    "early_stopping = keras.callbacks.EarlyStopping(monitor='accuracy', patience=5)\n",
    "cnn.compile(\n",
    "    optimizer=keras.optimizers.SGD(learning_rate=0.001),\n",
    "    loss=\"binary_crossentropy\",\n",
    "    metrics=['accuracy'],\n",
    ")\n",
    "cnn.fit(x_train.reshape((x_train.shape[0], x_train.shape[1], 1)), y_train, validation_split=0.1, epochs=30, batch_size=16, callbacks=[early_stopping])"
   ]
  },
  {
   "cell_type": "code",
   "execution_count": null,
   "metadata": {
    "execution": {
     "iopub.execute_input": "2022-04-16T09:08:02.996404Z",
     "iopub.status.busy": "2022-04-16T09:08:02.996106Z",
     "iopub.status.idle": "2022-04-16T09:08:04.817185Z",
     "shell.execute_reply": "2022-04-16T09:08:04.816533Z",
     "shell.execute_reply.started": "2022-04-16T09:08:02.996348Z"
    },
    "vscode": {
     "languageId": "python"
    }
   },
   "outputs": [],
   "source": [
    "cnn.evaluate(x_test.reshape((x_test.shape[0], x_test.shape[1], 1)), y_test)"
   ]
  },
  {
   "cell_type": "markdown",
   "metadata": {},
   "source": [
    "#### Remarks:\n",
    "The result indeed looks much better than our naive model. We observe that indeed, it is better to look at a match in terms of the main cards used in each battle.\n",
    "\n",
    "However, it appears that, unfortunately, we cannot really get a much better prediction of outcome than decision trees.\n",
    "\n",
    "Still, with our previous analysis, it seems that we could try and get a good result at deck building."
   ]
  },
  {
   "cell_type": "markdown",
   "metadata": {},
   "source": [
    "## 6. Deck Building:"
   ]
  },
  {
   "cell_type": "code",
   "execution_count": null,
   "metadata": {
    "execution": {
     "iopub.execute_input": "2022-04-11T17:05:57.034808Z",
     "iopub.status.busy": "2022-04-11T17:05:57.034563Z",
     "iopub.status.idle": "2022-04-11T17:05:57.050796Z",
     "shell.execute_reply": "2022-04-11T17:05:57.049463Z",
     "shell.execute_reply.started": "2022-04-11T17:05:57.034778Z"
    },
    "vscode": {
     "languageId": "python"
    }
   },
   "outputs": [],
   "source": [
    "synergies = np.array([(i, j, d_corr[i][j]) for i in range(N_CARDS) for j in range(i+1, N_CARDS)])"
   ]
  },
  {
   "cell_type": "code",
   "execution_count": null,
   "metadata": {
    "execution": {
     "iopub.execute_input": "2022-04-11T17:05:57.052274Z",
     "iopub.status.busy": "2022-04-11T17:05:57.05205Z",
     "iopub.status.idle": "2022-04-11T17:05:57.589881Z",
     "shell.execute_reply": "2022-04-11T17:05:57.589041Z",
     "shell.execute_reply.started": "2022-04-11T17:05:57.052243Z"
    },
    "vscode": {
     "languageId": "python"
    }
   },
   "outputs": [],
   "source": [
    "import seaborn as sns\n",
    "x_train, y_train = synergies[:, :2], synergies[:, 2]\n",
    "fig = plt.figure(figsize=(12, 8))\n",
    "sns.distplot(y_train)"
   ]
  },
  {
   "cell_type": "code",
   "execution_count": null,
   "metadata": {
    "vscode": {
     "languageId": "python"
    }
   },
   "outputs": [],
   "source": []
  }
 ],
 "metadata": {
  "kernelspec": {
   "display_name": "CSE204",
   "language": "python",
   "name": "cse204"
  },
  "language_info": {
   "codemirror_mode": {
    "name": "ipython",
    "version": 3
   },
   "file_extension": ".py",
   "mimetype": "text/x-python",
   "name": "python",
   "nbconvert_exporter": "python",
   "pygments_lexer": "ipython3",
   "version": "3.8.8"
  }
 },
 "nbformat": 4,
 "nbformat_minor": 4
}
