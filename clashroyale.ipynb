{
 "cells": [
  {
   "cell_type": "markdown",
   "metadata": {},
   "source": [
    "<a href=\"https://www.kaggle.com/code/duynhatvo/clashroyale?scriptVersionId=93721569\" target=\"_blank\"><img align=\"left\" alt=\"Kaggle\" title=\"Open in Kaggle\" src=\"https://kaggle.com/static/images/open-in-kaggle.svg\"></a>"
   ]
  },
  {
   "cell_type": "markdown",
   "metadata": {},
   "source": [
    "# Clash Royale Dataset Analysis"
   ]
  },
  {
   "cell_type": "markdown",
   "metadata": {},
   "source": [
    "## 1. Introduction\n",
    "\n",
    "In this notebook, we are going to analyze the [Clash Royale Dataset](https://www.kaggle.com/datasets/nonrice/clash-royale-battles-upper-ladder-december-2021). This dataset documents over 700 thousands matches of the mobile game [Clash Royale](https://clashroyale.com/) by Supercell. We will first brief through the basic mechanics of the games and the goal of this project, then the analysis and conclusion part."
   ]
  },
  {
   "cell_type": "markdown",
   "metadata": {},
   "source": [
    "## 2. Objectives:\n",
    "### a. Clash Royale:\n",
    "Clash Royale is a realtime strategy mobile game, where 2 players fight over a 3-minute match to destroy their opponent's towers. Each player will have a prechosen deck consisting of 8 cards, and will continuously deploy their cards which are either minions or spells. The game ends after 3 minutes, or if a player's main tower is destroyed.\n",
    "\n",
    "As simple as it may sound, analyzing who would win a match is very difficult, due to the huge permutations of cards (there are 106 cards in total), as well as the different players' skills. In this notebook, we are going to analyze the dataset with the following assumptions:\n",
    "- The matches happen in a small time span (December 2021), and no update (tweaks to each card's stats) are done.\n",
    "- The matches happen between the top-ranked players in the world, and they all have very similar skills.\n",
    "\n",
    "### b. Our approach:\n",
    "In this notebook, we are going to try and see whether we can predict an outcome of a match using the decks and the rank of each player."
   ]
  },
  {
   "cell_type": "code",
   "execution_count": 67,
   "metadata": {
    "_cell_guid": "b1076dfc-b9ad-4769-8c92-a6c4dae69d19",
    "_uuid": "8f2839f25d086af736a60e9eeb907d3b93b6e0e5",
    "execution": {
     "iopub.execute_input": "2022-04-22T13:00:16.978456Z",
     "iopub.status.busy": "2022-04-22T13:00:16.977804Z",
     "iopub.status.idle": "2022-04-22T13:00:17.007514Z",
     "shell.execute_reply": "2022-04-22T13:00:17.006534Z",
     "shell.execute_reply.started": "2022-04-22T13:00:16.97836Z"
    },
    "vscode": {
     "languageId": "python"
    }
   },
   "outputs": [],
   "source": [
    "# This Python 3 environment comes with many helpful analytics libraries installed\n",
    "# It is defined by the kaggle/python Docker image: https://github.com/kaggle/docker-python\n",
    "# For example, here's several helpful packages to load\n",
    "\n",
    "import numpy as np # linear algebra\n",
    "import pandas as pd # data processing, CSV file I/O (e.g. pd.read_csv)\n",
    "import matplotlib.pyplot as plt\n",
    "\n",
    "# Input data files are available in the read-only \"../input/\" directory\n",
    "# For example, running this (by clicking run or pressing Shift+Enter) will list all files under the input directory\n",
    "\n",
    "import os\n",
    "# for dirname, _, filenames in os.walk('/kaggle/input'):\n",
    "#     for filename in filenames:\n",
    "#         print(os.path.join(dirname, filename))\n",
    "import json\n",
    "import csv\n",
    "\n",
    "# You can write up to 20GB to the current directory (/kaggle/working/) that gets preserved as output when you create a version using \"Save & Run All\" \n",
    "# You can also write temporary files to /kaggle/temp/, but they won't be saved outside of the current session"
   ]
  },
  {
   "cell_type": "code",
   "execution_count": 68,
   "metadata": {},
   "outputs": [
    {
     "name": "stdout",
     "output_type": "stream",
     "text": [
      "       p1_tag  p1_trophy      p2_tag  p2_trophy  p1_crowns  p2_crowns  winner\n",
      "0  #C9P0L2C0Q       3071  #ULU9G9QRC       3047          0          1       2\n",
      "1  #C9P0L2C0Q       3101  #C9QQ2VRGL       3100          0          3       2\n",
      "2  #U8JJV8L0Q       3000  #C8G22U2VV       3019          0          3       2\n",
      "3  #U8JJV8L0Q       3000  #ULU9G9QRC       3019          0          2       2\n",
      "4  #U8JJV8L0Q       3000  #JGJ2L89J0       3014          0          3       2\n",
      "\n",
      "Total number of Columns: 40\n",
      "Total number of Rows: 39348\n",
      "\n",
      "Column Names: ['Unnamed: 0', 'p1_tag', 'p1_trophy', 'p1_card_0_id', 'p1_card_0_lv', 'p1_card_1_id', 'p1_card_1_lv', 'p1_card_2_id', 'p1_card_2_lv', 'p1_card_3_id', 'p1_card_3_lv', 'p1_card_4_id', 'p1_card_4_lv', 'p1_card_5_id', 'p1_card_5_lv', 'p1_card_6_id', 'p1_card_6_lv', 'p1_card_7_id', 'p1_card_7_lv', 'p1_crowns', 'p2_tag', 'p2_trophy', 'p2_card_0_id', 'p2_card_0_lv', 'p2_card_1_id', 'p2_card_1_lv', 'p2_card_2_id', 'p2_card_2_lv', 'p2_card_3_id', 'p2_card_3_lv', 'p2_card_4_id', 'p2_card_4_lv', 'p2_card_5_id', 'p2_card_5_lv', 'p2_card_6_id', 'p2_card_6_lv', 'p2_card_7_id', 'p2_card_7_lv', 'p2_crowns', 'winner']\n"
     ]
    }
   ],
   "source": [
    "battles = pd.read_csv('data/battles.csv')\n",
    "print(battles[['p1_tag', 'p1_trophy', 'p2_tag', 'p2_trophy',\n",
    "               'p1_crowns', 'p2_crowns', 'winner']][:5])\n",
    "print(\"\")\n",
    "print(\"Total number of Columns:\", len(list(battles.columns)))\n",
    "print(\"Total number of Rows:\", len(list(battles.index)))\n",
    "print(\"\")\n",
    "print(\"Column Names:\", list(battles.columns))"
   ]
  },
  {
   "cell_type": "markdown",
   "metadata": {},
   "source": [
    "As can be seen above, we have collected 1426 unique vectors of datapoints with 40 columns each that provide us with relevant information on their respective battle. 19 columns are divided each between the two players where 16 columns are for the cards with 8 each for the unique card ID and its corresponding level and out of the 3 remaining columns, 1 each for ID, trophies, and crowns. Essentially, the column names represent:\n",
    "- $p\\_tag$: Unique ID of the player\n",
    "- $p\\_trophy$: The trophies of the player (can be thought of as ranking)\n",
    "- $p\\_crowns$: The number of towers destroyed of by the player in the battle (max 3 == win)\n",
    "- $p\\_card\\_x\\_id$: The unique card ID of card $x$\n",
    "- $p\\_card\\_x\\_level$: The level of the corresponding card $x$\n",
    "- $p\\_winner$: The player who won the game\n",
    "\n",
    "The unique card ID's have specific data points as described in the cell below where cards data is analyzed.\n"
   ]
  },
  {
   "cell_type": "code",
   "execution_count": 69,
   "metadata": {
    "scrolled": false
   },
   "outputs": [
    {
     "name": "stdout",
     "output_type": "stream",
     "text": [
      "       key        id  elixir   type  rarity\n",
      "0   knight  26000000       3  Troop  Common\n",
      "1  archers  26000001       3  Troop  Common\n",
      "2  goblins  26000002       2  Troop  Common\n",
      "3    giant  26000003       5  Troop    Rare\n",
      "4    pekka  26000004       7  Troop    Epic\n",
      "\n",
      "Number of Columns: 11\n",
      "Number of Rows: 107\n",
      "\n",
      "Column Names: ['key', 'name', 'sc_key', 'elixir', 'type', 'rarity', 'id', 'flying_height', 'range', 'damage_air', 'damage_ground']\n",
      "\n",
      "Types of cards: ['Building', 'Spell', 'Troop']\n",
      "Rarity of cards: ['Champion', 'Common', 'Epic', 'Legendary', 'Rare']\n",
      "Elixir for cards: [1, 2, 3, 4, 5, 6, 7, 8, 9]\n"
     ]
    }
   ],
   "source": [
    "cards = pd.read_csv('data/cards.csv')\n",
    "print(cards[['key', 'id', 'elixir', 'type', 'rarity']][:5])\n",
    "print(\"\")\n",
    "print(\"Number of Columns:\", len(list(cards.columns)))\n",
    "print(\"Number of Rows:\", len(list(cards.index)))\n",
    "print(\"\")\n",
    "print(\"Column Names:\", list(cards.columns))\n",
    "print(\"\")\n",
    "print(\"Types of cards:\", sorted(cards['type'].unique()))\n",
    "print(\"Rarity of cards:\", sorted(cards['rarity'].unique()))\n",
    "print(\"Elixir for cards:\", sorted(cards['elixir'].unique()))"
   ]
  },
  {
   "cell_type": "markdown",
   "metadata": {},
   "source": [
    "There are three ... "
   ]
  },
  {
   "cell_type": "markdown",
   "metadata": {},
   "source": [
    "Now, we create arrays for the player 1 and player 2 cards, which will be useful for later analysis."
   ]
  },
  {
   "cell_type": "code",
   "execution_count": 70,
   "metadata": {},
   "outputs": [
    {
     "name": "stdout",
     "output_type": "stream",
     "text": [
      "Player1 Column Names: ['p1_card_0_id', 'p1_card_1_id', 'p1_card_2_id', 'p1_card_3_id', 'p1_card_4_id', 'p1_card_5_id', 'p1_card_6_id', 'p1_card_7_id']\n",
      "PLayer2 Column Names: ['p2_card_0_id', 'p2_card_1_id', 'p2_card_2_id', 'p2_card_3_id', 'p2_card_4_id', 'p2_card_5_id', 'p2_card_6_id', 'p2_card_7_id']\n",
      "Total number of Rows: 39348\n"
     ]
    }
   ],
   "source": [
    "p1_cols = []\n",
    "p2_cols = []\n",
    "for col_name in battles.columns:\n",
    "    if 'p1_card_' in col_name and '_id' in col_name:\n",
    "        p1_cols.append(col_name)\n",
    "    elif 'p2_card_' in col_name and '_id' in col_name:\n",
    "        p2_cols.append(col_name)\n",
    "        \n",
    "p1_cards = battles[p1_cols]\n",
    "p2_cards = battles[p2_cols]\n",
    "print(\"Player1 Column Names:\", list(p1_cards.columns))\n",
    "print(\"PLayer2 Column Names:\", list(p2_cards.columns))\n",
    "print(\"Total number of Rows:\", len(list(p1_cards.index)))"
   ]
  },
  {
   "cell_type": "code",
   "execution_count": 71,
   "metadata": {},
   "outputs": [],
   "source": [
    "# create map for card ID and row\n",
    "id_map = {}\n",
    "for row in cards.index:\n",
    "    id_map[cards.loc[row, 'id']] = row"
   ]
  },
  {
   "cell_type": "markdown",
   "metadata": {},
   "source": [
    "## 3. Preliminary Analysis:\n",
    "### a. A brief overview:\n",
    "We are first going to have a quick look to get a sense of the data. First, we will have a look at the dataset, and its correlation matrix to understand any relations in the datapoints."
   ]
  },
  {
   "cell_type": "code",
   "execution_count": 72,
   "metadata": {
    "execution": {
     "iopub.execute_input": "2022-04-16T08:53:04.418079Z",
     "iopub.status.busy": "2022-04-16T08:53:04.417796Z",
     "iopub.status.idle": "2022-04-16T08:53:05.688068Z",
     "shell.execute_reply": "2022-04-16T08:53:05.687357Z",
     "shell.execute_reply.started": "2022-04-16T08:53:04.418052Z"
    },
    "vscode": {
     "languageId": "python"
    }
   },
   "outputs": [],
   "source": [
    "battles.drop(columns='Unnamed: 0', inplace=True)"
   ]
  },
  {
   "cell_type": "code",
   "execution_count": 73,
   "metadata": {
    "execution": {
     "iopub.execute_input": "2022-04-16T08:53:05.68987Z",
     "iopub.status.busy": "2022-04-16T08:53:05.689628Z",
     "iopub.status.idle": "2022-04-16T08:53:05.746733Z",
     "shell.execute_reply": "2022-04-16T08:53:05.745949Z",
     "shell.execute_reply.started": "2022-04-16T08:53:05.689837Z"
    },
    "vscode": {
     "languageId": "python"
    }
   },
   "outputs": [],
   "source": [
    "SIZE = 1426\n",
    "df = battles.sample(20000, random_state=84)"
   ]
  },
  {
   "cell_type": "code",
   "execution_count": 74,
   "metadata": {
    "execution": {
     "iopub.execute_input": "2022-04-16T08:53:10.95044Z",
     "iopub.status.busy": "2022-04-16T08:53:10.950161Z",
     "iopub.status.idle": "2022-04-16T08:53:11.036305Z",
     "shell.execute_reply": "2022-04-16T08:53:11.035558Z",
     "shell.execute_reply.started": "2022-04-16T08:53:10.950411Z"
    },
    "vscode": {
     "languageId": "python"
    }
   },
   "outputs": [
    {
     "data": {
      "text/html": [
       "<div>\n",
       "<style scoped>\n",
       "    .dataframe tbody tr th:only-of-type {\n",
       "        vertical-align: middle;\n",
       "    }\n",
       "\n",
       "    .dataframe tbody tr th {\n",
       "        vertical-align: top;\n",
       "    }\n",
       "\n",
       "    .dataframe thead th {\n",
       "        text-align: right;\n",
       "    }\n",
       "</style>\n",
       "<table border=\"1\" class=\"dataframe\">\n",
       "  <thead>\n",
       "    <tr style=\"text-align: right;\">\n",
       "      <th></th>\n",
       "      <th>p1_trophy</th>\n",
       "      <th>p1_card_0_id</th>\n",
       "      <th>p1_card_0_lv</th>\n",
       "      <th>p1_card_1_id</th>\n",
       "      <th>p1_card_1_lv</th>\n",
       "      <th>p1_card_2_id</th>\n",
       "      <th>p1_card_2_lv</th>\n",
       "      <th>p1_card_3_id</th>\n",
       "      <th>p1_card_3_lv</th>\n",
       "      <th>p1_card_4_id</th>\n",
       "      <th>...</th>\n",
       "      <th>p2_card_4_id</th>\n",
       "      <th>p2_card_4_lv</th>\n",
       "      <th>p2_card_5_id</th>\n",
       "      <th>p2_card_5_lv</th>\n",
       "      <th>p2_card_6_id</th>\n",
       "      <th>p2_card_6_lv</th>\n",
       "      <th>p2_card_7_id</th>\n",
       "      <th>p2_card_7_lv</th>\n",
       "      <th>p2_crowns</th>\n",
       "      <th>winner</th>\n",
       "    </tr>\n",
       "  </thead>\n",
       "  <tbody>\n",
       "    <tr>\n",
       "      <th>count</th>\n",
       "      <td>20000.000000</td>\n",
       "      <td>2.000000e+04</td>\n",
       "      <td>20000.000000</td>\n",
       "      <td>2.000000e+04</td>\n",
       "      <td>20000.000000</td>\n",
       "      <td>2.000000e+04</td>\n",
       "      <td>20000.000000</td>\n",
       "      <td>2.000000e+04</td>\n",
       "      <td>20000.000000</td>\n",
       "      <td>2.000000e+04</td>\n",
       "      <td>...</td>\n",
       "      <td>2.000000e+04</td>\n",
       "      <td>20000.000000</td>\n",
       "      <td>2.000000e+04</td>\n",
       "      <td>20000.000000</td>\n",
       "      <td>2.000000e+04</td>\n",
       "      <td>20000.000000</td>\n",
       "      <td>2.000000e+04</td>\n",
       "      <td>20000.000000</td>\n",
       "      <td>20000.000000</td>\n",
       "      <td>20000.000000</td>\n",
       "    </tr>\n",
       "    <tr>\n",
       "      <th>mean</th>\n",
       "      <td>3265.728450</td>\n",
       "      <td>2.637247e+07</td>\n",
       "      <td>5.214050</td>\n",
       "      <td>2.643552e+07</td>\n",
       "      <td>5.343550</td>\n",
       "      <td>2.648407e+07</td>\n",
       "      <td>5.425600</td>\n",
       "      <td>2.664317e+07</td>\n",
       "      <td>5.645150</td>\n",
       "      <td>2.665072e+07</td>\n",
       "      <td>...</td>\n",
       "      <td>2.666127e+07</td>\n",
       "      <td>5.528750</td>\n",
       "      <td>2.645932e+07</td>\n",
       "      <td>5.555550</td>\n",
       "      <td>2.645952e+07</td>\n",
       "      <td>5.612100</td>\n",
       "      <td>2.651942e+07</td>\n",
       "      <td>5.514150</td>\n",
       "      <td>1.123650</td>\n",
       "      <td>1.485750</td>\n",
       "    </tr>\n",
       "    <tr>\n",
       "      <th>std</th>\n",
       "      <td>1341.677224</td>\n",
       "      <td>7.536907e+05</td>\n",
       "      <td>2.899716</td>\n",
       "      <td>7.950228e+05</td>\n",
       "      <td>2.865979</td>\n",
       "      <td>8.284743e+05</td>\n",
       "      <td>2.921676</td>\n",
       "      <td>9.077083e+05</td>\n",
       "      <td>2.954567</td>\n",
       "      <td>9.076973e+05</td>\n",
       "      <td>...</td>\n",
       "      <td>9.119342e+05</td>\n",
       "      <td>2.807324</td>\n",
       "      <td>8.046525e+05</td>\n",
       "      <td>2.834205</td>\n",
       "      <td>8.053457e+05</td>\n",
       "      <td>2.876186</td>\n",
       "      <td>8.477898e+05</td>\n",
       "      <td>2.855645</td>\n",
       "      <td>1.094861</td>\n",
       "      <td>0.500209</td>\n",
       "    </tr>\n",
       "    <tr>\n",
       "      <th>min</th>\n",
       "      <td>23.000000</td>\n",
       "      <td>2.600000e+07</td>\n",
       "      <td>1.000000</td>\n",
       "      <td>2.600000e+07</td>\n",
       "      <td>1.000000</td>\n",
       "      <td>2.600000e+07</td>\n",
       "      <td>1.000000</td>\n",
       "      <td>2.600000e+07</td>\n",
       "      <td>1.000000</td>\n",
       "      <td>2.600000e+07</td>\n",
       "      <td>...</td>\n",
       "      <td>2.600000e+07</td>\n",
       "      <td>1.000000</td>\n",
       "      <td>2.600000e+07</td>\n",
       "      <td>1.000000</td>\n",
       "      <td>2.600000e+07</td>\n",
       "      <td>1.000000</td>\n",
       "      <td>2.600000e+07</td>\n",
       "      <td>1.000000</td>\n",
       "      <td>0.000000</td>\n",
       "      <td>0.000000</td>\n",
       "    </tr>\n",
       "    <tr>\n",
       "      <th>25%</th>\n",
       "      <td>2600.000000</td>\n",
       "      <td>2.600001e+07</td>\n",
       "      <td>3.000000</td>\n",
       "      <td>2.600001e+07</td>\n",
       "      <td>3.000000</td>\n",
       "      <td>2.600001e+07</td>\n",
       "      <td>3.000000</td>\n",
       "      <td>2.600001e+07</td>\n",
       "      <td>3.000000</td>\n",
       "      <td>2.600002e+07</td>\n",
       "      <td>...</td>\n",
       "      <td>2.600001e+07</td>\n",
       "      <td>3.000000</td>\n",
       "      <td>2.600001e+07</td>\n",
       "      <td>3.000000</td>\n",
       "      <td>2.600001e+07</td>\n",
       "      <td>3.000000</td>\n",
       "      <td>2.600001e+07</td>\n",
       "      <td>3.000000</td>\n",
       "      <td>0.000000</td>\n",
       "      <td>1.000000</td>\n",
       "    </tr>\n",
       "    <tr>\n",
       "      <th>50%</th>\n",
       "      <td>3561.500000</td>\n",
       "      <td>2.600002e+07</td>\n",
       "      <td>5.000000</td>\n",
       "      <td>2.600002e+07</td>\n",
       "      <td>5.000000</td>\n",
       "      <td>2.600002e+07</td>\n",
       "      <td>5.000000</td>\n",
       "      <td>2.600003e+07</td>\n",
       "      <td>5.000000</td>\n",
       "      <td>2.600004e+07</td>\n",
       "      <td>...</td>\n",
       "      <td>2.600004e+07</td>\n",
       "      <td>5.000000</td>\n",
       "      <td>2.600002e+07</td>\n",
       "      <td>5.000000</td>\n",
       "      <td>2.600002e+07</td>\n",
       "      <td>5.000000</td>\n",
       "      <td>2.600003e+07</td>\n",
       "      <td>5.000000</td>\n",
       "      <td>1.000000</td>\n",
       "      <td>1.000000</td>\n",
       "    </tr>\n",
       "    <tr>\n",
       "      <th>75%</th>\n",
       "      <td>3984.000000</td>\n",
       "      <td>2.600006e+07</td>\n",
       "      <td>7.000000</td>\n",
       "      <td>2.600007e+07</td>\n",
       "      <td>7.000000</td>\n",
       "      <td>2.700000e+07</td>\n",
       "      <td>7.000000</td>\n",
       "      <td>2.800000e+07</td>\n",
       "      <td>8.000000</td>\n",
       "      <td>2.800000e+07</td>\n",
       "      <td>...</td>\n",
       "      <td>2.800000e+07</td>\n",
       "      <td>7.000000</td>\n",
       "      <td>2.700000e+07</td>\n",
       "      <td>7.000000</td>\n",
       "      <td>2.700000e+07</td>\n",
       "      <td>8.000000</td>\n",
       "      <td>2.700001e+07</td>\n",
       "      <td>7.000000</td>\n",
       "      <td>2.000000</td>\n",
       "      <td>2.000000</td>\n",
       "    </tr>\n",
       "    <tr>\n",
       "      <th>max</th>\n",
       "      <td>6412.000000</td>\n",
       "      <td>2.800002e+07</td>\n",
       "      <td>14.000000</td>\n",
       "      <td>2.800002e+07</td>\n",
       "      <td>14.000000</td>\n",
       "      <td>2.800002e+07</td>\n",
       "      <td>14.000000</td>\n",
       "      <td>2.800002e+07</td>\n",
       "      <td>14.000000</td>\n",
       "      <td>2.800002e+07</td>\n",
       "      <td>...</td>\n",
       "      <td>2.800002e+07</td>\n",
       "      <td>14.000000</td>\n",
       "      <td>2.800002e+07</td>\n",
       "      <td>14.000000</td>\n",
       "      <td>2.800002e+07</td>\n",
       "      <td>14.000000</td>\n",
       "      <td>2.800002e+07</td>\n",
       "      <td>14.000000</td>\n",
       "      <td>3.000000</td>\n",
       "      <td>2.000000</td>\n",
       "    </tr>\n",
       "  </tbody>\n",
       "</table>\n",
       "<p>8 rows × 37 columns</p>\n",
       "</div>"
      ],
      "text/plain": [
       "          p1_trophy  p1_card_0_id  p1_card_0_lv  p1_card_1_id  p1_card_1_lv  \\\n",
       "count  20000.000000  2.000000e+04  20000.000000  2.000000e+04  20000.000000   \n",
       "mean    3265.728450  2.637247e+07      5.214050  2.643552e+07      5.343550   \n",
       "std     1341.677224  7.536907e+05      2.899716  7.950228e+05      2.865979   \n",
       "min       23.000000  2.600000e+07      1.000000  2.600000e+07      1.000000   \n",
       "25%     2600.000000  2.600001e+07      3.000000  2.600001e+07      3.000000   \n",
       "50%     3561.500000  2.600002e+07      5.000000  2.600002e+07      5.000000   \n",
       "75%     3984.000000  2.600006e+07      7.000000  2.600007e+07      7.000000   \n",
       "max     6412.000000  2.800002e+07     14.000000  2.800002e+07     14.000000   \n",
       "\n",
       "       p1_card_2_id  p1_card_2_lv  p1_card_3_id  p1_card_3_lv  p1_card_4_id  \\\n",
       "count  2.000000e+04  20000.000000  2.000000e+04  20000.000000  2.000000e+04   \n",
       "mean   2.648407e+07      5.425600  2.664317e+07      5.645150  2.665072e+07   \n",
       "std    8.284743e+05      2.921676  9.077083e+05      2.954567  9.076973e+05   \n",
       "min    2.600000e+07      1.000000  2.600000e+07      1.000000  2.600000e+07   \n",
       "25%    2.600001e+07      3.000000  2.600001e+07      3.000000  2.600002e+07   \n",
       "50%    2.600002e+07      5.000000  2.600003e+07      5.000000  2.600004e+07   \n",
       "75%    2.700000e+07      7.000000  2.800000e+07      8.000000  2.800000e+07   \n",
       "max    2.800002e+07     14.000000  2.800002e+07     14.000000  2.800002e+07   \n",
       "\n",
       "       ...  p2_card_4_id  p2_card_4_lv  p2_card_5_id  p2_card_5_lv  \\\n",
       "count  ...  2.000000e+04  20000.000000  2.000000e+04  20000.000000   \n",
       "mean   ...  2.666127e+07      5.528750  2.645932e+07      5.555550   \n",
       "std    ...  9.119342e+05      2.807324  8.046525e+05      2.834205   \n",
       "min    ...  2.600000e+07      1.000000  2.600000e+07      1.000000   \n",
       "25%    ...  2.600001e+07      3.000000  2.600001e+07      3.000000   \n",
       "50%    ...  2.600004e+07      5.000000  2.600002e+07      5.000000   \n",
       "75%    ...  2.800000e+07      7.000000  2.700000e+07      7.000000   \n",
       "max    ...  2.800002e+07     14.000000  2.800002e+07     14.000000   \n",
       "\n",
       "       p2_card_6_id  p2_card_6_lv  p2_card_7_id  p2_card_7_lv     p2_crowns  \\\n",
       "count  2.000000e+04  20000.000000  2.000000e+04  20000.000000  20000.000000   \n",
       "mean   2.645952e+07      5.612100  2.651942e+07      5.514150      1.123650   \n",
       "std    8.053457e+05      2.876186  8.477898e+05      2.855645      1.094861   \n",
       "min    2.600000e+07      1.000000  2.600000e+07      1.000000      0.000000   \n",
       "25%    2.600001e+07      3.000000  2.600001e+07      3.000000      0.000000   \n",
       "50%    2.600002e+07      5.000000  2.600003e+07      5.000000      1.000000   \n",
       "75%    2.700000e+07      8.000000  2.700001e+07      7.000000      2.000000   \n",
       "max    2.800002e+07     14.000000  2.800002e+07     14.000000      3.000000   \n",
       "\n",
       "             winner  \n",
       "count  20000.000000  \n",
       "mean       1.485750  \n",
       "std        0.500209  \n",
       "min        0.000000  \n",
       "25%        1.000000  \n",
       "50%        1.000000  \n",
       "75%        2.000000  \n",
       "max        2.000000  \n",
       "\n",
       "[8 rows x 37 columns]"
      ]
     },
     "execution_count": 74,
     "metadata": {},
     "output_type": "execute_result"
    }
   ],
   "source": [
    "df.describe()"
   ]
  },
  {
   "cell_type": "code",
   "execution_count": 75,
   "metadata": {
    "execution": {
     "iopub.execute_input": "2022-04-16T08:53:11.733381Z",
     "iopub.status.busy": "2022-04-16T08:53:11.732538Z",
     "iopub.status.idle": "2022-04-16T08:53:11.791587Z",
     "shell.execute_reply": "2022-04-16T08:53:11.790868Z",
     "shell.execute_reply.started": "2022-04-16T08:53:11.733331Z"
    },
    "vscode": {
     "languageId": "python"
    }
   },
   "outputs": [],
   "source": [
    "corr = df.corr()"
   ]
  },
  {
   "cell_type": "code",
   "execution_count": 76,
   "metadata": {},
   "outputs": [
    {
     "data": {
      "text/html": [
       "<div>\n",
       "<style scoped>\n",
       "    .dataframe tbody tr th:only-of-type {\n",
       "        vertical-align: middle;\n",
       "    }\n",
       "\n",
       "    .dataframe tbody tr th {\n",
       "        vertical-align: top;\n",
       "    }\n",
       "\n",
       "    .dataframe thead th {\n",
       "        text-align: right;\n",
       "    }\n",
       "</style>\n",
       "<table border=\"1\" class=\"dataframe\">\n",
       "  <thead>\n",
       "    <tr style=\"text-align: right;\">\n",
       "      <th></th>\n",
       "      <th>p1_trophy</th>\n",
       "      <th>p1_card_0_id</th>\n",
       "      <th>p1_card_0_lv</th>\n",
       "      <th>p1_card_1_id</th>\n",
       "      <th>p1_card_1_lv</th>\n",
       "      <th>p1_card_2_id</th>\n",
       "      <th>p1_card_2_lv</th>\n",
       "      <th>p1_card_3_id</th>\n",
       "      <th>p1_card_3_lv</th>\n",
       "      <th>p1_card_4_id</th>\n",
       "      <th>...</th>\n",
       "      <th>p2_card_4_id</th>\n",
       "      <th>p2_card_4_lv</th>\n",
       "      <th>p2_card_5_id</th>\n",
       "      <th>p2_card_5_lv</th>\n",
       "      <th>p2_card_6_id</th>\n",
       "      <th>p2_card_6_lv</th>\n",
       "      <th>p2_card_7_id</th>\n",
       "      <th>p2_card_7_lv</th>\n",
       "      <th>p2_crowns</th>\n",
       "      <th>winner</th>\n",
       "    </tr>\n",
       "  </thead>\n",
       "  <tbody>\n",
       "    <tr>\n",
       "      <th>p1_trophy</th>\n",
       "      <td>1.000000</td>\n",
       "      <td>0.071542</td>\n",
       "      <td>0.338753</td>\n",
       "      <td>0.063358</td>\n",
       "      <td>0.376462</td>\n",
       "      <td>0.106477</td>\n",
       "      <td>0.386891</td>\n",
       "      <td>-0.113712</td>\n",
       "      <td>0.356019</td>\n",
       "      <td>-0.145703</td>\n",
       "      <td>...</td>\n",
       "      <td>-0.154743</td>\n",
       "      <td>0.387322</td>\n",
       "      <td>0.117572</td>\n",
       "      <td>0.383056</td>\n",
       "      <td>0.130335</td>\n",
       "      <td>0.397376</td>\n",
       "      <td>0.124937</td>\n",
       "      <td>0.384052</td>\n",
       "      <td>-0.027432</td>\n",
       "      <td>0.027733</td>\n",
       "    </tr>\n",
       "    <tr>\n",
       "      <th>p1_card_0_id</th>\n",
       "      <td>0.071542</td>\n",
       "      <td>1.000000</td>\n",
       "      <td>-0.027471</td>\n",
       "      <td>-0.022282</td>\n",
       "      <td>0.016828</td>\n",
       "      <td>-0.071723</td>\n",
       "      <td>0.051313</td>\n",
       "      <td>-0.070081</td>\n",
       "      <td>0.023248</td>\n",
       "      <td>-0.085374</td>\n",
       "      <td>...</td>\n",
       "      <td>-0.011397</td>\n",
       "      <td>0.014379</td>\n",
       "      <td>0.020752</td>\n",
       "      <td>0.013338</td>\n",
       "      <td>0.004794</td>\n",
       "      <td>0.019412</td>\n",
       "      <td>0.019016</td>\n",
       "      <td>0.018056</td>\n",
       "      <td>0.013265</td>\n",
       "      <td>0.018654</td>\n",
       "    </tr>\n",
       "    <tr>\n",
       "      <th>p1_card_0_lv</th>\n",
       "      <td>0.338753</td>\n",
       "      <td>-0.027471</td>\n",
       "      <td>1.000000</td>\n",
       "      <td>0.009080</td>\n",
       "      <td>0.343403</td>\n",
       "      <td>0.038669</td>\n",
       "      <td>0.306748</td>\n",
       "      <td>-0.022345</td>\n",
       "      <td>0.260454</td>\n",
       "      <td>0.001224</td>\n",
       "      <td>...</td>\n",
       "      <td>-0.034220</td>\n",
       "      <td>0.205438</td>\n",
       "      <td>0.029034</td>\n",
       "      <td>0.217704</td>\n",
       "      <td>0.042565</td>\n",
       "      <td>0.219652</td>\n",
       "      <td>0.021754</td>\n",
       "      <td>0.211294</td>\n",
       "      <td>-0.009329</td>\n",
       "      <td>0.013290</td>\n",
       "    </tr>\n",
       "    <tr>\n",
       "      <th>p1_card_1_id</th>\n",
       "      <td>0.063358</td>\n",
       "      <td>-0.022282</td>\n",
       "      <td>0.009080</td>\n",
       "      <td>1.000000</td>\n",
       "      <td>-0.069729</td>\n",
       "      <td>-0.022855</td>\n",
       "      <td>-0.017930</td>\n",
       "      <td>-0.089510</td>\n",
       "      <td>0.027371</td>\n",
       "      <td>-0.090257</td>\n",
       "      <td>...</td>\n",
       "      <td>-0.020449</td>\n",
       "      <td>0.033306</td>\n",
       "      <td>0.015125</td>\n",
       "      <td>0.019555</td>\n",
       "      <td>0.015210</td>\n",
       "      <td>0.030957</td>\n",
       "      <td>0.018030</td>\n",
       "      <td>0.017285</td>\n",
       "      <td>-0.000516</td>\n",
       "      <td>0.000895</td>\n",
       "    </tr>\n",
       "    <tr>\n",
       "      <th>p1_card_1_lv</th>\n",
       "      <td>0.376462</td>\n",
       "      <td>0.016828</td>\n",
       "      <td>0.343403</td>\n",
       "      <td>-0.069729</td>\n",
       "      <td>1.000000</td>\n",
       "      <td>0.027549</td>\n",
       "      <td>0.344282</td>\n",
       "      <td>-0.026006</td>\n",
       "      <td>0.289320</td>\n",
       "      <td>-0.007014</td>\n",
       "      <td>...</td>\n",
       "      <td>-0.049998</td>\n",
       "      <td>0.222731</td>\n",
       "      <td>0.041375</td>\n",
       "      <td>0.223468</td>\n",
       "      <td>0.045599</td>\n",
       "      <td>0.235684</td>\n",
       "      <td>0.032295</td>\n",
       "      <td>0.231489</td>\n",
       "      <td>-0.014049</td>\n",
       "      <td>0.010827</td>\n",
       "    </tr>\n",
       "    <tr>\n",
       "      <th>p1_card_2_id</th>\n",
       "      <td>0.106477</td>\n",
       "      <td>-0.071723</td>\n",
       "      <td>0.038669</td>\n",
       "      <td>-0.022855</td>\n",
       "      <td>0.027549</td>\n",
       "      <td>1.000000</td>\n",
       "      <td>-0.053862</td>\n",
       "      <td>-0.067312</td>\n",
       "      <td>0.022008</td>\n",
       "      <td>-0.103690</td>\n",
       "      <td>...</td>\n",
       "      <td>-0.021944</td>\n",
       "      <td>0.026191</td>\n",
       "      <td>0.012791</td>\n",
       "      <td>0.035154</td>\n",
       "      <td>0.010911</td>\n",
       "      <td>0.040444</td>\n",
       "      <td>0.025393</td>\n",
       "      <td>0.042536</td>\n",
       "      <td>0.026953</td>\n",
       "      <td>0.030702</td>\n",
       "    </tr>\n",
       "    <tr>\n",
       "      <th>p1_card_2_lv</th>\n",
       "      <td>0.386891</td>\n",
       "      <td>0.051313</td>\n",
       "      <td>0.306748</td>\n",
       "      <td>-0.017930</td>\n",
       "      <td>0.344282</td>\n",
       "      <td>-0.053862</td>\n",
       "      <td>1.000000</td>\n",
       "      <td>-0.048634</td>\n",
       "      <td>0.342073</td>\n",
       "      <td>0.001496</td>\n",
       "      <td>...</td>\n",
       "      <td>-0.057924</td>\n",
       "      <td>0.238800</td>\n",
       "      <td>0.038870</td>\n",
       "      <td>0.239427</td>\n",
       "      <td>0.051338</td>\n",
       "      <td>0.234228</td>\n",
       "      <td>0.039323</td>\n",
       "      <td>0.232166</td>\n",
       "      <td>0.015248</td>\n",
       "      <td>0.031350</td>\n",
       "    </tr>\n",
       "    <tr>\n",
       "      <th>p1_card_3_id</th>\n",
       "      <td>-0.113712</td>\n",
       "      <td>-0.070081</td>\n",
       "      <td>-0.022345</td>\n",
       "      <td>-0.089510</td>\n",
       "      <td>-0.026006</td>\n",
       "      <td>-0.067312</td>\n",
       "      <td>-0.048634</td>\n",
       "      <td>1.000000</td>\n",
       "      <td>-0.036109</td>\n",
       "      <td>-0.007342</td>\n",
       "      <td>...</td>\n",
       "      <td>0.024363</td>\n",
       "      <td>-0.055340</td>\n",
       "      <td>-0.026698</td>\n",
       "      <td>-0.051291</td>\n",
       "      <td>-0.013444</td>\n",
       "      <td>-0.047563</td>\n",
       "      <td>-0.020275</td>\n",
       "      <td>-0.050298</td>\n",
       "      <td>0.006465</td>\n",
       "      <td>-0.001344</td>\n",
       "    </tr>\n",
       "    <tr>\n",
       "      <th>p1_card_3_lv</th>\n",
       "      <td>0.356019</td>\n",
       "      <td>0.023248</td>\n",
       "      <td>0.260454</td>\n",
       "      <td>0.027371</td>\n",
       "      <td>0.289320</td>\n",
       "      <td>0.022008</td>\n",
       "      <td>0.342073</td>\n",
       "      <td>-0.036109</td>\n",
       "      <td>1.000000</td>\n",
       "      <td>-0.012193</td>\n",
       "      <td>...</td>\n",
       "      <td>-0.043371</td>\n",
       "      <td>0.223936</td>\n",
       "      <td>0.045130</td>\n",
       "      <td>0.209208</td>\n",
       "      <td>0.050332</td>\n",
       "      <td>0.225162</td>\n",
       "      <td>0.024578</td>\n",
       "      <td>0.225738</td>\n",
       "      <td>0.001152</td>\n",
       "      <td>0.022343</td>\n",
       "    </tr>\n",
       "    <tr>\n",
       "      <th>p1_card_4_id</th>\n",
       "      <td>-0.145703</td>\n",
       "      <td>-0.085374</td>\n",
       "      <td>0.001224</td>\n",
       "      <td>-0.090257</td>\n",
       "      <td>-0.007014</td>\n",
       "      <td>-0.103690</td>\n",
       "      <td>0.001496</td>\n",
       "      <td>-0.007342</td>\n",
       "      <td>-0.012193</td>\n",
       "      <td>1.000000</td>\n",
       "      <td>...</td>\n",
       "      <td>0.034098</td>\n",
       "      <td>-0.052119</td>\n",
       "      <td>-0.024874</td>\n",
       "      <td>-0.051795</td>\n",
       "      <td>-0.019626</td>\n",
       "      <td>-0.050444</td>\n",
       "      <td>-0.023097</td>\n",
       "      <td>-0.047977</td>\n",
       "      <td>0.015890</td>\n",
       "      <td>0.008860</td>\n",
       "    </tr>\n",
       "    <tr>\n",
       "      <th>p1_card_4_lv</th>\n",
       "      <td>0.352903</td>\n",
       "      <td>0.020277</td>\n",
       "      <td>0.229734</td>\n",
       "      <td>0.028204</td>\n",
       "      <td>0.302847</td>\n",
       "      <td>0.048073</td>\n",
       "      <td>0.294567</td>\n",
       "      <td>-0.044936</td>\n",
       "      <td>0.306845</td>\n",
       "      <td>-0.039379</td>\n",
       "      <td>...</td>\n",
       "      <td>-0.049723</td>\n",
       "      <td>0.225071</td>\n",
       "      <td>0.035600</td>\n",
       "      <td>0.222314</td>\n",
       "      <td>0.048344</td>\n",
       "      <td>0.226380</td>\n",
       "      <td>0.037585</td>\n",
       "      <td>0.234884</td>\n",
       "      <td>0.002261</td>\n",
       "      <td>0.020341</td>\n",
       "    </tr>\n",
       "    <tr>\n",
       "      <th>p1_card_5_id</th>\n",
       "      <td>0.094413</td>\n",
       "      <td>-0.031024</td>\n",
       "      <td>0.022146</td>\n",
       "      <td>-0.005546</td>\n",
       "      <td>-0.009351</td>\n",
       "      <td>-0.063336</td>\n",
       "      <td>0.027174</td>\n",
       "      <td>-0.084126</td>\n",
       "      <td>0.012027</td>\n",
       "      <td>-0.087862</td>\n",
       "      <td>...</td>\n",
       "      <td>-0.015166</td>\n",
       "      <td>0.027368</td>\n",
       "      <td>0.017078</td>\n",
       "      <td>0.035543</td>\n",
       "      <td>-0.000003</td>\n",
       "      <td>0.028976</td>\n",
       "      <td>0.016277</td>\n",
       "      <td>0.023386</td>\n",
       "      <td>-0.006987</td>\n",
       "      <td>-0.007678</td>\n",
       "    </tr>\n",
       "    <tr>\n",
       "      <th>p1_card_5_lv</th>\n",
       "      <td>0.382885</td>\n",
       "      <td>0.030536</td>\n",
       "      <td>0.274507</td>\n",
       "      <td>0.054457</td>\n",
       "      <td>0.264416</td>\n",
       "      <td>0.070867</td>\n",
       "      <td>0.280443</td>\n",
       "      <td>-0.030944</td>\n",
       "      <td>0.298112</td>\n",
       "      <td>-0.039039</td>\n",
       "      <td>...</td>\n",
       "      <td>-0.055034</td>\n",
       "      <td>0.224602</td>\n",
       "      <td>0.053789</td>\n",
       "      <td>0.228454</td>\n",
       "      <td>0.054425</td>\n",
       "      <td>0.236754</td>\n",
       "      <td>0.043616</td>\n",
       "      <td>0.234800</td>\n",
       "      <td>0.002663</td>\n",
       "      <td>0.024694</td>\n",
       "    </tr>\n",
       "    <tr>\n",
       "      <th>p1_card_6_id</th>\n",
       "      <td>0.121036</td>\n",
       "      <td>-0.072465</td>\n",
       "      <td>0.012009</td>\n",
       "      <td>-0.009361</td>\n",
       "      <td>0.049709</td>\n",
       "      <td>-0.039743</td>\n",
       "      <td>0.027624</td>\n",
       "      <td>-0.090258</td>\n",
       "      <td>0.044905</td>\n",
       "      <td>-0.119106</td>\n",
       "      <td>...</td>\n",
       "      <td>-0.018549</td>\n",
       "      <td>0.052997</td>\n",
       "      <td>0.018940</td>\n",
       "      <td>0.040363</td>\n",
       "      <td>0.016289</td>\n",
       "      <td>0.047675</td>\n",
       "      <td>0.017395</td>\n",
       "      <td>0.039897</td>\n",
       "      <td>0.011378</td>\n",
       "      <td>0.008372</td>\n",
       "    </tr>\n",
       "    <tr>\n",
       "      <th>p1_card_6_lv</th>\n",
       "      <td>0.349283</td>\n",
       "      <td>0.013268</td>\n",
       "      <td>0.242601</td>\n",
       "      <td>0.022449</td>\n",
       "      <td>0.248307</td>\n",
       "      <td>0.062940</td>\n",
       "      <td>0.263123</td>\n",
       "      <td>-0.051272</td>\n",
       "      <td>0.263032</td>\n",
       "      <td>-0.016112</td>\n",
       "      <td>...</td>\n",
       "      <td>-0.043758</td>\n",
       "      <td>0.202398</td>\n",
       "      <td>0.034995</td>\n",
       "      <td>0.208024</td>\n",
       "      <td>0.050052</td>\n",
       "      <td>0.206844</td>\n",
       "      <td>0.036480</td>\n",
       "      <td>0.224105</td>\n",
       "      <td>-0.007677</td>\n",
       "      <td>0.024085</td>\n",
       "    </tr>\n",
       "    <tr>\n",
       "      <th>p1_card_7_id</th>\n",
       "      <td>0.093115</td>\n",
       "      <td>-0.049442</td>\n",
       "      <td>0.003280</td>\n",
       "      <td>-0.048187</td>\n",
       "      <td>0.049170</td>\n",
       "      <td>-0.020385</td>\n",
       "      <td>0.057076</td>\n",
       "      <td>-0.128373</td>\n",
       "      <td>0.018181</td>\n",
       "      <td>-0.135102</td>\n",
       "      <td>...</td>\n",
       "      <td>-0.023702</td>\n",
       "      <td>0.037106</td>\n",
       "      <td>0.018009</td>\n",
       "      <td>0.025336</td>\n",
       "      <td>0.007425</td>\n",
       "      <td>0.036075</td>\n",
       "      <td>0.009514</td>\n",
       "      <td>0.027133</td>\n",
       "      <td>0.009656</td>\n",
       "      <td>0.017058</td>\n",
       "    </tr>\n",
       "    <tr>\n",
       "      <th>p1_card_7_lv</th>\n",
       "      <td>0.360883</td>\n",
       "      <td>0.037954</td>\n",
       "      <td>0.258650</td>\n",
       "      <td>0.049455</td>\n",
       "      <td>0.247338</td>\n",
       "      <td>0.065465</td>\n",
       "      <td>0.299107</td>\n",
       "      <td>-0.037400</td>\n",
       "      <td>0.299182</td>\n",
       "      <td>-0.020925</td>\n",
       "      <td>...</td>\n",
       "      <td>-0.060350</td>\n",
       "      <td>0.228282</td>\n",
       "      <td>0.043494</td>\n",
       "      <td>0.235628</td>\n",
       "      <td>0.056395</td>\n",
       "      <td>0.231864</td>\n",
       "      <td>0.033388</td>\n",
       "      <td>0.238040</td>\n",
       "      <td>-0.014303</td>\n",
       "      <td>0.012055</td>\n",
       "    </tr>\n",
       "    <tr>\n",
       "      <th>p1_crowns</th>\n",
       "      <td>-0.088109</td>\n",
       "      <td>-0.025457</td>\n",
       "      <td>-0.036198</td>\n",
       "      <td>-0.014422</td>\n",
       "      <td>-0.029389</td>\n",
       "      <td>-0.045331</td>\n",
       "      <td>-0.041156</td>\n",
       "      <td>0.001933</td>\n",
       "      <td>-0.039208</td>\n",
       "      <td>-0.017814</td>\n",
       "      <td>...</td>\n",
       "      <td>0.034490</td>\n",
       "      <td>-0.039021</td>\n",
       "      <td>-0.032999</td>\n",
       "      <td>-0.024657</td>\n",
       "      <td>-0.024558</td>\n",
       "      <td>-0.030436</td>\n",
       "      <td>0.013525</td>\n",
       "      <td>-0.039099</td>\n",
       "      <td>-0.477464</td>\n",
       "      <td>-0.762488</td>\n",
       "    </tr>\n",
       "    <tr>\n",
       "      <th>p2_trophy</th>\n",
       "      <td>0.999940</td>\n",
       "      <td>0.071511</td>\n",
       "      <td>0.338857</td>\n",
       "      <td>0.063447</td>\n",
       "      <td>0.376386</td>\n",
       "      <td>0.106341</td>\n",
       "      <td>0.386930</td>\n",
       "      <td>-0.113655</td>\n",
       "      <td>0.356036</td>\n",
       "      <td>-0.145678</td>\n",
       "      <td>...</td>\n",
       "      <td>-0.154783</td>\n",
       "      <td>0.387625</td>\n",
       "      <td>0.117474</td>\n",
       "      <td>0.383310</td>\n",
       "      <td>0.130368</td>\n",
       "      <td>0.397611</td>\n",
       "      <td>0.124924</td>\n",
       "      <td>0.384343</td>\n",
       "      <td>-0.027552</td>\n",
       "      <td>0.027640</td>\n",
       "    </tr>\n",
       "    <tr>\n",
       "      <th>p2_card_0_id</th>\n",
       "      <td>0.068658</td>\n",
       "      <td>0.000277</td>\n",
       "      <td>0.022537</td>\n",
       "      <td>0.004432</td>\n",
       "      <td>0.028501</td>\n",
       "      <td>-0.002737</td>\n",
       "      <td>0.021852</td>\n",
       "      <td>-0.007461</td>\n",
       "      <td>0.035882</td>\n",
       "      <td>-0.024754</td>\n",
       "      <td>...</td>\n",
       "      <td>-0.084987</td>\n",
       "      <td>0.041085</td>\n",
       "      <td>-0.013357</td>\n",
       "      <td>0.039270</td>\n",
       "      <td>-0.038140</td>\n",
       "      <td>0.038697</td>\n",
       "      <td>-0.036827</td>\n",
       "      <td>0.031694</td>\n",
       "      <td>-0.021087</td>\n",
       "      <td>-0.014961</td>\n",
       "    </tr>\n",
       "    <tr>\n",
       "      <th>p2_card_0_lv</th>\n",
       "      <td>0.365267</td>\n",
       "      <td>0.023237</td>\n",
       "      <td>0.219345</td>\n",
       "      <td>0.010318</td>\n",
       "      <td>0.231822</td>\n",
       "      <td>0.018665</td>\n",
       "      <td>0.246753</td>\n",
       "      <td>-0.038439</td>\n",
       "      <td>0.222735</td>\n",
       "      <td>-0.036063</td>\n",
       "      <td>...</td>\n",
       "      <td>-0.000799</td>\n",
       "      <td>0.259910</td>\n",
       "      <td>0.038525</td>\n",
       "      <td>0.247504</td>\n",
       "      <td>0.038850</td>\n",
       "      <td>0.259661</td>\n",
       "      <td>0.018662</td>\n",
       "      <td>0.250510</td>\n",
       "      <td>-0.004494</td>\n",
       "      <td>0.024058</td>\n",
       "    </tr>\n",
       "    <tr>\n",
       "      <th>p2_card_1_id</th>\n",
       "      <td>0.079505</td>\n",
       "      <td>0.012456</td>\n",
       "      <td>0.016899</td>\n",
       "      <td>-0.001370</td>\n",
       "      <td>0.019386</td>\n",
       "      <td>0.012283</td>\n",
       "      <td>0.022781</td>\n",
       "      <td>-0.011446</td>\n",
       "      <td>0.018021</td>\n",
       "      <td>-0.010093</td>\n",
       "      <td>...</td>\n",
       "      <td>-0.104309</td>\n",
       "      <td>0.045624</td>\n",
       "      <td>-0.014496</td>\n",
       "      <td>0.036971</td>\n",
       "      <td>-0.022054</td>\n",
       "      <td>0.041886</td>\n",
       "      <td>-0.047959</td>\n",
       "      <td>0.046997</td>\n",
       "      <td>-0.005407</td>\n",
       "      <td>0.008552</td>\n",
       "    </tr>\n",
       "    <tr>\n",
       "      <th>p2_card_1_lv</th>\n",
       "      <td>0.367481</td>\n",
       "      <td>0.016229</td>\n",
       "      <td>0.201071</td>\n",
       "      <td>0.022019</td>\n",
       "      <td>0.231139</td>\n",
       "      <td>0.018682</td>\n",
       "      <td>0.242764</td>\n",
       "      <td>-0.037833</td>\n",
       "      <td>0.225844</td>\n",
       "      <td>-0.041375</td>\n",
       "      <td>...</td>\n",
       "      <td>-0.034360</td>\n",
       "      <td>0.278893</td>\n",
       "      <td>0.032949</td>\n",
       "      <td>0.260211</td>\n",
       "      <td>0.050803</td>\n",
       "      <td>0.270551</td>\n",
       "      <td>0.052541</td>\n",
       "      <td>0.252869</td>\n",
       "      <td>-0.016745</td>\n",
       "      <td>0.008810</td>\n",
       "    </tr>\n",
       "    <tr>\n",
       "      <th>p2_card_2_id</th>\n",
       "      <td>0.058080</td>\n",
       "      <td>0.016983</td>\n",
       "      <td>0.015174</td>\n",
       "      <td>0.005701</td>\n",
       "      <td>0.014071</td>\n",
       "      <td>0.009078</td>\n",
       "      <td>0.005742</td>\n",
       "      <td>-0.011867</td>\n",
       "      <td>0.004044</td>\n",
       "      <td>-0.001641</td>\n",
       "      <td>...</td>\n",
       "      <td>-0.103339</td>\n",
       "      <td>0.010091</td>\n",
       "      <td>-0.066548</td>\n",
       "      <td>0.039181</td>\n",
       "      <td>-0.029401</td>\n",
       "      <td>0.060112</td>\n",
       "      <td>-0.017363</td>\n",
       "      <td>0.030244</td>\n",
       "      <td>-0.042582</td>\n",
       "      <td>-0.023696</td>\n",
       "    </tr>\n",
       "    <tr>\n",
       "      <th>p2_card_2_lv</th>\n",
       "      <td>0.371522</td>\n",
       "      <td>0.024086</td>\n",
       "      <td>0.208283</td>\n",
       "      <td>0.015185</td>\n",
       "      <td>0.214843</td>\n",
       "      <td>0.024841</td>\n",
       "      <td>0.232379</td>\n",
       "      <td>-0.044950</td>\n",
       "      <td>0.223273</td>\n",
       "      <td>-0.049146</td>\n",
       "      <td>...</td>\n",
       "      <td>-0.020677</td>\n",
       "      <td>0.279635</td>\n",
       "      <td>0.030713</td>\n",
       "      <td>0.269956</td>\n",
       "      <td>0.044432</td>\n",
       "      <td>0.272257</td>\n",
       "      <td>0.074297</td>\n",
       "      <td>0.259385</td>\n",
       "      <td>-0.028941</td>\n",
       "      <td>-0.006655</td>\n",
       "    </tr>\n",
       "    <tr>\n",
       "      <th>p2_card_3_id</th>\n",
       "      <td>-0.136249</td>\n",
       "      <td>-0.023307</td>\n",
       "      <td>-0.049286</td>\n",
       "      <td>-0.003977</td>\n",
       "      <td>-0.060611</td>\n",
       "      <td>-0.007613</td>\n",
       "      <td>-0.053692</td>\n",
       "      <td>0.029363</td>\n",
       "      <td>-0.048258</td>\n",
       "      <td>0.025796</td>\n",
       "      <td>...</td>\n",
       "      <td>0.062172</td>\n",
       "      <td>-0.047195</td>\n",
       "      <td>-0.098838</td>\n",
       "      <td>-0.050728</td>\n",
       "      <td>-0.126463</td>\n",
       "      <td>-0.040489</td>\n",
       "      <td>-0.146917</td>\n",
       "      <td>-0.038109</td>\n",
       "      <td>-0.040931</td>\n",
       "      <td>-0.029225</td>\n",
       "    </tr>\n",
       "    <tr>\n",
       "      <th>p2_card_3_lv</th>\n",
       "      <td>0.350284</td>\n",
       "      <td>0.016038</td>\n",
       "      <td>0.188266</td>\n",
       "      <td>0.009687</td>\n",
       "      <td>0.202241</td>\n",
       "      <td>0.014952</td>\n",
       "      <td>0.224569</td>\n",
       "      <td>-0.042404</td>\n",
       "      <td>0.215083</td>\n",
       "      <td>-0.048858</td>\n",
       "      <td>...</td>\n",
       "      <td>-0.018185</td>\n",
       "      <td>0.276539</td>\n",
       "      <td>0.035135</td>\n",
       "      <td>0.262300</td>\n",
       "      <td>0.043348</td>\n",
       "      <td>0.268951</td>\n",
       "      <td>0.053973</td>\n",
       "      <td>0.250918</td>\n",
       "      <td>-0.018981</td>\n",
       "      <td>-0.004898</td>\n",
       "    </tr>\n",
       "    <tr>\n",
       "      <th>p2_card_4_id</th>\n",
       "      <td>-0.154743</td>\n",
       "      <td>-0.011397</td>\n",
       "      <td>-0.034220</td>\n",
       "      <td>-0.020449</td>\n",
       "      <td>-0.049998</td>\n",
       "      <td>-0.021944</td>\n",
       "      <td>-0.057924</td>\n",
       "      <td>0.024363</td>\n",
       "      <td>-0.043371</td>\n",
       "      <td>0.034098</td>\n",
       "      <td>...</td>\n",
       "      <td>1.000000</td>\n",
       "      <td>-0.074822</td>\n",
       "      <td>-0.082742</td>\n",
       "      <td>-0.021534</td>\n",
       "      <td>-0.111921</td>\n",
       "      <td>-0.038451</td>\n",
       "      <td>-0.166024</td>\n",
       "      <td>-0.038893</td>\n",
       "      <td>-0.018793</td>\n",
       "      <td>-0.014912</td>\n",
       "    </tr>\n",
       "    <tr>\n",
       "      <th>p2_card_4_lv</th>\n",
       "      <td>0.387322</td>\n",
       "      <td>0.014379</td>\n",
       "      <td>0.205438</td>\n",
       "      <td>0.033306</td>\n",
       "      <td>0.222731</td>\n",
       "      <td>0.026191</td>\n",
       "      <td>0.238800</td>\n",
       "      <td>-0.055340</td>\n",
       "      <td>0.223936</td>\n",
       "      <td>-0.052119</td>\n",
       "      <td>...</td>\n",
       "      <td>-0.074822</td>\n",
       "      <td>1.000000</td>\n",
       "      <td>0.048232</td>\n",
       "      <td>0.295678</td>\n",
       "      <td>0.070901</td>\n",
       "      <td>0.283262</td>\n",
       "      <td>0.062090</td>\n",
       "      <td>0.275419</td>\n",
       "      <td>-0.018572</td>\n",
       "      <td>0.012185</td>\n",
       "    </tr>\n",
       "    <tr>\n",
       "      <th>p2_card_5_id</th>\n",
       "      <td>0.117572</td>\n",
       "      <td>0.020752</td>\n",
       "      <td>0.029034</td>\n",
       "      <td>0.015125</td>\n",
       "      <td>0.041375</td>\n",
       "      <td>0.012791</td>\n",
       "      <td>0.038870</td>\n",
       "      <td>-0.026698</td>\n",
       "      <td>0.045130</td>\n",
       "      <td>-0.024874</td>\n",
       "      <td>...</td>\n",
       "      <td>-0.082742</td>\n",
       "      <td>0.048232</td>\n",
       "      <td>1.000000</td>\n",
       "      <td>-0.023031</td>\n",
       "      <td>-0.003390</td>\n",
       "      <td>0.035224</td>\n",
       "      <td>-0.025520</td>\n",
       "      <td>0.044090</td>\n",
       "      <td>0.002336</td>\n",
       "      <td>0.027195</td>\n",
       "    </tr>\n",
       "    <tr>\n",
       "      <th>p2_card_5_lv</th>\n",
       "      <td>0.383056</td>\n",
       "      <td>0.013338</td>\n",
       "      <td>0.217704</td>\n",
       "      <td>0.019555</td>\n",
       "      <td>0.223468</td>\n",
       "      <td>0.035154</td>\n",
       "      <td>0.239427</td>\n",
       "      <td>-0.051291</td>\n",
       "      <td>0.209208</td>\n",
       "      <td>-0.051795</td>\n",
       "      <td>...</td>\n",
       "      <td>-0.021534</td>\n",
       "      <td>0.295678</td>\n",
       "      <td>-0.023031</td>\n",
       "      <td>1.000000</td>\n",
       "      <td>0.048820</td>\n",
       "      <td>0.302001</td>\n",
       "      <td>0.062658</td>\n",
       "      <td>0.279846</td>\n",
       "      <td>-0.017868</td>\n",
       "      <td>0.005637</td>\n",
       "    </tr>\n",
       "    <tr>\n",
       "      <th>p2_card_6_id</th>\n",
       "      <td>0.130335</td>\n",
       "      <td>0.004794</td>\n",
       "      <td>0.042565</td>\n",
       "      <td>0.015210</td>\n",
       "      <td>0.045599</td>\n",
       "      <td>0.010911</td>\n",
       "      <td>0.051338</td>\n",
       "      <td>-0.013444</td>\n",
       "      <td>0.050332</td>\n",
       "      <td>-0.019626</td>\n",
       "      <td>...</td>\n",
       "      <td>-0.111921</td>\n",
       "      <td>0.070901</td>\n",
       "      <td>-0.003390</td>\n",
       "      <td>0.048820</td>\n",
       "      <td>1.000000</td>\n",
       "      <td>0.003576</td>\n",
       "      <td>0.025906</td>\n",
       "      <td>0.053812</td>\n",
       "      <td>-0.018108</td>\n",
       "      <td>0.006699</td>\n",
       "    </tr>\n",
       "    <tr>\n",
       "      <th>p2_card_6_lv</th>\n",
       "      <td>0.397376</td>\n",
       "      <td>0.019412</td>\n",
       "      <td>0.219652</td>\n",
       "      <td>0.030957</td>\n",
       "      <td>0.235684</td>\n",
       "      <td>0.040444</td>\n",
       "      <td>0.234228</td>\n",
       "      <td>-0.047563</td>\n",
       "      <td>0.225162</td>\n",
       "      <td>-0.050444</td>\n",
       "      <td>...</td>\n",
       "      <td>-0.038451</td>\n",
       "      <td>0.283262</td>\n",
       "      <td>0.035224</td>\n",
       "      <td>0.302001</td>\n",
       "      <td>0.003576</td>\n",
       "      <td>1.000000</td>\n",
       "      <td>0.066266</td>\n",
       "      <td>0.309540</td>\n",
       "      <td>-0.033992</td>\n",
       "      <td>-0.002104</td>\n",
       "    </tr>\n",
       "    <tr>\n",
       "      <th>p2_card_7_id</th>\n",
       "      <td>0.124937</td>\n",
       "      <td>0.019016</td>\n",
       "      <td>0.021754</td>\n",
       "      <td>0.018030</td>\n",
       "      <td>0.032295</td>\n",
       "      <td>0.025393</td>\n",
       "      <td>0.039323</td>\n",
       "      <td>-0.020275</td>\n",
       "      <td>0.024578</td>\n",
       "      <td>-0.023097</td>\n",
       "      <td>...</td>\n",
       "      <td>-0.166024</td>\n",
       "      <td>0.062090</td>\n",
       "      <td>-0.025520</td>\n",
       "      <td>0.062658</td>\n",
       "      <td>0.025906</td>\n",
       "      <td>0.066266</td>\n",
       "      <td>1.000000</td>\n",
       "      <td>-0.029062</td>\n",
       "      <td>-0.026637</td>\n",
       "      <td>-0.016031</td>\n",
       "    </tr>\n",
       "    <tr>\n",
       "      <th>p2_card_7_lv</th>\n",
       "      <td>0.384052</td>\n",
       "      <td>0.018056</td>\n",
       "      <td>0.211294</td>\n",
       "      <td>0.017285</td>\n",
       "      <td>0.231489</td>\n",
       "      <td>0.042536</td>\n",
       "      <td>0.232166</td>\n",
       "      <td>-0.050298</td>\n",
       "      <td>0.225738</td>\n",
       "      <td>-0.047977</td>\n",
       "      <td>...</td>\n",
       "      <td>-0.038893</td>\n",
       "      <td>0.275419</td>\n",
       "      <td>0.044090</td>\n",
       "      <td>0.279846</td>\n",
       "      <td>0.053812</td>\n",
       "      <td>0.309540</td>\n",
       "      <td>-0.029062</td>\n",
       "      <td>1.000000</td>\n",
       "      <td>-0.008516</td>\n",
       "      <td>0.016839</td>\n",
       "    </tr>\n",
       "    <tr>\n",
       "      <th>p2_crowns</th>\n",
       "      <td>-0.027432</td>\n",
       "      <td>0.013265</td>\n",
       "      <td>-0.009329</td>\n",
       "      <td>-0.000516</td>\n",
       "      <td>-0.014049</td>\n",
       "      <td>0.026953</td>\n",
       "      <td>0.015248</td>\n",
       "      <td>0.006465</td>\n",
       "      <td>0.001152</td>\n",
       "      <td>0.015890</td>\n",
       "      <td>...</td>\n",
       "      <td>-0.018793</td>\n",
       "      <td>-0.018572</td>\n",
       "      <td>0.002336</td>\n",
       "      <td>-0.017868</td>\n",
       "      <td>-0.018108</td>\n",
       "      <td>-0.033992</td>\n",
       "      <td>-0.026637</td>\n",
       "      <td>-0.008516</td>\n",
       "      <td>1.000000</td>\n",
       "      <td>0.766549</td>\n",
       "    </tr>\n",
       "    <tr>\n",
       "      <th>winner</th>\n",
       "      <td>0.027733</td>\n",
       "      <td>0.018654</td>\n",
       "      <td>0.013290</td>\n",
       "      <td>0.000895</td>\n",
       "      <td>0.010827</td>\n",
       "      <td>0.030702</td>\n",
       "      <td>0.031350</td>\n",
       "      <td>-0.001344</td>\n",
       "      <td>0.022343</td>\n",
       "      <td>0.008860</td>\n",
       "      <td>...</td>\n",
       "      <td>-0.014912</td>\n",
       "      <td>0.012185</td>\n",
       "      <td>0.027195</td>\n",
       "      <td>0.005637</td>\n",
       "      <td>0.006699</td>\n",
       "      <td>-0.002104</td>\n",
       "      <td>-0.016031</td>\n",
       "      <td>0.016839</td>\n",
       "      <td>0.766549</td>\n",
       "      <td>1.000000</td>\n",
       "    </tr>\n",
       "  </tbody>\n",
       "</table>\n",
       "<p>37 rows × 37 columns</p>\n",
       "</div>"
      ],
      "text/plain": [
       "              p1_trophy  p1_card_0_id  p1_card_0_lv  p1_card_1_id  \\\n",
       "p1_trophy      1.000000      0.071542      0.338753      0.063358   \n",
       "p1_card_0_id   0.071542      1.000000     -0.027471     -0.022282   \n",
       "p1_card_0_lv   0.338753     -0.027471      1.000000      0.009080   \n",
       "p1_card_1_id   0.063358     -0.022282      0.009080      1.000000   \n",
       "p1_card_1_lv   0.376462      0.016828      0.343403     -0.069729   \n",
       "p1_card_2_id   0.106477     -0.071723      0.038669     -0.022855   \n",
       "p1_card_2_lv   0.386891      0.051313      0.306748     -0.017930   \n",
       "p1_card_3_id  -0.113712     -0.070081     -0.022345     -0.089510   \n",
       "p1_card_3_lv   0.356019      0.023248      0.260454      0.027371   \n",
       "p1_card_4_id  -0.145703     -0.085374      0.001224     -0.090257   \n",
       "p1_card_4_lv   0.352903      0.020277      0.229734      0.028204   \n",
       "p1_card_5_id   0.094413     -0.031024      0.022146     -0.005546   \n",
       "p1_card_5_lv   0.382885      0.030536      0.274507      0.054457   \n",
       "p1_card_6_id   0.121036     -0.072465      0.012009     -0.009361   \n",
       "p1_card_6_lv   0.349283      0.013268      0.242601      0.022449   \n",
       "p1_card_7_id   0.093115     -0.049442      0.003280     -0.048187   \n",
       "p1_card_7_lv   0.360883      0.037954      0.258650      0.049455   \n",
       "p1_crowns     -0.088109     -0.025457     -0.036198     -0.014422   \n",
       "p2_trophy      0.999940      0.071511      0.338857      0.063447   \n",
       "p2_card_0_id   0.068658      0.000277      0.022537      0.004432   \n",
       "p2_card_0_lv   0.365267      0.023237      0.219345      0.010318   \n",
       "p2_card_1_id   0.079505      0.012456      0.016899     -0.001370   \n",
       "p2_card_1_lv   0.367481      0.016229      0.201071      0.022019   \n",
       "p2_card_2_id   0.058080      0.016983      0.015174      0.005701   \n",
       "p2_card_2_lv   0.371522      0.024086      0.208283      0.015185   \n",
       "p2_card_3_id  -0.136249     -0.023307     -0.049286     -0.003977   \n",
       "p2_card_3_lv   0.350284      0.016038      0.188266      0.009687   \n",
       "p2_card_4_id  -0.154743     -0.011397     -0.034220     -0.020449   \n",
       "p2_card_4_lv   0.387322      0.014379      0.205438      0.033306   \n",
       "p2_card_5_id   0.117572      0.020752      0.029034      0.015125   \n",
       "p2_card_5_lv   0.383056      0.013338      0.217704      0.019555   \n",
       "p2_card_6_id   0.130335      0.004794      0.042565      0.015210   \n",
       "p2_card_6_lv   0.397376      0.019412      0.219652      0.030957   \n",
       "p2_card_7_id   0.124937      0.019016      0.021754      0.018030   \n",
       "p2_card_7_lv   0.384052      0.018056      0.211294      0.017285   \n",
       "p2_crowns     -0.027432      0.013265     -0.009329     -0.000516   \n",
       "winner         0.027733      0.018654      0.013290      0.000895   \n",
       "\n",
       "              p1_card_1_lv  p1_card_2_id  p1_card_2_lv  p1_card_3_id  \\\n",
       "p1_trophy         0.376462      0.106477      0.386891     -0.113712   \n",
       "p1_card_0_id      0.016828     -0.071723      0.051313     -0.070081   \n",
       "p1_card_0_lv      0.343403      0.038669      0.306748     -0.022345   \n",
       "p1_card_1_id     -0.069729     -0.022855     -0.017930     -0.089510   \n",
       "p1_card_1_lv      1.000000      0.027549      0.344282     -0.026006   \n",
       "p1_card_2_id      0.027549      1.000000     -0.053862     -0.067312   \n",
       "p1_card_2_lv      0.344282     -0.053862      1.000000     -0.048634   \n",
       "p1_card_3_id     -0.026006     -0.067312     -0.048634      1.000000   \n",
       "p1_card_3_lv      0.289320      0.022008      0.342073     -0.036109   \n",
       "p1_card_4_id     -0.007014     -0.103690      0.001496     -0.007342   \n",
       "p1_card_4_lv      0.302847      0.048073      0.294567     -0.044936   \n",
       "p1_card_5_id     -0.009351     -0.063336      0.027174     -0.084126   \n",
       "p1_card_5_lv      0.264416      0.070867      0.280443     -0.030944   \n",
       "p1_card_6_id      0.049709     -0.039743      0.027624     -0.090258   \n",
       "p1_card_6_lv      0.248307      0.062940      0.263123     -0.051272   \n",
       "p1_card_7_id      0.049170     -0.020385      0.057076     -0.128373   \n",
       "p1_card_7_lv      0.247338      0.065465      0.299107     -0.037400   \n",
       "p1_crowns        -0.029389     -0.045331     -0.041156      0.001933   \n",
       "p2_trophy         0.376386      0.106341      0.386930     -0.113655   \n",
       "p2_card_0_id      0.028501     -0.002737      0.021852     -0.007461   \n",
       "p2_card_0_lv      0.231822      0.018665      0.246753     -0.038439   \n",
       "p2_card_1_id      0.019386      0.012283      0.022781     -0.011446   \n",
       "p2_card_1_lv      0.231139      0.018682      0.242764     -0.037833   \n",
       "p2_card_2_id      0.014071      0.009078      0.005742     -0.011867   \n",
       "p2_card_2_lv      0.214843      0.024841      0.232379     -0.044950   \n",
       "p2_card_3_id     -0.060611     -0.007613     -0.053692      0.029363   \n",
       "p2_card_3_lv      0.202241      0.014952      0.224569     -0.042404   \n",
       "p2_card_4_id     -0.049998     -0.021944     -0.057924      0.024363   \n",
       "p2_card_4_lv      0.222731      0.026191      0.238800     -0.055340   \n",
       "p2_card_5_id      0.041375      0.012791      0.038870     -0.026698   \n",
       "p2_card_5_lv      0.223468      0.035154      0.239427     -0.051291   \n",
       "p2_card_6_id      0.045599      0.010911      0.051338     -0.013444   \n",
       "p2_card_6_lv      0.235684      0.040444      0.234228     -0.047563   \n",
       "p2_card_7_id      0.032295      0.025393      0.039323     -0.020275   \n",
       "p2_card_7_lv      0.231489      0.042536      0.232166     -0.050298   \n",
       "p2_crowns        -0.014049      0.026953      0.015248      0.006465   \n",
       "winner            0.010827      0.030702      0.031350     -0.001344   \n",
       "\n",
       "              p1_card_3_lv  p1_card_4_id  ...  p2_card_4_id  p2_card_4_lv  \\\n",
       "p1_trophy         0.356019     -0.145703  ...     -0.154743      0.387322   \n",
       "p1_card_0_id      0.023248     -0.085374  ...     -0.011397      0.014379   \n",
       "p1_card_0_lv      0.260454      0.001224  ...     -0.034220      0.205438   \n",
       "p1_card_1_id      0.027371     -0.090257  ...     -0.020449      0.033306   \n",
       "p1_card_1_lv      0.289320     -0.007014  ...     -0.049998      0.222731   \n",
       "p1_card_2_id      0.022008     -0.103690  ...     -0.021944      0.026191   \n",
       "p1_card_2_lv      0.342073      0.001496  ...     -0.057924      0.238800   \n",
       "p1_card_3_id     -0.036109     -0.007342  ...      0.024363     -0.055340   \n",
       "p1_card_3_lv      1.000000     -0.012193  ...     -0.043371      0.223936   \n",
       "p1_card_4_id     -0.012193      1.000000  ...      0.034098     -0.052119   \n",
       "p1_card_4_lv      0.306845     -0.039379  ...     -0.049723      0.225071   \n",
       "p1_card_5_id      0.012027     -0.087862  ...     -0.015166      0.027368   \n",
       "p1_card_5_lv      0.298112     -0.039039  ...     -0.055034      0.224602   \n",
       "p1_card_6_id      0.044905     -0.119106  ...     -0.018549      0.052997   \n",
       "p1_card_6_lv      0.263032     -0.016112  ...     -0.043758      0.202398   \n",
       "p1_card_7_id      0.018181     -0.135102  ...     -0.023702      0.037106   \n",
       "p1_card_7_lv      0.299182     -0.020925  ...     -0.060350      0.228282   \n",
       "p1_crowns        -0.039208     -0.017814  ...      0.034490     -0.039021   \n",
       "p2_trophy         0.356036     -0.145678  ...     -0.154783      0.387625   \n",
       "p2_card_0_id      0.035882     -0.024754  ...     -0.084987      0.041085   \n",
       "p2_card_0_lv      0.222735     -0.036063  ...     -0.000799      0.259910   \n",
       "p2_card_1_id      0.018021     -0.010093  ...     -0.104309      0.045624   \n",
       "p2_card_1_lv      0.225844     -0.041375  ...     -0.034360      0.278893   \n",
       "p2_card_2_id      0.004044     -0.001641  ...     -0.103339      0.010091   \n",
       "p2_card_2_lv      0.223273     -0.049146  ...     -0.020677      0.279635   \n",
       "p2_card_3_id     -0.048258      0.025796  ...      0.062172     -0.047195   \n",
       "p2_card_3_lv      0.215083     -0.048858  ...     -0.018185      0.276539   \n",
       "p2_card_4_id     -0.043371      0.034098  ...      1.000000     -0.074822   \n",
       "p2_card_4_lv      0.223936     -0.052119  ...     -0.074822      1.000000   \n",
       "p2_card_5_id      0.045130     -0.024874  ...     -0.082742      0.048232   \n",
       "p2_card_5_lv      0.209208     -0.051795  ...     -0.021534      0.295678   \n",
       "p2_card_6_id      0.050332     -0.019626  ...     -0.111921      0.070901   \n",
       "p2_card_6_lv      0.225162     -0.050444  ...     -0.038451      0.283262   \n",
       "p2_card_7_id      0.024578     -0.023097  ...     -0.166024      0.062090   \n",
       "p2_card_7_lv      0.225738     -0.047977  ...     -0.038893      0.275419   \n",
       "p2_crowns         0.001152      0.015890  ...     -0.018793     -0.018572   \n",
       "winner            0.022343      0.008860  ...     -0.014912      0.012185   \n",
       "\n",
       "              p2_card_5_id  p2_card_5_lv  p2_card_6_id  p2_card_6_lv  \\\n",
       "p1_trophy         0.117572      0.383056      0.130335      0.397376   \n",
       "p1_card_0_id      0.020752      0.013338      0.004794      0.019412   \n",
       "p1_card_0_lv      0.029034      0.217704      0.042565      0.219652   \n",
       "p1_card_1_id      0.015125      0.019555      0.015210      0.030957   \n",
       "p1_card_1_lv      0.041375      0.223468      0.045599      0.235684   \n",
       "p1_card_2_id      0.012791      0.035154      0.010911      0.040444   \n",
       "p1_card_2_lv      0.038870      0.239427      0.051338      0.234228   \n",
       "p1_card_3_id     -0.026698     -0.051291     -0.013444     -0.047563   \n",
       "p1_card_3_lv      0.045130      0.209208      0.050332      0.225162   \n",
       "p1_card_4_id     -0.024874     -0.051795     -0.019626     -0.050444   \n",
       "p1_card_4_lv      0.035600      0.222314      0.048344      0.226380   \n",
       "p1_card_5_id      0.017078      0.035543     -0.000003      0.028976   \n",
       "p1_card_5_lv      0.053789      0.228454      0.054425      0.236754   \n",
       "p1_card_6_id      0.018940      0.040363      0.016289      0.047675   \n",
       "p1_card_6_lv      0.034995      0.208024      0.050052      0.206844   \n",
       "p1_card_7_id      0.018009      0.025336      0.007425      0.036075   \n",
       "p1_card_7_lv      0.043494      0.235628      0.056395      0.231864   \n",
       "p1_crowns        -0.032999     -0.024657     -0.024558     -0.030436   \n",
       "p2_trophy         0.117474      0.383310      0.130368      0.397611   \n",
       "p2_card_0_id     -0.013357      0.039270     -0.038140      0.038697   \n",
       "p2_card_0_lv      0.038525      0.247504      0.038850      0.259661   \n",
       "p2_card_1_id     -0.014496      0.036971     -0.022054      0.041886   \n",
       "p2_card_1_lv      0.032949      0.260211      0.050803      0.270551   \n",
       "p2_card_2_id     -0.066548      0.039181     -0.029401      0.060112   \n",
       "p2_card_2_lv      0.030713      0.269956      0.044432      0.272257   \n",
       "p2_card_3_id     -0.098838     -0.050728     -0.126463     -0.040489   \n",
       "p2_card_3_lv      0.035135      0.262300      0.043348      0.268951   \n",
       "p2_card_4_id     -0.082742     -0.021534     -0.111921     -0.038451   \n",
       "p2_card_4_lv      0.048232      0.295678      0.070901      0.283262   \n",
       "p2_card_5_id      1.000000     -0.023031     -0.003390      0.035224   \n",
       "p2_card_5_lv     -0.023031      1.000000      0.048820      0.302001   \n",
       "p2_card_6_id     -0.003390      0.048820      1.000000      0.003576   \n",
       "p2_card_6_lv      0.035224      0.302001      0.003576      1.000000   \n",
       "p2_card_7_id     -0.025520      0.062658      0.025906      0.066266   \n",
       "p2_card_7_lv      0.044090      0.279846      0.053812      0.309540   \n",
       "p2_crowns         0.002336     -0.017868     -0.018108     -0.033992   \n",
       "winner            0.027195      0.005637      0.006699     -0.002104   \n",
       "\n",
       "              p2_card_7_id  p2_card_7_lv  p2_crowns    winner  \n",
       "p1_trophy         0.124937      0.384052  -0.027432  0.027733  \n",
       "p1_card_0_id      0.019016      0.018056   0.013265  0.018654  \n",
       "p1_card_0_lv      0.021754      0.211294  -0.009329  0.013290  \n",
       "p1_card_1_id      0.018030      0.017285  -0.000516  0.000895  \n",
       "p1_card_1_lv      0.032295      0.231489  -0.014049  0.010827  \n",
       "p1_card_2_id      0.025393      0.042536   0.026953  0.030702  \n",
       "p1_card_2_lv      0.039323      0.232166   0.015248  0.031350  \n",
       "p1_card_3_id     -0.020275     -0.050298   0.006465 -0.001344  \n",
       "p1_card_3_lv      0.024578      0.225738   0.001152  0.022343  \n",
       "p1_card_4_id     -0.023097     -0.047977   0.015890  0.008860  \n",
       "p1_card_4_lv      0.037585      0.234884   0.002261  0.020341  \n",
       "p1_card_5_id      0.016277      0.023386  -0.006987 -0.007678  \n",
       "p1_card_5_lv      0.043616      0.234800   0.002663  0.024694  \n",
       "p1_card_6_id      0.017395      0.039897   0.011378  0.008372  \n",
       "p1_card_6_lv      0.036480      0.224105  -0.007677  0.024085  \n",
       "p1_card_7_id      0.009514      0.027133   0.009656  0.017058  \n",
       "p1_card_7_lv      0.033388      0.238040  -0.014303  0.012055  \n",
       "p1_crowns         0.013525     -0.039099  -0.477464 -0.762488  \n",
       "p2_trophy         0.124924      0.384343  -0.027552  0.027640  \n",
       "p2_card_0_id     -0.036827      0.031694  -0.021087 -0.014961  \n",
       "p2_card_0_lv      0.018662      0.250510  -0.004494  0.024058  \n",
       "p2_card_1_id     -0.047959      0.046997  -0.005407  0.008552  \n",
       "p2_card_1_lv      0.052541      0.252869  -0.016745  0.008810  \n",
       "p2_card_2_id     -0.017363      0.030244  -0.042582 -0.023696  \n",
       "p2_card_2_lv      0.074297      0.259385  -0.028941 -0.006655  \n",
       "p2_card_3_id     -0.146917     -0.038109  -0.040931 -0.029225  \n",
       "p2_card_3_lv      0.053973      0.250918  -0.018981 -0.004898  \n",
       "p2_card_4_id     -0.166024     -0.038893  -0.018793 -0.014912  \n",
       "p2_card_4_lv      0.062090      0.275419  -0.018572  0.012185  \n",
       "p2_card_5_id     -0.025520      0.044090   0.002336  0.027195  \n",
       "p2_card_5_lv      0.062658      0.279846  -0.017868  0.005637  \n",
       "p2_card_6_id      0.025906      0.053812  -0.018108  0.006699  \n",
       "p2_card_6_lv      0.066266      0.309540  -0.033992 -0.002104  \n",
       "p2_card_7_id      1.000000     -0.029062  -0.026637 -0.016031  \n",
       "p2_card_7_lv     -0.029062      1.000000  -0.008516  0.016839  \n",
       "p2_crowns        -0.026637     -0.008516   1.000000  0.766549  \n",
       "winner           -0.016031      0.016839   0.766549  1.000000  \n",
       "\n",
       "[37 rows x 37 columns]"
      ]
     },
     "execution_count": 76,
     "metadata": {},
     "output_type": "execute_result"
    }
   ],
   "source": [
    "corr"
   ]
  },
  {
   "cell_type": "code",
   "execution_count": 77,
   "metadata": {
    "execution": {
     "iopub.execute_input": "2022-04-16T08:53:12.593232Z",
     "iopub.status.busy": "2022-04-16T08:53:12.592756Z",
     "iopub.status.idle": "2022-04-16T08:53:13.027747Z",
     "shell.execute_reply": "2022-04-16T08:53:13.02708Z",
     "shell.execute_reply.started": "2022-04-16T08:53:12.593176Z"
    },
    "vscode": {
     "languageId": "python"
    }
   },
   "outputs": [
    {
     "data": {
      "image/png": "[encoded data removed]",
      "text/plain": [
       "<Figure size 1080x1080 with 2 Axes>"
      ]
     },
     "metadata": {
      "needs_background": "light"
     },
     "output_type": "display_data"
    }
   ],
   "source": [
    "f = plt.figure(figsize=(15, 15))\n",
    "plt.imshow(np.abs(corr))\n",
    "plt.title('Correlation Matrix')\n",
    "plt.xticks(np.arange(corr.shape[1]), corr.columns, rotation=45)\n",
    "plt.yticks(np.arange(corr.shape[1]), corr.columns)\n",
    "plt.colorbar()\n",
    "plt.show()"
   ]
  },
  {
   "cell_type": "markdown",
   "metadata": {},
   "source": [
    "#### Remarks:\n",
    "From the plotted correlation matrix, we observe that there seems to be a clear relationship between:\n",
    "- The current card and the next card(s) in each player's deck\n",
    "- The players' rankings (trophies) with each other\n",
    "- Players' rankings (trophies) and cards in their deck\n",
    "\n",
    "The first relation is very intuitive. This is because cards often have synergies (i.e some go well with others as support fillers while other do not). In this case, the results can be interpreted to explain that every card is followed by another specific card to complement the first one to build a strategy (catch: this is a strategy game). There are also relationships with further cards in the deck and even though they get weaker it is straightforward to realize that the cards are played out in a specific manner to build a strategy.  \n",
    "\n",
    "Furthermore, the players' rankings should be correlated as well which is well supported by the graph. This is so because the game's \"match-making process\" is based on player rankings, (and players of different rankings seems to use similar decks of cards.) --- how?\n",
    "\n",
    "However, unfortunately, it is evident that there is almost no correlation between the outcome and any other attributes of the dataset from this analysis. We can try to apply some well-known classifications methods and check if they give us promising results."
   ]
  },
  {
   "cell_type": "markdown",
   "metadata": {},
   "source": [
    "Lets drop some columns that do not seem to be correlated to get a better picture."
   ]
  },
  {
   "cell_type": "code",
   "execution_count": 78,
   "metadata": {},
   "outputs": [],
   "source": [
    "less_cols = df\n",
    "cols_to_drop = []\n",
    "for col_name in df.columns:\n",
    "    if 'lv' in col_name or 'tag' in col_name:\n",
    "        cols_to_drop.append(col_name)\n",
    "# remove cols with levels\n",
    "less_cols.drop(columns=cols_to_drop, inplace=True)\n",
    "less_corr = less_cols.corr()"
   ]
  },
  {
   "cell_type": "code",
   "execution_count": 79,
   "metadata": {},
   "outputs": [
    {
     "data": {
      "image/png": "[encoded data removed]",
      "text/plain": [
       "<Figure size 1080x1080 with 2 Axes>"
      ]
     },
     "metadata": {
      "needs_background": "light"
     },
     "output_type": "display_data"
    }
   ],
   "source": [
    "f = plt.figure(figsize=(15, 15))\n",
    "plt.imshow(np.abs(less_corr))\n",
    "plt.title('Correlation Matrix')\n",
    "plt.xticks(np.arange(df.shape[1]), df.columns, rotation=45)\n",
    "plt.yticks(np.arange(df.shape[1]), df.columns)\n",
    "plt.colorbar()\n",
    "plt.show()"
   ]
  },
  {
   "cell_type": "markdown",
   "metadata": {
    "vscode": {
     "languageId": "python"
    }
   },
   "source": [
    "### b. Understand Correlation of different features of the game"
   ]
  },
  {
   "cell_type": "markdown",
   "metadata": {},
   "source": [
    "Here, we study the behaviour of three different aspects from the game based on the cards and try to see how they are related with the player who wins a particular match. These three different aspects include:\n",
    "- **Average Deck Elixir**\n",
    "- **Card Type**\n",
    "- **Card Rarity**\n",
    "\n",
    "**Average Deck Elixir:** In Clash Royale, every card has an elixir value which can be thought of as the cost to play that card in the game. This elixir is generated at a certain speed for every player and by playing a specific card, the elixir of that card is lost from the player's total elixir amount. This feature ensures that a player cannot play as many cards as he/she wants. In particular, this feature allows an opportunity for us to study the relation between the average elixir weight of a player's deck to the outcome of the game. In other words, our aim is to study if the player with a cheaper deck has a higher chance of winning the game. If this is the case, then we will have a correlation between the winner and the player who has cheaper deck.\n",
    "\n",
    "**Card Type:** Every card in the game also has a type which can be thought of as a class of the card if it is a *Troop*, *Building*, or a *Spell*, and the cards do what the name of their class suggests. In particular, this feature may/may not have a relation between the type of cards of a player's deck and the outcome of the game. In other words, our aim is to study if a certain type of deck has a higher chance of winning the game. If this is the case, then we will have a correlation between the winner and the deck type. For our analysis, we will divide the *Troop* type in two categories *Air Troop* and *Ground Troop*.\n",
    "\n",
    "**Card Rarity:** Furthermore, every card in the game also has a rarity which can be thought of as the abundance of the card in the game. Essentially there are 5 categories: *Common*, *Rare*, *Epic*, *Legendary*, and *Champion*. As the names suggest, these cards are decreasingly abundant in the game and it is harder to find these cards to upgrade their levels and play them. In particular, this is another feature that may/may not have a relation between the rarity of cards in a player's deck and the outcome of the game. In other words, our aim is to study if a certain rarity of a deck has a higher chance of winning the game. If this is the case, then we will have a correlation between the winner and the deck rarity."
   ]
  },
  {
   "cell_type": "code",
   "execution_count": 140,
   "metadata": {},
   "outputs": [],
   "source": [
    "# needed for id_map hashing\n",
    "cards = pd.read_csv('data/cards.csv')\n",
    "cards_elixir = cards[['id', 'elixir']]\n",
    "\n",
    "# create map for card ID and row\n",
    "id_map = {}\n",
    "for row in cards_elixir.index:\n",
    "    id_map[cards_elixir.loc[row, 'id']] = row"
   ]
  },
  {
   "cell_type": "code",
   "execution_count": 141,
   "metadata": {},
   "outputs": [],
   "source": [
    "p1_elixir = []\n",
    "p2_elixir = []\n",
    "p_elixir_greater = []\n",
    "\n",
    "for (p1,p2) in zip(p1_cards.index, p2_cards.index):\n",
    "    avg1 = 0\n",
    "    avg2 = 0\n",
    "    for i in range(8):\n",
    "        card1 = id_map[p1_cards.iloc[p1, i]]\n",
    "        card2 = id_map[p2_cards.iloc[p2, i]]\n",
    "\n",
    "        avg1 += cards.at[card1,\"elixir\"]\n",
    "        avg2 += cards.at[card2,\"elixir\"]\n",
    "        \n",
    "    avg1/=8.0\n",
    "    avg2/=8.0\n",
    "    p1_elixir.append(avg1)\n",
    "    p2_elixir.append(avg2)\n",
    "    if (avg1 > avg2):\n",
    "        p_elixir_greater.append(1)\n",
    "    elif(avg1 == avg2):\n",
    "        p_elixir_greater.append(0)\n",
    "    else:\n",
    "        p_elixir_greater.append(2)"
   ]
  },
  {
   "cell_type": "code",
   "execution_count": 142,
   "metadata": {
    "scrolled": true
   },
   "outputs": [
    {
     "name": "stdout",
     "output_type": "stream",
     "text": [
      "     winner  p1_crowns  p2_crowns  p1_elixir  p2_elixir  p_elixir_greater\n",
      "543       2          0          3      2.875      3.750                 2\n",
      "544       2          0          3      2.875      4.000                 2\n",
      "545       2          0          1      2.875      4.500                 2\n",
      "546       1          1          0      2.875      3.625                 2\n",
      "547       2          0          1      3.375      3.750                 2\n",
      "548       2          0          2      3.375      3.500                 2\n"
     ]
    }
   ],
   "source": [
    "battles['p1_elixir'] = p1_elixir\n",
    "battles['p2_elixir'] = p2_elixir\n",
    "battles['p_elixir_greater'] = p_elixir_greater\n",
    "df = battles[[\"winner\", \"p1_crowns\", \"p2_crowns\", \"p1_elixir\", \"p2_elixir\", \"p_elixir_greater\"]]\n",
    "print(df[543:549])"
   ]
  },
  {
   "cell_type": "code",
   "execution_count": 143,
   "metadata": {},
   "outputs": [],
   "source": [
    "corr = df.corr()"
   ]
  },
  {
   "cell_type": "code",
   "execution_count": 144,
   "metadata": {},
   "outputs": [
    {
     "data": {
      "image/png": "[encoded data removed]",
      "text/plain": [
       "<Figure size 864x864 with 2 Axes>"
      ]
     },
     "metadata": {
      "needs_background": "light"
     },
     "output_type": "display_data"
    }
   ],
   "source": [
    "f = plt.figure(figsize=(12, 12))\n",
    "plt.imshow(np.abs(corr))\n",
    "plt.title('Correlation Matrix')\n",
    "plt.xticks(np.arange(df.shape[1]), df.columns, rotation=45)\n",
    "plt.yticks(np.arange(df.shape[1]), df.columns)\n",
    "plt.colorbar()\n",
    "plt.show()"
   ]
  },
  {
   "cell_type": "markdown",
   "metadata": {},
   "source": [
    "### Troop Type"
   ]
  },
  {
   "cell_type": "markdown",
   "metadata": {},
   "source": [
    "Now, we will try to analyze the decks based on the types of cards. In the original data, we have 3 types of cards: \n",
    "- $Troop$\n",
    "- $Spell$ \n",
    "- $Building$ \n",
    "\n",
    "But, we will divide the $Troop$ type into:\n",
    "- $Air\\_Troop$ \n",
    "- $Ground\\_Troop$\n",
    "\n",
    "The difference between these two is that $Air\\_Troop$ have $flying\\_height>0$ and as the name suggests, they are positioned above 0 on the z-axis in the game. The number of $Air\\_Troops$ may/may not have an effect on the result of the match and that is why we will try to train our models and see if our predictions are any better with these troop types. We modify the data accordingly in the cell below. "
   ]
  },
  {
   "cell_type": "code",
   "execution_count": 145,
   "metadata": {},
   "outputs": [
    {
     "name": "stdout",
     "output_type": "stream",
     "text": [
      "Unique cards before modification: ['Troop', 'Building', 'Spell']\n",
      "       key  elixir   type\n",
      "0   knight       3  Troop\n",
      "1  archers       3  Troop\n",
      "2  goblins       2  Troop\n",
      "3    giant       5  Troop\n",
      "4    pekka       7  Troop\n",
      "\n",
      "Unique cards after modification: ['Air_Troop', 'Building', 'Ground_Troop', 'Spell']\n",
      "       key  elixir          type  rarity\n",
      "0   knight       3  Ground_Troop  Common\n",
      "1  archers       3  Ground_Troop  Common\n",
      "2  goblins       2  Ground_Troop  Common\n",
      "3    giant       5  Ground_Troop    Rare\n",
      "4    pekka       7  Ground_Troop    Epic\n"
     ]
    }
   ],
   "source": [
    "print(\"Unique cards before modification:\", cards['type'].unique().tolist())\n",
    "print(cards[['key', 'elixir', 'type']][:5])\n",
    "\n",
    "for row_index in cards.index:\n",
    "    if cards.loc[row_index, 'type'] == 'Troop':\n",
    "        if cards.loc[row_index, 'flying_height'] > 0:\n",
    "            cards.loc[row_index, 'type'] = 'Air_Troop'\n",
    "        else:\n",
    "            cards.loc[row_index, 'type'] = 'Ground_Troop'\n",
    "print(\"\")\n",
    "print(\"Unique cards after modification:\", sorted(cards['type'].unique()))\n",
    "print(cards[['key', 'elixir', 'type', 'rarity']][:5])"
   ]
  },
  {
   "cell_type": "code",
   "execution_count": 146,
   "metadata": {},
   "outputs": [
    {
     "name": "stdout",
     "output_type": "stream",
     "text": [
      "Cards after encoding: [0, 1, 2, 3]\n",
      "                 key  elixir type\n",
      "67     battle-healer       4    0\n",
      "68     skeleton-king       4    0\n",
      "69      archer-queen       5    0\n",
      "70     golden-knight       4    0\n",
      "71  skeleton-dragons       4    1\n",
      "72      mother-witch       4    0\n",
      "73    electro-spirit       1    0\n",
      "74     electro-giant       7    0\n",
      "75            cannon       3    2\n",
      "76        goblin-hut       5    2\n",
      "77            mortar       4    2\n",
      "78     inferno-tower       5    2\n",
      "79        bomb-tower       4    2\n"
     ]
    }
   ],
   "source": [
    "encoding_type = {'Ground_Troop': 0, 'Air_Troop': 1, 'Building': 2, 'Spell': 3}\n",
    "for row_index in cards.index:\n",
    "    cards.loc[row_index, 'type'] = encoding_type[cards.loc[row_index, 'type']]\n",
    "print(\"Cards after encoding:\", sorted(cards['type'].unique()))\n",
    "print(cards[['key', 'elixir', 'type']][67:80])"
   ]
  },
  {
   "cell_type": "markdown",
   "metadata": {},
   "source": [
    "### Troop Rarity"
   ]
  },
  {
   "cell_type": "markdown",
   "metadata": {},
   "source": [
    "Now, we will try to analyze the decks based on the rarity of cards. In the original data, we have 5 rarities of cards: \n",
    "- $Common$\n",
    "- $Rare$ \n",
    "- $Epic$ \n",
    "- $Legendary$ \n",
    "- $Champion$ \n"
   ]
  },
  {
   "cell_type": "code",
   "execution_count": 147,
   "metadata": {},
   "outputs": [
    {
     "name": "stdout",
     "output_type": "stream",
     "text": [
      "Unique cards before modification: [0, 1, 2, 3]\n",
      "       key  elixir  rarity\n",
      "0   knight       3  Common\n",
      "1  archers       3  Common\n",
      "2  goblins       2  Common\n",
      "3    giant       5    Rare\n",
      "4    pekka       7    Epic\n",
      "                 key  elixir type rarity\n",
      "67     battle-healer       4    0      1\n",
      "68     skeleton-king       4    0      4\n",
      "69      archer-queen       5    0      4\n",
      "70     golden-knight       4    0      4\n",
      "71  skeleton-dragons       4    1      0\n",
      "72      mother-witch       4    0      3\n",
      "73    electro-spirit       1    0      0\n",
      "74     electro-giant       7    0      2\n",
      "75            cannon       3    2      0\n",
      "76        goblin-hut       5    2      1\n",
      "77            mortar       4    2      0\n",
      "78     inferno-tower       5    2      1\n",
      "79        bomb-tower       4    2      1\n",
      "80     barbarian-hut       7    2      1\n",
      "81             tesla       4    2      0\n",
      "82  elixir-collector       6    2      1\n",
      "83             x-bow       6    2      2\n",
      "84         tombstone       3    2      1\n"
     ]
    }
   ],
   "source": [
    "print(\"Unique cards before modification:\", cards['type'].unique().tolist())\n",
    "print(cards[['key', 'elixir', 'rarity']][:5])\n",
    "encoding_rarity = {'Common': 0, 'Rare': 1, 'Epic': 2, 'Legendary': 3, 'Champion': 4}\n",
    "for row_index in cards.index:\n",
    "    cards.loc[row_index, 'rarity'] = encoding_rarity[cards.loc[row_index, 'rarity']]\n",
    "print(cards[['key', 'elixir', 'type', 'rarity']][67:85])"
   ]
  },
  {
   "cell_type": "markdown",
   "metadata": {},
   "source": [
    "### Troop Attack Grid"
   ]
  },
  {
   "cell_type": "markdown",
   "metadata": {},
   "source": [
    "Now, we will try to analyze the decks based on the attack grid of cards. In the original data, a card has two values which correspond to its ability to attack in the air or on the ground. Every card can either attack only on the ground or both air and ground but no card can attack only in the air. So, we will add a new category in the data which classifies the attack grid of the corresponding card as either:\n",
    "- $Ground$\n",
    "- $Both$\n",
    "\n",
    "This is a new feature to study so lets dive into it."
   ]
  },
  {
   "cell_type": "code",
   "execution_count": 148,
   "metadata": {},
   "outputs": [],
   "source": [
    "attack_range = []\n",
    "for row_index in cards.index:\n",
    "#     print(cards.loc[row_index])\n",
    "    if cards.loc[row_index, 'damage_air']:\n",
    "        attack_range.append('Both')\n",
    "    else:\n",
    "        attack_range.append('Ground')\n",
    "\n",
    "cards['attack_grid'] = attack_range\n",
    "print(cards[['key', 'elixir', 'type', 'rarity', 'attack_grid']][57:62])"
   ]
  },
  {
   "cell_type": "code",
   "execution_count": 150,
   "metadata": {},
   "outputs": [
    {
     "name": "stdout",
     "output_type": "stream",
     "text": [
      "Unique cards before modification: ['Ground' 'Both']\n",
      "       key  elixir attack_grid\n",
      "0   knight       3      Ground\n",
      "1  archers       3        Both\n",
      "2  goblins       2      Ground\n",
      "3    giant       5      Ground\n",
      "4    pekka       7      Ground\n",
      "                 key  elixir type attack_grid\n",
      "67     battle-healer       4    0           0\n",
      "68     skeleton-king       4    0           0\n",
      "69      archer-queen       5    0           1\n",
      "70     golden-knight       4    0           0\n",
      "71  skeleton-dragons       4    1           1\n",
      "72      mother-witch       4    0           1\n",
      "73    electro-spirit       1    0           1\n",
      "74     electro-giant       7    0           0\n"
     ]
    }
   ],
   "source": [
    "print(\"Unique cards before modification:\", cards['attack_grid'].unique())\n",
    "print(cards[['key', 'elixir', 'attack_grid']][:5])\n",
    "encoding_attack = {'Ground': 0, 'Both': 1}\n",
    "for row_index in cards.index:\n",
    "    cards.loc[row_index, 'attack_grid'] = encoding_attack[cards.loc[row_index, 'attack_grid']]\n",
    "print(cards[['key', 'elixir', 'type', 'attack_grid']][67:75])"
   ]
  },
  {
   "cell_type": "markdown",
   "metadata": {},
   "source": [
    "### Feature Analysis"
   ]
  },
  {
   "cell_type": "code",
   "execution_count": 151,
   "metadata": {},
   "outputs": [],
   "source": [
    "p1_t = []\n",
    "p2_t = []\n",
    "p1_r = []\n",
    "p2_r = []\n",
    "p1_a = []\n",
    "p2_a = []\n",
    "p_type_greater = []\n",
    "p_rarity_greater = []\n",
    "p_attack_greater = []\n",
    "\n",
    "for (p1,p2) in zip(p1_cards.index, p2_cards.index):\n",
    "    avg1_t = 0\n",
    "    avg2_t = 0\n",
    "    avg1_r = 0\n",
    "    avg2_r = 0\n",
    "    avg1_a = 0\n",
    "    avg2_a = 0\n",
    "    for i in range(8):\n",
    "        card1 = id_map[p1_cards.iloc[p1, i]]\n",
    "        card2 = id_map[p2_cards.iloc[p2, i]]\n",
    "\n",
    "        avg1_t += cards.at[card1,\"type\"]\n",
    "        avg2_t += cards.at[card2,\"type\"]\n",
    "        \n",
    "        avg1_r += cards.at[card1,\"rarity\"]\n",
    "        avg2_r += cards.at[card2,\"rarity\"]\n",
    "        \n",
    "        avg1_a += cards.at[card1,\"attack_grid\"]\n",
    "        avg2_a += cards.at[card2,\"attack_grid\"]\n",
    "        \n",
    "    # type average\n",
    "    avg1_t/=8.0\n",
    "    avg2_t/=8.0\n",
    "    p1_t.append(avg1_t)\n",
    "    p2_t.append(avg2_t)\n",
    "    if (avg1_t > avg2_t):\n",
    "        p_type_greater.append(1)\n",
    "    elif(avg1_t == avg2_t):\n",
    "        p_type_greater.append(0)\n",
    "    else:\n",
    "        p_type_greater.append(2)\n",
    "        \n",
    "    # rarity average\n",
    "    avg1_r/=8.0\n",
    "    avg2_r/=8.0\n",
    "    p1_r.append(avg1_r)\n",
    "    p2_r.append(avg2_r)\n",
    "    if (avg1_t > avg2_t):\n",
    "        p_rarity_greater.append(1)\n",
    "    elif(avg1_t == avg2_t):\n",
    "        p_rarity_greater.append(0)\n",
    "    else:\n",
    "        p_rarity_greater.append(2)\n",
    "    \n",
    "    # attack average\n",
    "    avg1_a/=8.0\n",
    "    avg2_a/=8.0\n",
    "    p1_a.append(avg1_a)\n",
    "    p2_a.append(avg2_a)\n",
    "    if (avg1_a > avg2_a):\n",
    "        p_attack_greater.append(1)\n",
    "    elif(avg1_a == avg2_a):\n",
    "        p_attack_greater.append(0)\n",
    "    else:\n",
    "        p_attack_greater.append(2)"
   ]
  },
  {
   "cell_type": "code",
   "execution_count": 152,
   "metadata": {},
   "outputs": [
    {
     "name": "stdout",
     "output_type": "stream",
     "text": [
      "     winner  p1_crowns  p2_crowns  p1_elixir  p2_elixir  p_elixir_greater  \\\n",
      "543       2          0          3      2.875      3.750                 2   \n",
      "544       2          0          3      2.875      4.000                 2   \n",
      "545       2          0          1      2.875      4.500                 2   \n",
      "546       1          1          0      2.875      3.625                 2   \n",
      "547       2          0          1      3.375      3.750                 2   \n",
      "548       2          0          2      3.375      3.500                 2   \n",
      "\n",
      "     p1_type  p2_type  p_type_greater  p1_rarity  p2_rarity  p_rarity_greater  \\\n",
      "543    1.000    1.000               0      1.375      1.625                 0   \n",
      "544    1.000    0.750               1      1.375      1.625                 1   \n",
      "545    1.000    1.000               0      1.375      1.625                 0   \n",
      "546    1.000    1.125               2      1.375      1.500                 2   \n",
      "547    1.375    0.750               1      0.875      1.625                 1   \n",
      "548    1.375    0.375               1      0.875      2.000                 1   \n",
      "\n",
      "     p1_attack  p2_attack  p_attack_greater  \n",
      "543      0.375      0.500                 2  \n",
      "544      0.375      0.375                 0  \n",
      "545      0.375      0.500                 2  \n",
      "546      0.375      0.500                 2  \n",
      "547      0.625      0.250                 1  \n",
      "548      0.625      0.250                 1  \n"
     ]
    }
   ],
   "source": [
    "battles['p1_type'] = p1_t\n",
    "battles['p2_type'] = p2_t\n",
    "battles['p_type_greater'] = p_type_greater\n",
    "battles['p1_rarity'] = p1_r\n",
    "battles['p2_rarity'] = p2_r\n",
    "battles['p_rarity_greater'] = p_type_greater\n",
    "battles['p1_attack'] = p1_a\n",
    "battles['p2_attack'] = p2_a\n",
    "battles['p_attack_greater'] = p_attack_greater\n",
    "df = battles[[\"winner\", \"p1_crowns\", \"p2_crowns\", \"p1_elixir\", \"p2_elixir\", \"p_elixir_greater\",\n",
    "             \"p1_type\", \"p2_type\", \"p_type_greater\", \"p1_rarity\", \"p2_rarity\", \"p_rarity_greater\", \n",
    "             \"p1_attack\", \"p2_attack\", \"p_attack_greater\"]]\n",
    "print(df[543:549])"
   ]
  },
  {
   "cell_type": "code",
   "execution_count": 153,
   "metadata": {},
   "outputs": [],
   "source": [
    "corr_var = df.corr()"
   ]
  },
  {
   "cell_type": "code",
   "execution_count": 154,
   "metadata": {
    "scrolled": false
   },
   "outputs": [
    {
     "data": {
      "image/png": "[encoded data removed]",
      "text/plain": [
       "<Figure size 1080x864 with 2 Axes>"
      ]
     },
     "metadata": {
      "needs_background": "light"
     },
     "output_type": "display_data"
    }
   ],
   "source": [
    "f = plt.figure(figsize=(15, 12))\n",
    "plt.imshow(np.abs(corr_var))\n",
    "plt.title('Correlation Matrix')\n",
    "plt.xticks(np.arange(df.shape[1]), df.columns, rotation=45)\n",
    "plt.yticks(np.arange(df.shape[1]), df.columns)\n",
    "plt.colorbar()\n",
    "plt.show()"
   ]
  },
  {
   "cell_type": "markdown",
   "metadata": {},
   "source": [
    "### Remark\n",
    "\n",
    "From this matrix we can see that there is a clear correlation between $p\\_type\\_greater$ and $p\\_rarity\\_greater$. This essentially means that the player who has more spells"
   ]
  },
  {
   "cell_type": "markdown",
   "metadata": {},
   "source": [
    "This time we add weights to the types and rarity of the cards and see if that gives a better relation."
   ]
  },
  {
   "cell_type": "code",
   "execution_count": 155,
   "metadata": {},
   "outputs": [
    {
     "name": "stdout",
     "output_type": "stream",
     "text": [
      "1.0\n",
      "1.0\n",
      "1.0\n"
     ]
    }
   ],
   "source": [
    "# finding the number of cards by class name for every feature\n",
    "nb_rarity = [0, 0, 0, 0, 0]\n",
    "nb_type = [0, 0, 0, 0]\n",
    "nb_attack = [0, 0]\n",
    "for row in cards.index:\n",
    "    nb_rarity[cards.loc[row, 'rarity']] += 1\n",
    "    nb_type[cards.loc[row, 'type']] += 1\n",
    "    nb_attack[cards.loc[row, 'attack_grid']] += 1\n",
    "    \n",
    "nb_rarity = [i/107.0 for i in nb_rarity]\n",
    "nb_type = [i/107.0 for i in nb_type]\n",
    "nb_attack = [i/107.0 for i in nb_attack]\n",
    "print(sum(nb_type))\n",
    "print(sum(nb_rarity))\n",
    "print(sum(nb_attack))"
   ]
  },
  {
   "cell_type": "code",
   "execution_count": 161,
   "metadata": {},
   "outputs": [
    {
     "name": "stdout",
     "output_type": "stream",
     "text": [
      "               key  elixir type rarity attack_grid\n",
      "57  flying-machine       4    1      1        Both\n",
      "58   wall-breakers       2    0      2      Ground\n",
      "59      royal-hogs       5    0      1      Ground\n",
      "60    goblin-giant       6    0      2      Ground\n",
      "61       fisherman       3    0      3      Ground\n",
      "                 key  elixir      type    rarity attack_grid\n",
      "67     battle-healer       4  0.121495  0.037383    0.448598\n",
      "68     skeleton-king       4  0.121495  0.261682    0.448598\n",
      "69      archer-queen       5  0.121495  0.261682    0.551402\n",
      "70     golden-knight       4  0.121495  0.261682    0.448598\n",
      "71  skeleton-dragons       4  0.598131  0.261682    0.551402\n",
      "Types of cards: [0.11214953271028037, 0.12149532710280374, 0.16822429906542055, 0.5981308411214953]  Sum:  1.0\n",
      "Rarity of cards: [0.037383177570093455, 0.16822429906542055, 0.2616822429906542, 0.27102803738317754]  Sum:  0.7383177570093458\n",
      "Attack of cards: [0.4485981308411215, 0.5514018691588785]  Sum:  1.0\n"
     ]
    }
   ],
   "source": [
    "# recasting all avergae data in the encoding maps\n",
    "for i, val in enumerate(sorted(encoding_rarity)):\n",
    "    encoding_rarity[val] = nb_rarity[i]\n",
    "    \n",
    "for i, val in enumerate(sorted(encoding_type)):\n",
    "    encoding_type[val] = nb_type[i]\n",
    "\n",
    "for i, val in enumerate(sorted(encoding_attack)):\n",
    "    encoding_attack[val] = nb_attack[i]\n",
    "\n",
    "# recasting the new\n",
    "# we need a temporary array for that\n",
    "cards_temp = pd.read_csv(\"data/cards.csv\")\n",
    "for row_index in cards_temp.index:\n",
    "    if cards_temp.loc[row_index, 'type'] == 'Troop':\n",
    "        if cards_temp.loc[row_index, 'flying_height'] > 0:\n",
    "            cards_temp.loc[row_index, 'type'] = 'Air_Troop'\n",
    "        else:\n",
    "            cards_temp.loc[row_index, 'type'] = 'Ground_Troop'\n",
    "        \n",
    "attack_range = []\n",
    "for row_index in cards.index:\n",
    "    if cards_temp.loc[row_index, 'damage_air']:\n",
    "        attack_range.append('Both')\n",
    "    else:\n",
    "        attack_range.append('Ground')\n",
    "\n",
    "cards_temp['attack_grid'] = attack_range\n",
    "print(cards[['key', 'elixir', 'type', 'rarity', 'attack_grid']][57:62])\n",
    "for row_index in cards.index:\n",
    "    cards.loc[row_index, 'rarity'] = encoding_rarity[cards_temp.loc[row_index, 'rarity']]\n",
    "    cards.loc[row_index, 'type'] = encoding_type[cards_temp.loc[row_index, 'type']]\n",
    "    cards.loc[row_index, 'attack_grid'] = encoding_attack[cards_temp.loc[row_index, 'attack_grid']]\n",
    "    \n",
    "print(cards[['key', 'elixir', 'type', 'rarity', 'attack_grid']][67:72])\n",
    "print(\"Types of cards:\", sorted(cards['type'].unique()), \" Sum: \", sum(cards['type'].unique()))\n",
    "print(\"Rarity of cards:\", sorted(cards['rarity'].unique()), \" Sum: \", sum(cards['rarity'].unique()))\n",
    "print(\"Attack of cards:\", sorted(cards['attack_grid'].unique()), \" Sum: \", sum(cards['attack_grid'].unique()))"
   ]
  },
  {
   "cell_type": "code",
   "execution_count": 165,
   "metadata": {},
   "outputs": [],
   "source": [
    "# weighted average over all readings\n",
    "p1_tw = []\n",
    "p2_tw = []\n",
    "p1_rw = []\n",
    "p2_rw = []\n",
    "p1_aw = []\n",
    "p2_aw = []\n",
    "p_type_greater = []\n",
    "p_rarity_greater = []\n",
    "p_attack_greater = []\n",
    "\n",
    "for (p1,p2) in zip(p1_cards.index, p2_cards.index):\n",
    "    avg1_tw = 0\n",
    "    avg2_tw = 0\n",
    "    avg1_rw = 0\n",
    "    avg2_rw = 0\n",
    "    avg1_aw = 0\n",
    "    avg2_aw = 0\n",
    "    for i in range(8):\n",
    "        card1 = id_map[p1_cards.iloc[p1, i]]\n",
    "        card2 = id_map[p2_cards.iloc[p2, i]]\n",
    "\n",
    "        avg1_tw += cards.at[card1,\"type\"]\n",
    "        avg2_tw += cards.at[card2,\"type\"]\n",
    "        \n",
    "        avg1_rw += cards.at[card1,\"rarity\"]\n",
    "        avg2_rw += cards.at[card2,\"rarity\"]\n",
    "        \n",
    "        avg1_aw += cards.at[card1,\"attack_grid\"]\n",
    "        avg2_aw += cards.at[card2,\"attack_grid\"]\n",
    "        \n",
    "    avg1_tw/=8.0\n",
    "    avg2_tw/=8.0\n",
    "    p1_tw.append(avg1_tw)\n",
    "    p2_tw.append(avg2_tw)\n",
    "    if (avg1_tw > avg2_tw):\n",
    "        p_type_greater.append(1)\n",
    "    elif(avg1_tw == avg2_tw):\n",
    "        p_type_greater.append(0)\n",
    "    else:\n",
    "        p_type_greater.append(2)\n",
    "        \n",
    "    avg1_rw/=8.0\n",
    "    avg2_rw/=8.0\n",
    "    p1_rw.append(avg1_rw)\n",
    "    p2_rw.append(avg2_rw)\n",
    "    if (avg1_tw > avg2_tw):\n",
    "        p_rarity_greater.append(1)\n",
    "    elif(avg1_tw == avg2_tw):\n",
    "        p_rarity_greater.append(0)\n",
    "    else:\n",
    "        p_rarity_greater.append(2)\n",
    "        \n",
    "    avg1_aw/=8.0\n",
    "    avg2_aw/=8.0\n",
    "    p1_aw.append(avg1_aw)\n",
    "    p2_aw.append(avg2_aw)\n",
    "    if (avg1_aw > avg2_aw):\n",
    "        p_attack_greater.append(1)\n",
    "    elif(avg1_aw == avg2_aw):\n",
    "        p_attack_greater.append(0)\n",
    "    else:\n",
    "        p_attack_greater.append(2)"
   ]
  },
  {
   "cell_type": "code",
   "execution_count": 170,
   "metadata": {},
   "outputs": [
    {
     "name": "stdout",
     "output_type": "stream",
     "text": [
      "     winner  p1_crowns  p2_crowns  p1_elixir  p2_elixir  p_elixir_greater  \\\n",
      "543       2          0          3      2.875      3.750                 2   \n",
      "544       2          0          3      2.875      4.000                 2   \n",
      "545       2          0          1      2.875      4.500                 2   \n",
      "546       1          1          0      2.875      3.625                 2   \n",
      "547       2          0          1      3.375      3.750                 2   \n",
      "548       2          0          2      3.375      3.500                 2   \n",
      "\n",
      "     p1_type  p2_type  p_type_greater  p1_wtype  ...  p_w_rarity_greater  \\\n",
      "543    1.000    1.000               0  0.132009  ...                   2   \n",
      "544    1.000    0.750               1  0.132009  ...                   2   \n",
      "545    1.000    1.000               0  0.132009  ...                   0   \n",
      "546    1.000    1.125               2  0.132009  ...                   2   \n",
      "547    1.375    0.750               1  0.137850  ...                   1   \n",
      "548    1.375    0.375               1  0.137850  ...                   1   \n",
      "\n",
      "     p1_rarity  p2_rarity  p_rarity_greater  p1_wattack  p2_wattack  \\\n",
      "543      1.375      1.625                 0     0.48715    0.500000   \n",
      "544      1.375      1.625                 1     0.48715    0.487150   \n",
      "545      1.375      1.625                 0     0.48715    0.500000   \n",
      "546      1.375      1.500                 2     0.48715    0.500000   \n",
      "547      0.875      1.625                 1     0.51285    0.474299   \n",
      "548      0.875      2.000                 1     0.51285    0.474299   \n",
      "\n",
      "     p_w_attack_greater  p1_attack  p2_attack  p_attack_greater  \n",
      "543                   2      0.375      0.500                 2  \n",
      "544                   0      0.375      0.375                 0  \n",
      "545                   2      0.375      0.500                 2  \n",
      "546                   2      0.375      0.500                 2  \n",
      "547                   1      0.625      0.250                 1  \n",
      "548                   1      0.625      0.250                 1  \n",
      "\n",
      "[6 rows x 24 columns]\n"
     ]
    }
   ],
   "source": [
    "battles['p1_wtype'] = p1_tw\n",
    "battles['p2_wtype'] = p2_tw\n",
    "battles['p_w_type_greater'] = p_type_greater\n",
    "battles['p1_wrarity'] = p1_rw\n",
    "battles['p2_wrarity'] = p2_rw\n",
    "battles['p_w_rarity_greater'] = p_type_greater\n",
    "battles['p1_wattack'] = p1_aw\n",
    "battles['p2_wattack'] = p2_aw\n",
    "battles['p_w_attack_greater'] = p_attack_greater\n",
    "df = battles[[\"winner\", \"p1_crowns\", \"p2_crowns\", \"p1_elixir\", \"p2_elixir\", \"p_elixir_greater\",\n",
    "             \"p1_type\", \"p2_type\", \"p_type_greater\", \"p1_wtype\", \"p2_wtype\", \"p_w_type_greater\", \n",
    "              \"p1_wrarity\", \"p2_wrarity\", \"p_w_rarity_greater\",  \"p1_rarity\", \"p2_rarity\", \"p_rarity_greater\",\n",
    "             \"p1_wattack\", \"p2_wattack\", \"p_w_attack_greater\", \"p1_attack\", \"p2_attack\", \"p_attack_greater\"]]\n",
    "print(df[543:549])"
   ]
  },
  {
   "cell_type": "code",
   "execution_count": 171,
   "metadata": {},
   "outputs": [],
   "source": [
    "corr_wvar = df.corr()"
   ]
  },
  {
   "cell_type": "code",
   "execution_count": 172,
   "metadata": {
    "scrolled": false
   },
   "outputs": [
    {
     "data": {
      "image/png": "[encoded data removed]",
      "text/plain": [
       "<Figure size 1080x864 with 2 Axes>"
      ]
     },
     "metadata": {
      "needs_background": "light"
     },
     "output_type": "display_data"
    }
   ],
   "source": [
    "f = plt.figure(figsize=(15, 12))\n",
    "plt.imshow(np.abs(corr_wvar))\n",
    "plt.title('Correlation Matrix')\n",
    "plt.xticks(np.arange(df.shape[1]), df.columns, rotation=45)\n",
    "plt.yticks(np.arange(df.shape[1]), df.columns)\n",
    "plt.colorbar()\n",
    "plt.show()"
   ]
  },
  {
   "cell_type": "markdown",
   "metadata": {},
   "source": []
  },
  {
   "cell_type": "markdown",
   "metadata": {},
   "source": [
    "### c. Basic Algorithms:\n",
    "In the following cells we do the following:\n",
    "1. We first encode each players' deck into $1 \\times 106$ vectors, where $V_i = 1$ if the $i^{th}$ card is in the deck, $0$ otherwise. This seems to be a better choice than one-hot encoding, as there are $\\begin{pmatrix}106 \\\\ 8 \\end{pmatrix} \\approx 3 \\times 10^{11}$ possible choices of decks.\n",
    "2. We then split the whole data set into training sets and test sets for supervised classification. We also keep a list of all decks choice people used to see if unsupervised learning give us some better insights into the data set.\n",
    "3. We then apply some well-known simple Classification methods (e.g KNN, Decsion Trees, etc.) to see if we get a good result."
   ]
  },
  {
   "cell_type": "code",
   "execution_count": null,
   "metadata": {
    "execution": {
     "iopub.execute_input": "2022-04-16T08:53:15.305738Z",
     "iopub.status.busy": "2022-04-16T08:53:15.305483Z",
     "iopub.status.idle": "2022-04-16T08:53:23.469373Z",
     "shell.execute_reply": "2022-04-16T08:53:23.468609Z",
     "shell.execute_reply.started": "2022-04-16T08:53:15.30571Z"
    },
    "vscode": {
     "languageId": "python"
    }
   },
   "outputs": [],
   "source": [
    "from sklearn.model_selection import train_test_split\n",
    "df = battles[(battles['p1_trophy'] < 2700) & (battles['p1_trophy'] > 600)]\n",
    "\n",
    "y_train = df['winner']\n",
    "x_train, decks = [], []\n",
    "\n",
    "# we first combine the DataFrame into 1x106 vectors, where V[i] = 1 if the ith card is in the deck\n",
    "# this \n",
    "for i in df.index:\n",
    "    p1 = np.zeros(107)\n",
    "    p2 = np.zeros(107)\n",
    "    for j in range(0, 8):\n",
    "        p1[id_map[df[f'p1_card_{j}_id'][i]]] = 1\n",
    "        p2[id_map[df[f'p2_card_{j}_id'][i]]] = 1\n",
    "    decks.append(p1)\n",
    "    decks.append(p2)\n",
    "    x_train.append(np.concatenate((p1, p2)))\n",
    "    \n",
    "x_train = np.array(x_train)\n",
    "decks = np.array(decks)\n",
    "y_train = df['winner']\n",
    "\n",
    "x_train, x_test, y_train, y_test = train_test_split(x_train, y_train, test_size=0.2, random_state=6233)\n",
    "# d_train, d_test = train_test_split(decks, test_size=0.2, random_state=47483)"
   ]
  },
  {
   "cell_type": "code",
   "execution_count": null,
   "metadata": {},
   "outputs": [],
   "source": [
    "df.columns"
   ]
  },
  {
   "cell_type": "code",
   "execution_count": null,
   "metadata": {},
   "outputs": [],
   "source": [
    "df.describe()"
   ]
  },
  {
   "cell_type": "code",
   "execution_count": null,
   "metadata": {
    "execution": {
     "iopub.execute_input": "2022-04-11T17:04:12.878803Z",
     "iopub.status.busy": "2022-04-11T17:04:12.878117Z",
     "iopub.status.idle": "2022-04-11T17:04:13.121267Z",
     "shell.execute_reply": "2022-04-11T17:04:13.120345Z",
     "shell.execute_reply.started": "2022-04-11T17:04:12.878762Z"
    },
    "vscode": {
     "languageId": "python"
    }
   },
   "outputs": [],
   "source": [
    "from sklearn.tree import DecisionTreeClassifier\n",
    "from sklearn.neighbors import KNeighborsClassifier\n",
    "from sklearn.ensemble import AdaBoostClassifier, BaggingClassifier, ExtraTreesClassifier, RandomForestClassifier"
   ]
  },
  {
   "cell_type": "code",
   "execution_count": null,
   "metadata": {
    "execution": {
     "iopub.execute_input": "2022-04-11T17:04:13.123753Z",
     "iopub.status.busy": "2022-04-11T17:04:13.123428Z",
     "iopub.status.idle": "2022-04-11T17:05:08.994533Z",
     "shell.execute_reply": "2022-04-11T17:05:08.993383Z",
     "shell.execute_reply.started": "2022-04-11T17:04:13.123713Z"
    },
    "vscode": {
     "languageId": "python"
    }
   },
   "outputs": [],
   "source": [
    "knn = KNeighborsClassifier(n_neighbors=5)\n",
    "knn.fit(x_train, y_train)\n",
    "print('Training accuracy:\\t', knn.score(x_train, y_train))\n",
    "print('Testing accuracy:\\t', knn.score(x_test, y_test))"
   ]
  },
  {
   "cell_type": "code",
   "execution_count": null,
   "metadata": {
    "execution": {
     "iopub.execute_input": "2022-04-11T17:05:08.996554Z",
     "iopub.status.busy": "2022-04-11T17:05:08.996121Z",
     "iopub.status.idle": "2022-04-11T17:05:08.999825Z",
     "shell.execute_reply": "2022-04-11T17:05:08.99906Z",
     "shell.execute_reply.started": "2022-04-11T17:05:08.996517Z"
    },
    "vscode": {
     "languageId": "python"
    }
   },
   "outputs": [],
   "source": [
    "ada = AdaBoostClassifier(DecisionTreeClassifier(max_depth=20))\n",
    "ada.fit(x_train, y_train)\n",
    "print('Training accuracy:\\t', ada.score(x_train, y_train))\n",
    "print('Testing accuracy:\\t', ada.score(x_test, y_test))"
   ]
  },
  {
   "cell_type": "code",
   "execution_count": null,
   "metadata": {
    "execution": {
     "iopub.execute_input": "2022-04-11T17:05:09.002721Z",
     "iopub.status.busy": "2022-04-11T17:05:09.00216Z",
     "iopub.status.idle": "2022-04-11T17:05:19.560104Z",
     "shell.execute_reply": "2022-04-11T17:05:19.559098Z",
     "shell.execute_reply.started": "2022-04-11T17:05:09.002686Z"
    },
    "vscode": {
     "languageId": "python"
    }
   },
   "outputs": [],
   "source": [
    "bagging = BaggingClassifier(DecisionTreeClassifier(max_depth=20))\n",
    "bagging.fit(x_train, y_train)\n",
    "print('Training accuracy:\\t', bagging.score(x_train, y_train))\n",
    "print('Testing accuracy:\\t', bagging.score(x_test, y_test))"
   ]
  },
  {
   "cell_type": "code",
   "execution_count": null,
   "metadata": {
    "execution": {
     "iopub.execute_input": "2022-04-11T17:05:19.561681Z",
     "iopub.status.busy": "2022-04-11T17:05:19.561406Z",
     "iopub.status.idle": "2022-04-11T17:05:35.384486Z",
     "shell.execute_reply": "2022-04-11T17:05:35.383316Z",
     "shell.execute_reply.started": "2022-04-11T17:05:19.561651Z"
    },
    "vscode": {
     "languageId": "python"
    }
   },
   "outputs": [],
   "source": [
    "extra = ExtraTreesClassifier(max_depth=20)\n",
    "extra.fit(x_train, y_train)\n",
    "print('Training accuracy:\\t', extra.score(x_train, y_train))\n",
    "print('Testing accuracy:\\t', extra.score(x_test, y_test))"
   ]
  },
  {
   "cell_type": "code",
   "execution_count": null,
   "metadata": {
    "execution": {
     "iopub.execute_input": "2022-04-11T17:05:35.386026Z",
     "iopub.status.busy": "2022-04-11T17:05:35.3858Z",
     "iopub.status.idle": "2022-04-11T17:05:46.258677Z",
     "shell.execute_reply": "2022-04-11T17:05:46.257807Z",
     "shell.execute_reply.started": "2022-04-11T17:05:35.385999Z"
    },
    "vscode": {
     "languageId": "python"
    }
   },
   "outputs": [],
   "source": [
    "rf = RandomForestClassifier(max_depth=20)\n",
    "rf.fit(x_train, y_train)\n",
    "print('Training accuracy:\\t', rf.score(x_train, y_train))\n",
    "print('Testing accuracy:\\t', rf.score(x_test, y_test))"
   ]
  },
  {
   "cell_type": "markdown",
   "metadata": {},
   "source": [
    "#### Remarks:\n",
    "Unfortunately, our models does not seem to have a good predictions overall (the score is only a bit better than random guessing). In the following parts of the notebook, we are going to see if we could obtain a better fit on this dataset."
   ]
  },
  {
   "cell_type": "markdown",
   "metadata": {},
   "source": [
    "## 4. Decks Analysis:\n",
    "Let us dig deeper into the dataset by analyzing the decks, which seems to be most correlated.\n",
    "\n",
    "We first visualize the correlation matrix (now with the new encoding)."
   ]
  },
  {
   "cell_type": "code",
   "execution_count": null,
   "metadata": {
    "execution": {
     "iopub.execute_input": "2022-04-11T17:05:46.260684Z",
     "iopub.status.busy": "2022-04-11T17:05:46.260308Z",
     "iopub.status.idle": "2022-04-11T17:05:46.746082Z",
     "shell.execute_reply": "2022-04-11T17:05:46.745358Z",
     "shell.execute_reply.started": "2022-04-11T17:05:46.260629Z"
    },
    "vscode": {
     "languageId": "python"
    }
   },
   "outputs": [],
   "source": [
    "d_corr = np.corrcoef(decks.T)\n",
    "f = plt.figure(figsize=(16, 12))\n",
    "plt.imshow(np.abs(d_corr))\n",
    "plt.title('Correlation Matrix')\n",
    "plt.colorbar()\n",
    "plt.show()"
   ]
  },
  {
   "cell_type": "markdown",
   "metadata": {},
   "source": [
    "#### Remarks:\n",
    "We want to observe which pairs have the highest synergy. The following cells sets all correlation under the diagonal to 0, and sort them by value."
   ]
  },
  {
   "cell_type": "code",
   "execution_count": null,
   "metadata": {
    "execution": {
     "iopub.execute_input": "2022-04-11T17:05:46.747154Z",
     "iopub.status.busy": "2022-04-11T17:05:46.746964Z",
     "iopub.status.idle": "2022-04-11T17:05:47.098894Z",
     "shell.execute_reply": "2022-04-11T17:05:47.098073Z",
     "shell.execute_reply.started": "2022-04-11T17:05:46.747129Z"
    },
    "vscode": {
     "languageId": "python"
    }
   },
   "outputs": [],
   "source": [
    "d_corr_u = np.triu(d_corr, k=1)\n",
    "d_corr_u\n",
    "f = plt.figure(figsize=(16, 12))\n",
    "plt.imshow(np.abs(d_corr_u))\n",
    "plt.title('Correlation Matrix')\n",
    "plt.colorbar()\n",
    "plt.show()"
   ]
  },
  {
   "cell_type": "code",
   "execution_count": null,
   "metadata": {
    "execution": {
     "iopub.execute_input": "2022-04-11T17:05:47.101113Z",
     "iopub.status.busy": "2022-04-11T17:05:47.100197Z",
     "iopub.status.idle": "2022-04-11T17:05:47.108765Z",
     "shell.execute_reply": "2022-04-11T17:05:47.107744Z",
     "shell.execute_reply.started": "2022-04-11T17:05:47.101064Z"
    },
    "vscode": {
     "languageId": "python"
    }
   },
   "outputs": [],
   "source": [
    "id_map_inv = {}\n",
    "for i in id_map:\n",
    "    id_map_inv[id_map[i]] = i\n",
    "d_corr_flat = d_corr_u.flatten()\n",
    "d_corr_argsort = np.argsort(d_corr_flat)\n",
    "d_corr_high = [(x // 106, x % 106, d_corr_flat[x]) for x in d_corr_argsort[:-31:-1]]\n",
    "d_corr_low = [(x // 106, x % 106, d_corr_flat[x]) for x in d_corr_argsort[:30]]"
   ]
  },
  {
   "cell_type": "code",
   "execution_count": 66,
   "metadata": {
    "execution": {
     "iopub.execute_input": "2022-04-11T17:05:47.110248Z",
     "iopub.status.busy": "2022-04-11T17:05:47.110033Z",
     "iopub.status.idle": "2022-04-11T17:05:47.128157Z",
     "shell.execute_reply": "2022-04-11T17:05:47.127084Z",
     "shell.execute_reply.started": "2022-04-11T17:05:47.110222Z"
    },
    "vscode": {
     "languageId": "python"
    }
   },
   "outputs": [
    {
     "ename": "NameError",
     "evalue": "name 'd_corr_high' is not defined",
     "output_type": "error",
     "traceback": [
      "\u001b[1;31m---------------------------------------------------------------------------\u001b[0m",
      "\u001b[1;31mNameError\u001b[0m                                 Traceback (most recent call last)",
      "\u001b[1;32m~\\AppData\\Local\\Temp/ipykernel_73020/1996474440.py\u001b[0m in \u001b[0;36m<module>\u001b[1;34m\u001b[0m\n\u001b[1;32m----> 1\u001b[1;33m \u001b[1;33m[\u001b[0m\u001b[1;33m(\u001b[0m\u001b[0mcards\u001b[0m\u001b[1;33m[\u001b[0m\u001b[0mid_map\u001b[0m\u001b[1;33m[\u001b[0m\u001b[0mx\u001b[0m\u001b[1;33m]\u001b[0m\u001b[1;33m]\u001b[0m\u001b[1;33m,\u001b[0m \u001b[0mcards\u001b[0m\u001b[1;33m[\u001b[0m\u001b[0mid_map\u001b[0m\u001b[1;33m[\u001b[0m\u001b[0my\u001b[0m\u001b[1;33m]\u001b[0m\u001b[1;33m]\u001b[0m\u001b[1;33m,\u001b[0m \u001b[0mz\u001b[0m\u001b[1;33m)\u001b[0m \u001b[1;32mfor\u001b[0m \u001b[1;33m(\u001b[0m\u001b[0mx\u001b[0m\u001b[1;33m,\u001b[0m \u001b[0my\u001b[0m\u001b[1;33m,\u001b[0m \u001b[0mz\u001b[0m\u001b[1;33m)\u001b[0m \u001b[1;32min\u001b[0m \u001b[0md_corr_high\u001b[0m\u001b[1;33m]\u001b[0m\u001b[1;33m\u001b[0m\u001b[1;33m\u001b[0m\u001b[0m\n\u001b[0m",
      "\u001b[1;31mNameError\u001b[0m: name 'd_corr_high' is not defined"
     ]
    }
   ],
   "source": [
    "[(cards[id_map[x]], cards[id_map[y]], z) for (x, y, z) in d_corr_high]"
   ]
  },
  {
   "cell_type": "code",
   "execution_count": null,
   "metadata": {
    "execution": {
     "iopub.execute_input": "2022-04-11T17:05:47.129982Z",
     "iopub.status.busy": "2022-04-11T17:05:47.129603Z",
     "iopub.status.idle": "2022-04-11T17:05:47.145753Z",
     "shell.execute_reply": "2022-04-11T17:05:47.144842Z",
     "shell.execute_reply.started": "2022-04-11T17:05:47.129938Z"
    },
    "vscode": {
     "languageId": "python"
    }
   },
   "outputs": [],
   "source": [
    "[(cards[x], cards[y], z) for (x, y, z) in d_corr_low]"
   ]
  },
  {
   "cell_type": "markdown",
   "metadata": {},
   "source": [
    "#### Remarks:\n",
    "We observe that these card pairs are very common in the strongest decks (from https://www.deckshop.pro/)."
   ]
  },
  {
   "cell_type": "markdown",
   "metadata": {},
   "source": [
    "## 5. A deeper look at Outcome:\n",
    "### a. Applying PCA:"
   ]
  },
  {
   "cell_type": "code",
   "execution_count": null,
   "metadata": {
    "execution": {
     "iopub.execute_input": "2022-04-11T17:05:47.147843Z",
     "iopub.status.busy": "2022-04-11T17:05:47.146905Z",
     "iopub.status.idle": "2022-04-11T17:05:48.973694Z",
     "shell.execute_reply": "2022-04-11T17:05:48.972717Z",
     "shell.execute_reply.started": "2022-04-11T17:05:47.147801Z"
    },
    "vscode": {
     "languageId": "python"
    }
   },
   "outputs": [],
   "source": [
    "data = np.copy(x_train).T.tolist()\n",
    "data.append(y_train)\n",
    "data = np.array(data)"
   ]
  },
  {
   "cell_type": "code",
   "execution_count": null,
   "metadata": {
    "execution": {
     "iopub.execute_input": "2022-04-11T17:05:48.975577Z",
     "iopub.status.busy": "2022-04-11T17:05:48.975123Z",
     "iopub.status.idle": "2022-04-11T17:05:49.484582Z",
     "shell.execute_reply": "2022-04-11T17:05:49.483679Z",
     "shell.execute_reply.started": "2022-04-11T17:05:48.975531Z"
    },
    "vscode": {
     "languageId": "python"
    }
   },
   "outputs": [],
   "source": [
    "corr = np.corrcoef(data)\n",
    "f = plt.figure(figsize=(16, 12))\n",
    "plt.imshow(np.abs(corr))\n",
    "plt.title('Correlation Matrix')\n",
    "plt.colorbar()\n",
    "plt.show()"
   ]
  },
  {
   "cell_type": "code",
   "execution_count": null,
   "metadata": {
    "execution": {
     "iopub.execute_input": "2022-04-11T17:05:49.48611Z",
     "iopub.status.busy": "2022-04-11T17:05:49.485853Z",
     "iopub.status.idle": "2022-04-11T17:05:50.62099Z",
     "shell.execute_reply": "2022-04-11T17:05:50.619965Z",
     "shell.execute_reply.started": "2022-04-11T17:05:49.486079Z"
    },
    "vscode": {
     "languageId": "python"
    }
   },
   "outputs": [],
   "source": [
    "from sklearn.decomposition import PCA\n",
    "pca = PCA(n_components=5)\n",
    "x_train_pca = pca.fit_transform(x_train)"
   ]
  },
  {
   "cell_type": "code",
   "execution_count": null,
   "metadata": {
    "execution": {
     "iopub.execute_input": "2022-04-11T17:05:50.623672Z",
     "iopub.status.busy": "2022-04-11T17:05:50.622841Z",
     "iopub.status.idle": "2022-04-11T17:05:51.032909Z",
     "shell.execute_reply": "2022-04-11T17:05:51.031577Z",
     "shell.execute_reply.started": "2022-04-11T17:05:50.623616Z"
    },
    "vscode": {
     "languageId": "python"
    }
   },
   "outputs": [],
   "source": [
    "data = np.copy(x_train_pca).T.tolist()\n",
    "data.append(y_train)\n",
    "data = np.array(data)\n",
    "corr = np.corrcoef(data)\n",
    "f = plt.figure(figsize=(16, 12))\n",
    "plt.imshow(np.abs(corr))\n",
    "plt.title('Correlation Matrix')\n",
    "plt.colorbar()\n",
    "plt.show()"
   ]
  },
  {
   "cell_type": "code",
   "execution_count": null,
   "metadata": {
    "execution": {
     "iopub.execute_input": "2022-04-11T17:05:51.03473Z",
     "iopub.status.busy": "2022-04-11T17:05:51.034404Z",
     "iopub.status.idle": "2022-04-11T17:05:52.731216Z",
     "shell.execute_reply": "2022-04-11T17:05:52.730356Z",
     "shell.execute_reply.started": "2022-04-11T17:05:51.03469Z"
    },
    "vscode": {
     "languageId": "python"
    }
   },
   "outputs": [],
   "source": [
    "fig = plt.figure()\n",
    "ax = fig.add_subplot(projection='3d')\n",
    "ax.scatter(x_train_pca[:,0].flatten(), x_train_pca[:, 1].flatten(), x_train_pca[:, 2].flatten(), c = y_train.tolist())"
   ]
  },
  {
   "cell_type": "code",
   "execution_count": null,
   "metadata": {
    "execution": {
     "iopub.execute_input": "2022-04-11T17:05:52.732699Z",
     "iopub.status.busy": "2022-04-11T17:05:52.732488Z",
     "iopub.status.idle": "2022-04-11T17:05:54.569673Z",
     "shell.execute_reply": "2022-04-11T17:05:54.568778Z",
     "shell.execute_reply.started": "2022-04-11T17:05:52.732672Z"
    },
    "vscode": {
     "languageId": "python"
    }
   },
   "outputs": [],
   "source": [
    "plt.scatter(x_train_pca[:,0].flatten(), x_train_pca[:, 1].flatten(), c = y_train.tolist())"
   ]
  },
  {
   "cell_type": "code",
   "execution_count": null,
   "metadata": {
    "execution": {
     "iopub.execute_input": "2022-04-11T17:05:54.571291Z",
     "iopub.status.busy": "2022-04-11T17:05:54.571042Z",
     "iopub.status.idle": "2022-04-11T17:05:54.575729Z",
     "shell.execute_reply": "2022-04-11T17:05:54.574808Z",
     "shell.execute_reply.started": "2022-04-11T17:05:54.571261Z"
    },
    "vscode": {
     "languageId": "python"
    }
   },
   "outputs": [],
   "source": [
    "ada = AdaBoostClassifier(DecisionTreeClassifier(max_depth=20))\n",
    "ada.fit(x_train_pca, y_train)\n",
    "print('Training accuracy:\\t', ada.score(x_train_pca, y_train))\n",
    "print('Testing accuracy:\\t', ada.score(pca.transform(x_test), y_test))"
   ]
  },
  {
   "cell_type": "code",
   "execution_count": null,
   "metadata": {
    "execution": {
     "iopub.execute_input": "2022-04-11T17:05:54.577557Z",
     "iopub.status.busy": "2022-04-11T17:05:54.577078Z",
     "iopub.status.idle": "2022-04-11T17:05:57.033118Z",
     "shell.execute_reply": "2022-04-11T17:05:57.03219Z",
     "shell.execute_reply.started": "2022-04-11T17:05:54.577522Z"
    },
    "vscode": {
     "languageId": "python"
    }
   },
   "outputs": [],
   "source": [
    "extra = ExtraTreesClassifier(max_depth=20)\n",
    "extra.fit(x_train_pca, y_train)\n",
    "print('Training accuracy:\\t', extra.score(x_train_pca, y_train))\n",
    "print('Testing accuracy:\\t', extra.score(pca.transform(x_test), y_test))"
   ]
  },
  {
   "cell_type": "code",
   "execution_count": null,
   "metadata": {
    "execution": {
     "iopub.execute_input": "2022-04-11T17:05:54.577557Z",
     "iopub.status.busy": "2022-04-11T17:05:54.577078Z",
     "iopub.status.idle": "2022-04-11T17:05:57.033118Z",
     "shell.execute_reply": "2022-04-11T17:05:57.03219Z",
     "shell.execute_reply.started": "2022-04-11T17:05:54.577522Z"
    },
    "vscode": {
     "languageId": "python"
    }
   },
   "outputs": [],
   "source": [
    "rf = RandomForestClassifier(max_depth=20)\n",
    "rf.fit(x_train_pca, y_train)\n",
    "print('Training accuracy:\\t', rf.score(x_train_pca, y_train))\n",
    "print('Testing accuracy:\\t', rf.score(pca.transform(x_test), y_test))"
   ]
  },
  {
   "cell_type": "code",
   "execution_count": null,
   "metadata": {},
   "outputs": [],
   "source": [
    "from sklearn.naive_bayes import GaussianNB\n",
    "gnb = GaussianNB()\n",
    "gnb.fit(x_train, y_train)\n",
    "print('Training accuracy:\\t', gnb.score(x_train, y_train))\n",
    "print('Testing accuracy:\\t', gnb.score(x_test, y_test))"
   ]
  },
  {
   "cell_type": "markdown",
   "metadata": {},
   "source": [
    "### b. How about Neural Network?\n",
    "Let's try to see if we can instead obtain a good score using Neural Network. \n",
    "\n",
    "We first try a naive Neural Network, with all layers are dense, and two Dropouts."
   ]
  },
  {
   "cell_type": "code",
   "execution_count": null,
   "metadata": {},
   "outputs": [],
   "source": [
    "y_train"
   ]
  },
  {
   "cell_type": "code",
   "execution_count": null,
   "metadata": {
    "execution": {
     "iopub.execute_input": "2022-04-11T14:46:27.929142Z",
     "iopub.status.busy": "2022-04-11T14:46:27.928882Z",
     "iopub.status.idle": "2022-04-11T14:47:30.390092Z",
     "shell.execute_reply": "2022-04-11T14:47:30.389088Z",
     "shell.execute_reply.started": "2022-04-11T14:46:27.929111Z"
    },
    "vscode": {
     "languageId": "python"
    }
   },
   "outputs": [],
   "source": [
    "from tensorflow import keras\n",
    "nn = keras.Sequential([\n",
    "    keras.layers.Dense(128, activation='relu'),\n",
    "    keras.layers.Dense(32, activation='tanh'),\n",
    "    keras.layers.Dropout(0.2),\n",
    "    keras.layers.BatchNormalization(),\n",
    "    keras.layers.Dense(16, activation='relu'),\n",
    "    keras.layers.Dropout(0.2),\n",
    "    keras.layers.BatchNormalization(),\n",
    "    keras.layers.Dense(4, activation='relu'),\n",
    "    keras.layers.Dense(1, activation='sigmoid'),\n",
    "])\n",
    "early_stopping = keras.callbacks.EarlyStopping(monitor='loss', patience=2)\n",
    "nn.compile(\n",
    "    optimizer=keras.optimizers.SGD(learning_rate=0.0001),\n",
    "    loss=\"binary_crossentropy\",\n",
    "    metrics=['accuracy'],\n",
    ")\n",
    "nn.fit(x_train, y_train-1, validation_split=0.1, epochs=10, batch_size=16, callbacks=[early_stopping])"
   ]
  },
  {
   "cell_type": "code",
   "execution_count": null,
   "metadata": {
    "execution": {
     "iopub.execute_input": "2022-04-11T15:16:56.237401Z",
     "iopub.status.busy": "2022-04-11T15:16:56.237152Z",
     "iopub.status.idle": "2022-04-11T15:16:56.258959Z",
     "shell.execute_reply": "2022-04-11T15:16:56.257895Z",
     "shell.execute_reply.started": "2022-04-11T15:16:56.23737Z"
    },
    "vscode": {
     "languageId": "python"
    }
   },
   "outputs": [],
   "source": [
    "nn.evaluate(x_test, y_test-1)"
   ]
  },
  {
   "cell_type": "markdown",
   "metadata": {},
   "source": [
    "#### Remarks: \n",
    "The previous one did not really give a very good score, so let's try to see if we could use a different network structure.\n",
    "\n",
    "Through the previous analysis on Decks, we observe that a deck is characterized by a small number of cards. With that in mind, it makes sense to use CNN on this model, as in the following cell."
   ]
  },
  {
   "cell_type": "code",
   "execution_count": null,
   "metadata": {
    "execution": {
     "iopub.execute_input": "2022-04-16T09:03:07.501389Z",
     "iopub.status.busy": "2022-04-16T09:03:07.500728Z",
     "iopub.status.idle": "2022-04-16T09:08:02.99436Z",
     "shell.execute_reply": "2022-04-16T09:08:02.993693Z",
     "shell.execute_reply.started": "2022-04-16T09:03:07.501351Z"
    },
    "vscode": {
     "languageId": "python"
    }
   },
   "outputs": [],
   "source": [
    "from tensorflow import keras\n",
    "cnn = keras.Sequential([\n",
    "    keras.layers.Dense(212, activation='relu'),\n",
    "#     keras.layers.Conv1D(32, 4, padding='same', activation='relu'),\n",
    "#     keras.layers.Conv1D(32, 4, activation='relu'),\n",
    "#     keras.layers.Dropout(0.2),\n",
    "#     keras.layers.BatchNormalization(),\n",
    "    \n",
    "    keras.layers.MaxPool1D(8),\n",
    "#     keras.layers.Conv1D(64, 4, activation='relu'),\n",
    "#     keras.layers.Conv1D(64, 4, activation='relu'),\n",
    "#     keras.layers.Dropout(0.2),\n",
    "#     keras.layers.BatchNormalization(),\n",
    "    \n",
    "    keras.layers.Dense(128, activation='relu'),\n",
    "    keras.layers.MaxPool1D(8),\n",
    "    keras.layers.Dense(32, activation='relu'),\n",
    "#     keras.layers.Dropout(0.2),\n",
    "#     keras.layers.BatchNormalization(),\n",
    "    keras.layers.Dense(16, activation='relu'),\n",
    "#     keras.layers.Dropout(0.2),\n",
    "#     keras.layers.BatchNormalization(),\n",
    "    keras.layers.Dense(4, activation='relu'),\n",
    "    keras.layers.Dense(1, activation='sigmoid'),\n",
    "])\n",
    "early_stopping = keras.callbacks.EarlyStopping(monitor='accuracy', patience=5)\n",
    "cnn.compile(\n",
    "    optimizer=keras.optimizers.SGD(learning_rate=0.001),\n",
    "    loss=\"binary_crossentropy\",\n",
    "    metrics=['accuracy'],\n",
    ")\n",
    "# x_train = x_train.to_numpy()\n",
    "cnn.fit(x_train.reshape((x_train.shape[0], x_train.shape[1], 1)), y_train-1, validation_split=0.1, epochs=30, batch_size=16, callbacks=[early_stopping])\n",
    "# cnn.fit(x_train, y_train-1, validation_split=0.1, epochs=30, batch_size=16, callbacks=[early_stopping])"
   ]
  },
  {
   "cell_type": "code",
   "execution_count": null,
   "metadata": {
    "execution": {
     "iopub.execute_input": "2022-04-16T09:08:02.996404Z",
     "iopub.status.busy": "2022-04-16T09:08:02.996106Z",
     "iopub.status.idle": "2022-04-16T09:08:04.817185Z",
     "shell.execute_reply": "2022-04-16T09:08:04.816533Z",
     "shell.execute_reply.started": "2022-04-16T09:08:02.996348Z"
    },
    "vscode": {
     "languageId": "python"
    }
   },
   "outputs": [],
   "source": [
    "cnn.evaluate(x_test.reshape((x_test.shape[0], x_test.shape[1], 1)), y_test)"
   ]
  },
  {
   "cell_type": "markdown",
   "metadata": {},
   "source": [
    "#### Remarks:\n",
    "The result indeed looks much better than our naive model. We observe that indeed, it is better to look at a match in terms of the main cards used in each battle.\n",
    "\n",
    "However, it appears that, unfortunately, we cannot really get a much better prediction of outcome than decision trees.\n",
    "\n",
    "Still, with our previous analysis, it seems that we could try and get a good result at deck building."
   ]
  },
  {
   "cell_type": "markdown",
   "metadata": {},
   "source": [
    "## 6. Deck Building:"
   ]
  },
  {
   "cell_type": "code",
   "execution_count": null,
   "metadata": {
    "execution": {
     "iopub.execute_input": "2022-04-11T17:05:57.034808Z",
     "iopub.status.busy": "2022-04-11T17:05:57.034563Z",
     "iopub.status.idle": "2022-04-11T17:05:57.050796Z",
     "shell.execute_reply": "2022-04-11T17:05:57.049463Z",
     "shell.execute_reply.started": "2022-04-11T17:05:57.034778Z"
    },
    "vscode": {
     "languageId": "python"
    }
   },
   "outputs": [],
   "source": [
    "N_CARDS = 107\n",
    "synergies = np.array([(i, j, d_corr[i][j]) for i in range(N_CARDS) for j in range(i+1, N_CARDS)])"
   ]
  },
  {
   "cell_type": "code",
   "execution_count": null,
   "metadata": {
    "execution": {
     "iopub.execute_input": "2022-04-11T17:05:57.052274Z",
     "iopub.status.busy": "2022-04-11T17:05:57.05205Z",
     "iopub.status.idle": "2022-04-11T17:05:57.589881Z",
     "shell.execute_reply": "2022-04-11T17:05:57.589041Z",
     "shell.execute_reply.started": "2022-04-11T17:05:57.052243Z"
    },
    "vscode": {
     "languageId": "python"
    }
   },
   "outputs": [],
   "source": [
    "import seaborn as sns\n",
    "x_train, y_train = synergies[:, :2], synergies[:, 2]\n",
    "fig = plt.figure(figsize=(12, 8))\n",
    "sns.histplot(y_train)"
   ]
  }
 ],
 "metadata": {
  "kernelspec": {
   "display_name": "Python 3 (ipykernel)",
   "language": "python",
   "name": "python3"
  },
  "language_info": {
   "codemirror_mode": {
    "name": "ipython",
    "version": 3
   },
   "file_extension": ".py",
   "mimetype": "text/x-python",
   "name": "python",
   "nbconvert_exporter": "python",
   "pygments_lexer": "ipython3",
   "version": "3.9.7"
  }
 },
 "nbformat": 4,
 "nbformat_minor": 4
}
