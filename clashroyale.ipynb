{
 "cells": [
  {
   "cell_type": "markdown",
   "metadata": {},
   "source": [
    "<a href=\"https://www.kaggle.com/code/duynhatvo/clashroyale?scriptVersionId=93721569\" target=\"_blank\"><img align=\"left\" alt=\"Kaggle\" title=\"Open in Kaggle\" src=\"https://kaggle.com/static/images/open-in-kaggle.svg\"></a>"
   ]
  },
  {
   "cell_type": "markdown",
   "metadata": {},
   "source": [
    "# Clash Royale Dataset Analysis"
   ]
  },
  {
   "cell_type": "markdown",
   "metadata": {},
   "source": [
    "### TODO\n",
    "\n",
    "1) Average Elixir (Classification)\n",
    "- compute average elixir for each deck and try to figure out if there is a specific range which is better than others\n",
    "\n",
    "2) Troop types\n",
    "- air/ground/spell/building\n",
    "\n",
    "3) Rarity\n",
    "- common/rare/legend/champion"
   ]
  },
  {
   "cell_type": "markdown",
   "metadata": {},
   "source": [
    "## 1. Introduction\n",
    "\n",
    "In this notebook, we are going to analyze the [Clash Royale Dataset](https://www.kaggle.com/datasets/nonrice/clash-royale-battles-upper-ladder-december-2021). This dataset documents over 700 thousands matches of the mobile game [Clash Royale](https://clashroyale.com/) by Supercell. We will first brief through the basic mechanics of the games and the goal of this project, then the analysis and conclusion part."
   ]
  },
  {
   "cell_type": "markdown",
   "metadata": {},
   "source": [
    "## 2. Objectives:\n",
    "### a. Clash Royale:\n",
    "Clash Royale is a realtime strategy mobile game, where 2 players fight over a 3-minute match to destroy their opponent's towers. Each player will have a prechosen deck consisting of 8 cards, and will continuously deploy their cards which are either minions or spells. The game ends after 3 minutes, or if a player's main tower is destroyed.\n",
    "\n",
    "As simple as it may sound, analyzing who would win a match is very difficult, due to the huge permutations of cards (there are 106 cards in total), as well as the different players' skills. In this notebook, we are going to analyze the dataset with the following assumptions:\n",
    "- The matches happen in a small time span (December 2021), and no update (tweaks to each card's stats) are done.\n",
    "- The matches happen between the top-ranked players in the world, and they all have very similar skills.\n",
    "\n",
    "### b. Our approach:\n",
    "In this notebook, we are going to try and see whether we can predict an outcome of a match using the decks and the rank of each player."
   ]
  },
  {
   "cell_type": "code",
   "execution_count": 1,
   "metadata": {
    "_cell_guid": "b1076dfc-b9ad-4769-8c92-a6c4dae69d19",
    "_uuid": "8f2839f25d086af736a60e9eeb907d3b93b6e0e5",
    "execution": {
     "iopub.execute_input": "2022-04-22T13:00:16.978456Z",
     "iopub.status.busy": "2022-04-22T13:00:16.977804Z",
     "iopub.status.idle": "2022-04-22T13:00:17.007514Z",
     "shell.execute_reply": "2022-04-22T13:00:17.006534Z",
     "shell.execute_reply.started": "2022-04-22T13:00:16.97836Z"
    },
    "vscode": {
     "languageId": "python"
    }
   },
   "outputs": [],
   "source": [
    "# This Python 3 environment comes with many helpful analytics libraries installed\n",
    "# It is defined by the kaggle/python Docker image: https://github.com/kaggle/docker-python\n",
    "# For example, here's several helpful packages to load\n",
    "\n",
    "import numpy as np # linear algebra\n",
    "import pandas as pd # data processing, CSV file I/O (e.g. pd.read_csv)\n",
    "import matplotlib.pyplot as plt\n",
    "\n",
    "# Input data files are available in the read-only \"../input/\" directory\n",
    "# For example, running this (by clicking run or pressing Shift+Enter) will list all files under the input directory\n",
    "\n",
    "import os\n",
    "# for dirname, _, filenames in os.walk('/kaggle/input'):\n",
    "#     for filename in filenames:\n",
    "#         print(os.path.join(dirname, filename))\n",
    "import json\n",
    "import csv\n",
    "\n",
    "# You can write up to 20GB to the current directory (/kaggle/working/) that gets preserved as output when you create a version using \"Save & Run All\" \n",
    "# You can also write temporary files to /kaggle/temp/, but they won't be saved outside of the current session"
   ]
  },
  {
   "cell_type": "code",
   "execution_count": 2,
   "metadata": {
    "execution": {
     "iopub.execute_input": "2022-04-22T13:01:29.36634Z",
     "iopub.status.busy": "2022-04-22T13:01:29.365725Z",
     "iopub.status.idle": "2022-04-22T13:01:29.421489Z",
     "shell.execute_reply": "2022-04-22T13:01:29.420815Z",
     "shell.execute_reply.started": "2022-04-22T13:01:29.366301Z"
    },
    "vscode": {
     "languageId": "python"
    }
   },
   "outputs": [],
   "source": [
    "# bulshitting\n",
    "\n",
    "# file = open('data/cards.csv', 'r')\n",
    "# cards_stats = csv.reader(file)\n",
    "\n",
    "# for row in cards_stats:\n",
    "#     print(row)\n",
    "#     if row[4] == 'troop':\n",
    "#         if row[7] > 0:\n",
    "#             row[4] = 'Air_Troop'\n",
    "#         else:\n",
    "#             row[4] = 'Ground_Troop'\n",
    "\n",
    "# cards_stats[4].unique()\n",
    "# print(cards_stats)\n",
    "# for i in cards_stats['troop']:\n",
    "#     if i['key'] == 'barbarian-barrel':\n",
    "#         print(i)"
   ]
  },
  {
   "cell_type": "code",
   "execution_count": 3,
   "metadata": {},
   "outputs": [
    {
     "name": "stdout",
     "output_type": "stream",
     "text": [
      "       p1_tag  p1_trophy      p2_tag  p2_trophy  p1_crowns  p2_crowns  winner\n",
      "0  #20PR8YPRV       7493   #RQ0L0U9G       7465          2          1       1\n",
      "1  #20PR8YPRV       7465   #PJUUV9CV       7448          2          1       1\n",
      "2  #20PR8YPRV       7496  #8L0P9Q90L       7481          1          3       2\n",
      "3  #20PR8YPRV       7465  #8VVJVYLJ8       7480          1          0       1\n",
      "4  #20PR8YPRV       7437   #JYG9C9GQ       7420          1          0       1\n",
      "\n",
      "Total number of Columns: 40\n",
      "Total number of Rows: 5817\n",
      "\n",
      "Column Names: ['Unnamed: 0', 'p1_tag', 'p1_trophy', 'p1_card_0_id', 'p1_card_0_lv', 'p1_card_1_id', 'p1_card_1_lv', 'p1_card_2_id', 'p1_card_2_lv', 'p1_card_3_id', 'p1_card_3_lv', 'p1_card_4_id', 'p1_card_4_lv', 'p1_card_5_id', 'p1_card_5_lv', 'p1_card_6_id', 'p1_card_6_lv', 'p1_card_7_id', 'p1_card_7_lv', 'p1_crowns', 'p2_tag', 'p2_trophy', 'p2_card_0_id', 'p2_card_0_lv', 'p2_card_1_id', 'p2_card_1_lv', 'p2_card_2_id', 'p2_card_2_lv', 'p2_card_3_id', 'p2_card_3_lv', 'p2_card_4_id', 'p2_card_4_lv', 'p2_card_5_id', 'p2_card_5_lv', 'p2_card_6_id', 'p2_card_6_lv', 'p2_card_7_id', 'p2_card_7_lv', 'p2_crowns', 'winner']\n"
     ]
    }
   ],
   "source": [
    "battles = pd.read_csv('data/battles.csv')\n",
    "print(battles[['p1_tag', 'p1_trophy', 'p2_tag', 'p2_trophy',\n",
    "               'p1_crowns', 'p2_crowns', 'winner']][:5])\n",
    "print(\"\")\n",
    "print(\"Total number of Columns:\", len(list(battles.columns)))\n",
    "print(\"Total number of Rows:\", len(list(battles.index)))\n",
    "print(\"\")\n",
    "print(\"Column Names:\", list(battles.columns))"
   ]
  },
  {
   "cell_type": "markdown",
   "metadata": {},
   "source": [
    "As can be seen above, we have collected 1426 unique vectors of datapoints with 40 columns each that provide us with relevant information on their respective battle. 19 columns are divided each between the two players where 16 columns are for the cards with 8 each for the unique card ID and its corresponding level and out of the 3 remaining columns, 1 each for ID, trophies, and crowns. Essentially, the column names represent:\n",
    "- $p\\_tag$: Unique ID of the player\n",
    "- $p\\_trophy$: The trophies of the player (can be thought of as ranking)\n",
    "- $p\\_crowns$: The number of towers destroyed of by the player in the battle (max 3 == win)\n",
    "- $p\\_card\\_x\\_id$: The unique card ID of card $x$\n",
    "- $p\\_card\\_x\\_level$: The level of the corresponding card $x$\n",
    "- $p\\_winner$: The player who won the game\n",
    "\n",
    "The unique card ID's have specific data points as described in the cell below where cards data is analyzed.\n"
   ]
  },
  {
   "cell_type": "code",
   "execution_count": 28,
   "metadata": {
    "scrolled": false
   },
   "outputs": [
    {
     "name": "stdout",
     "output_type": "stream",
     "text": [
      "       key        id  elixir   type  rarity\n",
      "0   knight  26000000       3  Troop  Common\n",
      "1  archers  26000001       3  Troop  Common\n",
      "2  goblins  26000002       2  Troop  Common\n",
      "3    giant  26000003       5  Troop    Rare\n",
      "4    pekka  26000004       7  Troop    Epic\n",
      "\n",
      "Number of Columns: 11\n",
      "Number of Rows: 107\n",
      "\n",
      "Column Names: ['key', 'name', 'sc_key', 'elixir', 'type', 'rarity', 'id', 'flying_height', 'range', 'damage_air', 'damage_ground']\n",
      "\n",
      "Types of cards: ['Building', 'Spell', 'Troop']\n",
      "Rarity of cards: ['Champion', 'Common', 'Epic', 'Legendary', 'Rare']\n",
      "Elixir for cards: [1, 2, 3, 4, 5, 6, 7, 8, 9]\n"
     ]
    }
   ],
   "source": [
    "cards = pd.read_csv('data/cards.csv')\n",
    "print(cards[['key', 'id', 'elixir', 'type', 'rarity']][:5])\n",
    "print(\"\")\n",
    "print(\"Number of Columns:\", len(list(cards.columns)))\n",
    "print(\"Number of Rows:\", len(list(cards.index)))\n",
    "print(\"\")\n",
    "print(\"Column Names:\", list(cards.columns))\n",
    "print(\"\")\n",
    "print(\"Types of cards:\", sorted(cards['type'].unique()))\n",
    "print(\"Rarity of cards:\", sorted(cards['rarity'].unique()))\n",
    "print(\"Elixir for cards:\", sorted(cards['elixir'].unique()))"
   ]
  },
  {
   "cell_type": "markdown",
   "metadata": {},
   "source": [
    "There are three ... "
   ]
  },
  {
   "cell_type": "markdown",
   "metadata": {},
   "source": [
    "Now, we create arrays for the player 1 and player 2 cards, which will be useful for later analysis."
   ]
  },
  {
   "cell_type": "code",
   "execution_count": 23,
   "metadata": {},
   "outputs": [
    {
     "name": "stdout",
     "output_type": "stream",
     "text": [
      "Player1 Column Names: ['p1_card_0_id', 'p1_card_1_id', 'p1_card_2_id', 'p1_card_3_id', 'p1_card_4_id', 'p1_card_5_id', 'p1_card_6_id', 'p1_card_7_id']\n",
      "PLayer2 Column Names: ['p2_card_0_id', 'p2_card_1_id', 'p2_card_2_id', 'p2_card_3_id', 'p2_card_4_id', 'p2_card_5_id', 'p2_card_6_id', 'p2_card_7_id']\n",
      "Total number of Rows: 5817\n"
     ]
    }
   ],
   "source": [
    "p1_cols = []\n",
    "p2_cols = []\n",
    "for col_name in battles.columns:\n",
    "    if 'p1_card_' in col_name and '_id' in col_name:\n",
    "        p1_cols.append(col_name)\n",
    "    elif 'p2_card_' in col_name and '_id' in col_name:\n",
    "        p2_cols.append(col_name)\n",
    "\n",
    "p1_cards = battles[p1_cols]\n",
    "p2_cards = battles[p2_cols]\n",
    "print(\"Player1 Column Names:\", list(p1_cards.columns))\n",
    "print(\"PLayer2 Column Names:\", list(p2_cards.columns))\n",
    "print(\"Total number of Rows:\", len(list(p1_cards.index)))"
   ]
  },
  {
   "cell_type": "markdown",
   "metadata": {},
   "source": [
    "## 3. Preliminary Analysis:\n",
    "### a. A brief overview:\n",
    "We are first going to have a quick look to get a sense of the data. First, we will have a look at the dataset, and its correlation matrix to understand any relations in the datapoints."
   ]
  },
  {
   "cell_type": "code",
   "execution_count": 5,
   "metadata": {
    "execution": {
     "iopub.execute_input": "2022-04-16T08:53:04.418079Z",
     "iopub.status.busy": "2022-04-16T08:53:04.417796Z",
     "iopub.status.idle": "2022-04-16T08:53:05.688068Z",
     "shell.execute_reply": "2022-04-16T08:53:05.687357Z",
     "shell.execute_reply.started": "2022-04-16T08:53:04.418052Z"
    },
    "vscode": {
     "languageId": "python"
    }
   },
   "outputs": [],
   "source": [
    "battles.drop(columns='Unnamed: 0', inplace=True)"
   ]
  },
  {
   "cell_type": "code",
   "execution_count": 6,
   "metadata": {
    "execution": {
     "iopub.execute_input": "2022-04-16T08:53:05.68987Z",
     "iopub.status.busy": "2022-04-16T08:53:05.689628Z",
     "iopub.status.idle": "2022-04-16T08:53:05.746733Z",
     "shell.execute_reply": "2022-04-16T08:53:05.745949Z",
     "shell.execute_reply.started": "2022-04-16T08:53:05.689837Z"
    },
    "vscode": {
     "languageId": "python"
    }
   },
   "outputs": [],
   "source": [
    "SIZE = 1426\n",
    "df = battles.sample(1000, random_state=84)"
   ]
  },
  {
   "cell_type": "code",
   "execution_count": 7,
   "metadata": {
    "execution": {
     "iopub.execute_input": "2022-04-16T08:53:10.95044Z",
     "iopub.status.busy": "2022-04-16T08:53:10.950161Z",
     "iopub.status.idle": "2022-04-16T08:53:11.036305Z",
     "shell.execute_reply": "2022-04-16T08:53:11.035558Z",
     "shell.execute_reply.started": "2022-04-16T08:53:10.950411Z"
    },
    "vscode": {
     "languageId": "python"
    }
   },
   "outputs": [
    {
     "data": {
      "text/html": [
       "<div>\n",
       "<style scoped>\n",
       "    .dataframe tbody tr th:only-of-type {\n",
       "        vertical-align: middle;\n",
       "    }\n",
       "\n",
       "    .dataframe tbody tr th {\n",
       "        vertical-align: top;\n",
       "    }\n",
       "\n",
       "    .dataframe thead th {\n",
       "        text-align: right;\n",
       "    }\n",
       "</style>\n",
       "<table border=\"1\" class=\"dataframe\">\n",
       "  <thead>\n",
       "    <tr style=\"text-align: right;\">\n",
       "      <th></th>\n",
       "      <th>p1_trophy</th>\n",
       "      <th>p1_card_0_id</th>\n",
       "      <th>p1_card_0_lv</th>\n",
       "      <th>p1_card_1_id</th>\n",
       "      <th>p1_card_1_lv</th>\n",
       "      <th>p1_card_2_id</th>\n",
       "      <th>p1_card_2_lv</th>\n",
       "      <th>p1_card_3_id</th>\n",
       "      <th>p1_card_3_lv</th>\n",
       "      <th>p1_card_4_id</th>\n",
       "      <th>...</th>\n",
       "      <th>p2_card_4_id</th>\n",
       "      <th>p2_card_4_lv</th>\n",
       "      <th>p2_card_5_id</th>\n",
       "      <th>p2_card_5_lv</th>\n",
       "      <th>p2_card_6_id</th>\n",
       "      <th>p2_card_6_lv</th>\n",
       "      <th>p2_card_7_id</th>\n",
       "      <th>p2_card_7_lv</th>\n",
       "      <th>p2_crowns</th>\n",
       "      <th>winner</th>\n",
       "    </tr>\n",
       "  </thead>\n",
       "  <tbody>\n",
       "    <tr>\n",
       "      <th>count</th>\n",
       "      <td>1000.000000</td>\n",
       "      <td>1.000000e+03</td>\n",
       "      <td>1000.000000</td>\n",
       "      <td>1.000000e+03</td>\n",
       "      <td>1000.000000</td>\n",
       "      <td>1.000000e+03</td>\n",
       "      <td>1000.000000</td>\n",
       "      <td>1.000000e+03</td>\n",
       "      <td>1000.000000</td>\n",
       "      <td>1.000000e+03</td>\n",
       "      <td>...</td>\n",
       "      <td>1.000000e+03</td>\n",
       "      <td>1000.000000</td>\n",
       "      <td>1.000000e+03</td>\n",
       "      <td>1000.000000</td>\n",
       "      <td>1.000000e+03</td>\n",
       "      <td>1000.000000</td>\n",
       "      <td>1.000000e+03</td>\n",
       "      <td>1000.000000</td>\n",
       "      <td>1000.000000</td>\n",
       "      <td>1000.000000</td>\n",
       "    </tr>\n",
       "    <tr>\n",
       "      <th>mean</th>\n",
       "      <td>6340.515000</td>\n",
       "      <td>2.643002e+07</td>\n",
       "      <td>9.818000</td>\n",
       "      <td>2.659503e+07</td>\n",
       "      <td>9.752000</td>\n",
       "      <td>2.664003e+07</td>\n",
       "      <td>9.974000</td>\n",
       "      <td>2.670302e+07</td>\n",
       "      <td>10.205000</td>\n",
       "      <td>2.661503e+07</td>\n",
       "      <td>...</td>\n",
       "      <td>2.662303e+07</td>\n",
       "      <td>10.150000</td>\n",
       "      <td>2.667602e+07</td>\n",
       "      <td>10.319000</td>\n",
       "      <td>2.675702e+07</td>\n",
       "      <td>10.247000</td>\n",
       "      <td>2.686102e+07</td>\n",
       "      <td>10.150000</td>\n",
       "      <td>0.809000</td>\n",
       "      <td>1.469000</td>\n",
       "    </tr>\n",
       "    <tr>\n",
       "      <th>std</th>\n",
       "      <td>219.694359</td>\n",
       "      <td>7.705055e+05</td>\n",
       "      <td>3.046663</td>\n",
       "      <td>8.716160e+05</td>\n",
       "      <td>3.135335</td>\n",
       "      <td>9.006590e+05</td>\n",
       "      <td>3.168495</td>\n",
       "      <td>9.228326e+05</td>\n",
       "      <td>3.084881</td>\n",
       "      <td>8.772238e+05</td>\n",
       "      <td>...</td>\n",
       "      <td>8.840986e+05</td>\n",
       "      <td>3.096625</td>\n",
       "      <td>9.021166e+05</td>\n",
       "      <td>3.122978</td>\n",
       "      <td>9.267070e+05</td>\n",
       "      <td>3.087965</td>\n",
       "      <td>9.594665e+05</td>\n",
       "      <td>3.152053</td>\n",
       "      <td>0.886174</td>\n",
       "      <td>0.499288</td>\n",
       "    </tr>\n",
       "    <tr>\n",
       "      <th>min</th>\n",
       "      <td>5903.000000</td>\n",
       "      <td>2.600000e+07</td>\n",
       "      <td>4.000000</td>\n",
       "      <td>2.600000e+07</td>\n",
       "      <td>4.000000</td>\n",
       "      <td>2.600000e+07</td>\n",
       "      <td>3.000000</td>\n",
       "      <td>2.600000e+07</td>\n",
       "      <td>4.000000</td>\n",
       "      <td>2.600000e+07</td>\n",
       "      <td>...</td>\n",
       "      <td>2.600000e+07</td>\n",
       "      <td>3.000000</td>\n",
       "      <td>2.600000e+07</td>\n",
       "      <td>3.000000</td>\n",
       "      <td>2.600000e+07</td>\n",
       "      <td>4.000000</td>\n",
       "      <td>2.600000e+07</td>\n",
       "      <td>2.000000</td>\n",
       "      <td>0.000000</td>\n",
       "      <td>1.000000</td>\n",
       "    </tr>\n",
       "    <tr>\n",
       "      <th>25%</th>\n",
       "      <td>6203.000000</td>\n",
       "      <td>2.600002e+07</td>\n",
       "      <td>6.000000</td>\n",
       "      <td>2.600003e+07</td>\n",
       "      <td>6.000000</td>\n",
       "      <td>2.600003e+07</td>\n",
       "      <td>6.000000</td>\n",
       "      <td>2.600003e+07</td>\n",
       "      <td>6.000000</td>\n",
       "      <td>2.600003e+07</td>\n",
       "      <td>...</td>\n",
       "      <td>2.600003e+07</td>\n",
       "      <td>7.750000</td>\n",
       "      <td>2.600003e+07</td>\n",
       "      <td>8.000000</td>\n",
       "      <td>2.600003e+07</td>\n",
       "      <td>9.000000</td>\n",
       "      <td>2.600003e+07</td>\n",
       "      <td>8.000000</td>\n",
       "      <td>0.000000</td>\n",
       "      <td>1.000000</td>\n",
       "    </tr>\n",
       "    <tr>\n",
       "      <th>50%</th>\n",
       "      <td>6294.500000</td>\n",
       "      <td>2.600004e+07</td>\n",
       "      <td>9.000000</td>\n",
       "      <td>2.600005e+07</td>\n",
       "      <td>9.000000</td>\n",
       "      <td>2.600005e+07</td>\n",
       "      <td>9.000000</td>\n",
       "      <td>2.600005e+07</td>\n",
       "      <td>12.000000</td>\n",
       "      <td>2.600005e+07</td>\n",
       "      <td>...</td>\n",
       "      <td>2.600005e+07</td>\n",
       "      <td>11.000000</td>\n",
       "      <td>2.600006e+07</td>\n",
       "      <td>12.000000</td>\n",
       "      <td>2.600006e+07</td>\n",
       "      <td>11.000000</td>\n",
       "      <td>2.600006e+07</td>\n",
       "      <td>9.000000</td>\n",
       "      <td>1.000000</td>\n",
       "      <td>1.000000</td>\n",
       "    </tr>\n",
       "    <tr>\n",
       "      <th>75%</th>\n",
       "      <td>6420.250000</td>\n",
       "      <td>2.700000e+07</td>\n",
       "      <td>12.000000</td>\n",
       "      <td>2.800000e+07</td>\n",
       "      <td>12.000000</td>\n",
       "      <td>2.800000e+07</td>\n",
       "      <td>12.000000</td>\n",
       "      <td>2.800000e+07</td>\n",
       "      <td>12.000000</td>\n",
       "      <td>2.800000e+07</td>\n",
       "      <td>...</td>\n",
       "      <td>2.800000e+07</td>\n",
       "      <td>12.000000</td>\n",
       "      <td>2.800000e+07</td>\n",
       "      <td>14.000000</td>\n",
       "      <td>2.800000e+07</td>\n",
       "      <td>13.000000</td>\n",
       "      <td>2.800001e+07</td>\n",
       "      <td>14.000000</td>\n",
       "      <td>1.000000</td>\n",
       "      <td>2.000000</td>\n",
       "    </tr>\n",
       "    <tr>\n",
       "      <th>max</th>\n",
       "      <td>7500.000000</td>\n",
       "      <td>2.800002e+07</td>\n",
       "      <td>14.000000</td>\n",
       "      <td>2.800002e+07</td>\n",
       "      <td>14.000000</td>\n",
       "      <td>2.800002e+07</td>\n",
       "      <td>14.000000</td>\n",
       "      <td>2.800002e+07</td>\n",
       "      <td>14.000000</td>\n",
       "      <td>2.800002e+07</td>\n",
       "      <td>...</td>\n",
       "      <td>2.800002e+07</td>\n",
       "      <td>14.000000</td>\n",
       "      <td>2.800002e+07</td>\n",
       "      <td>14.000000</td>\n",
       "      <td>2.800002e+07</td>\n",
       "      <td>14.000000</td>\n",
       "      <td>2.800002e+07</td>\n",
       "      <td>14.000000</td>\n",
       "      <td>3.000000</td>\n",
       "      <td>2.000000</td>\n",
       "    </tr>\n",
       "  </tbody>\n",
       "</table>\n",
       "<p>8 rows × 37 columns</p>\n",
       "</div>"
      ],
      "text/plain": [
       "         p1_trophy  p1_card_0_id  p1_card_0_lv  p1_card_1_id  p1_card_1_lv  \\\n",
       "count  1000.000000  1.000000e+03   1000.000000  1.000000e+03   1000.000000   \n",
       "mean   6340.515000  2.643002e+07      9.818000  2.659503e+07      9.752000   \n",
       "std     219.694359  7.705055e+05      3.046663  8.716160e+05      3.135335   \n",
       "min    5903.000000  2.600000e+07      4.000000  2.600000e+07      4.000000   \n",
       "25%    6203.000000  2.600002e+07      6.000000  2.600003e+07      6.000000   \n",
       "50%    6294.500000  2.600004e+07      9.000000  2.600005e+07      9.000000   \n",
       "75%    6420.250000  2.700000e+07     12.000000  2.800000e+07     12.000000   \n",
       "max    7500.000000  2.800002e+07     14.000000  2.800002e+07     14.000000   \n",
       "\n",
       "       p1_card_2_id  p1_card_2_lv  p1_card_3_id  p1_card_3_lv  p1_card_4_id  \\\n",
       "count  1.000000e+03   1000.000000  1.000000e+03   1000.000000  1.000000e+03   \n",
       "mean   2.664003e+07      9.974000  2.670302e+07     10.205000  2.661503e+07   \n",
       "std    9.006590e+05      3.168495  9.228326e+05      3.084881  8.772238e+05   \n",
       "min    2.600000e+07      3.000000  2.600000e+07      4.000000  2.600000e+07   \n",
       "25%    2.600003e+07      6.000000  2.600003e+07      6.000000  2.600003e+07   \n",
       "50%    2.600005e+07      9.000000  2.600005e+07     12.000000  2.600005e+07   \n",
       "75%    2.800000e+07     12.000000  2.800000e+07     12.000000  2.800000e+07   \n",
       "max    2.800002e+07     14.000000  2.800002e+07     14.000000  2.800002e+07   \n",
       "\n",
       "       ...  p2_card_4_id  p2_card_4_lv  p2_card_5_id  p2_card_5_lv  \\\n",
       "count  ...  1.000000e+03   1000.000000  1.000000e+03   1000.000000   \n",
       "mean   ...  2.662303e+07     10.150000  2.667602e+07     10.319000   \n",
       "std    ...  8.840986e+05      3.096625  9.021166e+05      3.122978   \n",
       "min    ...  2.600000e+07      3.000000  2.600000e+07      3.000000   \n",
       "25%    ...  2.600003e+07      7.750000  2.600003e+07      8.000000   \n",
       "50%    ...  2.600005e+07     11.000000  2.600006e+07     12.000000   \n",
       "75%    ...  2.800000e+07     12.000000  2.800000e+07     14.000000   \n",
       "max    ...  2.800002e+07     14.000000  2.800002e+07     14.000000   \n",
       "\n",
       "       p2_card_6_id  p2_card_6_lv  p2_card_7_id  p2_card_7_lv    p2_crowns  \\\n",
       "count  1.000000e+03   1000.000000  1.000000e+03   1000.000000  1000.000000   \n",
       "mean   2.675702e+07     10.247000  2.686102e+07     10.150000     0.809000   \n",
       "std    9.267070e+05      3.087965  9.594665e+05      3.152053     0.886174   \n",
       "min    2.600000e+07      4.000000  2.600000e+07      2.000000     0.000000   \n",
       "25%    2.600003e+07      9.000000  2.600003e+07      8.000000     0.000000   \n",
       "50%    2.600006e+07     11.000000  2.600006e+07      9.000000     1.000000   \n",
       "75%    2.800000e+07     13.000000  2.800001e+07     14.000000     1.000000   \n",
       "max    2.800002e+07     14.000000  2.800002e+07     14.000000     3.000000   \n",
       "\n",
       "            winner  \n",
       "count  1000.000000  \n",
       "mean      1.469000  \n",
       "std       0.499288  \n",
       "min       1.000000  \n",
       "25%       1.000000  \n",
       "50%       1.000000  \n",
       "75%       2.000000  \n",
       "max       2.000000  \n",
       "\n",
       "[8 rows x 37 columns]"
      ]
     },
     "execution_count": 7,
     "metadata": {},
     "output_type": "execute_result"
    }
   ],
   "source": [
    "df.describe()"
   ]
  },
  {
   "cell_type": "code",
   "execution_count": 8,
   "metadata": {
    "execution": {
     "iopub.execute_input": "2022-04-16T08:53:11.733381Z",
     "iopub.status.busy": "2022-04-16T08:53:11.732538Z",
     "iopub.status.idle": "2022-04-16T08:53:11.791587Z",
     "shell.execute_reply": "2022-04-16T08:53:11.790868Z",
     "shell.execute_reply.started": "2022-04-16T08:53:11.733331Z"
    },
    "vscode": {
     "languageId": "python"
    }
   },
   "outputs": [],
   "source": [
    "corr = df.corr()"
   ]
  },
  {
   "cell_type": "code",
   "execution_count": 9,
   "metadata": {
    "execution": {
     "iopub.execute_input": "2022-04-16T08:53:12.593232Z",
     "iopub.status.busy": "2022-04-16T08:53:12.592756Z",
     "iopub.status.idle": "2022-04-16T08:53:13.027747Z",
     "shell.execute_reply": "2022-04-16T08:53:13.02708Z",
     "shell.execute_reply.started": "2022-04-16T08:53:12.593176Z"
    },
    "vscode": {
     "languageId": "python"
    }
   },
   "outputs": [
    {
     "data": {
      "image/png": "[encoded data removed]",
      "text/plain": [
       "<Figure size 1080x1080 with 2 Axes>"
      ]
     },
     "metadata": {
      "needs_background": "light"
     },
     "output_type": "display_data"
    }
   ],
   "source": [
    "f = plt.figure(figsize=(15, 15))\n",
    "plt.imshow(np.abs(corr))\n",
    "plt.title('Correlation Matrix')\n",
    "plt.xticks(np.arange(df.shape[1]), df.columns, rotation=45)\n",
    "plt.yticks(np.arange(df.shape[1]), df.columns)\n",
    "plt.colorbar()\n",
    "plt.show()"
   ]
  },
  {
   "cell_type": "markdown",
   "metadata": {},
   "source": [
    "Lets drop some columns that do not seem to be correlated to get a better picture."
   ]
  },
  {
   "cell_type": "code",
   "execution_count": 10,
   "metadata": {},
   "outputs": [],
   "source": [
    "less_cols = df\n",
    "cols_to_drop = []\n",
    "for col_name in df.columns:\n",
    "    if 'lv' in col_name or 'tag' in col_name:\n",
    "        cols_to_drop.append(col_name)\n",
    "# remove cols with levels\n",
    "less_cols.drop(columns=cols_to_drop, inplace=True)\n",
    "corr = less_cols.corr()"
   ]
  },
  {
   "cell_type": "code",
   "execution_count": 11,
   "metadata": {},
   "outputs": [
    {
     "data": {
      "image/png": "[encoded data removed]",
      "text/plain": [
       "<Figure size 1080x1080 with 2 Axes>"
      ]
     },
     "metadata": {
      "needs_background": "light"
     },
     "output_type": "display_data"
    }
   ],
   "source": [
    "f = plt.figure(figsize=(15, 15))\n",
    "plt.imshow(np.abs(corr))\n",
    "plt.title('Correlation Matrix')\n",
    "plt.xticks(np.arange(df.shape[1]), df.columns, rotation=45)\n",
    "plt.yticks(np.arange(df.shape[1]), df.columns)\n",
    "plt.colorbar()\n",
    "plt.show()"
   ]
  },
  {
   "cell_type": "markdown",
   "metadata": {},
   "source": [
    "#### Remarks:\n",
    "From the plotted correlation matrix, we observe that there seems to be a clear relationship between:\n",
    "- The current card and the next card(s) in each player's deck\n",
    "- The players' rankings (trophies) with each other\n",
    "- Players' rankings (trophies) and cards in their deck\n",
    "\n",
    "The first relation is very intuitive. This is because cards often have synergies (i.e some go well with others as support fillers while other do not). In this case, the results can be interpreted to explain that every card is followed by another specific card to complement the first one to build a strategy (catch: this is a strategy game). There are also relationships with further cards in the deck and even though they get weaker it is straightforward to realize that the cards are played out in a specific manner to build a strategy.  \n",
    "\n",
    "Furthermore, the players' rankings should be correlated as well which is well supported by the graph. This is so because the game's \"match-making process\" is based on player rankings, (and players of different rankings seems to use similar decks of cards.) --- how?\n",
    "\n",
    "However, unfortunately, it is evident that there is almost no correlation between the outcome and any other attributes of the dataset from this analysis. We can try to apply some well-known classifications methods and check if they give us promising results."
   ]
  },
  {
   "cell_type": "markdown",
   "metadata": {},
   "source": [
    "### b. Basic Algorithms:\n",
    "In the following cells we do the following:\n",
    "1. We first encode each players' deck into $1 \\times 106$ vectors, where $V_i = 1$ if the $i^{th}$ card is in the deck, $0$ otherwise. This seems to be a better choice than one-hot encoding, as there are $\\begin{pmatrix}106 \\\\ 8 \\end{pmatrix} \\approx 3 \\times 10^{11}$ possible choices of decks.\n",
    "2. We then split the whole data set into training sets and test sets for supervised classification. We also keep a list of all decks choice people used to see if unsupervised learning give us some better insights into the data set.\n",
    "3. We then apply some well-known simple Classification methods (e.g KNN, Decsion Trees, etc.) to see if we get a good result."
   ]
  },
  {
   "cell_type": "code",
   "execution_count": 53,
   "metadata": {
    "execution": {
     "iopub.execute_input": "2022-04-16T08:53:15.305738Z",
     "iopub.status.busy": "2022-04-16T08:53:15.305483Z",
     "iopub.status.idle": "2022-04-16T08:53:23.469373Z",
     "shell.execute_reply": "2022-04-16T08:53:23.468609Z",
     "shell.execute_reply.started": "2022-04-16T08:53:15.30571Z"
    },
    "vscode": {
     "languageId": "python"
    }
   },
   "outputs": [
    {
     "ename": "IndexError",
     "evalue": "index 26000042 is out of bounds for axis 0 with size 106",
     "output_type": "error",
     "traceback": [
      "\u001b[0;31m---------------------------------------------------------------------------\u001b[0m",
      "\u001b[0;31mIndexError\u001b[0m                                Traceback (most recent call last)",
      "\u001b[0;32m<ipython-input-53-ff9cf1fff844>\u001b[0m in \u001b[0;36m<module>\u001b[0;34m\u001b[0m\n\u001b[1;32m      9\u001b[0m     \u001b[0mp2\u001b[0m \u001b[0;34m=\u001b[0m \u001b[0mnp\u001b[0m\u001b[0;34m.\u001b[0m\u001b[0mzeros\u001b[0m\u001b[0;34m(\u001b[0m\u001b[0;36m106\u001b[0m\u001b[0;34m)\u001b[0m\u001b[0;34m\u001b[0m\u001b[0;34m\u001b[0m\u001b[0m\n\u001b[1;32m     10\u001b[0m     \u001b[0;32mfor\u001b[0m \u001b[0mj\u001b[0m \u001b[0;32min\u001b[0m \u001b[0mrange\u001b[0m\u001b[0;34m(\u001b[0m\u001b[0;36m1\u001b[0m\u001b[0;34m,\u001b[0m \u001b[0;36m9\u001b[0m\u001b[0;34m)\u001b[0m\u001b[0;34m:\u001b[0m\u001b[0;34m\u001b[0m\u001b[0;34m\u001b[0m\u001b[0m\n\u001b[0;32m---> 11\u001b[0;31m         \u001b[0mp1\u001b[0m\u001b[0;34m[\u001b[0m\u001b[0mdf\u001b[0m\u001b[0;34m[\u001b[0m\u001b[0;34mf'p1_card_{j}_id'\u001b[0m\u001b[0;34m]\u001b[0m\u001b[0;34m[\u001b[0m\u001b[0mi\u001b[0m\u001b[0;34m]\u001b[0m\u001b[0;34m]\u001b[0m \u001b[0;34m=\u001b[0m \u001b[0;36m1\u001b[0m\u001b[0;34m\u001b[0m\u001b[0;34m\u001b[0m\u001b[0m\n\u001b[0m\u001b[1;32m     12\u001b[0m         \u001b[0mp2\u001b[0m\u001b[0;34m[\u001b[0m\u001b[0mdf\u001b[0m\u001b[0;34m[\u001b[0m\u001b[0;34mf'p2_card_{j}_id'\u001b[0m\u001b[0;34m]\u001b[0m\u001b[0;34m[\u001b[0m\u001b[0mi\u001b[0m\u001b[0;34m]\u001b[0m\u001b[0;34m]\u001b[0m \u001b[0;34m=\u001b[0m \u001b[0;36m1\u001b[0m\u001b[0;34m\u001b[0m\u001b[0;34m\u001b[0m\u001b[0m\n\u001b[1;32m     13\u001b[0m     \u001b[0mdecks\u001b[0m\u001b[0;34m.\u001b[0m\u001b[0mappend\u001b[0m\u001b[0;34m(\u001b[0m\u001b[0mp1\u001b[0m\u001b[0;34m)\u001b[0m\u001b[0;34m\u001b[0m\u001b[0;34m\u001b[0m\u001b[0m\n",
      "\u001b[0;31mIndexError\u001b[0m: index 26000042 is out of bounds for axis 0 with size 106"
     ]
    }
   ],
   "source": [
    "from sklearn.model_selection import train_test_split\n",
    "y_train = df['winner']\n",
    "x_train, decks = [], []\n",
    "\n",
    "# we first combine the DataFrame into 1x106 vectors, where V[i] = 1 if the ith card is in the deck\n",
    "# this \n",
    "for i in range(df.shape[0]):\n",
    "    p1 = np.zeros(106)\n",
    "    p2 = np.zeros(106)\n",
    "    for j in range(1, 9):\n",
    "        p1[df[f'p1_card_{j}_id'][i]] = 1\n",
    "        p2[df[f'p2_card_{j}_id'][i]] = 1\n",
    "    decks.append(p1)\n",
    "    decks.append(p2)\n",
    "    x_train.append(np.concatenate((p1, p2)))\n",
    "    \n",
    "x_train = np.array(x_train)\n",
    "decks = np.array(decks)\n",
    "x_train, x_test, y_train, y_test = train_test_split(x_train, y_train, test_size=0.2, random_state=6233)\n",
    "d_train, d_test = train_test_split(decks, test_size=0.2, random_state=47483)"
   ]
  },
  {
   "cell_type": "code",
   "execution_count": null,
   "metadata": {
    "execution": {
     "iopub.execute_input": "2022-04-11T17:04:12.878803Z",
     "iopub.status.busy": "2022-04-11T17:04:12.878117Z",
     "iopub.status.idle": "2022-04-11T17:04:13.121267Z",
     "shell.execute_reply": "2022-04-11T17:04:13.120345Z",
     "shell.execute_reply.started": "2022-04-11T17:04:12.878762Z"
    },
    "vscode": {
     "languageId": "python"
    }
   },
   "outputs": [],
   "source": [
    "from sklearn.tree import DecisionTreeClassifier\n",
    "from sklearn.neighbors import KNeighborsClassifier\n",
    "from sklearn.ensemble import AdaBoostClassifier, BaggingClassifier, ExtraTreesClassifier, RandomForestClassifier"
   ]
  },
  {
   "cell_type": "code",
   "execution_count": 74,
   "metadata": {
    "execution": {
     "iopub.execute_input": "2022-04-11T17:04:13.123753Z",
     "iopub.status.busy": "2022-04-11T17:04:13.123428Z",
     "iopub.status.idle": "2022-04-11T17:05:08.994533Z",
     "shell.execute_reply": "2022-04-11T17:05:08.993383Z",
     "shell.execute_reply.started": "2022-04-11T17:04:13.123713Z"
    },
    "vscode": {
     "languageId": "python"
    }
   },
   "outputs": [
    {
     "ename": "NameError",
     "evalue": "name 'KNeighborsClassifier' is not defined",
     "output_type": "error",
     "traceback": [
      "\u001b[0;31m---------------------------------------------------------------------------\u001b[0m",
      "\u001b[0;31mNameError\u001b[0m                                 Traceback (most recent call last)",
      "\u001b[0;32m<ipython-input-74-7e8f8fd103ab>\u001b[0m in \u001b[0;36m<module>\u001b[0;34m\u001b[0m\n\u001b[0;32m----> 1\u001b[0;31m \u001b[0mknn\u001b[0m \u001b[0;34m=\u001b[0m \u001b[0mKNeighborsClassifier\u001b[0m\u001b[0;34m(\u001b[0m\u001b[0mn_neighbors\u001b[0m\u001b[0;34m=\u001b[0m\u001b[0;36m5\u001b[0m\u001b[0;34m)\u001b[0m\u001b[0;34m\u001b[0m\u001b[0;34m\u001b[0m\u001b[0m\n\u001b[0m\u001b[1;32m      2\u001b[0m \u001b[0mknn\u001b[0m\u001b[0;34m.\u001b[0m\u001b[0mfit\u001b[0m\u001b[0;34m(\u001b[0m\u001b[0mx_train\u001b[0m\u001b[0;34m,\u001b[0m \u001b[0my_train\u001b[0m\u001b[0;34m)\u001b[0m\u001b[0;34m\u001b[0m\u001b[0;34m\u001b[0m\u001b[0m\n\u001b[1;32m      3\u001b[0m \u001b[0mprint\u001b[0m\u001b[0;34m(\u001b[0m\u001b[0;34m'Training accuracy:\\t'\u001b[0m\u001b[0;34m,\u001b[0m \u001b[0mknn\u001b[0m\u001b[0;34m.\u001b[0m\u001b[0mscore\u001b[0m\u001b[0;34m(\u001b[0m\u001b[0mx_train\u001b[0m\u001b[0;34m,\u001b[0m \u001b[0my_train\u001b[0m\u001b[0;34m)\u001b[0m\u001b[0;34m)\u001b[0m\u001b[0;34m\u001b[0m\u001b[0;34m\u001b[0m\u001b[0m\n\u001b[1;32m      4\u001b[0m \u001b[0mprint\u001b[0m\u001b[0;34m(\u001b[0m\u001b[0;34m'Testing accuracy:\\t'\u001b[0m\u001b[0;34m,\u001b[0m \u001b[0mknn\u001b[0m\u001b[0;34m.\u001b[0m\u001b[0mscore\u001b[0m\u001b[0;34m(\u001b[0m\u001b[0mx_test\u001b[0m\u001b[0;34m,\u001b[0m \u001b[0my_test\u001b[0m\u001b[0;34m)\u001b[0m\u001b[0;34m)\u001b[0m\u001b[0;34m\u001b[0m\u001b[0;34m\u001b[0m\u001b[0m\n",
      "\u001b[0;31mNameError\u001b[0m: name 'KNeighborsClassifier' is not defined"
     ]
    }
   ],
   "source": [
    "knn = KNeighborsClassifier(n_neighbors=5)\n",
    "knn.fit(x_train, y_train)\n",
    "print('Training accuracy:\\t', knn.score(x_train, y_train))\n",
    "print('Testing accuracy:\\t', knn.score(x_test, y_test))"
   ]
  },
  {
   "cell_type": "code",
   "execution_count": null,
   "metadata": {
    "execution": {
     "iopub.execute_input": "2022-04-11T17:05:08.996554Z",
     "iopub.status.busy": "2022-04-11T17:05:08.996121Z",
     "iopub.status.idle": "2022-04-11T17:05:08.999825Z",
     "shell.execute_reply": "2022-04-11T17:05:08.99906Z",
     "shell.execute_reply.started": "2022-04-11T17:05:08.996517Z"
    },
    "vscode": {
     "languageId": "python"
    }
   },
   "outputs": [],
   "source": [
    "# ada = AdaBoostClassifier(DecisionTreeClassifier(max_depth=20))\n",
    "# ada.fit(x_train, y_train)\n",
    "# print('Training accuracy:\\t', ada.score(x_train, y_train))\n",
    "# print('Testing accuracy:\\t', ada.score(x_test, y_test))"
   ]
  },
  {
   "cell_type": "code",
   "execution_count": null,
   "metadata": {
    "execution": {
     "iopub.execute_input": "2022-04-11T17:05:09.002721Z",
     "iopub.status.busy": "2022-04-11T17:05:09.00216Z",
     "iopub.status.idle": "2022-04-11T17:05:19.560104Z",
     "shell.execute_reply": "2022-04-11T17:05:19.559098Z",
     "shell.execute_reply.started": "2022-04-11T17:05:09.002686Z"
    },
    "vscode": {
     "languageId": "python"
    }
   },
   "outputs": [],
   "source": [
    "bagging = BaggingClassifier(DecisionTreeClassifier(max_depth=20))\n",
    "bagging.fit(x_train, y_train)\n",
    "print('Training accuracy:\\t', bagging.score(x_train, y_train))\n",
    "print('Testing accuracy:\\t', bagging.score(x_test, y_test))"
   ]
  },
  {
   "cell_type": "code",
   "execution_count": null,
   "metadata": {
    "execution": {
     "iopub.execute_input": "2022-04-11T17:05:19.561681Z",
     "iopub.status.busy": "2022-04-11T17:05:19.561406Z",
     "iopub.status.idle": "2022-04-11T17:05:35.384486Z",
     "shell.execute_reply": "2022-04-11T17:05:35.383316Z",
     "shell.execute_reply.started": "2022-04-11T17:05:19.561651Z"
    },
    "vscode": {
     "languageId": "python"
    }
   },
   "outputs": [],
   "source": [
    "extra = ExtraTreesClassifier(max_depth=20)\n",
    "extra.fit(x_train, y_train)\n",
    "print('Training accuracy:\\t', extra.score(x_train, y_train))\n",
    "print('Testing accuracy:\\t', extra.score(x_test, y_test))"
   ]
  },
  {
   "cell_type": "code",
   "execution_count": null,
   "metadata": {
    "execution": {
     "iopub.execute_input": "2022-04-11T17:05:35.386026Z",
     "iopub.status.busy": "2022-04-11T17:05:35.3858Z",
     "iopub.status.idle": "2022-04-11T17:05:46.258677Z",
     "shell.execute_reply": "2022-04-11T17:05:46.257807Z",
     "shell.execute_reply.started": "2022-04-11T17:05:35.385999Z"
    },
    "vscode": {
     "languageId": "python"
    }
   },
   "outputs": [],
   "source": [
    "rf = RandomForestClassifier(max_depth=20)\n",
    "rf.fit(x_train, y_train)\n",
    "print('Training accuracy:\\t', rf.score(x_train, y_train))\n",
    "print('Testing accuracy:\\t', rf.score(x_test, y_test))"
   ]
  },
  {
   "cell_type": "markdown",
   "metadata": {},
   "source": [
    "#### Remarks:\n",
    "Unfortunately, our models does not seem to have a good predictions overall (the score is only a bit better than random guessing). In the following parts of the notebook, we are going to see if we could obtain a better fit on this dataset."
   ]
  },
  {
   "cell_type": "markdown",
   "metadata": {},
   "source": [
    "## 4. Decks Analysis:\n",
    "Let us dig deeper into the dataset by analyzing the decks, which seems to be most correlated.\n",
    "\n",
    "We first visualize the correlation matrix (now with the new encoding)."
   ]
  },
  {
   "cell_type": "code",
   "execution_count": 54,
   "metadata": {
    "execution": {
     "iopub.execute_input": "2022-04-11T17:05:46.260684Z",
     "iopub.status.busy": "2022-04-11T17:05:46.260308Z",
     "iopub.status.idle": "2022-04-11T17:05:46.746082Z",
     "shell.execute_reply": "2022-04-11T17:05:46.745358Z",
     "shell.execute_reply.started": "2022-04-11T17:05:46.260629Z"
    },
    "vscode": {
     "languageId": "python"
    }
   },
   "outputs": [
    {
     "ename": "AttributeError",
     "evalue": "'list' object has no attribute 'T'",
     "output_type": "error",
     "traceback": [
      "\u001b[0;31m---------------------------------------------------------------------------\u001b[0m",
      "\u001b[0;31mAttributeError\u001b[0m                            Traceback (most recent call last)",
      "\u001b[0;32m<ipython-input-54-e87d0353160a>\u001b[0m in \u001b[0;36m<module>\u001b[0;34m\u001b[0m\n\u001b[0;32m----> 1\u001b[0;31m \u001b[0md_corr\u001b[0m \u001b[0;34m=\u001b[0m \u001b[0mnp\u001b[0m\u001b[0;34m.\u001b[0m\u001b[0mcorrcoef\u001b[0m\u001b[0;34m(\u001b[0m\u001b[0mdecks\u001b[0m\u001b[0;34m.\u001b[0m\u001b[0mT\u001b[0m\u001b[0;34m)\u001b[0m\u001b[0;34m\u001b[0m\u001b[0;34m\u001b[0m\u001b[0m\n\u001b[0m\u001b[1;32m      2\u001b[0m \u001b[0mf\u001b[0m \u001b[0;34m=\u001b[0m \u001b[0mplt\u001b[0m\u001b[0;34m.\u001b[0m\u001b[0mfigure\u001b[0m\u001b[0;34m(\u001b[0m\u001b[0mfigsize\u001b[0m\u001b[0;34m=\u001b[0m\u001b[0;34m(\u001b[0m\u001b[0;36m16\u001b[0m\u001b[0;34m,\u001b[0m \u001b[0;36m12\u001b[0m\u001b[0;34m)\u001b[0m\u001b[0;34m)\u001b[0m\u001b[0;34m\u001b[0m\u001b[0;34m\u001b[0m\u001b[0m\n\u001b[1;32m      3\u001b[0m \u001b[0mplt\u001b[0m\u001b[0;34m.\u001b[0m\u001b[0mimshow\u001b[0m\u001b[0;34m(\u001b[0m\u001b[0mnp\u001b[0m\u001b[0;34m.\u001b[0m\u001b[0mabs\u001b[0m\u001b[0;34m(\u001b[0m\u001b[0md_corr\u001b[0m\u001b[0;34m)\u001b[0m\u001b[0;34m)\u001b[0m\u001b[0;34m\u001b[0m\u001b[0;34m\u001b[0m\u001b[0m\n\u001b[1;32m      4\u001b[0m \u001b[0mplt\u001b[0m\u001b[0;34m.\u001b[0m\u001b[0mtitle\u001b[0m\u001b[0;34m(\u001b[0m\u001b[0;34m'Correlation Matrix'\u001b[0m\u001b[0;34m)\u001b[0m\u001b[0;34m\u001b[0m\u001b[0;34m\u001b[0m\u001b[0m\n\u001b[1;32m      5\u001b[0m \u001b[0mplt\u001b[0m\u001b[0;34m.\u001b[0m\u001b[0mcolorbar\u001b[0m\u001b[0;34m(\u001b[0m\u001b[0;34m)\u001b[0m\u001b[0;34m\u001b[0m\u001b[0;34m\u001b[0m\u001b[0m\n",
      "\u001b[0;31mAttributeError\u001b[0m: 'list' object has no attribute 'T'"
     ]
    }
   ],
   "source": [
    "d_corr = np.corrcoef(decks.T)\n",
    "f = plt.figure(figsize=(16, 12))\n",
    "plt.imshow(np.abs(d_corr))\n",
    "plt.title('Correlation Matrix')\n",
    "plt.colorbar()\n",
    "plt.show()"
   ]
  },
  {
   "cell_type": "markdown",
   "metadata": {},
   "source": [
    "#### Remarks:\n",
    "We want to observe which pairs have the highest synergy. The following cells sets all correlation under the diagonal to 0, and sort them by value."
   ]
  },
  {
   "cell_type": "code",
   "execution_count": null,
   "metadata": {
    "execution": {
     "iopub.execute_input": "2022-04-11T17:05:46.747154Z",
     "iopub.status.busy": "2022-04-11T17:05:46.746964Z",
     "iopub.status.idle": "2022-04-11T17:05:47.098894Z",
     "shell.execute_reply": "2022-04-11T17:05:47.098073Z",
     "shell.execute_reply.started": "2022-04-11T17:05:46.747129Z"
    },
    "vscode": {
     "languageId": "python"
    }
   },
   "outputs": [],
   "source": [
    "d_corr_u = np.triu(d_corr, k=1)\n",
    "d_corr_u\n",
    "f = plt.figure(figsize=(16, 12))\n",
    "plt.imshow(np.abs(d_corr_u))\n",
    "plt.title('Correlation Matrix')\n",
    "plt.colorbar()\n",
    "plt.show()"
   ]
  },
  {
   "cell_type": "code",
   "execution_count": null,
   "metadata": {
    "execution": {
     "iopub.execute_input": "2022-04-11T17:05:47.101113Z",
     "iopub.status.busy": "2022-04-11T17:05:47.100197Z",
     "iopub.status.idle": "2022-04-11T17:05:47.108765Z",
     "shell.execute_reply": "2022-04-11T17:05:47.107744Z",
     "shell.execute_reply.started": "2022-04-11T17:05:47.101064Z"
    },
    "vscode": {
     "languageId": "python"
    }
   },
   "outputs": [],
   "source": [
    "d_corr_flat = d_corr_u.flatten()\n",
    "d_corr_argsort = np.argsort(d_corr_flat)\n",
    "d_corr_high = [(x // 106, x % 106, d_corr_flat[x]) for x in d_corr_argsort[:-31:-1]]\n",
    "d_corr_low = [(x // 106, x % 106, d_corr_flat[x]) for x in d_corr_argsort[:30]]"
   ]
  },
  {
   "cell_type": "code",
   "execution_count": null,
   "metadata": {
    "execution": {
     "iopub.execute_input": "2022-04-11T17:05:47.110248Z",
     "iopub.status.busy": "2022-04-11T17:05:47.110033Z",
     "iopub.status.idle": "2022-04-11T17:05:47.128157Z",
     "shell.execute_reply": "2022-04-11T17:05:47.127084Z",
     "shell.execute_reply.started": "2022-04-11T17:05:47.110222Z"
    },
    "vscode": {
     "languageId": "python"
    }
   },
   "outputs": [],
   "source": [
    "[(card_names[x], card_names[y], z) for (x, y, z) in d_corr_high]"
   ]
  },
  {
   "cell_type": "code",
   "execution_count": null,
   "metadata": {
    "execution": {
     "iopub.execute_input": "2022-04-11T17:05:47.129982Z",
     "iopub.status.busy": "2022-04-11T17:05:47.129603Z",
     "iopub.status.idle": "2022-04-11T17:05:47.145753Z",
     "shell.execute_reply": "2022-04-11T17:05:47.144842Z",
     "shell.execute_reply.started": "2022-04-11T17:05:47.129938Z"
    },
    "vscode": {
     "languageId": "python"
    }
   },
   "outputs": [],
   "source": [
    "[(card_names[x], card_names[y], z) for (x, y, z) in d_corr_low]"
   ]
  },
  {
   "cell_type": "markdown",
   "metadata": {},
   "source": [
    "#### Remarks:\n",
    "We observe that these card pairs are very common in the strongest decks (from https://www.deckshop.pro/)."
   ]
  },
  {
   "cell_type": "markdown",
   "metadata": {},
   "source": [
    "## 5. A deeper look at Outcome:\n",
    "### a. Applying PCA:"
   ]
  },
  {
   "cell_type": "code",
   "execution_count": null,
   "metadata": {
    "execution": {
     "iopub.execute_input": "2022-04-11T17:05:47.147843Z",
     "iopub.status.busy": "2022-04-11T17:05:47.146905Z",
     "iopub.status.idle": "2022-04-11T17:05:48.973694Z",
     "shell.execute_reply": "2022-04-11T17:05:48.972717Z",
     "shell.execute_reply.started": "2022-04-11T17:05:47.147801Z"
    },
    "vscode": {
     "languageId": "python"
    }
   },
   "outputs": [],
   "source": [
    "data = np.copy(x_train).T.tolist()\n",
    "data.append(y_train)\n",
    "data = np.array(data)"
   ]
  },
  {
   "cell_type": "code",
   "execution_count": null,
   "metadata": {
    "execution": {
     "iopub.execute_input": "2022-04-11T17:05:48.975577Z",
     "iopub.status.busy": "2022-04-11T17:05:48.975123Z",
     "iopub.status.idle": "2022-04-11T17:05:49.484582Z",
     "shell.execute_reply": "2022-04-11T17:05:49.483679Z",
     "shell.execute_reply.started": "2022-04-11T17:05:48.975531Z"
    },
    "vscode": {
     "languageId": "python"
    }
   },
   "outputs": [],
   "source": [
    "corr = np.corrcoef(data)\n",
    "f = plt.figure(figsize=(16, 12))\n",
    "plt.imshow(np.abs(corr))\n",
    "plt.title('Correlation Matrix')\n",
    "plt.colorbar()\n",
    "plt.show()"
   ]
  },
  {
   "cell_type": "code",
   "execution_count": null,
   "metadata": {
    "execution": {
     "iopub.execute_input": "2022-04-11T17:05:49.48611Z",
     "iopub.status.busy": "2022-04-11T17:05:49.485853Z",
     "iopub.status.idle": "2022-04-11T17:05:50.62099Z",
     "shell.execute_reply": "2022-04-11T17:05:50.619965Z",
     "shell.execute_reply.started": "2022-04-11T17:05:49.486079Z"
    },
    "vscode": {
     "languageId": "python"
    }
   },
   "outputs": [],
   "source": [
    "from sklearn.decomposition import PCA\n",
    "pca = PCA(n_components=3)\n",
    "x_train_pca = pca.fit_transform(x_train)"
   ]
  },
  {
   "cell_type": "code",
   "execution_count": null,
   "metadata": {
    "execution": {
     "iopub.execute_input": "2022-04-11T17:05:50.623672Z",
     "iopub.status.busy": "2022-04-11T17:05:50.622841Z",
     "iopub.status.idle": "2022-04-11T17:05:51.032909Z",
     "shell.execute_reply": "2022-04-11T17:05:51.031577Z",
     "shell.execute_reply.started": "2022-04-11T17:05:50.623616Z"
    },
    "vscode": {
     "languageId": "python"
    }
   },
   "outputs": [],
   "source": [
    "data = np.copy(x_train_pca).T.tolist()\n",
    "data.append(y_train)\n",
    "data = np.array(data)\n",
    "corr = np.corrcoef(data)\n",
    "f = plt.figure(figsize=(16, 12))\n",
    "plt.imshow(np.abs(corr))\n",
    "plt.title('Correlation Matrix')\n",
    "plt.colorbar()\n",
    "plt.show()"
   ]
  },
  {
   "cell_type": "code",
   "execution_count": null,
   "metadata": {
    "execution": {
     "iopub.execute_input": "2022-04-11T17:05:51.03473Z",
     "iopub.status.busy": "2022-04-11T17:05:51.034404Z",
     "iopub.status.idle": "2022-04-11T17:05:52.731216Z",
     "shell.execute_reply": "2022-04-11T17:05:52.730356Z",
     "shell.execute_reply.started": "2022-04-11T17:05:51.03469Z"
    },
    "vscode": {
     "languageId": "python"
    }
   },
   "outputs": [],
   "source": [
    "fig = plt.figure()\n",
    "ax = fig.add_subplot(projection='3d')\n",
    "ax.scatter(x_train_pca[:,0].flatten(), x_train_pca[:, 1].flatten(), x_train_pca[:, 2].flatten(), c = y_train.tolist())"
   ]
  },
  {
   "cell_type": "code",
   "execution_count": null,
   "metadata": {
    "execution": {
     "iopub.execute_input": "2022-04-11T17:05:52.732699Z",
     "iopub.status.busy": "2022-04-11T17:05:52.732488Z",
     "iopub.status.idle": "2022-04-11T17:05:54.569673Z",
     "shell.execute_reply": "2022-04-11T17:05:54.568778Z",
     "shell.execute_reply.started": "2022-04-11T17:05:52.732672Z"
    },
    "vscode": {
     "languageId": "python"
    }
   },
   "outputs": [],
   "source": [
    "plt.scatter(x_train_pca[:,0].flatten(), x_train_pca[:, 1].flatten(), c = y_train.tolist())"
   ]
  },
  {
   "cell_type": "code",
   "execution_count": null,
   "metadata": {
    "execution": {
     "iopub.execute_input": "2022-04-11T17:05:54.571291Z",
     "iopub.status.busy": "2022-04-11T17:05:54.571042Z",
     "iopub.status.idle": "2022-04-11T17:05:54.575729Z",
     "shell.execute_reply": "2022-04-11T17:05:54.574808Z",
     "shell.execute_reply.started": "2022-04-11T17:05:54.571261Z"
    },
    "vscode": {
     "languageId": "python"
    }
   },
   "outputs": [],
   "source": [
    "# ada = AdaBoostClassifier(DecisionTreeClassifier(max_depth=15))\n",
    "# ada.fit(x_train_pca, y_train)\n",
    "# print('Training accuracy:\\t', ada.score(x_train_pca, y_train))\n",
    "# print('Testing accuracy:\\t', ada.score(pca.transform(x_test), y_test))"
   ]
  },
  {
   "cell_type": "code",
   "execution_count": null,
   "metadata": {
    "execution": {
     "iopub.execute_input": "2022-04-11T17:05:54.577557Z",
     "iopub.status.busy": "2022-04-11T17:05:54.577078Z",
     "iopub.status.idle": "2022-04-11T17:05:57.033118Z",
     "shell.execute_reply": "2022-04-11T17:05:57.03219Z",
     "shell.execute_reply.started": "2022-04-11T17:05:54.577522Z"
    },
    "vscode": {
     "languageId": "python"
    }
   },
   "outputs": [],
   "source": [
    "extra = ExtraTreesClassifier(max_depth=15)\n",
    "extra.fit(x_train_pca, y_train)\n",
    "print('Training accuracy:\\t', extra.score(x_train_pca, y_train))\n",
    "print('Testing accuracy:\\t', extra.score(pca.transform(x_test), y_test))"
   ]
  },
  {
   "cell_type": "markdown",
   "metadata": {},
   "source": [
    "### b. How about Neural Network?\n",
    "Let's try to see if we can instead obtain a good score using Neural Network. \n",
    "\n",
    "We first try a naive Neural Network, with all layers are dense, and two Dropouts."
   ]
  },
  {
   "cell_type": "code",
   "execution_count": null,
   "metadata": {
    "execution": {
     "iopub.execute_input": "2022-04-11T14:46:27.929142Z",
     "iopub.status.busy": "2022-04-11T14:46:27.928882Z",
     "iopub.status.idle": "2022-04-11T14:47:30.390092Z",
     "shell.execute_reply": "2022-04-11T14:47:30.389088Z",
     "shell.execute_reply.started": "2022-04-11T14:46:27.929111Z"
    },
    "vscode": {
     "languageId": "python"
    }
   },
   "outputs": [],
   "source": [
    "from tensorflow import keras\n",
    "nn = keras.Sequential([\n",
    "    keras.layers.Dense(128, activation='ReLU'),\n",
    "    keras.layers.Dense(32, activation='tanh'),\n",
    "    keras.layers.Dropout(0.2),\n",
    "    keras.layers.BatchNormalization(),\n",
    "    keras.layers.Dense(16, activation='ReLU'),\n",
    "    keras.layers.Dropout(0.2),\n",
    "    keras.layers.BatchNormalization(),\n",
    "    keras.layers.Dense(4, activation='ReLU'),\n",
    "    keras.layers.Dense(1, activation='sigmoid'),\n",
    "])\n",
    "early_stopping = keras.callbacks.EarlyStopping(monitor='loss', patience=2)\n",
    "nn.compile(\n",
    "    optimizer=keras.optimizers.SGD(learning_rate=0.0001),\n",
    "    loss=\"binary_crossentropy\",\n",
    "    metrics=['accuracy'],\n",
    ")\n",
    "nn.fit(x_train, y_train, validation_split=0.1, epochs=10, batch_size=16, callbacks=[early_stopping])"
   ]
  },
  {
   "cell_type": "code",
   "execution_count": null,
   "metadata": {
    "execution": {
     "iopub.execute_input": "2022-04-11T15:16:56.237401Z",
     "iopub.status.busy": "2022-04-11T15:16:56.237152Z",
     "iopub.status.idle": "2022-04-11T15:16:56.258959Z",
     "shell.execute_reply": "2022-04-11T15:16:56.257895Z",
     "shell.execute_reply.started": "2022-04-11T15:16:56.23737Z"
    },
    "vscode": {
     "languageId": "python"
    }
   },
   "outputs": [],
   "source": [
    "nn.evaluate(x_test, y_test)"
   ]
  },
  {
   "cell_type": "markdown",
   "metadata": {},
   "source": [
    "#### Remarks: \n",
    "The previous one did not really give a very good score, so let's try to see if we could use a different network structure.\n",
    "\n",
    "Through the previous analysis on Decks, we observe that a deck is characterized by a small number of cards. With that in mind, it makes sense to use CNN on this model, as in the following cell."
   ]
  },
  {
   "cell_type": "code",
   "execution_count": null,
   "metadata": {
    "execution": {
     "iopub.execute_input": "2022-04-16T09:03:07.501389Z",
     "iopub.status.busy": "2022-04-16T09:03:07.500728Z",
     "iopub.status.idle": "2022-04-16T09:08:02.99436Z",
     "shell.execute_reply": "2022-04-16T09:08:02.993693Z",
     "shell.execute_reply.started": "2022-04-16T09:03:07.501351Z"
    },
    "vscode": {
     "languageId": "python"
    }
   },
   "outputs": [],
   "source": [
    "from tensorflow import keras\n",
    "cnn = keras.Sequential([\n",
    "    keras.layers.Dense(212, activation='relu'),\n",
    "    keras.layers.Conv1D(32, 4, padding='same', activation='relu'),\n",
    "    keras.layers.Conv1D(32, 4, activation='relu'),\n",
    "    keras.layers.Dropout(0.2),\n",
    "    keras.layers.BatchNormalization(),\n",
    "    \n",
    "    keras.layers.MaxPool1D(8),\n",
    "    keras.layers.Conv1D(64, 4, activation='relu'),\n",
    "    keras.layers.Conv1D(64, 4, activation='relu'),\n",
    "    keras.layers.Dropout(0.2),\n",
    "    keras.layers.BatchNormalization(),\n",
    "    \n",
    "    keras.layers.MaxPool1D(8),\n",
    "    keras.layers.Dense(128, activation='ReLU'),\n",
    "    keras.layers.Dense(32, activation='relu'),\n",
    "    keras.layers.Dropout(0.2),\n",
    "    keras.layers.BatchNormalization(),\n",
    "    keras.layers.Dense(16, activation='relu'),\n",
    "    keras.layers.Dropout(0.2),\n",
    "    keras.layers.BatchNormalization(),\n",
    "    keras.layers.Dense(4, activation='relu'),\n",
    "    keras.layers.Dense(1, activation='sigmoid'),\n",
    "])\n",
    "early_stopping = keras.callbacks.EarlyStopping(monitor='accuracy', patience=5)\n",
    "cnn.compile(\n",
    "    optimizer=keras.optimizers.SGD(learning_rate=0.001),\n",
    "    loss=\"binary_crossentropy\",\n",
    "    metrics=['accuracy'],\n",
    ")\n",
    "cnn.fit(x_train.reshape((x_train.shape[0], x_train.shape[1], 1)), y_train, validation_split=0.1, epochs=30, batch_size=16, callbacks=[early_stopping])"
   ]
  },
  {
   "cell_type": "code",
   "execution_count": null,
   "metadata": {
    "execution": {
     "iopub.execute_input": "2022-04-16T09:08:02.996404Z",
     "iopub.status.busy": "2022-04-16T09:08:02.996106Z",
     "iopub.status.idle": "2022-04-16T09:08:04.817185Z",
     "shell.execute_reply": "2022-04-16T09:08:04.816533Z",
     "shell.execute_reply.started": "2022-04-16T09:08:02.996348Z"
    },
    "vscode": {
     "languageId": "python"
    }
   },
   "outputs": [],
   "source": [
    "cnn.evaluate(x_test.reshape((x_test.shape[0], x_test.shape[1], 1)), y_test)"
   ]
  },
  {
   "cell_type": "markdown",
   "metadata": {},
   "source": [
    "#### Remarks:\n",
    "The result indeed looks much better than our naive model. We observe that indeed, it is better to look at a match in terms of the main cards used in each battle.\n",
    "\n",
    "However, it appears that, unfortunately, we cannot really get a much better prediction of outcome than decision trees.\n",
    "\n",
    "Still, with our previous analysis, it seems that we could try and get a good result at deck building."
   ]
  },
  {
   "cell_type": "markdown",
   "metadata": {},
   "source": [
    "## 6. Deck Building:"
   ]
  },
  {
   "cell_type": "code",
   "execution_count": null,
   "metadata": {
    "execution": {
     "iopub.execute_input": "2022-04-11T17:05:57.034808Z",
     "iopub.status.busy": "2022-04-11T17:05:57.034563Z",
     "iopub.status.idle": "2022-04-11T17:05:57.050796Z",
     "shell.execute_reply": "2022-04-11T17:05:57.049463Z",
     "shell.execute_reply.started": "2022-04-11T17:05:57.034778Z"
    },
    "vscode": {
     "languageId": "python"
    }
   },
   "outputs": [],
   "source": [
    "synergies = np.array([(i, j, d_corr[i][j]) for i in range(N_CARDS) for j in range(i+1, N_CARDS)])"
   ]
  },
  {
   "cell_type": "code",
   "execution_count": null,
   "metadata": {
    "execution": {
     "iopub.execute_input": "2022-04-11T17:05:57.052274Z",
     "iopub.status.busy": "2022-04-11T17:05:57.05205Z",
     "iopub.status.idle": "2022-04-11T17:05:57.589881Z",
     "shell.execute_reply": "2022-04-11T17:05:57.589041Z",
     "shell.execute_reply.started": "2022-04-11T17:05:57.052243Z"
    },
    "vscode": {
     "languageId": "python"
    }
   },
   "outputs": [],
   "source": [
    "import seaborn as sns\n",
    "x_train, y_train = synergies[:, :2], synergies[:, 2]\n",
    "fig = plt.figure(figsize=(12, 8))\n",
    "sns.distplot(y_train)"
   ]
  },
  {
   "cell_type": "markdown",
   "metadata": {
    "vscode": {
     "languageId": "python"
    }
   },
   "source": [
    "## 7. Elixir Analysis:"
   ]
  },
  {
   "cell_type": "code",
   "execution_count": 65,
   "metadata": {},
   "outputs": [],
   "source": [
    "cards = pd.read_csv('data/cards.csv')\n",
    "cards_elixir = cards[['id', 'elixir']]\n",
    "# create map for card ID and row\n",
    "id_map = {}\n",
    "for row in cards_elixir.index:\n",
    "    id_map[cards_elixir.loc[row, 'id']] = row"
   ]
  },
  {
   "cell_type": "code",
   "execution_count": 93,
   "metadata": {},
   "outputs": [],
   "source": [
    "p1_elixir = []\n",
    "p2_elixir = []\n",
    "p_elixir_greater = []\n",
    "\n",
    "for (p1,p2) in zip(p1_cards.index, p2_cards.index):\n",
    "    avg1 = 0\n",
    "    avg2 = 0\n",
    "    for i in range(8):\n",
    "        card1 = id_map[p1_cards.iloc[p1, i]]\n",
    "        card2 = id_map[p2_cards.iloc[p2, i]]\n",
    "\n",
    "        avg1 += cards.at[card1,\"elixir\"]\n",
    "        avg2 += cards.at[card2,\"elixir\"]\n",
    "        \n",
    "    avg1/=8.0\n",
    "    avg2/=8.0\n",
    "    p1_elixir.append(avg1)\n",
    "    p2_elixir.append(avg2)\n",
    "    if (avg1 > avg2):\n",
    "        p_elixir_greater.append(1)\n",
    "    elif(avg1 == avg2):\n",
    "        p_elixir_greater.append(0)\n",
    "    else:\n",
    "        p_elixir_greater.append(2)\n",
    "    "
   ]
  },
  {
   "cell_type": "code",
   "execution_count": 94,
   "metadata": {},
   "outputs": [
    {
     "name": "stdout",
     "output_type": "stream",
     "text": [
      "   winner  p1_crowns  p2_crowns  p1_elixir  p2_elixir  p_elixir_greater\n",
      "0       1          2          1       4.25      3.125                 1\n",
      "1       1          2          1       4.25      3.250                 1\n",
      "2       2          1          3       4.25      4.250                 0\n",
      "3       1          1          0       4.25      3.750                 1\n",
      "4       1          1          0       4.25      3.750                 1\n"
     ]
    }
   ],
   "source": [
    "battles['p1_elixir'] = p1_elixir\n",
    "battles['p2_elixir'] = p2_elixir\n",
    "battles['p_elixir_greater'] = p_elixir_greater\n",
    "df = battles[[\"winner\", \"p1_crowns\", \"p2_crowns\", \"p1_elixir\", \"p2_elixir\", \"p_elixir_greater\"]]\n",
    "print(df[:5])"
   ]
  },
  {
   "cell_type": "code",
   "execution_count": 95,
   "metadata": {},
   "outputs": [],
   "source": [
    "corr = df.corr()"
   ]
  },
  {
   "cell_type": "code",
   "execution_count": 96,
   "metadata": {},
   "outputs": [
    {
     "data": {
      "image/png": "[encoded data removed]",
      "text/plain": [
       "<Figure size 864x864 with 2 Axes>"
      ]
     },
     "metadata": {
      "needs_background": "light"
     },
     "output_type": "display_data"
    }
   ],
   "source": [
    "f = plt.figure(figsize=(12, 12))\n",
    "plt.imshow(np.abs(corr))\n",
    "plt.title('Correlation Matrix')\n",
    "plt.xticks(np.arange(df.shape[1]), df.columns, rotation=45)\n",
    "plt.yticks(np.arange(df.shape[1]), df.columns)\n",
    "plt.colorbar()\n",
    "plt.show()"
   ]
  },
  {
   "cell_type": "markdown",
   "metadata": {},
   "source": []
  },
  {
   "cell_type": "code",
   "execution_count": null,
   "metadata": {},
   "outputs": [],
   "source": []
  },
  {
   "cell_type": "markdown",
   "metadata": {},
   "source": []
  },
  {
   "cell_type": "code",
   "execution_count": null,
   "metadata": {},
   "outputs": [],
   "source": []
  },
  {
   "cell_type": "markdown",
   "metadata": {},
   "source": []
  },
  {
   "cell_type": "code",
   "execution_count": null,
   "metadata": {},
   "outputs": [],
   "source": []
  },
  {
   "cell_type": "markdown",
   "metadata": {},
   "source": []
  },
  {
   "cell_type": "markdown",
   "metadata": {},
   "source": [
    "## 8. Troop Type Analysis"
   ]
  },
  {
   "cell_type": "markdown",
   "metadata": {},
   "source": [
    "Now, we will try to analyze the decks based on the types of cards. In the original data, we have 3 types of cards: \n",
    "- $Troop$\n",
    "- $Spell$ \n",
    "- $Building$ \n",
    "\n",
    "But, we will divide the $Troop$ type into:\n",
    "- $Air\\_Troop$ \n",
    "- $Ground\\_Troop$\n",
    "\n",
    "The difference between these two is that $Air\\_Troop$ have $flying\\_height>0$ and as the name suggests, they are positioned above 0 on the z-axis in the game. The number of $Air\\_Troops$ may/may not have an effect on the result of the match and that is why we will try to train our models and see if our predictions are any better with these troop types. We modify the data accordingly in the cell below. "
   ]
  },
  {
   "cell_type": "code",
   "execution_count": 14,
   "metadata": {},
   "outputs": [
    {
     "name": "stdout",
     "output_type": "stream",
     "text": [
      "Unique cards before modification: ['Troop', 'Building', 'Spell']\n",
      "       key  elixir   type  rarity\n",
      "0   knight       3  Troop  Common\n",
      "1  archers       3  Troop  Common\n",
      "2  goblins       2  Troop  Common\n",
      "3    giant       5  Troop    Rare\n",
      "4    pekka       7  Troop    Epic\n",
      "\n",
      "Unique cards after modification: ['Air_Troop', 'Building', 'Ground_Troop', 'Spell']\n",
      "       key  elixir          type  rarity\n",
      "0   knight       3  Ground_Troop  Common\n",
      "1  archers       3  Ground_Troop  Common\n",
      "2  goblins       2  Ground_Troop  Common\n",
      "3    giant       5  Ground_Troop    Rare\n",
      "4    pekka       7  Ground_Troop    Epic\n"
     ]
    }
   ],
   "source": [
    "cards = pd.read_csv('data/cards.csv')\n",
    "print(\"Unique cards before modification:\", cards['type'].unique().tolist())\n",
    "print(cards[['key', 'elixir', 'type', 'rarity']][:5])\n",
    "\n",
    "for row_index in cards.index:\n",
    "#     print(cards.loc[row_index])\n",
    "    if cards.loc[row_index, 'type'] == 'Troop':\n",
    "        if cards.loc[row_index, 'flying_height'] > 0:\n",
    "            cards.loc[row_index, 'type'] = 'Air_Troop'\n",
    "        else:\n",
    "            cards.loc[row_index, 'type'] = 'Ground_Troop'\n",
    "print(\"\")\n",
    "print(\"Unique cards after modification:\", sorted(cards['type'].unique()))\n",
    "print(cards[['key', 'elixir', 'type', 'rarity']][:5])"
   ]
  },
  {
   "cell_type": "code",
   "execution_count": null,
   "metadata": {},
   "outputs": [],
   "source": []
  },
  {
   "cell_type": "code",
   "execution_count": null,
   "metadata": {},
   "outputs": [],
   "source": []
  },
  {
   "cell_type": "code",
   "execution_count": null,
   "metadata": {},
   "outputs": [],
   "source": []
  },
  {
   "cell_type": "markdown",
   "metadata": {},
   "source": [
    "## 9. Troop Rarity Analysis"
   ]
  },
  {
   "cell_type": "code",
   "execution_count": null,
   "metadata": {},
   "outputs": [],
   "source": []
  },
  {
   "cell_type": "code",
   "execution_count": null,
   "metadata": {},
   "outputs": [],
   "source": []
  },
  {
   "cell_type": "code",
   "execution_count": null,
   "metadata": {},
   "outputs": [],
   "source": []
  }
 ],
 "metadata": {
  "kernelspec": {
   "display_name": "CSE204",
   "language": "python",
   "name": "cse204"
  },
  "language_info": {
   "codemirror_mode": {
    "name": "ipython",
    "version": 3
   },
   "file_extension": ".py",
   "mimetype": "text/x-python",
   "name": "python",
   "nbconvert_exporter": "python",
   "pygments_lexer": "ipython3",
   "version": "3.8.8"
  }
 },
 "nbformat": 4,
 "nbformat_minor": 4
}
