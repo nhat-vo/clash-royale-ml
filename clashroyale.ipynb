{
 "cells": [
  {
   "cell_type": "markdown",
   "metadata": {},
   "source": [
    "<a href=\"https://www.kaggle.com/code/duynhatvo/clashroyale?scriptVersionId=93721569\" target=\"_blank\"><img align=\"left\" alt=\"Kaggle\" title=\"Open in Kaggle\" src=\"https://kaggle.com/static/images/open-in-kaggle.svg\"></a>"
   ]
  },
  {
   "cell_type": "markdown",
   "metadata": {},
   "source": [
    "# Clash Royale Dataset Analysis"
   ]
  },
  {
   "cell_type": "markdown",
   "metadata": {},
   "source": [
    "## 1. Introduction\n",
    "\n",
    "In this notebook, we are going to analyze the [Clash Royale Dataset](https://www.kaggle.com/datasets/nonrice/clash-royale-battles-upper-ladder-december-2021). This dataset documents over 700 thousands matches of the mobile game [Clash Royale](https://clashroyale.com/) by Supercell. We will first brief through the basic mechanics of the games and the goal of this project, then the analysis and conclusion part."
   ]
  },
  {
   "cell_type": "markdown",
   "metadata": {},
   "source": [
    "## 2. Objectives:\n",
    "### a. Clash Royale:\n",
    "Clash Royale is a realtime strategy mobile game, where 2 players fight over a 3-minute match to destroy their opponent's towers. Each player will have a prechosen deck consisting of 8 cards, and will continuously deploy their cards which are either minions or spells. The game ends after 3 minutes, or if a player's main tower is destroyed.\n",
    "\n",
    "As simple as it may sound, analyzing who would win a match is very difficult, due to the huge permutations of cards (there are 106 cards in total), as well as the different players' skills. In this notebook, we are going to analyze the dataset with the following assumptions:\n",
    "- The matches happen in a small time span (December 2021), and no update (tweaks to each card's stats) are done.\n",
    "- The matches happen between the top-ranked players in the world, and they all have very similar skills.\n",
    "\n",
    "### b. Our approach:\n",
    "In this notebook, we are going to try and see whether we can predict an outcome of a match using the decks and the rank of each player."
   ]
  },
  {
   "cell_type": "code",
   "execution_count": 31,
   "metadata": {
    "_cell_guid": "b1076dfc-b9ad-4769-8c92-a6c4dae69d19",
    "_uuid": "8f2839f25d086af736a60e9eeb907d3b93b6e0e5",
    "execution": {
     "iopub.execute_input": "2022-04-22T13:00:16.978456Z",
     "iopub.status.busy": "2022-04-22T13:00:16.977804Z",
     "iopub.status.idle": "2022-04-22T13:00:17.007514Z",
     "shell.execute_reply": "2022-04-22T13:00:17.006534Z",
     "shell.execute_reply.started": "2022-04-22T13:00:16.97836Z"
    },
    "vscode": {
     "languageId": "python"
    }
   },
   "outputs": [],
   "source": [
    "import numpy as np # linear algebra\n",
    "import pandas as pd # data processing, CSV file I/O (e.g. pd.read_csv)\n",
    "import matplotlib.pyplot as plt\n",
    "import seaborn as sns\n",
    "\n",
    "import os\n",
    "import json\n",
    "# import csv"
   ]
  },
  {
   "cell_type": "code",
   "execution_count": 5,
   "metadata": {},
   "outputs": [
    {
     "data": {
      "text/html": [
       "<div>\n",
       "<style scoped>\n",
       "    .dataframe tbody tr th:only-of-type {\n",
       "        vertical-align: middle;\n",
       "    }\n",
       "\n",
       "    .dataframe tbody tr th {\n",
       "        vertical-align: top;\n",
       "    }\n",
       "\n",
       "    .dataframe thead th {\n",
       "        text-align: right;\n",
       "    }\n",
       "</style>\n",
       "<table border=\"1\" class=\"dataframe\">\n",
       "  <thead>\n",
       "    <tr style=\"text-align: right;\">\n",
       "      <th></th>\n",
       "      <th>p1_tag</th>\n",
       "      <th>p1_trophy</th>\n",
       "      <th>p2_tag</th>\n",
       "      <th>p2_trophy</th>\n",
       "      <th>p1_crowns</th>\n",
       "      <th>p2_crowns</th>\n",
       "      <th>winner</th>\n",
       "    </tr>\n",
       "  </thead>\n",
       "  <tbody>\n",
       "    <tr>\n",
       "      <th>0</th>\n",
       "      <td>#C9P0L2C0Q</td>\n",
       "      <td>3071</td>\n",
       "      <td>#ULU9G9QRC</td>\n",
       "      <td>3047</td>\n",
       "      <td>0</td>\n",
       "      <td>1</td>\n",
       "      <td>2</td>\n",
       "    </tr>\n",
       "    <tr>\n",
       "      <th>1</th>\n",
       "      <td>#C9P0L2C0Q</td>\n",
       "      <td>3101</td>\n",
       "      <td>#C9QQ2VRGL</td>\n",
       "      <td>3100</td>\n",
       "      <td>0</td>\n",
       "      <td>3</td>\n",
       "      <td>2</td>\n",
       "    </tr>\n",
       "    <tr>\n",
       "      <th>2</th>\n",
       "      <td>#U8JJV8L0Q</td>\n",
       "      <td>3000</td>\n",
       "      <td>#C8G22U2VV</td>\n",
       "      <td>3019</td>\n",
       "      <td>0</td>\n",
       "      <td>3</td>\n",
       "      <td>2</td>\n",
       "    </tr>\n",
       "    <tr>\n",
       "      <th>3</th>\n",
       "      <td>#U8JJV8L0Q</td>\n",
       "      <td>3000</td>\n",
       "      <td>#ULU9G9QRC</td>\n",
       "      <td>3019</td>\n",
       "      <td>0</td>\n",
       "      <td>2</td>\n",
       "      <td>2</td>\n",
       "    </tr>\n",
       "    <tr>\n",
       "      <th>4</th>\n",
       "      <td>#U8JJV8L0Q</td>\n",
       "      <td>3000</td>\n",
       "      <td>#JGJ2L89J0</td>\n",
       "      <td>3014</td>\n",
       "      <td>0</td>\n",
       "      <td>3</td>\n",
       "      <td>2</td>\n",
       "    </tr>\n",
       "    <tr>\n",
       "      <th>...</th>\n",
       "      <td>...</td>\n",
       "      <td>...</td>\n",
       "      <td>...</td>\n",
       "      <td>...</td>\n",
       "      <td>...</td>\n",
       "      <td>...</td>\n",
       "      <td>...</td>\n",
       "    </tr>\n",
       "    <tr>\n",
       "      <th>39343</th>\n",
       "      <td>#UQP8Y8LJP</td>\n",
       "      <td>2474</td>\n",
       "      <td>#CV808QV0R</td>\n",
       "      <td>2480</td>\n",
       "      <td>3</td>\n",
       "      <td>1</td>\n",
       "      <td>1</td>\n",
       "    </tr>\n",
       "    <tr>\n",
       "      <th>39344</th>\n",
       "      <td>#UQP8Y8LJP</td>\n",
       "      <td>2442</td>\n",
       "      <td>#UUG808QCR</td>\n",
       "      <td>2473</td>\n",
       "      <td>2</td>\n",
       "      <td>1</td>\n",
       "      <td>1</td>\n",
       "    </tr>\n",
       "    <tr>\n",
       "      <th>39345</th>\n",
       "      <td>#UQP8Y8LJP</td>\n",
       "      <td>2413</td>\n",
       "      <td>#UC2Y8899J</td>\n",
       "      <td>2408</td>\n",
       "      <td>2</td>\n",
       "      <td>1</td>\n",
       "      <td>1</td>\n",
       "    </tr>\n",
       "    <tr>\n",
       "      <th>39346</th>\n",
       "      <td>#UQP8Y8LJP</td>\n",
       "      <td>2383</td>\n",
       "      <td>#CVJ8V9VG0</td>\n",
       "      <td>2385</td>\n",
       "      <td>2</td>\n",
       "      <td>1</td>\n",
       "      <td>1</td>\n",
       "    </tr>\n",
       "    <tr>\n",
       "      <th>39347</th>\n",
       "      <td>#UQP8Y8LJP</td>\n",
       "      <td>2353</td>\n",
       "      <td>#2PQ20JG9L</td>\n",
       "      <td>2357</td>\n",
       "      <td>3</td>\n",
       "      <td>1</td>\n",
       "      <td>1</td>\n",
       "    </tr>\n",
       "  </tbody>\n",
       "</table>\n",
       "<p>39348 rows × 7 columns</p>\n",
       "</div>"
      ],
      "text/plain": [
       "           p1_tag  p1_trophy      p2_tag  p2_trophy  p1_crowns  p2_crowns  \\\n",
       "0      #C9P0L2C0Q       3071  #ULU9G9QRC       3047          0          1   \n",
       "1      #C9P0L2C0Q       3101  #C9QQ2VRGL       3100          0          3   \n",
       "2      #U8JJV8L0Q       3000  #C8G22U2VV       3019          0          3   \n",
       "3      #U8JJV8L0Q       3000  #ULU9G9QRC       3019          0          2   \n",
       "4      #U8JJV8L0Q       3000  #JGJ2L89J0       3014          0          3   \n",
       "...           ...        ...         ...        ...        ...        ...   \n",
       "39343  #UQP8Y8LJP       2474  #CV808QV0R       2480          3          1   \n",
       "39344  #UQP8Y8LJP       2442  #UUG808QCR       2473          2          1   \n",
       "39345  #UQP8Y8LJP       2413  #UC2Y8899J       2408          2          1   \n",
       "39346  #UQP8Y8LJP       2383  #CVJ8V9VG0       2385          2          1   \n",
       "39347  #UQP8Y8LJP       2353  #2PQ20JG9L       2357          3          1   \n",
       "\n",
       "       winner  \n",
       "0           2  \n",
       "1           2  \n",
       "2           2  \n",
       "3           2  \n",
       "4           2  \n",
       "...       ...  \n",
       "39343       1  \n",
       "39344       1  \n",
       "39345       1  \n",
       "39346       1  \n",
       "39347       1  \n",
       "\n",
       "[39348 rows x 7 columns]"
      ]
     },
     "execution_count": 5,
     "metadata": {},
     "output_type": "execute_result"
    }
   ],
   "source": [
    "battles = pd.read_csv('data-cp/battles.csv')\n",
    "battles[['p1_tag', 'p1_trophy', 'p2_tag', 'p2_trophy',\n",
    "               'p1_crowns', 'p2_crowns', 'winner']]"
   ]
  },
  {
   "cell_type": "code",
   "execution_count": 6,
   "metadata": {},
   "outputs": [
    {
     "name": "stdout",
     "output_type": "stream",
     "text": [
      "Total number of Columns: 40\n",
      "Total number of Rows: 39348\n",
      "\n",
      "Column Names: ['Unnamed: 0', 'p1_tag', 'p1_trophy', 'p1_card_0_id', 'p1_card_0_lv', 'p1_card_1_id', 'p1_card_1_lv', 'p1_card_2_id', 'p1_card_2_lv', 'p1_card_3_id', 'p1_card_3_lv', 'p1_card_4_id', 'p1_card_4_lv', 'p1_card_5_id', 'p1_card_5_lv', 'p1_card_6_id', 'p1_card_6_lv', 'p1_card_7_id', 'p1_card_7_lv', 'p1_crowns', 'p2_tag', 'p2_trophy', 'p2_card_0_id', 'p2_card_0_lv', 'p2_card_1_id', 'p2_card_1_lv', 'p2_card_2_id', 'p2_card_2_lv', 'p2_card_3_id', 'p2_card_3_lv', 'p2_card_4_id', 'p2_card_4_lv', 'p2_card_5_id', 'p2_card_5_lv', 'p2_card_6_id', 'p2_card_6_lv', 'p2_card_7_id', 'p2_card_7_lv', 'p2_crowns', 'winner']\n"
     ]
    }
   ],
   "source": [
    "print(\"Total number of Columns:\", battles.shape[1])\n",
    "print(\"Total number of Rows:\", battles.shape[0])\n",
    "print(\"\")\n",
    "print(\"Column Names:\", list(battles.columns))"
   ]
  },
  {
   "cell_type": "markdown",
   "metadata": {},
   "source": [
    "As can be seen above, we have collected 1426 unique vectors of datapoints with 40 columns each that provide us with relevant information on their respective battle. 19 columns are divided each between the two players where 16 columns are for the cards with 8 each for the unique card ID and its corresponding level and out of the 3 remaining columns, 1 each for ID, trophies, and crowns. Essentially, the column names represent:\n",
    "- `p_tag`: Unique ID of the player\n",
    "- `p_trophy`: The trophies of the player (can be thought of as ranking)\n",
    "- `p_crowns`: The number of towers destroyed of by the player in the battle (max 3 == win)\n",
    "- `p_card_x_id`: The unique card ID of card `x`\n",
    "- `p_card_x_level`: The level of the corresponding card `x`\n",
    "- `p_winner`: The player who won the game\n",
    "\n",
    "The unique card ID's have specific data points as described in the cell below where cards data is analyzed.\n"
   ]
  },
  {
   "cell_type": "code",
   "execution_count": 7,
   "metadata": {},
   "outputs": [
    {
     "data": {
      "text/html": [
       "<div>\n",
       "<style scoped>\n",
       "    .dataframe tbody tr th:only-of-type {\n",
       "        vertical-align: middle;\n",
       "    }\n",
       "\n",
       "    .dataframe tbody tr th {\n",
       "        vertical-align: top;\n",
       "    }\n",
       "\n",
       "    .dataframe thead th {\n",
       "        text-align: right;\n",
       "    }\n",
       "</style>\n",
       "<table border=\"1\" class=\"dataframe\">\n",
       "  <thead>\n",
       "    <tr style=\"text-align: right;\">\n",
       "      <th></th>\n",
       "      <th>key</th>\n",
       "      <th>id</th>\n",
       "      <th>elixir</th>\n",
       "      <th>type</th>\n",
       "      <th>rarity</th>\n",
       "    </tr>\n",
       "  </thead>\n",
       "  <tbody>\n",
       "    <tr>\n",
       "      <th>0</th>\n",
       "      <td>knight</td>\n",
       "      <td>26000000</td>\n",
       "      <td>3</td>\n",
       "      <td>Troop</td>\n",
       "      <td>Common</td>\n",
       "    </tr>\n",
       "    <tr>\n",
       "      <th>1</th>\n",
       "      <td>archers</td>\n",
       "      <td>26000001</td>\n",
       "      <td>3</td>\n",
       "      <td>Troop</td>\n",
       "      <td>Common</td>\n",
       "    </tr>\n",
       "    <tr>\n",
       "      <th>2</th>\n",
       "      <td>goblins</td>\n",
       "      <td>26000002</td>\n",
       "      <td>2</td>\n",
       "      <td>Troop</td>\n",
       "      <td>Common</td>\n",
       "    </tr>\n",
       "    <tr>\n",
       "      <th>3</th>\n",
       "      <td>giant</td>\n",
       "      <td>26000003</td>\n",
       "      <td>5</td>\n",
       "      <td>Troop</td>\n",
       "      <td>Rare</td>\n",
       "    </tr>\n",
       "    <tr>\n",
       "      <th>4</th>\n",
       "      <td>pekka</td>\n",
       "      <td>26000004</td>\n",
       "      <td>7</td>\n",
       "      <td>Troop</td>\n",
       "      <td>Epic</td>\n",
       "    </tr>\n",
       "  </tbody>\n",
       "</table>\n",
       "</div>"
      ],
      "text/plain": [
       "       key        id  elixir   type  rarity\n",
       "0   knight  26000000       3  Troop  Common\n",
       "1  archers  26000001       3  Troop  Common\n",
       "2  goblins  26000002       2  Troop  Common\n",
       "3    giant  26000003       5  Troop    Rare\n",
       "4    pekka  26000004       7  Troop    Epic"
      ]
     },
     "execution_count": 7,
     "metadata": {},
     "output_type": "execute_result"
    }
   ],
   "source": [
    "cards = pd.read_csv('data-cp/cards.csv')\n",
    "cards[['key', 'id', 'elixir', 'type', 'rarity']][:5]"
   ]
  },
  {
   "cell_type": "code",
   "execution_count": 8,
   "metadata": {
    "scrolled": false
   },
   "outputs": [
    {
     "name": "stdout",
     "output_type": "stream",
     "text": [
      "Number of Columns: 11\n",
      "Number of Rows: 107\n",
      "\n",
      "Column Names: ['key', 'name', 'sc_key', 'elixir', 'type', 'rarity', 'id', 'flying_height', 'range', 'damage_air', 'damage_ground']\n",
      "\n",
      "Types of cards: ['Building', 'Spell', 'Troop']\n",
      "Rarity of cards: ['Champion', 'Common', 'Epic', 'Legendary', 'Rare']\n",
      "Elixir for cards: [1, 2, 3, 4, 5, 6, 7, 8, 9]\n"
     ]
    }
   ],
   "source": [
    "print(\"Number of Columns:\", cards.shape[1])\n",
    "print(\"Number of Rows:\", cards.shape[0])\n",
    "print(\"\")\n",
    "print(\"Column Names:\", list(cards.columns))\n",
    "print(\"\")\n",
    "print(\"Types of cards:\", sorted(cards['type'].unique()))\n",
    "print(\"Rarity of cards:\", sorted(cards['rarity'].unique()))\n",
    "print(\"Elixir for cards:\", sorted(cards['elixir'].unique()))"
   ]
  },
  {
   "cell_type": "markdown",
   "metadata": {},
   "source": [
    "We observe that there are 3 card types (Building, Spell, and Troop), 5 rarities (Common, Rare, Epic, Legendary, Champion), and the elixir ranging from 1 to 9."
   ]
  },
  {
   "cell_type": "markdown",
   "metadata": {},
   "source": [
    "Now, we create arrays for the player 1 and player 2 cards, which will be useful for later analysis."
   ]
  },
  {
   "cell_type": "code",
   "execution_count": 9,
   "metadata": {},
   "outputs": [
    {
     "name": "stdout",
     "output_type": "stream",
     "text": [
      "Player1 Column Names: ['p1_card_0_id', 'p1_card_1_id', 'p1_card_2_id', 'p1_card_3_id', 'p1_card_4_id', 'p1_card_5_id', 'p1_card_6_id', 'p1_card_7_id']\n",
      "PLayer2 Column Names: ['p2_card_0_id', 'p2_card_1_id', 'p2_card_2_id', 'p2_card_3_id', 'p2_card_4_id', 'p2_card_5_id', 'p2_card_6_id', 'p2_card_7_id']\n",
      "Total number of Rows: 39348\n"
     ]
    }
   ],
   "source": [
    "p1_cols = []\n",
    "p2_cols = []\n",
    "for col_name in battles.columns:\n",
    "    if 'p1_card_' in col_name and '_id' in col_name:\n",
    "        p1_cols.append(col_name)\n",
    "    elif 'p2_card_' in col_name and '_id' in col_name:\n",
    "        p2_cols.append(col_name)\n",
    "        \n",
    "p1_cards = battles[p1_cols]\n",
    "p2_cards = battles[p2_cols]\n",
    "print(\"Player1 Column Names:\", list(p1_cards.columns))\n",
    "print(\"PLayer2 Column Names:\", list(p2_cards.columns))\n",
    "print(\"Total number of Rows:\", len(list(p1_cards.index)))"
   ]
  },
  {
   "cell_type": "code",
   "execution_count": 12,
   "metadata": {},
   "outputs": [],
   "source": [
    "# create map for card ID and row\n",
    "id_map = {}\n",
    "for row in cards.index:\n",
    "    id_map[cards.loc[row, 'id']] = row"
   ]
  },
  {
   "cell_type": "markdown",
   "metadata": {},
   "source": [
    "## 3. Some classic algorithms:"
   ]
  },
  {
   "cell_type": "markdown",
   "metadata": {},
   "source": [
    "In the following cells we do the following:\n",
    "1. We first encode each players' deck into $1 \\times 107$ vectors, where $V_i = 1$ if the $i^{th}$ card is in the deck, $0$ otherwise. This seems to be a better choice than one-hot encoding, as there are $\\begin{pmatrix}107 \\\\ 8 \\end{pmatrix} \\approx 3 \\times 10^{11}$ possible choices of decks.\n",
    "2. We then split the whole data set into training sets and test sets for supervised classification. We also keep a list of all decks choice people used to see if unsupervised learning give us some better insights into the data set.\n",
    "3. We then apply some well-known simple Classification methods (e.g KNN, Decsion Trees, etc.) to see if we get a good result."
   ]
  },
  {
   "cell_type": "code",
   "execution_count": 108,
   "metadata": {
    "execution": {
     "iopub.execute_input": "2022-04-16T08:53:15.305738Z",
     "iopub.status.busy": "2022-04-16T08:53:15.305483Z",
     "iopub.status.idle": "2022-04-16T08:53:23.469373Z",
     "shell.execute_reply": "2022-04-16T08:53:23.468609Z",
     "shell.execute_reply.started": "2022-04-16T08:53:15.30571Z"
    },
    "vscode": {
     "languageId": "python"
    }
   },
   "outputs": [],
   "source": [
    "from sklearn.model_selection import train_test_split\n",
    "# df = battles[(battles['p1_trophy'] < 2700) & (battles['p1_trophy'] > 600)]\n",
    "df = battles\n",
    "\n",
    "y_train = df['winner']\n",
    "x_train, decks = [], []\n",
    "\n",
    "# we first combine the DataFrame into 1x107 vectors, where V[i] = 1 if the ith card is in the deck\n",
    "# this \n",
    "for i in df.index:\n",
    "    p1 = np.zeros(107)\n",
    "    p2 = np.zeros(107)\n",
    "    for j in range(0, 8):\n",
    "        p1[id_map[df[f'p1_card_{j}_id'][i]]] = 1\n",
    "        p2[id_map[df[f'p2_card_{j}_id'][i]]] = 1\n",
    "    decks.append(p1)\n",
    "    decks.append(p2)\n",
    "    x_train.append(np.concatenate((p1, p2)))\n",
    "    \n",
    "x_train = np.array(x_train)\n",
    "decks = np.array(decks)\n",
    "y_train = df['winner']\n",
    "\n",
    "x_train, x_test, y_train, y_test = train_test_split(x_train, y_train, test_size=0.2, random_state=6233)\n",
    "# d_train, d_test = train_test_split(decks, test_size=0.2, random_state=47483)"
   ]
  },
  {
   "cell_type": "code",
   "execution_count": 14,
   "metadata": {},
   "outputs": [
    {
     "data": {
      "text/plain": [
       "(31478, 214)"
      ]
     },
     "execution_count": 14,
     "metadata": {},
     "output_type": "execute_result"
    }
   ],
   "source": [
    "x_train.shape"
   ]
  },
  {
   "cell_type": "code",
   "execution_count": 15,
   "metadata": {
    "execution": {
     "iopub.execute_input": "2022-04-11T17:04:12.878803Z",
     "iopub.status.busy": "2022-04-11T17:04:12.878117Z",
     "iopub.status.idle": "2022-04-11T17:04:13.121267Z",
     "shell.execute_reply": "2022-04-11T17:04:13.120345Z",
     "shell.execute_reply.started": "2022-04-11T17:04:12.878762Z"
    },
    "vscode": {
     "languageId": "python"
    }
   },
   "outputs": [],
   "source": [
    "from sklearn.tree import DecisionTreeClassifier\n",
    "from sklearn.neighbors import KNeighborsClassifier\n",
    "from sklearn.ensemble import AdaBoostClassifier, BaggingClassifier, ExtraTreesClassifier, RandomForestClassifier"
   ]
  },
  {
   "cell_type": "code",
   "execution_count": 16,
   "metadata": {
    "execution": {
     "iopub.execute_input": "2022-04-11T17:04:13.123753Z",
     "iopub.status.busy": "2022-04-11T17:04:13.123428Z",
     "iopub.status.idle": "2022-04-11T17:05:08.994533Z",
     "shell.execute_reply": "2022-04-11T17:05:08.993383Z",
     "shell.execute_reply.started": "2022-04-11T17:04:13.123713Z"
    },
    "vscode": {
     "languageId": "python"
    }
   },
   "outputs": [
    {
     "name": "stdout",
     "output_type": "stream",
     "text": [
      "Training accuracy:\t 0.7317491581421945\n",
      "Testing accuracy:\t 0.5810673443456162\n"
     ]
    }
   ],
   "source": [
    "knn = KNeighborsClassifier(n_neighbors=5)\n",
    "knn.fit(x_train, y_train)\n",
    "print('Training accuracy:\\t', knn.score(x_train, y_train))\n",
    "print('Testing accuracy:\\t', knn.score(x_test, y_test))"
   ]
  },
  {
   "cell_type": "code",
   "execution_count": 17,
   "metadata": {
    "execution": {
     "iopub.execute_input": "2022-04-11T17:05:08.996554Z",
     "iopub.status.busy": "2022-04-11T17:05:08.996121Z",
     "iopub.status.idle": "2022-04-11T17:05:08.999825Z",
     "shell.execute_reply": "2022-04-11T17:05:08.99906Z",
     "shell.execute_reply.started": "2022-04-11T17:05:08.996517Z"
    },
    "vscode": {
     "languageId": "python"
    }
   },
   "outputs": [
    {
     "name": "stdout",
     "output_type": "stream",
     "text": [
      "Training accuracy:\t 0.9965054959018997\n",
      "Testing accuracy:\t 0.5808132147395172\n"
     ]
    }
   ],
   "source": [
    "ada = AdaBoostClassifier(DecisionTreeClassifier(max_depth=15))\n",
    "ada.fit(x_train, y_train)\n",
    "print('Training accuracy:\\t', ada.score(x_train, y_train))\n",
    "print('Testing accuracy:\\t', ada.score(x_test, y_test))"
   ]
  },
  {
   "cell_type": "code",
   "execution_count": 18,
   "metadata": {
    "execution": {
     "iopub.execute_input": "2022-04-11T17:05:09.002721Z",
     "iopub.status.busy": "2022-04-11T17:05:09.00216Z",
     "iopub.status.idle": "2022-04-11T17:05:19.560104Z",
     "shell.execute_reply": "2022-04-11T17:05:19.559098Z",
     "shell.execute_reply.started": "2022-04-11T17:05:09.002686Z"
    },
    "vscode": {
     "languageId": "python"
    }
   },
   "outputs": [
    {
     "name": "stdout",
     "output_type": "stream",
     "text": [
      "Training accuracy:\t 0.8039265518775017\n",
      "Testing accuracy:\t 0.5904701397712834\n"
     ]
    }
   ],
   "source": [
    "bagging = BaggingClassifier(DecisionTreeClassifier(max_depth=15))\n",
    "bagging.fit(x_train, y_train)\n",
    "print('Training accuracy:\\t', bagging.score(x_train, y_train))\n",
    "print('Testing accuracy:\\t', bagging.score(x_test, y_test))"
   ]
  },
  {
   "cell_type": "code",
   "execution_count": 19,
   "metadata": {
    "execution": {
     "iopub.execute_input": "2022-04-11T17:05:19.561681Z",
     "iopub.status.busy": "2022-04-11T17:05:19.561406Z",
     "iopub.status.idle": "2022-04-11T17:05:35.384486Z",
     "shell.execute_reply": "2022-04-11T17:05:35.383316Z",
     "shell.execute_reply.started": "2022-04-11T17:05:19.561651Z"
    },
    "vscode": {
     "languageId": "python"
    }
   },
   "outputs": [
    {
     "name": "stdout",
     "output_type": "stream",
     "text": [
      "Training accuracy:\t 0.8795984497109092\n",
      "Testing accuracy:\t 0.6005082592121982\n"
     ]
    }
   ],
   "source": [
    "extra = ExtraTreesClassifier(max_depth=15)\n",
    "extra.fit(x_train, y_train)\n",
    "print('Training accuracy:\\t', extra.score(x_train, y_train))\n",
    "print('Testing accuracy:\\t', extra.score(x_test, y_test))"
   ]
  },
  {
   "cell_type": "code",
   "execution_count": 20,
   "metadata": {
    "execution": {
     "iopub.execute_input": "2022-04-11T17:05:35.386026Z",
     "iopub.status.busy": "2022-04-11T17:05:35.3858Z",
     "iopub.status.idle": "2022-04-11T17:05:46.258677Z",
     "shell.execute_reply": "2022-04-11T17:05:46.257807Z",
     "shell.execute_reply.started": "2022-04-11T17:05:35.385999Z"
    },
    "vscode": {
     "languageId": "python"
    }
   },
   "outputs": [
    {
     "name": "stdout",
     "output_type": "stream",
     "text": [
      "Training accuracy:\t 0.847607853103755\n",
      "Testing accuracy:\t 0.6092757306226175\n"
     ]
    }
   ],
   "source": [
    "rf = RandomForestClassifier(max_depth=15)\n",
    "rf.fit(x_train, y_train)\n",
    "print('Training accuracy:\\t', rf.score(x_train, y_train))\n",
    "print('Testing accuracy:\\t', rf.score(x_test, y_test))"
   ]
  },
  {
   "cell_type": "markdown",
   "metadata": {},
   "source": [
    "#### Remarks:\n",
    "Unfortunately, our models does not seem to have a good predictions overall (the score is only a bit better than random guessing). In the following parts of the notebook, we are going to see if we could obtain a better fit on this dataset."
   ]
  },
  {
   "cell_type": "markdown",
   "metadata": {},
   "source": [
    "## 4. Preliminary Analysis:\n",
    "### a. A brief overview:\n",
    "We are first going to have a quick look to get a sense of the data. First, we will have a look at the dataset, and its correlation matrix to understand any relations in the datapoints."
   ]
  },
  {
   "cell_type": "code",
   "execution_count": 21,
   "metadata": {
    "execution": {
     "iopub.execute_input": "2022-04-16T08:53:04.418079Z",
     "iopub.status.busy": "2022-04-16T08:53:04.417796Z",
     "iopub.status.idle": "2022-04-16T08:53:05.688068Z",
     "shell.execute_reply": "2022-04-16T08:53:05.687357Z",
     "shell.execute_reply.started": "2022-04-16T08:53:04.418052Z"
    },
    "vscode": {
     "languageId": "python"
    }
   },
   "outputs": [],
   "source": [
    "battles.drop(columns='Unnamed: 0', inplace=True)\n",
    "df = battles.sample(battles.shape[0], random_state=84)"
   ]
  },
  {
   "cell_type": "code",
   "execution_count": 23,
   "metadata": {
    "execution": {
     "iopub.execute_input": "2022-04-16T08:53:10.95044Z",
     "iopub.status.busy": "2022-04-16T08:53:10.950161Z",
     "iopub.status.idle": "2022-04-16T08:53:11.036305Z",
     "shell.execute_reply": "2022-04-16T08:53:11.035558Z",
     "shell.execute_reply.started": "2022-04-16T08:53:10.950411Z"
    },
    "vscode": {
     "languageId": "python"
    }
   },
   "outputs": [
    {
     "data": {
      "text/html": [
       "<div>\n",
       "<style scoped>\n",
       "    .dataframe tbody tr th:only-of-type {\n",
       "        vertical-align: middle;\n",
       "    }\n",
       "\n",
       "    .dataframe tbody tr th {\n",
       "        vertical-align: top;\n",
       "    }\n",
       "\n",
       "    .dataframe thead th {\n",
       "        text-align: right;\n",
       "    }\n",
       "</style>\n",
       "<table border=\"1\" class=\"dataframe\">\n",
       "  <thead>\n",
       "    <tr style=\"text-align: right;\">\n",
       "      <th></th>\n",
       "      <th>p1_trophy</th>\n",
       "      <th>p1_card_0_id</th>\n",
       "      <th>p1_card_0_lv</th>\n",
       "      <th>p1_card_1_id</th>\n",
       "      <th>p1_card_1_lv</th>\n",
       "      <th>p1_card_2_id</th>\n",
       "      <th>p1_card_2_lv</th>\n",
       "      <th>p1_card_3_id</th>\n",
       "      <th>p1_card_3_lv</th>\n",
       "      <th>p1_card_4_id</th>\n",
       "      <th>...</th>\n",
       "      <th>p2_card_4_id</th>\n",
       "      <th>p2_card_4_lv</th>\n",
       "      <th>p2_card_5_id</th>\n",
       "      <th>p2_card_5_lv</th>\n",
       "      <th>p2_card_6_id</th>\n",
       "      <th>p2_card_6_lv</th>\n",
       "      <th>p2_card_7_id</th>\n",
       "      <th>p2_card_7_lv</th>\n",
       "      <th>p2_crowns</th>\n",
       "      <th>winner</th>\n",
       "    </tr>\n",
       "  </thead>\n",
       "  <tbody>\n",
       "    <tr>\n",
       "      <th>count</th>\n",
       "      <td>39348.000000</td>\n",
       "      <td>3.934800e+04</td>\n",
       "      <td>39348.000000</td>\n",
       "      <td>3.934800e+04</td>\n",
       "      <td>39348.000000</td>\n",
       "      <td>3.934800e+04</td>\n",
       "      <td>39348.000000</td>\n",
       "      <td>3.934800e+04</td>\n",
       "      <td>39348.000000</td>\n",
       "      <td>3.934800e+04</td>\n",
       "      <td>...</td>\n",
       "      <td>3.934800e+04</td>\n",
       "      <td>39348.000000</td>\n",
       "      <td>3.934800e+04</td>\n",
       "      <td>39348.000000</td>\n",
       "      <td>3.934800e+04</td>\n",
       "      <td>39348.000000</td>\n",
       "      <td>3.934800e+04</td>\n",
       "      <td>39348.000000</td>\n",
       "      <td>39348.000000</td>\n",
       "      <td>39348.000000</td>\n",
       "    </tr>\n",
       "    <tr>\n",
       "      <th>mean</th>\n",
       "      <td>3265.247865</td>\n",
       "      <td>2.637071e+07</td>\n",
       "      <td>5.205347</td>\n",
       "      <td>2.643079e+07</td>\n",
       "      <td>5.352318</td>\n",
       "      <td>2.647209e+07</td>\n",
       "      <td>5.426629</td>\n",
       "      <td>2.664460e+07</td>\n",
       "      <td>5.640515</td>\n",
       "      <td>2.665492e+07</td>\n",
       "      <td>...</td>\n",
       "      <td>2.665710e+07</td>\n",
       "      <td>5.548999</td>\n",
       "      <td>2.645663e+07</td>\n",
       "      <td>5.547093</td>\n",
       "      <td>2.646050e+07</td>\n",
       "      <td>5.609332</td>\n",
       "      <td>2.651788e+07</td>\n",
       "      <td>5.501372</td>\n",
       "      <td>1.123361</td>\n",
       "      <td>1.485895</td>\n",
       "    </tr>\n",
       "    <tr>\n",
       "      <th>std</th>\n",
       "      <td>1341.853424</td>\n",
       "      <td>7.525037e+05</td>\n",
       "      <td>2.897258</td>\n",
       "      <td>7.924342e+05</td>\n",
       "      <td>2.872361</td>\n",
       "      <td>8.226453e+05</td>\n",
       "      <td>2.911471</td>\n",
       "      <td>9.083877e+05</td>\n",
       "      <td>2.951192</td>\n",
       "      <td>9.093433e+05</td>\n",
       "      <td>...</td>\n",
       "      <td>9.104772e+05</td>\n",
       "      <td>2.814955</td>\n",
       "      <td>8.020064e+05</td>\n",
       "      <td>2.836618</td>\n",
       "      <td>8.061877e+05</td>\n",
       "      <td>2.872803</td>\n",
       "      <td>8.468811e+05</td>\n",
       "      <td>2.851956</td>\n",
       "      <td>1.092620</td>\n",
       "      <td>0.500062</td>\n",
       "    </tr>\n",
       "    <tr>\n",
       "      <th>min</th>\n",
       "      <td>23.000000</td>\n",
       "      <td>2.600000e+07</td>\n",
       "      <td>1.000000</td>\n",
       "      <td>2.600000e+07</td>\n",
       "      <td>1.000000</td>\n",
       "      <td>2.600000e+07</td>\n",
       "      <td>1.000000</td>\n",
       "      <td>2.600000e+07</td>\n",
       "      <td>1.000000</td>\n",
       "      <td>2.600000e+07</td>\n",
       "      <td>...</td>\n",
       "      <td>2.600000e+07</td>\n",
       "      <td>1.000000</td>\n",
       "      <td>2.600000e+07</td>\n",
       "      <td>1.000000</td>\n",
       "      <td>2.600000e+07</td>\n",
       "      <td>1.000000</td>\n",
       "      <td>2.600000e+07</td>\n",
       "      <td>1.000000</td>\n",
       "      <td>0.000000</td>\n",
       "      <td>0.000000</td>\n",
       "    </tr>\n",
       "    <tr>\n",
       "      <th>25%</th>\n",
       "      <td>2600.000000</td>\n",
       "      <td>2.600001e+07</td>\n",
       "      <td>3.000000</td>\n",
       "      <td>2.600001e+07</td>\n",
       "      <td>3.000000</td>\n",
       "      <td>2.600001e+07</td>\n",
       "      <td>3.000000</td>\n",
       "      <td>2.600001e+07</td>\n",
       "      <td>3.000000</td>\n",
       "      <td>2.600002e+07</td>\n",
       "      <td>...</td>\n",
       "      <td>2.600001e+07</td>\n",
       "      <td>3.000000</td>\n",
       "      <td>2.600001e+07</td>\n",
       "      <td>3.000000</td>\n",
       "      <td>2.600001e+07</td>\n",
       "      <td>3.000000</td>\n",
       "      <td>2.600001e+07</td>\n",
       "      <td>3.000000</td>\n",
       "      <td>0.000000</td>\n",
       "      <td>1.000000</td>\n",
       "    </tr>\n",
       "    <tr>\n",
       "      <th>50%</th>\n",
       "      <td>3561.000000</td>\n",
       "      <td>2.600002e+07</td>\n",
       "      <td>5.000000</td>\n",
       "      <td>2.600002e+07</td>\n",
       "      <td>5.000000</td>\n",
       "      <td>2.600002e+07</td>\n",
       "      <td>5.000000</td>\n",
       "      <td>2.600003e+07</td>\n",
       "      <td>5.000000</td>\n",
       "      <td>2.600004e+07</td>\n",
       "      <td>...</td>\n",
       "      <td>2.600004e+07</td>\n",
       "      <td>5.000000</td>\n",
       "      <td>2.600002e+07</td>\n",
       "      <td>5.000000</td>\n",
       "      <td>2.600002e+07</td>\n",
       "      <td>5.000000</td>\n",
       "      <td>2.600003e+07</td>\n",
       "      <td>5.000000</td>\n",
       "      <td>1.000000</td>\n",
       "      <td>1.000000</td>\n",
       "    </tr>\n",
       "    <tr>\n",
       "      <th>75%</th>\n",
       "      <td>3985.000000</td>\n",
       "      <td>2.600006e+07</td>\n",
       "      <td>7.000000</td>\n",
       "      <td>2.600006e+07</td>\n",
       "      <td>7.000000</td>\n",
       "      <td>2.700000e+07</td>\n",
       "      <td>7.000000</td>\n",
       "      <td>2.800000e+07</td>\n",
       "      <td>8.000000</td>\n",
       "      <td>2.800000e+07</td>\n",
       "      <td>...</td>\n",
       "      <td>2.800000e+07</td>\n",
       "      <td>7.000000</td>\n",
       "      <td>2.700000e+07</td>\n",
       "      <td>7.000000</td>\n",
       "      <td>2.700000e+07</td>\n",
       "      <td>8.000000</td>\n",
       "      <td>2.700001e+07</td>\n",
       "      <td>7.000000</td>\n",
       "      <td>2.000000</td>\n",
       "      <td>2.000000</td>\n",
       "    </tr>\n",
       "    <tr>\n",
       "      <th>max</th>\n",
       "      <td>6470.000000</td>\n",
       "      <td>2.800002e+07</td>\n",
       "      <td>14.000000</td>\n",
       "      <td>2.800002e+07</td>\n",
       "      <td>14.000000</td>\n",
       "      <td>2.800002e+07</td>\n",
       "      <td>14.000000</td>\n",
       "      <td>2.800002e+07</td>\n",
       "      <td>14.000000</td>\n",
       "      <td>2.800002e+07</td>\n",
       "      <td>...</td>\n",
       "      <td>2.800002e+07</td>\n",
       "      <td>14.000000</td>\n",
       "      <td>2.800002e+07</td>\n",
       "      <td>14.000000</td>\n",
       "      <td>2.800002e+07</td>\n",
       "      <td>14.000000</td>\n",
       "      <td>2.800002e+07</td>\n",
       "      <td>14.000000</td>\n",
       "      <td>3.000000</td>\n",
       "      <td>2.000000</td>\n",
       "    </tr>\n",
       "  </tbody>\n",
       "</table>\n",
       "<p>8 rows × 37 columns</p>\n",
       "</div>"
      ],
      "text/plain": [
       "          p1_trophy  p1_card_0_id  p1_card_0_lv  p1_card_1_id  p1_card_1_lv  \\\n",
       "count  39348.000000  3.934800e+04  39348.000000  3.934800e+04  39348.000000   \n",
       "mean    3265.247865  2.637071e+07      5.205347  2.643079e+07      5.352318   \n",
       "std     1341.853424  7.525037e+05      2.897258  7.924342e+05      2.872361   \n",
       "min       23.000000  2.600000e+07      1.000000  2.600000e+07      1.000000   \n",
       "25%     2600.000000  2.600001e+07      3.000000  2.600001e+07      3.000000   \n",
       "50%     3561.000000  2.600002e+07      5.000000  2.600002e+07      5.000000   \n",
       "75%     3985.000000  2.600006e+07      7.000000  2.600006e+07      7.000000   \n",
       "max     6470.000000  2.800002e+07     14.000000  2.800002e+07     14.000000   \n",
       "\n",
       "       p1_card_2_id  p1_card_2_lv  p1_card_3_id  p1_card_3_lv  p1_card_4_id  \\\n",
       "count  3.934800e+04  39348.000000  3.934800e+04  39348.000000  3.934800e+04   \n",
       "mean   2.647209e+07      5.426629  2.664460e+07      5.640515  2.665492e+07   \n",
       "std    8.226453e+05      2.911471  9.083877e+05      2.951192  9.093433e+05   \n",
       "min    2.600000e+07      1.000000  2.600000e+07      1.000000  2.600000e+07   \n",
       "25%    2.600001e+07      3.000000  2.600001e+07      3.000000  2.600002e+07   \n",
       "50%    2.600002e+07      5.000000  2.600003e+07      5.000000  2.600004e+07   \n",
       "75%    2.700000e+07      7.000000  2.800000e+07      8.000000  2.800000e+07   \n",
       "max    2.800002e+07     14.000000  2.800002e+07     14.000000  2.800002e+07   \n",
       "\n",
       "       ...  p2_card_4_id  p2_card_4_lv  p2_card_5_id  p2_card_5_lv  \\\n",
       "count  ...  3.934800e+04  39348.000000  3.934800e+04  39348.000000   \n",
       "mean   ...  2.665710e+07      5.548999  2.645663e+07      5.547093   \n",
       "std    ...  9.104772e+05      2.814955  8.020064e+05      2.836618   \n",
       "min    ...  2.600000e+07      1.000000  2.600000e+07      1.000000   \n",
       "25%    ...  2.600001e+07      3.000000  2.600001e+07      3.000000   \n",
       "50%    ...  2.600004e+07      5.000000  2.600002e+07      5.000000   \n",
       "75%    ...  2.800000e+07      7.000000  2.700000e+07      7.000000   \n",
       "max    ...  2.800002e+07     14.000000  2.800002e+07     14.000000   \n",
       "\n",
       "       p2_card_6_id  p2_card_6_lv  p2_card_7_id  p2_card_7_lv     p2_crowns  \\\n",
       "count  3.934800e+04  39348.000000  3.934800e+04  39348.000000  39348.000000   \n",
       "mean   2.646050e+07      5.609332  2.651788e+07      5.501372      1.123361   \n",
       "std    8.061877e+05      2.872803  8.468811e+05      2.851956      1.092620   \n",
       "min    2.600000e+07      1.000000  2.600000e+07      1.000000      0.000000   \n",
       "25%    2.600001e+07      3.000000  2.600001e+07      3.000000      0.000000   \n",
       "50%    2.600002e+07      5.000000  2.600003e+07      5.000000      1.000000   \n",
       "75%    2.700000e+07      8.000000  2.700001e+07      7.000000      2.000000   \n",
       "max    2.800002e+07     14.000000  2.800002e+07     14.000000      3.000000   \n",
       "\n",
       "             winner  \n",
       "count  39348.000000  \n",
       "mean       1.485895  \n",
       "std        0.500062  \n",
       "min        0.000000  \n",
       "25%        1.000000  \n",
       "50%        1.000000  \n",
       "75%        2.000000  \n",
       "max        2.000000  \n",
       "\n",
       "[8 rows x 37 columns]"
      ]
     },
     "execution_count": 23,
     "metadata": {},
     "output_type": "execute_result"
    }
   ],
   "source": [
    "df.describe()"
   ]
  },
  {
   "cell_type": "markdown",
   "metadata": {},
   "source": [
    "### Trophy distribution"
   ]
  },
  {
   "cell_type": "code",
   "execution_count": 32,
   "metadata": {},
   "outputs": [
    {
     "data": {
      "text/plain": [
       "<AxesSubplot:xlabel='p1_trophy', ylabel='Count'>"
      ]
     },
     "execution_count": 32,
     "metadata": {},
     "output_type": "execute_result"
    },
    {
     "data": {
      "image/png": "[encoded data removed]",
      "text/plain": [
       "<Figure size 432x288 with 1 Axes>"
      ]
     },
     "metadata": {
      "needs_background": "light"
     },
     "output_type": "display_data"
    }
   ],
   "source": [
    "sns.histplot(df['p1_trophy'])"
   ]
  },
  {
   "cell_type": "markdown",
   "metadata": {},
   "source": [
    "### Correlation Matrix"
   ]
  },
  {
   "cell_type": "code",
   "execution_count": 38,
   "metadata": {
    "execution": {
     "iopub.execute_input": "2022-04-16T08:53:11.733381Z",
     "iopub.status.busy": "2022-04-16T08:53:11.732538Z",
     "iopub.status.idle": "2022-04-16T08:53:11.791587Z",
     "shell.execute_reply": "2022-04-16T08:53:11.790868Z",
     "shell.execute_reply.started": "2022-04-16T08:53:11.733331Z"
    },
    "vscode": {
     "languageId": "python"
    }
   },
   "outputs": [],
   "source": [
    "corr = df.corr()"
   ]
  },
  {
   "cell_type": "code",
   "execution_count": 39,
   "metadata": {
    "execution": {
     "iopub.execute_input": "2022-04-16T08:53:12.593232Z",
     "iopub.status.busy": "2022-04-16T08:53:12.592756Z",
     "iopub.status.idle": "2022-04-16T08:53:13.027747Z",
     "shell.execute_reply": "2022-04-16T08:53:13.02708Z",
     "shell.execute_reply.started": "2022-04-16T08:53:12.593176Z"
    },
    "vscode": {
     "languageId": "python"
    }
   },
   "outputs": [
    {
     "data": {
      "image/png": "[encoded data removed]",
      "text/plain": [
       "<Figure size 1080x1080 with 2 Axes>"
      ]
     },
     "metadata": {
      "needs_background": "light"
     },
     "output_type": "display_data"
    }
   ],
   "source": [
    "f = plt.figure(figsize=(15, 15))\n",
    "plt.imshow(np.abs(corr))\n",
    "plt.title('Correlation Matrix')\n",
    "plt.xticks(np.arange(corr.shape[1]), corr.columns, rotation=90)\n",
    "plt.yticks(np.arange(corr.shape[1]), corr.columns)\n",
    "plt.colorbar()\n",
    "plt.show()"
   ]
  },
  {
   "cell_type": "markdown",
   "metadata": {},
   "source": [
    "#### Remarks:\n",
    "From the plotted correlation matrix, we observe that there seems to be a clear relationship between:\n",
    "- The level of cards that both players have\n",
    "- The players' rankings (trophies) with each other\n",
    "- Players' rankings (trophies) and cards in their deck\n",
    "\n",
    "The first feature makes sense: Each player would try to upgrade their cards to the highest level possible. As guaranteed by the game's upgrade's algorithm, they should have cards at a same level.\n",
    "\n",
    "Furthermore, the players' rankings should be correlated as well which is well supported by the graph. This is so because the game's \"match-making process\" is based on player rankings, (and players of different rankings seems to use similar decks of cards.) --- how?\n",
    "\n",
    "However, unfortunately, it is evident that there is almost no correlation between the outcome and any other attributes of the dataset from this analysis. We can try to apply some well-known classifications methods and check if they give us promising results."
   ]
  },
  {
   "cell_type": "markdown",
   "metadata": {},
   "source": [
    "Let us now have a look at the card composition itself: We will remove the level of the cards for now."
   ]
  },
  {
   "cell_type": "code",
   "execution_count": 40,
   "metadata": {},
   "outputs": [],
   "source": [
    "less_cols = df.copy()\n",
    "cols_to_drop = []\n",
    "for col_name in df.columns:\n",
    "    if 'lv' in col_name or 'tag' in col_name:\n",
    "        cols_to_drop.append(col_name)\n",
    "# remove cols with levels\n",
    "less_cols.drop(columns=cols_to_drop, inplace=True)\n",
    "less_corr = less_cols.corr()"
   ]
  },
  {
   "cell_type": "code",
   "execution_count": 41,
   "metadata": {
    "scrolled": false
   },
   "outputs": [
    {
     "data": {
      "image/png": "[encoded data removed]",
      "text/plain": [
       "<Figure size 576x576 with 2 Axes>"
      ]
     },
     "metadata": {
      "needs_background": "light"
     },
     "output_type": "display_data"
    }
   ],
   "source": [
    "f = plt.figure(figsize=(8, 8))\n",
    "plt.imshow(np.abs(less_corr))\n",
    "plt.title('Correlation Matrix')\n",
    "plt.xticks(np.arange(less_cols.shape[1]), less_cols.columns, rotation=90)\n",
    "plt.yticks(np.arange(less_cols.shape[1]), less_cols.columns)\n",
    "plt.colorbar()\n",
    "plt.show()"
   ]
  },
  {
   "cell_type": "markdown",
   "metadata": {},
   "source": [
    "Here we observe a different type of correlation. It appears that for each player, the card id that they have are slightly correlated.\n",
    "\n",
    "This is because cards often have synergies (i.e some go well with others as support fillers while other do not), or as people call it - \"meta\". In this case, the results can be interpreted to explain that every card is followed by another specific card to complement the first one to build a strategy (catch: this is a strategy game). There are also relationships with further cards in the deck and even though they get weaker it is straightforward to realize that the cards are played out in a specific manner to build a strategy."
   ]
  },
  {
   "cell_type": "markdown",
   "metadata": {},
   "source": [
    "Let us observe this for different trophy ranges:"
   ]
  },
  {
   "cell_type": "code",
   "execution_count": 43,
   "metadata": {},
   "outputs": [
    {
     "data": {
      "text/plain": [
       "<matplotlib.image.AxesImage at 0x7f8a1a9cad30>"
      ]
     },
     "execution_count": 43,
     "metadata": {},
     "output_type": "execute_result"
    },
    {
     "data": {
      "image/png": "[encoded data removed]",
      "text/plain": [
       "<Figure size 1080x576 with 3 Axes>"
      ]
     },
     "metadata": {
      "needs_background": "light"
     },
     "output_type": "display_data"
    }
   ],
   "source": [
    "fig, ax = plt.subplots(1, 3, figsize=(15, 8))\n",
    "ax[0].imshow(np.abs(\n",
    "    less_cols[(less_cols['p1_trophy'] > 2000) \n",
    "              & (less_cols['p1_trophy'] < 3000)].corr()))\n",
    "ax[1].imshow(np.abs(\n",
    "    less_cols[(less_cols['p1_trophy'] > 2500) \n",
    "              & (less_cols['p1_trophy'] < 3000)].corr()))\n",
    "ax[2].imshow(np.abs(\n",
    "    less_cols[(less_cols['p1_trophy'] > 2800) \n",
    "              & (less_cols['p1_trophy'] < 3000)].corr()))"
   ]
  },
  {
   "cell_type": "code",
   "execution_count": 45,
   "metadata": {},
   "outputs": [
    {
     "data": {
      "text/plain": [
       "<matplotlib.image.AxesImage at 0x7f8a1a613cd0>"
      ]
     },
     "execution_count": 45,
     "metadata": {},
     "output_type": "execute_result"
    },
    {
     "data": {
      "image/png": "[encoded data removed]",
      "text/plain": [
       "<Figure size 1080x576 with 3 Axes>"
      ]
     },
     "metadata": {
      "needs_background": "light"
     },
     "output_type": "display_data"
    }
   ],
   "source": [
    "fig, ax = plt.subplots(1, 3, figsize=(15, 8))\n",
    "ax[0].imshow(np.abs(\n",
    "    less_cols[(less_cols['p1_trophy'] > 3000) \n",
    "              & (less_cols['p1_trophy'] < 4000)].corr()))\n",
    "ax[1].imshow(np.abs(\n",
    "    less_cols[(less_cols['p1_trophy'] > 3500) \n",
    "              & (less_cols['p1_trophy'] < 4000)].corr()))\n",
    "ax[2].imshow(np.abs(\n",
    "    less_cols[(less_cols['p1_trophy'] > 3500) \n",
    "              & (less_cols['p1_trophy'] < 3700)].corr()))"
   ]
  },
  {
   "cell_type": "markdown",
   "metadata": {},
   "source": [
    "As we can see, as we zoom into each trophy range, the correlation among cards becomes clearer. This makes sense, since each ranking has access to different cards, and thus the \"meta\" will be different among them."
   ]
  },
  {
   "cell_type": "markdown",
   "metadata": {
    "vscode": {
     "languageId": "python"
    }
   },
   "source": [
    "### b. Understand Correlation of different features of the game"
   ]
  },
  {
   "cell_type": "markdown",
   "metadata": {},
   "source": [
    "Here, we study the behaviour of three different aspects from the game based on the cards and try to see how they are related with the player who wins a particular match. These three different aspects include:\n",
    "- **Average Deck Elixir**\n",
    "- **Card Type**\n",
    "- **Card Rarity**\n",
    "\n",
    "**Average Deck Elixir:** In Clash Royale, every card has an elixir value which can be thought of as the cost to play that card in the game. This elixir is generated at a certain speed for every player and by playing a specific card, the elixir of that card is lost from the player's total elixir amount. This feature ensures that a player cannot play as many cards as he/she wants. In particular, this feature allows an opportunity for us to study the relation between the average elixir weight of a player's deck to the outcome of the game. In other words, our aim is to study if the player with a cheaper deck has a higher chance of winning the game. If this is the case, then we will have a correlation between the winner and the player who has cheaper deck.\n",
    "\n",
    "**Card Type:** Every card in the game also has a type which can be thought of as a class of the card if it is a `Troop`, `Building`, or a `Spell`, and the cards do what the name of their class suggests. In particular, this feature may/may not have a relation between the type of cards of a player's deck and the outcome of the game. In other words, our aim is to study if a certain type of deck has a higher chance of winning the game. If this is the case, then we will have a correlation between the winner and the deck type. For our analysis, we will divide the `Troop` type in two categories `Air Troop` and `Ground Troop`.\n",
    "\n",
    "**Card Rarity:** Furthermore, every card in the game also has a rarity which can be thought of as the abundance of the card in the game. Essentially there are 5 categories: `Common`, `Rare`, `Epic`, `Legendary`, and `Champion`. As the names suggest, these cards are decreasingly abundant in the game and it is harder to find these cards to upgrade their levels and play them. In particular, this is another feature that may/may not have a relation between the rarity of cards in a player's deck and the outcome of the game. In other words, our aim is to study if a certain rarity of a deck has a higher chance of winning the game. If this is the case, then we will have a correlation between the winner and the deck rarity."
   ]
  },
  {
   "cell_type": "code",
   "execution_count": 46,
   "metadata": {},
   "outputs": [],
   "source": [
    "# needed for id_map hashing\n",
    "cards = pd.read_csv('data-cp/cards.csv')\n",
    "cards_elixir = cards[['id', 'elixir']]\n",
    "\n",
    "# create map for card ID and row\n",
    "id_map = {}\n",
    "for row in cards_elixir.index:\n",
    "    id_map[cards_elixir.loc[row, 'id']] = row"
   ]
  },
  {
   "cell_type": "code",
   "execution_count": 47,
   "metadata": {},
   "outputs": [],
   "source": [
    "p1_elixir = []\n",
    "p2_elixir = []\n",
    "p_elixir_greater = []\n",
    "\n",
    "for (p1,p2) in zip(p1_cards.index, p2_cards.index):\n",
    "    avg1 = 0\n",
    "    avg2 = 0\n",
    "    for i in range(8):\n",
    "        card1 = id_map[p1_cards.iloc[p1, i]]\n",
    "        card2 = id_map[p2_cards.iloc[p2, i]]\n",
    "\n",
    "        avg1 += cards.at[card1,\"elixir\"]\n",
    "        avg2 += cards.at[card2,\"elixir\"]\n",
    "        \n",
    "    avg1/=8.0\n",
    "    avg2/=8.0\n",
    "    p1_elixir.append(avg1)\n",
    "    p2_elixir.append(avg2)\n",
    "    if (avg1 > avg2):\n",
    "        p_elixir_greater.append(1)\n",
    "    elif(avg1 == avg2):\n",
    "        p_elixir_greater.append(0)\n",
    "    else:\n",
    "        p_elixir_greater.append(2)"
   ]
  },
  {
   "cell_type": "code",
   "execution_count": 48,
   "metadata": {
    "scrolled": true
   },
   "outputs": [
    {
     "name": "stdout",
     "output_type": "stream",
     "text": [
      "     winner  p1_crowns  p2_crowns  p1_elixir  p2_elixir  p_elixir_greater\n",
      "543       2          0          3      2.875      3.750                 2\n",
      "544       2          0          3      2.875      4.000                 2\n",
      "545       2          0          1      2.875      4.500                 2\n",
      "546       1          1          0      2.875      3.625                 2\n",
      "547       2          0          1      3.375      3.750                 2\n",
      "548       2          0          2      3.375      3.500                 2\n"
     ]
    }
   ],
   "source": [
    "battles['p1_elixir'] = p1_elixir\n",
    "battles['p2_elixir'] = p2_elixir\n",
    "battles['p_elixir_greater'] = p_elixir_greater\n",
    "df = battles[[\"winner\", \"p1_crowns\", \"p2_crowns\", \"p1_elixir\", \"p2_elixir\", \"p_elixir_greater\"]]\n",
    "print(df[543:549])"
   ]
  },
  {
   "cell_type": "code",
   "execution_count": 49,
   "metadata": {},
   "outputs": [],
   "source": [
    "corr = df.corr()"
   ]
  },
  {
   "cell_type": "code",
   "execution_count": 50,
   "metadata": {},
   "outputs": [
    {
     "data": {
      "image/png": "[encoded data removed]",
      "text/plain": [
       "<Figure size 864x864 with 2 Axes>"
      ]
     },
     "metadata": {
      "needs_background": "light"
     },
     "output_type": "display_data"
    }
   ],
   "source": [
    "f = plt.figure(figsize=(12, 12))\n",
    "plt.imshow(np.abs(corr))\n",
    "plt.title('Correlation Matrix')\n",
    "plt.xticks(np.arange(df.shape[1]), df.columns, rotation=45)\n",
    "plt.yticks(np.arange(df.shape[1]), df.columns)\n",
    "plt.colorbar()\n",
    "plt.show()"
   ]
  },
  {
   "cell_type": "markdown",
   "metadata": {},
   "source": [
    "### Troop Type"
   ]
  },
  {
   "cell_type": "markdown",
   "metadata": {},
   "source": [
    "Now, we will try to analyze the decks based on the types of cards. In the original data, we have 3 types of cards: \n",
    "- `Troop`\n",
    "- `Spell` \n",
    "- `Building`\n",
    "\n",
    "But, we will divide the `Troop` type into:\n",
    "- `Air_Troop` \n",
    "- `Ground_Troop`\n",
    "\n",
    "The difference between these two is that `Air_Troop` have `flying_height>0` and as the name suggests, they are positioned above 0 on the z-axis in the game. The number of `Air_Troops` may/may not have an effect on the result of the match and that is why we will try to train our models and see if our predictions are any better with these troop types. We modify the data accordingly in the cell below. "
   ]
  },
  {
   "cell_type": "code",
   "execution_count": 51,
   "metadata": {},
   "outputs": [
    {
     "name": "stdout",
     "output_type": "stream",
     "text": [
      "Unique cards before modification: ['Troop', 'Building', 'Spell']\n",
      "       key  elixir   type\n",
      "0   knight       3  Troop\n",
      "1  archers       3  Troop\n",
      "2  goblins       2  Troop\n",
      "3    giant       5  Troop\n",
      "4    pekka       7  Troop\n",
      "\n",
      "Unique cards after modification: ['Air_Troop', 'Building', 'Ground_Troop', 'Spell']\n",
      "       key  elixir          type  rarity\n",
      "0   knight       3  Ground_Troop  Common\n",
      "1  archers       3  Ground_Troop  Common\n",
      "2  goblins       2  Ground_Troop  Common\n",
      "3    giant       5  Ground_Troop    Rare\n",
      "4    pekka       7  Ground_Troop    Epic\n"
     ]
    }
   ],
   "source": [
    "print(\"Unique cards before modification:\", cards['type'].unique().tolist())\n",
    "print(cards[['key', 'elixir', 'type']][:5])\n",
    "\n",
    "for row_index in cards.index:\n",
    "    if cards.loc[row_index, 'type'] == 'Troop':\n",
    "        if cards.loc[row_index, 'flying_height'] > 0:\n",
    "            cards.loc[row_index, 'type'] = 'Air_Troop'\n",
    "        else:\n",
    "            cards.loc[row_index, 'type'] = 'Ground_Troop'\n",
    "print(\"\")\n",
    "print(\"Unique cards after modification:\", sorted(cards['type'].unique()))\n",
    "print(cards[['key', 'elixir', 'type', 'rarity']][:5])"
   ]
  },
  {
   "cell_type": "code",
   "execution_count": 52,
   "metadata": {},
   "outputs": [
    {
     "name": "stdout",
     "output_type": "stream",
     "text": [
      "Cards after encoding: [0, 1, 2, 3]\n",
      "                 key  elixir type\n",
      "67     battle-healer       4    0\n",
      "68     skeleton-king       4    0\n",
      "69      archer-queen       5    0\n",
      "70     golden-knight       4    0\n",
      "71  skeleton-dragons       4    1\n",
      "72      mother-witch       4    0\n",
      "73    electro-spirit       1    0\n",
      "74     electro-giant       7    0\n",
      "75            cannon       3    2\n",
      "76        goblin-hut       5    2\n",
      "77            mortar       4    2\n",
      "78     inferno-tower       5    2\n",
      "79        bomb-tower       4    2\n"
     ]
    }
   ],
   "source": [
    "encoding_type = {'Ground_Troop': 0, 'Air_Troop': 1, 'Building': 2, 'Spell': 3}\n",
    "for row_index in cards.index:\n",
    "    cards.loc[row_index, 'type'] = encoding_type[cards.loc[row_index, 'type']]\n",
    "print(\"Cards after encoding:\", sorted(cards['type'].unique()))\n",
    "print(cards[['key', 'elixir', 'type']][67:80])"
   ]
  },
  {
   "cell_type": "markdown",
   "metadata": {},
   "source": [
    "### Troop Rarity"
   ]
  },
  {
   "cell_type": "markdown",
   "metadata": {},
   "source": [
    "Now, we will try to analyze the decks based on the rarity of cards. In the original data, we have 5 rarities of cards: \n",
    "- `Common`\n",
    "- `Rare` \n",
    "- `Epic`\n",
    "- `Legendary`\n",
    "- `Champion` \n"
   ]
  },
  {
   "cell_type": "code",
   "execution_count": 53,
   "metadata": {},
   "outputs": [
    {
     "name": "stdout",
     "output_type": "stream",
     "text": [
      "Unique cards before modification: [0, 1, 2, 3]\n",
      "       key  elixir  rarity\n",
      "0   knight       3  Common\n",
      "1  archers       3  Common\n",
      "2  goblins       2  Common\n",
      "3    giant       5    Rare\n",
      "4    pekka       7    Epic\n",
      "                 key  elixir type rarity\n",
      "67     battle-healer       4    0      1\n",
      "68     skeleton-king       4    0      4\n",
      "69      archer-queen       5    0      4\n",
      "70     golden-knight       4    0      4\n",
      "71  skeleton-dragons       4    1      0\n",
      "72      mother-witch       4    0      3\n",
      "73    electro-spirit       1    0      0\n",
      "74     electro-giant       7    0      2\n",
      "75            cannon       3    2      0\n",
      "76        goblin-hut       5    2      1\n",
      "77            mortar       4    2      0\n",
      "78     inferno-tower       5    2      1\n",
      "79        bomb-tower       4    2      1\n",
      "80     barbarian-hut       7    2      1\n",
      "81             tesla       4    2      0\n",
      "82  elixir-collector       6    2      1\n",
      "83             x-bow       6    2      2\n",
      "84         tombstone       3    2      1\n"
     ]
    }
   ],
   "source": [
    "print(\"Unique cards before modification:\", cards['type'].unique().tolist())\n",
    "print(cards[['key', 'elixir', 'rarity']][:5])\n",
    "encoding_rarity = {'Common': 0, 'Rare': 1, 'Epic': 2, 'Legendary': 3, 'Champion': 4}\n",
    "for row_index in cards.index:\n",
    "    cards.loc[row_index, 'rarity'] = encoding_rarity[cards.loc[row_index, 'rarity']]\n",
    "print(cards[['key', 'elixir', 'type', 'rarity']][67:85])"
   ]
  },
  {
   "cell_type": "markdown",
   "metadata": {},
   "source": [
    "### Troop Attack Grid"
   ]
  },
  {
   "cell_type": "markdown",
   "metadata": {},
   "source": [
    "Now, we will try to analyze the decks based on the attack grid of cards. In the original data, a card has two values which correspond to its ability to attack in the air or on the ground. Every card can either attack only on the ground or both air and ground but no card can attack only in the air. So, we will add a new category in the data which classifies the attack grid of the corresponding card as either:\n",
    "- `Ground`\n",
    "- `Both`\n",
    "\n",
    "This is a new feature to study so let's dive into it."
   ]
  },
  {
   "cell_type": "code",
   "execution_count": 54,
   "metadata": {},
   "outputs": [
    {
     "name": "stdout",
     "output_type": "stream",
     "text": [
      "               key  elixir type rarity attack_grid\n",
      "57  flying-machine       4    1      1        Both\n",
      "58   wall-breakers       2    0      2      Ground\n",
      "59      royal-hogs       5    0      1      Ground\n",
      "60    goblin-giant       6    0      2      Ground\n",
      "61       fisherman       3    0      3      Ground\n"
     ]
    }
   ],
   "source": [
    "attack_range = []\n",
    "for row_index in cards.index:\n",
    "#     print(cards.loc[row_index])\n",
    "    if cards.loc[row_index, 'damage_air']:\n",
    "        attack_range.append('Both')\n",
    "    else:\n",
    "        attack_range.append('Ground')\n",
    "\n",
    "cards['attack_grid'] = attack_range\n",
    "print(cards[['key', 'elixir', 'type', 'rarity', 'attack_grid']][57:62])"
   ]
  },
  {
   "cell_type": "code",
   "execution_count": 55,
   "metadata": {},
   "outputs": [
    {
     "name": "stdout",
     "output_type": "stream",
     "text": [
      "Unique cards before modification: ['Ground' 'Both']\n",
      "       key  elixir attack_grid\n",
      "0   knight       3      Ground\n",
      "1  archers       3        Both\n",
      "2  goblins       2      Ground\n",
      "3    giant       5      Ground\n",
      "4    pekka       7      Ground\n",
      "                 key  elixir type attack_grid\n",
      "67     battle-healer       4    0           0\n",
      "68     skeleton-king       4    0           0\n",
      "69      archer-queen       5    0           1\n",
      "70     golden-knight       4    0           0\n",
      "71  skeleton-dragons       4    1           1\n",
      "72      mother-witch       4    0           1\n",
      "73    electro-spirit       1    0           1\n",
      "74     electro-giant       7    0           0\n"
     ]
    }
   ],
   "source": [
    "print(\"Unique cards before modification:\", cards['attack_grid'].unique())\n",
    "print(cards[['key', 'elixir', 'attack_grid']][:5])\n",
    "encoding_attack = {'Ground': 0, 'Both': 1}\n",
    "for row_index in cards.index:\n",
    "    cards.loc[row_index, 'attack_grid'] = encoding_attack[cards.loc[row_index, 'attack_grid']]\n",
    "print(cards[['key', 'elixir', 'type', 'attack_grid']][67:75])"
   ]
  },
  {
   "cell_type": "markdown",
   "metadata": {},
   "source": [
    "### Feature Analysis"
   ]
  },
  {
   "cell_type": "code",
   "execution_count": 56,
   "metadata": {},
   "outputs": [],
   "source": [
    "p1_t = []\n",
    "p2_t = []\n",
    "p1_r = []\n",
    "p2_r = []\n",
    "p1_a = []\n",
    "p2_a = []\n",
    "p_type_greater = []\n",
    "p_rarity_greater = []\n",
    "p_attack_greater = []\n",
    "\n",
    "for (p1,p2) in zip(p1_cards.index, p2_cards.index):\n",
    "    avg1_t = 0\n",
    "    avg2_t = 0\n",
    "    avg1_r = 0\n",
    "    avg2_r = 0\n",
    "    avg1_a = 0\n",
    "    avg2_a = 0\n",
    "    for i in range(8):\n",
    "        card1 = id_map[p1_cards.iloc[p1, i]]\n",
    "        card2 = id_map[p2_cards.iloc[p2, i]]\n",
    "\n",
    "        avg1_t += cards.at[card1,\"type\"]\n",
    "        avg2_t += cards.at[card2,\"type\"]\n",
    "        \n",
    "        avg1_r += cards.at[card1,\"rarity\"]\n",
    "        avg2_r += cards.at[card2,\"rarity\"]\n",
    "        \n",
    "        avg1_a += cards.at[card1,\"attack_grid\"]\n",
    "        avg2_a += cards.at[card2,\"attack_grid\"]\n",
    "        \n",
    "    # type average\n",
    "    avg1_t/=8.0\n",
    "    avg2_t/=8.0\n",
    "    p1_t.append(avg1_t)\n",
    "    p2_t.append(avg2_t)\n",
    "    if (avg1_t > avg2_t):\n",
    "        p_type_greater.append(1)\n",
    "    elif(avg1_t == avg2_t):\n",
    "        p_type_greater.append(0)\n",
    "    else:\n",
    "        p_type_greater.append(2)\n",
    "        \n",
    "    # rarity average\n",
    "    avg1_r/=8.0\n",
    "    avg2_r/=8.0\n",
    "    p1_r.append(avg1_r)\n",
    "    p2_r.append(avg2_r)\n",
    "    if (avg1_t > avg2_t):\n",
    "        p_rarity_greater.append(1)\n",
    "    elif(avg1_t == avg2_t):\n",
    "        p_rarity_greater.append(0)\n",
    "    else:\n",
    "        p_rarity_greater.append(2)\n",
    "    \n",
    "    # attack average\n",
    "    avg1_a/=8.0\n",
    "    avg2_a/=8.0\n",
    "    p1_a.append(avg1_a)\n",
    "    p2_a.append(avg2_a)\n",
    "    if (avg1_a > avg2_a):\n",
    "        p_attack_greater.append(1)\n",
    "    elif(avg1_a == avg2_a):\n",
    "        p_attack_greater.append(0)\n",
    "    else:\n",
    "        p_attack_greater.append(2)"
   ]
  },
  {
   "cell_type": "code",
   "execution_count": 57,
   "metadata": {},
   "outputs": [
    {
     "data": {
      "text/html": [
       "<div>\n",
       "<style scoped>\n",
       "    .dataframe tbody tr th:only-of-type {\n",
       "        vertical-align: middle;\n",
       "    }\n",
       "\n",
       "    .dataframe tbody tr th {\n",
       "        vertical-align: top;\n",
       "    }\n",
       "\n",
       "    .dataframe thead th {\n",
       "        text-align: right;\n",
       "    }\n",
       "</style>\n",
       "<table border=\"1\" class=\"dataframe\">\n",
       "  <thead>\n",
       "    <tr style=\"text-align: right;\">\n",
       "      <th></th>\n",
       "      <th>winner</th>\n",
       "      <th>p1_crowns</th>\n",
       "      <th>p2_crowns</th>\n",
       "      <th>p1_elixir</th>\n",
       "      <th>p2_elixir</th>\n",
       "      <th>p_elixir_greater</th>\n",
       "      <th>p1_type</th>\n",
       "      <th>p2_type</th>\n",
       "      <th>p_type_greater</th>\n",
       "      <th>p1_rarity</th>\n",
       "      <th>p2_rarity</th>\n",
       "      <th>p_rarity_greater</th>\n",
       "      <th>p1_attack</th>\n",
       "      <th>p2_attack</th>\n",
       "      <th>p_attack_greater</th>\n",
       "    </tr>\n",
       "  </thead>\n",
       "  <tbody>\n",
       "    <tr>\n",
       "      <th>543</th>\n",
       "      <td>2</td>\n",
       "      <td>0</td>\n",
       "      <td>3</td>\n",
       "      <td>2.875</td>\n",
       "      <td>3.750</td>\n",
       "      <td>2</td>\n",
       "      <td>1.000</td>\n",
       "      <td>1.000</td>\n",
       "      <td>0</td>\n",
       "      <td>1.375</td>\n",
       "      <td>1.625</td>\n",
       "      <td>0</td>\n",
       "      <td>0.375</td>\n",
       "      <td>0.500</td>\n",
       "      <td>2</td>\n",
       "    </tr>\n",
       "    <tr>\n",
       "      <th>544</th>\n",
       "      <td>2</td>\n",
       "      <td>0</td>\n",
       "      <td>3</td>\n",
       "      <td>2.875</td>\n",
       "      <td>4.000</td>\n",
       "      <td>2</td>\n",
       "      <td>1.000</td>\n",
       "      <td>0.750</td>\n",
       "      <td>1</td>\n",
       "      <td>1.375</td>\n",
       "      <td>1.625</td>\n",
       "      <td>1</td>\n",
       "      <td>0.375</td>\n",
       "      <td>0.375</td>\n",
       "      <td>0</td>\n",
       "    </tr>\n",
       "    <tr>\n",
       "      <th>545</th>\n",
       "      <td>2</td>\n",
       "      <td>0</td>\n",
       "      <td>1</td>\n",
       "      <td>2.875</td>\n",
       "      <td>4.500</td>\n",
       "      <td>2</td>\n",
       "      <td>1.000</td>\n",
       "      <td>1.000</td>\n",
       "      <td>0</td>\n",
       "      <td>1.375</td>\n",
       "      <td>1.625</td>\n",
       "      <td>0</td>\n",
       "      <td>0.375</td>\n",
       "      <td>0.500</td>\n",
       "      <td>2</td>\n",
       "    </tr>\n",
       "    <tr>\n",
       "      <th>546</th>\n",
       "      <td>1</td>\n",
       "      <td>1</td>\n",
       "      <td>0</td>\n",
       "      <td>2.875</td>\n",
       "      <td>3.625</td>\n",
       "      <td>2</td>\n",
       "      <td>1.000</td>\n",
       "      <td>1.125</td>\n",
       "      <td>2</td>\n",
       "      <td>1.375</td>\n",
       "      <td>1.500</td>\n",
       "      <td>2</td>\n",
       "      <td>0.375</td>\n",
       "      <td>0.500</td>\n",
       "      <td>2</td>\n",
       "    </tr>\n",
       "    <tr>\n",
       "      <th>547</th>\n",
       "      <td>2</td>\n",
       "      <td>0</td>\n",
       "      <td>1</td>\n",
       "      <td>3.375</td>\n",
       "      <td>3.750</td>\n",
       "      <td>2</td>\n",
       "      <td>1.375</td>\n",
       "      <td>0.750</td>\n",
       "      <td>1</td>\n",
       "      <td>0.875</td>\n",
       "      <td>1.625</td>\n",
       "      <td>1</td>\n",
       "      <td>0.625</td>\n",
       "      <td>0.250</td>\n",
       "      <td>1</td>\n",
       "    </tr>\n",
       "    <tr>\n",
       "      <th>548</th>\n",
       "      <td>2</td>\n",
       "      <td>0</td>\n",
       "      <td>2</td>\n",
       "      <td>3.375</td>\n",
       "      <td>3.500</td>\n",
       "      <td>2</td>\n",
       "      <td>1.375</td>\n",
       "      <td>0.375</td>\n",
       "      <td>1</td>\n",
       "      <td>0.875</td>\n",
       "      <td>2.000</td>\n",
       "      <td>1</td>\n",
       "      <td>0.625</td>\n",
       "      <td>0.250</td>\n",
       "      <td>1</td>\n",
       "    </tr>\n",
       "  </tbody>\n",
       "</table>\n",
       "</div>"
      ],
      "text/plain": [
       "     winner  p1_crowns  p2_crowns  p1_elixir  p2_elixir  p_elixir_greater  \\\n",
       "543       2          0          3      2.875      3.750                 2   \n",
       "544       2          0          3      2.875      4.000                 2   \n",
       "545       2          0          1      2.875      4.500                 2   \n",
       "546       1          1          0      2.875      3.625                 2   \n",
       "547       2          0          1      3.375      3.750                 2   \n",
       "548       2          0          2      3.375      3.500                 2   \n",
       "\n",
       "     p1_type  p2_type  p_type_greater  p1_rarity  p2_rarity  p_rarity_greater  \\\n",
       "543    1.000    1.000               0      1.375      1.625                 0   \n",
       "544    1.000    0.750               1      1.375      1.625                 1   \n",
       "545    1.000    1.000               0      1.375      1.625                 0   \n",
       "546    1.000    1.125               2      1.375      1.500                 2   \n",
       "547    1.375    0.750               1      0.875      1.625                 1   \n",
       "548    1.375    0.375               1      0.875      2.000                 1   \n",
       "\n",
       "     p1_attack  p2_attack  p_attack_greater  \n",
       "543      0.375      0.500                 2  \n",
       "544      0.375      0.375                 0  \n",
       "545      0.375      0.500                 2  \n",
       "546      0.375      0.500                 2  \n",
       "547      0.625      0.250                 1  \n",
       "548      0.625      0.250                 1  "
      ]
     },
     "execution_count": 57,
     "metadata": {},
     "output_type": "execute_result"
    }
   ],
   "source": [
    "battles['p1_type'] = p1_t\n",
    "battles['p2_type'] = p2_t\n",
    "battles['p_type_greater'] = p_type_greater\n",
    "battles['p1_rarity'] = p1_r\n",
    "battles['p2_rarity'] = p2_r\n",
    "battles['p_rarity_greater'] = p_type_greater\n",
    "battles['p1_attack'] = p1_a\n",
    "battles['p2_attack'] = p2_a\n",
    "battles['p_attack_greater'] = p_attack_greater\n",
    "df = battles[[\"winner\", \"p1_crowns\", \"p2_crowns\", \"p1_elixir\", \"p2_elixir\", \"p_elixir_greater\",\n",
    "             \"p1_type\", \"p2_type\", \"p_type_greater\", \"p1_rarity\", \"p2_rarity\", \"p_rarity_greater\", \n",
    "             \"p1_attack\", \"p2_attack\", \"p_attack_greater\"]]\n",
    "df[543:549]"
   ]
  },
  {
   "cell_type": "code",
   "execution_count": 58,
   "metadata": {},
   "outputs": [],
   "source": [
    "corr_var = df.corr()"
   ]
  },
  {
   "cell_type": "code",
   "execution_count": 59,
   "metadata": {
    "scrolled": false
   },
   "outputs": [
    {
     "data": {
      "image/png": "[encoded data removed]",
      "text/plain": [
       "<Figure size 1080x864 with 2 Axes>"
      ]
     },
     "metadata": {
      "needs_background": "light"
     },
     "output_type": "display_data"
    }
   ],
   "source": [
    "f = plt.figure(figsize=(15, 12))\n",
    "plt.imshow(np.abs(corr_var))\n",
    "plt.title('Correlation Matrix')\n",
    "plt.xticks(np.arange(df.shape[1]), df.columns, rotation=45)\n",
    "plt.yticks(np.arange(df.shape[1]), df.columns)\n",
    "plt.colorbar()\n",
    "plt.show()"
   ]
  },
  {
   "cell_type": "markdown",
   "metadata": {},
   "source": [
    "### Remark\n",
    "\n",
    "From this matrix we can see that there is a clear correlation between `p_type_greater` and `p_rarity_greater`. This essentially means that the player who has more spells"
   ]
  },
  {
   "cell_type": "markdown",
   "metadata": {},
   "source": [
    "This time we add weights to the types and rarity of the cards and see if that gives a better relation."
   ]
  },
  {
   "cell_type": "code",
   "execution_count": 60,
   "metadata": {},
   "outputs": [
    {
     "name": "stdout",
     "output_type": "stream",
     "text": [
      "1.0\n",
      "1.0\n",
      "1.0\n"
     ]
    }
   ],
   "source": [
    "# finding the number of cards by class name for every feature\n",
    "nb_rarity = [0, 0, 0, 0, 0]\n",
    "nb_type = [0, 0, 0, 0]\n",
    "nb_attack = [0, 0]\n",
    "for row in cards.index:\n",
    "    nb_rarity[cards.loc[row, 'rarity']] += 1\n",
    "    nb_type[cards.loc[row, 'type']] += 1\n",
    "    nb_attack[cards.loc[row, 'attack_grid']] += 1\n",
    "    \n",
    "nb_rarity = [i/107.0 for i in nb_rarity]\n",
    "nb_type = [i/107.0 for i in nb_type]\n",
    "nb_attack = [i/107.0 for i in nb_attack]\n",
    "print(sum(nb_type))\n",
    "print(sum(nb_rarity))\n",
    "print(sum(nb_attack))"
   ]
  },
  {
   "cell_type": "code",
   "execution_count": 61,
   "metadata": {},
   "outputs": [
    {
     "name": "stdout",
     "output_type": "stream",
     "text": [
      "               key  elixir type rarity attack_grid\n",
      "57  flying-machine       4    1      1           1\n",
      "58   wall-breakers       2    0      2           0\n",
      "59      royal-hogs       5    0      1           0\n",
      "60    goblin-giant       6    0      2           0\n",
      "61       fisherman       3    0      3           0\n",
      "                 key  elixir      type    rarity attack_grid\n",
      "67     battle-healer       4  0.121495  0.037383    0.448598\n",
      "68     skeleton-king       4  0.121495  0.261682    0.448598\n",
      "69      archer-queen       5  0.121495  0.261682    0.551402\n",
      "70     golden-knight       4  0.121495  0.261682    0.448598\n",
      "71  skeleton-dragons       4  0.598131  0.261682    0.551402\n",
      "Types of cards: [0.11214953271028037, 0.12149532710280374, 0.16822429906542055, 0.5981308411214953]  Sum:  1.0\n",
      "Rarity of cards: [0.037383177570093455, 0.16822429906542055, 0.2616822429906542, 0.27102803738317754]  Sum:  0.7383177570093458\n",
      "Attack of cards: [0.4485981308411215, 0.5514018691588785]  Sum:  1.0\n"
     ]
    }
   ],
   "source": [
    "# recasting all avergae data in the encoding maps\n",
    "for i, val in enumerate(sorted(encoding_rarity)):\n",
    "    encoding_rarity[val] = nb_rarity[i]\n",
    "    \n",
    "for i, val in enumerate(sorted(encoding_type)):\n",
    "    encoding_type[val] = nb_type[i]\n",
    "\n",
    "for i, val in enumerate(sorted(encoding_attack)):\n",
    "    encoding_attack[val] = nb_attack[i]\n",
    "\n",
    "# recasting the new\n",
    "# we need a temporary array for that\n",
    "cards_temp = pd.read_csv(\"data-cp/cards.csv\")\n",
    "for row_index in cards_temp.index:\n",
    "    if cards_temp.loc[row_index, 'type'] == 'Troop':\n",
    "        if cards_temp.loc[row_index, 'flying_height'] > 0:\n",
    "            cards_temp.loc[row_index, 'type'] = 'Air_Troop'\n",
    "        else:\n",
    "            cards_temp.loc[row_index, 'type'] = 'Ground_Troop'\n",
    "        \n",
    "attack_range = []\n",
    "for row_index in cards.index:\n",
    "    if cards_temp.loc[row_index, 'damage_air']:\n",
    "        attack_range.append('Both')\n",
    "    else:\n",
    "        attack_range.append('Ground')\n",
    "\n",
    "cards_temp['attack_grid'] = attack_range\n",
    "print(cards[['key', 'elixir', 'type', 'rarity', 'attack_grid']][57:62])\n",
    "for row_index in cards.index:\n",
    "    cards.loc[row_index, 'rarity'] = encoding_rarity[cards_temp.loc[row_index, 'rarity']]\n",
    "    cards.loc[row_index, 'type'] = encoding_type[cards_temp.loc[row_index, 'type']]\n",
    "    cards.loc[row_index, 'attack_grid'] = encoding_attack[cards_temp.loc[row_index, 'attack_grid']]\n",
    "    \n",
    "print(cards[['key', 'elixir', 'type', 'rarity', 'attack_grid']][67:72])\n",
    "print(\"Types of cards:\", sorted(cards['type'].unique()), \" Sum: \", sum(cards['type'].unique()))\n",
    "print(\"Rarity of cards:\", sorted(cards['rarity'].unique()), \" Sum: \", sum(cards['rarity'].unique()))\n",
    "print(\"Attack of cards:\", sorted(cards['attack_grid'].unique()), \" Sum: \", sum(cards['attack_grid'].unique()))"
   ]
  },
  {
   "cell_type": "code",
   "execution_count": 62,
   "metadata": {},
   "outputs": [],
   "source": [
    "# weighted average over all readings\n",
    "p1_tw = []\n",
    "p2_tw = []\n",
    "p1_rw = []\n",
    "p2_rw = []\n",
    "p1_aw = []\n",
    "p2_aw = []\n",
    "p_type_greater = []\n",
    "p_rarity_greater = []\n",
    "p_attack_greater = []\n",
    "\n",
    "for (p1,p2) in zip(p1_cards.index, p2_cards.index):\n",
    "    avg1_tw = 0\n",
    "    avg2_tw = 0\n",
    "    avg1_rw = 0\n",
    "    avg2_rw = 0\n",
    "    avg1_aw = 0\n",
    "    avg2_aw = 0\n",
    "    for i in range(8):\n",
    "        card1 = id_map[p1_cards.iloc[p1, i]]\n",
    "        card2 = id_map[p2_cards.iloc[p2, i]]\n",
    "\n",
    "        avg1_tw += cards.at[card1,\"type\"]\n",
    "        avg2_tw += cards.at[card2,\"type\"]\n",
    "        \n",
    "        avg1_rw += cards.at[card1,\"rarity\"]\n",
    "        avg2_rw += cards.at[card2,\"rarity\"]\n",
    "        \n",
    "        avg1_aw += cards.at[card1,\"attack_grid\"]\n",
    "        avg2_aw += cards.at[card2,\"attack_grid\"]\n",
    "        \n",
    "    avg1_tw/=8.0\n",
    "    avg2_tw/=8.0\n",
    "    p1_tw.append(avg1_tw)\n",
    "    p2_tw.append(avg2_tw)\n",
    "    if (avg1_tw > avg2_tw):\n",
    "        p_type_greater.append(1)\n",
    "    elif(avg1_tw == avg2_tw):\n",
    "        p_type_greater.append(0)\n",
    "    else:\n",
    "        p_type_greater.append(2)\n",
    "        \n",
    "    avg1_rw/=8.0\n",
    "    avg2_rw/=8.0\n",
    "    p1_rw.append(avg1_rw)\n",
    "    p2_rw.append(avg2_rw)\n",
    "    if (avg1_tw > avg2_tw):\n",
    "        p_rarity_greater.append(1)\n",
    "    elif(avg1_tw == avg2_tw):\n",
    "        p_rarity_greater.append(0)\n",
    "    else:\n",
    "        p_rarity_greater.append(2)\n",
    "        \n",
    "    avg1_aw/=8.0\n",
    "    avg2_aw/=8.0\n",
    "    p1_aw.append(avg1_aw)\n",
    "    p2_aw.append(avg2_aw)\n",
    "    if (avg1_aw > avg2_aw):\n",
    "        p_attack_greater.append(1)\n",
    "    elif(avg1_aw == avg2_aw):\n",
    "        p_attack_greater.append(0)\n",
    "    else:\n",
    "        p_attack_greater.append(2)"
   ]
  },
  {
   "cell_type": "code",
   "execution_count": 31,
   "metadata": {},
   "outputs": [
    {
     "name": "stdout",
     "output_type": "stream",
     "text": [
      "     winner  p1_crowns  p2_crowns  p1_elixir  p2_elixir  p_elixir_greater  \\\n",
      "543       2          0          3      2.875      3.750                 2   \n",
      "544       2          0          3      2.875      4.000                 2   \n",
      "545       2          0          1      2.875      4.500                 2   \n",
      "546       1          1          0      2.875      3.625                 2   \n",
      "547       2          0          1      3.375      3.750                 2   \n",
      "548       2          0          2      3.375      3.500                 2   \n",
      "\n",
      "     p1_type  p2_type  p_type_greater  p1_wtype  ...  p_w_rarity_greater  \\\n",
      "543    1.000    1.000               0  0.132009  ...                   2   \n",
      "544    1.000    0.750               1  0.132009  ...                   2   \n",
      "545    1.000    1.000               0  0.132009  ...                   0   \n",
      "546    1.000    1.125               2  0.132009  ...                   2   \n",
      "547    1.375    0.750               1  0.137850  ...                   1   \n",
      "548    1.375    0.375               1  0.137850  ...                   1   \n",
      "\n",
      "     p1_rarity  p2_rarity  p_rarity_greater  p1_wattack  p2_wattack  \\\n",
      "543      1.375      1.625                 0     0.48715    0.500000   \n",
      "544      1.375      1.625                 1     0.48715    0.487150   \n",
      "545      1.375      1.625                 0     0.48715    0.500000   \n",
      "546      1.375      1.500                 2     0.48715    0.500000   \n",
      "547      0.875      1.625                 1     0.51285    0.474299   \n",
      "548      0.875      2.000                 1     0.51285    0.474299   \n",
      "\n",
      "     p_w_attack_greater  p1_attack  p2_attack  p_attack_greater  \n",
      "543                   2      0.375      0.500                 2  \n",
      "544                   0      0.375      0.375                 0  \n",
      "545                   2      0.375      0.500                 2  \n",
      "546                   2      0.375      0.500                 2  \n",
      "547                   1      0.625      0.250                 1  \n",
      "548                   1      0.625      0.250                 1  \n",
      "\n",
      "[6 rows x 24 columns]\n"
     ]
    }
   ],
   "source": [
    "battles['p1_wtype'] = p1_tw\n",
    "battles['p2_wtype'] = p2_tw\n",
    "battles['p_w_type_greater'] = p_type_greater\n",
    "battles['p1_wrarity'] = p1_rw\n",
    "battles['p2_wrarity'] = p2_rw\n",
    "battles['p_w_rarity_greater'] = p_type_greater\n",
    "battles['p1_wattack'] = p1_aw\n",
    "battles['p2_wattack'] = p2_aw\n",
    "battles['p_w_attack_greater'] = p_attack_greater\n",
    "df = battles[[\"winner\", \"p1_crowns\", \"p2_crowns\", \"p1_elixir\", \"p2_elixir\", \"p_elixir_greater\",\n",
    "             \"p1_type\", \"p2_type\", \"p_type_greater\", \"p1_wtype\", \"p2_wtype\", \"p_w_type_greater\", \n",
    "              \"p1_wrarity\", \"p2_wrarity\", \"p_w_rarity_greater\",  \"p1_rarity\", \"p2_rarity\", \"p_rarity_greater\",\n",
    "             \"p1_wattack\", \"p2_wattack\", \"p_w_attack_greater\", \"p1_attack\", \"p2_attack\", \"p_attack_greater\"]]\n",
    "print(df[543:549])"
   ]
  },
  {
   "cell_type": "code",
   "execution_count": 32,
   "metadata": {},
   "outputs": [],
   "source": [
    "corr_wvar = df.corr()"
   ]
  },
  {
   "cell_type": "code",
   "execution_count": 33,
   "metadata": {
    "scrolled": false
   },
   "outputs": [
    {
     "data": {
      "image/png": "[encoded data removed]",
      "text/plain": [
       "<Figure size 1080x864 with 2 Axes>"
      ]
     },
     "metadata": {
      "needs_background": "light"
     },
     "output_type": "display_data"
    }
   ],
   "source": [
    "f = plt.figure(figsize=(15, 12))\n",
    "plt.imshow(np.abs(corr_wvar))\n",
    "plt.title('Correlation Matrix')\n",
    "plt.xticks(np.arange(df.shape[1]), df.columns, rotation=45)\n",
    "plt.yticks(np.arange(df.shape[1]), df.columns)\n",
    "plt.colorbar()\n",
    "plt.show()"
   ]
  },
  {
   "cell_type": "markdown",
   "metadata": {},
   "source": []
  },
  {
   "cell_type": "markdown",
   "metadata": {},
   "source": [
    "## 4. Decks Analysis:\n",
    "Let us dig deeper into the dataset by analyzing the decks, which seems to be most correlated.\n",
    "\n",
    "We first visualize the correlation matrix (now with the new encoding)."
   ]
  },
  {
   "cell_type": "code",
   "execution_count": 63,
   "metadata": {
    "execution": {
     "iopub.execute_input": "2022-04-11T17:05:46.260684Z",
     "iopub.status.busy": "2022-04-11T17:05:46.260308Z",
     "iopub.status.idle": "2022-04-11T17:05:46.746082Z",
     "shell.execute_reply": "2022-04-11T17:05:46.745358Z",
     "shell.execute_reply.started": "2022-04-11T17:05:46.260629Z"
    },
    "vscode": {
     "languageId": "python"
    }
   },
   "outputs": [
    {
     "data": {
      "image/png": "[encoded data removed]",
      "text/plain": [
       "<Figure size 1152x864 with 2 Axes>"
      ]
     },
     "metadata": {
      "needs_background": "light"
     },
     "output_type": "display_data"
    }
   ],
   "source": [
    "d_corr = np.corrcoef(decks.T)\n",
    "f = plt.figure(figsize=(16, 12))\n",
    "plt.imshow(np.abs(d_corr))\n",
    "plt.title('Correlation Matrix')\n",
    "plt.colorbar()\n",
    "plt.show()"
   ]
  },
  {
   "cell_type": "markdown",
   "metadata": {},
   "source": [
    "#### Remarks:\n",
    "We want to observe which pairs have the highest synergy. The following cells sets all correlation under the diagonal to 0, and sort them by value."
   ]
  },
  {
   "cell_type": "code",
   "execution_count": 64,
   "metadata": {
    "execution": {
     "iopub.execute_input": "2022-04-11T17:05:46.747154Z",
     "iopub.status.busy": "2022-04-11T17:05:46.746964Z",
     "iopub.status.idle": "2022-04-11T17:05:47.098894Z",
     "shell.execute_reply": "2022-04-11T17:05:47.098073Z",
     "shell.execute_reply.started": "2022-04-11T17:05:46.747129Z"
    },
    "vscode": {
     "languageId": "python"
    }
   },
   "outputs": [
    {
     "data": {
      "image/png": "[encoded data removed]",
      "text/plain": [
       "<Figure size 1152x864 with 2 Axes>"
      ]
     },
     "metadata": {
      "needs_background": "light"
     },
     "output_type": "display_data"
    }
   ],
   "source": [
    "d_corr_u = np.triu(d_corr, k=1)\n",
    "d_corr_u\n",
    "f = plt.figure(figsize=(16, 12))\n",
    "plt.imshow(np.abs(d_corr_u))\n",
    "plt.title('Correlation Matrix')\n",
    "plt.colorbar()\n",
    "plt.show()"
   ]
  },
  {
   "cell_type": "code",
   "execution_count": 67,
   "metadata": {
    "execution": {
     "iopub.execute_input": "2022-04-11T17:05:47.101113Z",
     "iopub.status.busy": "2022-04-11T17:05:47.100197Z",
     "iopub.status.idle": "2022-04-11T17:05:47.108765Z",
     "shell.execute_reply": "2022-04-11T17:05:47.107744Z",
     "shell.execute_reply.started": "2022-04-11T17:05:47.101064Z"
    },
    "vscode": {
     "languageId": "python"
    }
   },
   "outputs": [],
   "source": [
    "id_map_inv = {}\n",
    "for i in id_map:\n",
    "    id_map_inv[id_map[i]] = i\n",
    "d_corr_flat = d_corr_u.flatten()\n",
    "d_corr_argsort = np.argsort(d_corr_flat)\n",
    "d_corr_high = [(x // 107, x % 107, d_corr_flat[x]) for x in d_corr_argsort[:-31:-1]]\n",
    "d_corr_low = [(x // 107, x % 107, d_corr_flat[x]) for x in d_corr_argsort[:30]]"
   ]
  },
  {
   "cell_type": "code",
   "execution_count": 68,
   "metadata": {
    "execution": {
     "iopub.execute_input": "2022-04-11T17:05:47.110248Z",
     "iopub.status.busy": "2022-04-11T17:05:47.110033Z",
     "iopub.status.idle": "2022-04-11T17:05:47.128157Z",
     "shell.execute_reply": "2022-04-11T17:05:47.127084Z",
     "shell.execute_reply.started": "2022-04-11T17:05:47.110222Z"
    },
    "vscode": {
     "languageId": "python"
    }
   },
   "outputs": [
    {
     "ename": "KeyError",
     "evalue": "10",
     "output_type": "error",
     "traceback": [
      "\u001b[0;31m---------------------------------------------------------------------------\u001b[0m",
      "\u001b[0;31mKeyError\u001b[0m                                  Traceback (most recent call last)",
      "\u001b[0;32m/tmp/ipykernel_3324/1996474440.py\u001b[0m in \u001b[0;36m<module>\u001b[0;34m\u001b[0m\n\u001b[0;32m----> 1\u001b[0;31m \u001b[0;34m[\u001b[0m\u001b[0;34m(\u001b[0m\u001b[0mcards\u001b[0m\u001b[0;34m[\u001b[0m\u001b[0mid_map\u001b[0m\u001b[0;34m[\u001b[0m\u001b[0mx\u001b[0m\u001b[0;34m]\u001b[0m\u001b[0;34m]\u001b[0m\u001b[0;34m,\u001b[0m \u001b[0mcards\u001b[0m\u001b[0;34m[\u001b[0m\u001b[0mid_map\u001b[0m\u001b[0;34m[\u001b[0m\u001b[0my\u001b[0m\u001b[0;34m]\u001b[0m\u001b[0;34m]\u001b[0m\u001b[0;34m,\u001b[0m \u001b[0mz\u001b[0m\u001b[0;34m)\u001b[0m \u001b[0;32mfor\u001b[0m \u001b[0;34m(\u001b[0m\u001b[0mx\u001b[0m\u001b[0;34m,\u001b[0m \u001b[0my\u001b[0m\u001b[0;34m,\u001b[0m \u001b[0mz\u001b[0m\u001b[0;34m)\u001b[0m \u001b[0;32min\u001b[0m \u001b[0md_corr_high\u001b[0m\u001b[0;34m]\u001b[0m\u001b[0;34m\u001b[0m\u001b[0;34m\u001b[0m\u001b[0m\n\u001b[0m",
      "\u001b[0;32m/tmp/ipykernel_3324/1996474440.py\u001b[0m in \u001b[0;36m<listcomp>\u001b[0;34m(.0)\u001b[0m\n\u001b[0;32m----> 1\u001b[0;31m \u001b[0;34m[\u001b[0m\u001b[0;34m(\u001b[0m\u001b[0mcards\u001b[0m\u001b[0;34m[\u001b[0m\u001b[0mid_map\u001b[0m\u001b[0;34m[\u001b[0m\u001b[0mx\u001b[0m\u001b[0;34m]\u001b[0m\u001b[0;34m]\u001b[0m\u001b[0;34m,\u001b[0m \u001b[0mcards\u001b[0m\u001b[0;34m[\u001b[0m\u001b[0mid_map\u001b[0m\u001b[0;34m[\u001b[0m\u001b[0my\u001b[0m\u001b[0;34m]\u001b[0m\u001b[0;34m]\u001b[0m\u001b[0;34m,\u001b[0m \u001b[0mz\u001b[0m\u001b[0;34m)\u001b[0m \u001b[0;32mfor\u001b[0m \u001b[0;34m(\u001b[0m\u001b[0mx\u001b[0m\u001b[0;34m,\u001b[0m \u001b[0my\u001b[0m\u001b[0;34m,\u001b[0m \u001b[0mz\u001b[0m\u001b[0;34m)\u001b[0m \u001b[0;32min\u001b[0m \u001b[0md_corr_high\u001b[0m\u001b[0;34m]\u001b[0m\u001b[0;34m\u001b[0m\u001b[0;34m\u001b[0m\u001b[0m\n\u001b[0m",
      "\u001b[0;31mKeyError\u001b[0m: 10"
     ]
    }
   ],
   "source": [
    "# [(cards[id_map[x]], cards[id_map[y]], z) for (x, y, z) in d_corr_high]"
   ]
  },
  {
   "cell_type": "code",
   "execution_count": 70,
   "metadata": {
    "execution": {
     "iopub.execute_input": "2022-04-11T17:05:47.129982Z",
     "iopub.status.busy": "2022-04-11T17:05:47.129603Z",
     "iopub.status.idle": "2022-04-11T17:05:47.145753Z",
     "shell.execute_reply": "2022-04-11T17:05:47.144842Z",
     "shell.execute_reply.started": "2022-04-11T17:05:47.129938Z"
    },
    "vscode": {
     "languageId": "python"
    }
   },
   "outputs": [],
   "source": [
    "# [(cards[x], cards[y], z) for (x, y, z) in d_corr_low]"
   ]
  },
  {
   "cell_type": "markdown",
   "metadata": {},
   "source": [
    "#### Remarks:\n",
    "We observe that these card pairs are very common in the strongest decks (from https://www.deckshop.pro/)."
   ]
  },
  {
   "cell_type": "markdown",
   "metadata": {},
   "source": [
    "## 5. A deeper look at Outcome:\n",
    "### a. Applying PCA:"
   ]
  },
  {
   "cell_type": "code",
   "execution_count": 71,
   "metadata": {
    "execution": {
     "iopub.execute_input": "2022-04-11T17:05:47.147843Z",
     "iopub.status.busy": "2022-04-11T17:05:47.146905Z",
     "iopub.status.idle": "2022-04-11T17:05:48.973694Z",
     "shell.execute_reply": "2022-04-11T17:05:48.972717Z",
     "shell.execute_reply.started": "2022-04-11T17:05:47.147801Z"
    },
    "vscode": {
     "languageId": "python"
    }
   },
   "outputs": [],
   "source": [
    "data = np.copy(x_train).T.tolist()\n",
    "data.append(y_train)\n",
    "data = np.array(data)"
   ]
  },
  {
   "cell_type": "code",
   "execution_count": 72,
   "metadata": {
    "execution": {
     "iopub.execute_input": "2022-04-11T17:05:48.975577Z",
     "iopub.status.busy": "2022-04-11T17:05:48.975123Z",
     "iopub.status.idle": "2022-04-11T17:05:49.484582Z",
     "shell.execute_reply": "2022-04-11T17:05:49.483679Z",
     "shell.execute_reply.started": "2022-04-11T17:05:48.975531Z"
    },
    "vscode": {
     "languageId": "python"
    }
   },
   "outputs": [
    {
     "data": {
      "image/png": "[encoded data removed]",
      "text/plain": [
       "<Figure size 1152x864 with 2 Axes>"
      ]
     },
     "metadata": {
      "needs_background": "light"
     },
     "output_type": "display_data"
    }
   ],
   "source": [
    "corr = np.corrcoef(data)\n",
    "f = plt.figure(figsize=(16, 12))\n",
    "plt.imshow(np.abs(corr))\n",
    "plt.title('Correlation Matrix')\n",
    "plt.colorbar()\n",
    "plt.show()"
   ]
  },
  {
   "cell_type": "code",
   "execution_count": 73,
   "metadata": {
    "execution": {
     "iopub.execute_input": "2022-04-11T17:05:49.48611Z",
     "iopub.status.busy": "2022-04-11T17:05:49.485853Z",
     "iopub.status.idle": "2022-04-11T17:05:50.62099Z",
     "shell.execute_reply": "2022-04-11T17:05:50.619965Z",
     "shell.execute_reply.started": "2022-04-11T17:05:49.486079Z"
    },
    "vscode": {
     "languageId": "python"
    }
   },
   "outputs": [],
   "source": [
    "from sklearn.decomposition import PCA\n",
    "pca = PCA(n_components=5)\n",
    "x_train_pca = pca.fit_transform(x_train)"
   ]
  },
  {
   "cell_type": "code",
   "execution_count": 74,
   "metadata": {
    "execution": {
     "iopub.execute_input": "2022-04-11T17:05:50.623672Z",
     "iopub.status.busy": "2022-04-11T17:05:50.622841Z",
     "iopub.status.idle": "2022-04-11T17:05:51.032909Z",
     "shell.execute_reply": "2022-04-11T17:05:51.031577Z",
     "shell.execute_reply.started": "2022-04-11T17:05:50.623616Z"
    },
    "vscode": {
     "languageId": "python"
    }
   },
   "outputs": [
    {
     "data": {
      "image/png": "[encoded data removed]",
      "text/plain": [
       "<Figure size 1152x864 with 2 Axes>"
      ]
     },
     "metadata": {
      "needs_background": "light"
     },
     "output_type": "display_data"
    }
   ],
   "source": [
    "data = np.copy(x_train_pca).T.tolist()\n",
    "data.append(y_train)\n",
    "data = np.array(data)\n",
    "corr = np.corrcoef(data)\n",
    "f = plt.figure(figsize=(16, 12))\n",
    "plt.imshow(np.abs(corr))\n",
    "plt.title('Correlation Matrix')\n",
    "plt.colorbar()\n",
    "plt.show()"
   ]
  },
  {
   "cell_type": "code",
   "execution_count": 75,
   "metadata": {
    "execution": {
     "iopub.execute_input": "2022-04-11T17:05:51.03473Z",
     "iopub.status.busy": "2022-04-11T17:05:51.034404Z",
     "iopub.status.idle": "2022-04-11T17:05:52.731216Z",
     "shell.execute_reply": "2022-04-11T17:05:52.730356Z",
     "shell.execute_reply.started": "2022-04-11T17:05:51.03469Z"
    },
    "vscode": {
     "languageId": "python"
    }
   },
   "outputs": [
    {
     "data": {
      "text/plain": [
       "<mpl_toolkits.mplot3d.art3d.Path3DCollection at 0x7f8a1a2d6f40>"
      ]
     },
     "execution_count": 75,
     "metadata": {},
     "output_type": "execute_result"
    },
    {
     "data": {
      "image/png": "[encoded data removed]",
      "text/plain": [
       "<Figure size 432x288 with 1 Axes>"
      ]
     },
     "metadata": {
      "needs_background": "light"
     },
     "output_type": "display_data"
    }
   ],
   "source": [
    "fig = plt.figure()\n",
    "ax = fig.add_subplot(projection='3d')\n",
    "ax.scatter(x_train_pca[:,0].flatten(), x_train_pca[:, 1].flatten(), x_train_pca[:, 2].flatten(), c = y_train.tolist())"
   ]
  },
  {
   "cell_type": "code",
   "execution_count": 76,
   "metadata": {
    "execution": {
     "iopub.execute_input": "2022-04-11T17:05:52.732699Z",
     "iopub.status.busy": "2022-04-11T17:05:52.732488Z",
     "iopub.status.idle": "2022-04-11T17:05:54.569673Z",
     "shell.execute_reply": "2022-04-11T17:05:54.568778Z",
     "shell.execute_reply.started": "2022-04-11T17:05:52.732672Z"
    },
    "vscode": {
     "languageId": "python"
    }
   },
   "outputs": [
    {
     "data": {
      "text/plain": [
       "<matplotlib.collections.PathCollection at 0x7f8a1a2a6670>"
      ]
     },
     "execution_count": 76,
     "metadata": {},
     "output_type": "execute_result"
    },
    {
     "data": {
      "image/png": "[encoded data removed]",
      "text/plain": [
       "<Figure size 432x288 with 1 Axes>"
      ]
     },
     "metadata": {
      "needs_background": "light"
     },
     "output_type": "display_data"
    }
   ],
   "source": [
    "plt.scatter(x_train_pca[:,0].flatten(), x_train_pca[:, 1].flatten(), c = y_train.tolist())"
   ]
  },
  {
   "cell_type": "code",
   "execution_count": 77,
   "metadata": {
    "execution": {
     "iopub.execute_input": "2022-04-11T17:05:54.571291Z",
     "iopub.status.busy": "2022-04-11T17:05:54.571042Z",
     "iopub.status.idle": "2022-04-11T17:05:54.575729Z",
     "shell.execute_reply": "2022-04-11T17:05:54.574808Z",
     "shell.execute_reply.started": "2022-04-11T17:05:54.571261Z"
    },
    "vscode": {
     "languageId": "python"
    }
   },
   "outputs": [
    {
     "name": "stdout",
     "output_type": "stream",
     "text": [
      "Training accuracy:\t 0.9965054959018997\n",
      "Testing accuracy:\t 0.5458703939008894\n"
     ]
    }
   ],
   "source": [
    "ada = AdaBoostClassifier(DecisionTreeClassifier(max_depth=20))\n",
    "ada.fit(x_train_pca, y_train)\n",
    "print('Training accuracy:\\t', ada.score(x_train_pca, y_train))\n",
    "print('Testing accuracy:\\t', ada.score(pca.transform(x_test), y_test))"
   ]
  },
  {
   "cell_type": "code",
   "execution_count": 78,
   "metadata": {
    "execution": {
     "iopub.execute_input": "2022-04-11T17:05:54.577557Z",
     "iopub.status.busy": "2022-04-11T17:05:54.577078Z",
     "iopub.status.idle": "2022-04-11T17:05:57.033118Z",
     "shell.execute_reply": "2022-04-11T17:05:57.03219Z",
     "shell.execute_reply.started": "2022-04-11T17:05:54.577522Z"
    },
    "vscode": {
     "languageId": "python"
    }
   },
   "outputs": [
    {
     "name": "stdout",
     "output_type": "stream",
     "text": [
      "Training accuracy:\t 0.9946947074147023\n",
      "Testing accuracy:\t 0.5709021601016518\n"
     ]
    }
   ],
   "source": [
    "extra = ExtraTreesClassifier(max_depth=20)\n",
    "extra.fit(x_train_pca, y_train)\n",
    "print('Training accuracy:\\t', extra.score(x_train_pca, y_train))\n",
    "print('Testing accuracy:\\t', extra.score(pca.transform(x_test), y_test))"
   ]
  },
  {
   "cell_type": "code",
   "execution_count": 79,
   "metadata": {
    "execution": {
     "iopub.execute_input": "2022-04-11T17:05:54.577557Z",
     "iopub.status.busy": "2022-04-11T17:05:54.577078Z",
     "iopub.status.idle": "2022-04-11T17:05:57.033118Z",
     "shell.execute_reply": "2022-04-11T17:05:57.03219Z",
     "shell.execute_reply.started": "2022-04-11T17:05:54.577522Z"
    },
    "vscode": {
     "languageId": "python"
    }
   },
   "outputs": [
    {
     "name": "stdout",
     "output_type": "stream",
     "text": [
      "Training accuracy:\t 0.9919626405743694\n",
      "Testing accuracy:\t 0.5637865311308767\n"
     ]
    }
   ],
   "source": [
    "rf = RandomForestClassifier(max_depth=20)\n",
    "rf.fit(x_train_pca, y_train)\n",
    "print('Training accuracy:\\t', rf.score(x_train_pca, y_train))\n",
    "print('Testing accuracy:\\t', rf.score(pca.transform(x_test), y_test))"
   ]
  },
  {
   "cell_type": "code",
   "execution_count": 80,
   "metadata": {},
   "outputs": [
    {
     "name": "stdout",
     "output_type": "stream",
     "text": [
      "Training accuracy:\t 0.5814537137048097\n",
      "Testing accuracy:\t 0.5744599745870393\n"
     ]
    }
   ],
   "source": [
    "from sklearn.naive_bayes import GaussianNB\n",
    "gnb = GaussianNB()\n",
    "gnb.fit(x_train, y_train)\n",
    "print('Training accuracy:\\t', gnb.score(x_train, y_train))\n",
    "print('Testing accuracy:\\t', gnb.score(x_test, y_test))"
   ]
  },
  {
   "cell_type": "markdown",
   "metadata": {},
   "source": [
    "### b. How about Neural Network?\n",
    "Let's try to see if we can instead obtain a good score using Neural Network. \n",
    "\n",
    "We first try a naive Neural Network, with all layers are dense, and two Dropouts."
   ]
  },
  {
   "cell_type": "code",
   "execution_count": 81,
   "metadata": {},
   "outputs": [
    {
     "data": {
      "text/plain": [
       "17349    2\n",
       "38279    1\n",
       "18713    2\n",
       "27073    1\n",
       "19806    1\n",
       "        ..\n",
       "17561    1\n",
       "29820    2\n",
       "23022    2\n",
       "9369     1\n",
       "18374    1\n",
       "Name: winner, Length: 31478, dtype: int64"
      ]
     },
     "execution_count": 81,
     "metadata": {},
     "output_type": "execute_result"
    }
   ],
   "source": [
    "y_train"
   ]
  },
  {
   "cell_type": "code",
   "execution_count": 82,
   "metadata": {
    "execution": {
     "iopub.execute_input": "2022-04-11T14:46:27.929142Z",
     "iopub.status.busy": "2022-04-11T14:46:27.928882Z",
     "iopub.status.idle": "2022-04-11T14:47:30.390092Z",
     "shell.execute_reply": "2022-04-11T14:47:30.389088Z",
     "shell.execute_reply.started": "2022-04-11T14:46:27.929111Z"
    },
    "vscode": {
     "languageId": "python"
    }
   },
   "outputs": [
    {
     "name": "stderr",
     "output_type": "stream",
     "text": [
      "2022-05-07 16:19:17.267828: I tensorflow/core/platform/cpu_feature_guard.cc:143] Your CPU supports instructions that this TensorFlow binary was not compiled to use: SSE4.1 SSE4.2 AVX AVX2 FMA\n",
      "2022-05-07 16:19:17.279803: I tensorflow/core/platform/profile_utils/cpu_utils.cc:102] CPU Frequency: 3600000000 Hz\n",
      "2022-05-07 16:19:17.280534: I tensorflow/compiler/xla/service/service.cc:168] XLA service 0x55abc929f1e0 initialized for platform Host (this does not guarantee that XLA will be used). Devices:\n",
      "2022-05-07 16:19:17.280552: I tensorflow/compiler/xla/service/service.cc:176]   StreamExecutor device (0): Host, Default Version\n",
      "2022-05-07 16:19:17.280628: I tensorflow/core/common_runtime/process_util.cc:147] Creating new thread pool with default inter op setting: 2. Tune using inter_op_parallelism_threads for best performance.\n"
     ]
    },
    {
     "name": "stdout",
     "output_type": "stream",
     "text": [
      "Epoch 1/10\n",
      "WARNING:tensorflow:Layer dense is casting an input tensor from dtype float64 to the layer's dtype of float32, which is new behavior in TensorFlow 2.  The layer has dtype float32 because it's dtype defaults to floatx.\n",
      "\n",
      "If you intended to run this layer in float32, you can safely ignore this warning. If in doubt, this warning is likely only an issue if you are porting a TensorFlow 1.X model to TensorFlow 2.\n",
      "\n",
      "To change all layers to have dtype float64 by default, call `tf.keras.backend.set_floatx('float64')`. To change just this layer, pass dtype='float64' to the layer constructor. If you are the author of this layer, you can disable autocasting by passing autocast=False to the base Layer constructor.\n",
      "\n",
      "1771/1771 [==============================] - 6s 4ms/step - loss: 0.8577 - accuracy: 0.4935 - val_loss: 0.7492 - val_accuracy: 0.5016\n",
      "Epoch 2/10\n",
      "1771/1771 [==============================] - 6s 3ms/step - loss: 0.8315 - accuracy: 0.4952 - val_loss: 0.7338 - val_accuracy: 0.5064\n",
      "Epoch 3/10\n",
      "1771/1771 [==============================] - 6s 4ms/step - loss: 0.8158 - accuracy: 0.4949 - val_loss: 0.7268 - val_accuracy: 0.5098\n",
      "Epoch 4/10\n",
      "1771/1771 [==============================] - 6s 3ms/step - loss: 0.7978 - accuracy: 0.4984 - val_loss: 0.7195 - val_accuracy: 0.5089\n",
      "Epoch 5/10\n",
      "1771/1771 [==============================] - 6s 3ms/step - loss: 0.7842 - accuracy: 0.4980 - val_loss: 0.7132 - val_accuracy: 0.5073\n",
      "Epoch 6/10\n",
      "1771/1771 [==============================] - 5s 3ms/step - loss: 0.7719 - accuracy: 0.4965 - val_loss: 0.7085 - val_accuracy: 0.5118\n",
      "Epoch 7/10\n",
      "1771/1771 [==============================] - 6s 3ms/step - loss: 0.7595 - accuracy: 0.5026 - val_loss: 0.7048 - val_accuracy: 0.5152\n",
      "Epoch 8/10\n",
      "1771/1771 [==============================] - 7s 4ms/step - loss: 0.7489 - accuracy: 0.5053 - val_loss: 0.7027 - val_accuracy: 0.5130\n",
      "Epoch 9/10\n",
      "1771/1771 [==============================] - 7s 4ms/step - loss: 0.7431 - accuracy: 0.5029 - val_loss: 0.6991 - val_accuracy: 0.5152\n",
      "Epoch 10/10\n",
      "1771/1771 [==============================] - 6s 3ms/step - loss: 0.7376 - accuracy: 0.5040 - val_loss: 0.6969 - val_accuracy: 0.5172\n"
     ]
    },
    {
     "data": {
      "text/plain": [
       "<tensorflow.python.keras.callbacks.History at 0x7f89bc057640>"
      ]
     },
     "execution_count": 82,
     "metadata": {},
     "output_type": "execute_result"
    }
   ],
   "source": [
    "from tensorflow import keras\n",
    "nn = keras.Sequential([\n",
    "    keras.layers.Dense(106, activation='relu'),\n",
    "    keras.layers.Dense(53, activation='tanh'),\n",
    "    keras.layers.Dropout(0.2),\n",
    "    keras.layers.BatchNormalization(),\n",
    "    keras.layers.Dense(26, activation='relu'),\n",
    "    keras.layers.Dropout(0.2),\n",
    "    keras.layers.BatchNormalization(),\n",
    "    keras.layers.Dense(13, activation='relu'),\n",
    "    keras.layers.Dense(6, activation='relu'),\n",
    "    keras.layers.Dropout(0.2),\n",
    "    keras.layers.BatchNormalization(),\n",
    "    keras.layers.Dense(3, activation='relu'),\n",
    "    keras.layers.Dropout(0.2),\n",
    "    keras.layers.BatchNormalization(),\n",
    "    keras.layers.Dense(1, activation='sigmoid'),\n",
    "])\n",
    "early_stopping = keras.callbacks.EarlyStopping(monitor='loss', patience=2)\n",
    "nn.compile(\n",
    "    optimizer=keras.optimizers.SGD(learning_rate=0.0001),\n",
    "    loss=\"binary_crossentropy\",\n",
    "    metrics=['accuracy'],\n",
    ")\n",
    "nn.fit(x_train, y_train-1, validation_split=0.1, epochs=10, batch_size=16, callbacks=[early_stopping])"
   ]
  },
  {
   "cell_type": "code",
   "execution_count": 83,
   "metadata": {
    "execution": {
     "iopub.execute_input": "2022-04-11T15:16:56.237401Z",
     "iopub.status.busy": "2022-04-11T15:16:56.237152Z",
     "iopub.status.idle": "2022-04-11T15:16:56.258959Z",
     "shell.execute_reply": "2022-04-11T15:16:56.257895Z",
     "shell.execute_reply.started": "2022-04-11T15:16:56.23737Z"
    },
    "vscode": {
     "languageId": "python"
    }
   },
   "outputs": [
    {
     "name": "stdout",
     "output_type": "stream",
     "text": [
      "246/246 [==============================] - 0s 1ms/step - loss: 0.7037 - accuracy: 0.4975\n"
     ]
    },
    {
     "data": {
      "text/plain": [
       "[0.7037022113800049, 0.49745869636535645]"
      ]
     },
     "execution_count": 83,
     "metadata": {},
     "output_type": "execute_result"
    }
   ],
   "source": [
    "nn.evaluate(x_test, y_test-1)"
   ]
  },
  {
   "cell_type": "markdown",
   "metadata": {},
   "source": [
    "#### Remarks: \n",
    "The previous one did not really give a very good score, so let's try to see if we could use a different network structure.\n",
    "\n",
    "Through the previous analysis on Decks, we observe that a deck is characterized by a small number of cards. With that in mind, it makes sense to use CNN on this model, as in the following cell."
   ]
  },
  {
   "cell_type": "code",
   "execution_count": 109,
   "metadata": {},
   "outputs": [
    {
     "data": {
      "text/plain": [
       "(31478, 214)"
      ]
     },
     "execution_count": 109,
     "metadata": {},
     "output_type": "execute_result"
    }
   ],
   "source": [
    "x_train.shape"
   ]
  },
  {
   "cell_type": "code",
   "execution_count": 112,
   "metadata": {
    "execution": {
     "iopub.execute_input": "2022-04-16T09:03:07.501389Z",
     "iopub.status.busy": "2022-04-16T09:03:07.500728Z",
     "iopub.status.idle": "2022-04-16T09:08:02.99436Z",
     "shell.execute_reply": "2022-04-16T09:08:02.993693Z",
     "shell.execute_reply.started": "2022-04-16T09:03:07.501351Z"
    },
    "vscode": {
     "languageId": "python"
    }
   },
   "outputs": [
    {
     "name": "stdout",
     "output_type": "stream",
     "text": [
      "Epoch 1/30\n",
      "1771/1771 [==============================] - 61s 34ms/step - loss: 0.7848 - accuracy: 0.5024 - val_loss: 0.7027 - val_accuracy: 0.5086\n",
      "Epoch 2/30\n",
      "1771/1771 [==============================] - 55s 31ms/step - loss: 0.7241 - accuracy: 0.5063 - val_loss: 0.7016 - val_accuracy: 0.5085\n",
      "Epoch 3/30\n",
      "1771/1771 [==============================] - 60s 34ms/step - loss: 0.7120 - accuracy: 0.5095 - val_loss: 0.6994 - val_accuracy: 0.5068\n",
      "Epoch 4/30\n",
      "1771/1771 [==============================] - 56s 32ms/step - loss: 0.7056 - accuracy: 0.5116 - val_loss: 0.6975 - val_accuracy: 0.5067\n",
      "Epoch 5/30\n",
      "1771/1771 [==============================] - 61s 34ms/step - loss: 0.7024 - accuracy: 0.5124 - val_loss: 0.6970 - val_accuracy: 0.5065\n",
      "Epoch 6/30\n",
      "1771/1771 [==============================] - 57s 32ms/step - loss: 0.7008 - accuracy: 0.5109 - val_loss: 0.6963 - val_accuracy: 0.5063\n",
      "Epoch 7/30\n",
      "1771/1771 [==============================] - 59s 33ms/step - loss: 0.6990 - accuracy: 0.5126 - val_loss: 0.6952 - val_accuracy: 0.5061\n",
      "Epoch 8/30\n",
      "1771/1771 [==============================] - 60s 34ms/step - loss: 0.6973 - accuracy: 0.5145 - val_loss: 0.6947 - val_accuracy: 0.5061\n",
      "Epoch 9/30\n",
      "1771/1771 [==============================] - 58s 33ms/step - loss: 0.6969 - accuracy: 0.5141 - val_loss: 0.6946 - val_accuracy: 0.5058\n",
      "Epoch 10/30\n",
      "1771/1771 [==============================] - 56s 32ms/step - loss: 0.6960 - accuracy: 0.5153 - val_loss: 0.6943 - val_accuracy: 0.5067\n",
      "Epoch 11/30\n",
      "1771/1771 [==============================] - 60s 34ms/step - loss: 0.6953 - accuracy: 0.5160 - val_loss: 0.6938 - val_accuracy: 0.5067\n",
      "Epoch 12/30\n",
      "1771/1771 [==============================] - 59s 33ms/step - loss: 0.6947 - accuracy: 0.5173 - val_loss: 0.6934 - val_accuracy: 0.5068\n",
      "Epoch 13/30\n",
      "1771/1771 [==============================] - 56s 31ms/step - loss: 0.6945 - accuracy: 0.5169 - val_loss: 0.6933 - val_accuracy: 0.5067\n",
      "Epoch 14/30\n",
      "1771/1771 [==============================] - 58s 33ms/step - loss: 0.6936 - accuracy: 0.5184 - val_loss: 0.6928 - val_accuracy: 0.5067\n",
      "Epoch 15/30\n",
      "1771/1771 [==============================] - 61s 34ms/step - loss: 0.6939 - accuracy: 0.5148 - val_loss: 0.6925 - val_accuracy: 0.5078\n",
      "Epoch 16/30\n",
      "1771/1771 [==============================] - 64s 36ms/step - loss: 0.6932 - accuracy: 0.5184 - val_loss: 0.6922 - val_accuracy: 0.5063\n",
      "Epoch 17/30\n",
      "1705/1771 [===========================>..] - ETA: 2s - loss: 0.6930 - accuracy: 0.5188"
     ]
    },
    {
     "ename": "KeyboardInterrupt",
     "evalue": "",
     "output_type": "error",
     "traceback": [
      "\u001b[0;31m---------------------------------------------------------------------------\u001b[0m",
      "\u001b[0;31mKeyboardInterrupt\u001b[0m                         Traceback (most recent call last)",
      "\u001b[0;32m/tmp/ipykernel_3324/696622045.py\u001b[0m in \u001b[0;36m<module>\u001b[0;34m\u001b[0m\n\u001b[1;32m     30\u001b[0m )\n\u001b[1;32m     31\u001b[0m \u001b[0;34m\u001b[0m\u001b[0m\n\u001b[0;32m---> 32\u001b[0;31m \u001b[0mcnn\u001b[0m\u001b[0;34m.\u001b[0m\u001b[0mfit\u001b[0m\u001b[0;34m(\u001b[0m\u001b[0mx_train\u001b[0m\u001b[0;34m.\u001b[0m\u001b[0mreshape\u001b[0m\u001b[0;34m(\u001b[0m\u001b[0;34m(\u001b[0m\u001b[0mx_train\u001b[0m\u001b[0;34m.\u001b[0m\u001b[0mshape\u001b[0m\u001b[0;34m[\u001b[0m\u001b[0;36m0\u001b[0m\u001b[0;34m]\u001b[0m\u001b[0;34m,\u001b[0m \u001b[0mx_train\u001b[0m\u001b[0;34m.\u001b[0m\u001b[0mshape\u001b[0m\u001b[0;34m[\u001b[0m\u001b[0;36m1\u001b[0m\u001b[0;34m]\u001b[0m\u001b[0;34m,\u001b[0m \u001b[0;36m1\u001b[0m\u001b[0;34m)\u001b[0m\u001b[0;34m)\u001b[0m\u001b[0;34m,\u001b[0m \u001b[0my_train\u001b[0m\u001b[0;34m-\u001b[0m\u001b[0;36m1\u001b[0m\u001b[0;34m,\u001b[0m \u001b[0mvalidation_split\u001b[0m\u001b[0;34m=\u001b[0m\u001b[0;36m0.1\u001b[0m\u001b[0;34m,\u001b[0m \u001b[0mepochs\u001b[0m\u001b[0;34m=\u001b[0m\u001b[0;36m30\u001b[0m\u001b[0;34m,\u001b[0m \u001b[0mbatch_size\u001b[0m\u001b[0;34m=\u001b[0m\u001b[0;36m16\u001b[0m\u001b[0;34m,\u001b[0m \u001b[0mcallbacks\u001b[0m\u001b[0;34m=\u001b[0m\u001b[0;34m[\u001b[0m\u001b[0mearly_stopping\u001b[0m\u001b[0;34m]\u001b[0m\u001b[0;34m)\u001b[0m\u001b[0;34m\u001b[0m\u001b[0;34m\u001b[0m\u001b[0m\n\u001b[0m\u001b[1;32m     33\u001b[0m \u001b[0;31m# cnn.fit(x_train, y_train-1, validation_split=0.1, epochs=30, batch_size=16, callbacks=[early_stopping])\u001b[0m\u001b[0;34m\u001b[0m\u001b[0;34m\u001b[0m\u001b[0;34m\u001b[0m\u001b[0m\n",
      "\u001b[0;32m~/.conda/envs/CSE204/lib/python3.8/site-packages/tensorflow/python/keras/engine/training.py\u001b[0m in \u001b[0;36m_method_wrapper\u001b[0;34m(self, *args, **kwargs)\u001b[0m\n\u001b[1;32m     64\u001b[0m   \u001b[0;32mdef\u001b[0m \u001b[0m_method_wrapper\u001b[0m\u001b[0;34m(\u001b[0m\u001b[0mself\u001b[0m\u001b[0;34m,\u001b[0m \u001b[0;34m*\u001b[0m\u001b[0margs\u001b[0m\u001b[0;34m,\u001b[0m \u001b[0;34m**\u001b[0m\u001b[0mkwargs\u001b[0m\u001b[0;34m)\u001b[0m\u001b[0;34m:\u001b[0m\u001b[0;34m\u001b[0m\u001b[0;34m\u001b[0m\u001b[0m\n\u001b[1;32m     65\u001b[0m     \u001b[0;32mif\u001b[0m \u001b[0;32mnot\u001b[0m \u001b[0mself\u001b[0m\u001b[0;34m.\u001b[0m\u001b[0m_in_multi_worker_mode\u001b[0m\u001b[0;34m(\u001b[0m\u001b[0;34m)\u001b[0m\u001b[0;34m:\u001b[0m  \u001b[0;31m# pylint: disable=protected-access\u001b[0m\u001b[0;34m\u001b[0m\u001b[0;34m\u001b[0m\u001b[0m\n\u001b[0;32m---> 66\u001b[0;31m       \u001b[0;32mreturn\u001b[0m \u001b[0mmethod\u001b[0m\u001b[0;34m(\u001b[0m\u001b[0mself\u001b[0m\u001b[0;34m,\u001b[0m \u001b[0;34m*\u001b[0m\u001b[0margs\u001b[0m\u001b[0;34m,\u001b[0m \u001b[0;34m**\u001b[0m\u001b[0mkwargs\u001b[0m\u001b[0;34m)\u001b[0m\u001b[0;34m\u001b[0m\u001b[0;34m\u001b[0m\u001b[0m\n\u001b[0m\u001b[1;32m     67\u001b[0m \u001b[0;34m\u001b[0m\u001b[0m\n\u001b[1;32m     68\u001b[0m     \u001b[0;31m# Running inside `run_distribute_coordinator` already.\u001b[0m\u001b[0;34m\u001b[0m\u001b[0;34m\u001b[0m\u001b[0;34m\u001b[0m\u001b[0m\n",
      "\u001b[0;32m~/.conda/envs/CSE204/lib/python3.8/site-packages/tensorflow/python/keras/engine/training.py\u001b[0m in \u001b[0;36mfit\u001b[0;34m(self, x, y, batch_size, epochs, verbose, callbacks, validation_split, validation_data, shuffle, class_weight, sample_weight, initial_epoch, steps_per_epoch, validation_steps, validation_batch_size, validation_freq, max_queue_size, workers, use_multiprocessing)\u001b[0m\n\u001b[1;32m    846\u001b[0m                 batch_size=batch_size):\n\u001b[1;32m    847\u001b[0m               \u001b[0mcallbacks\u001b[0m\u001b[0;34m.\u001b[0m\u001b[0mon_train_batch_begin\u001b[0m\u001b[0;34m(\u001b[0m\u001b[0mstep\u001b[0m\u001b[0;34m)\u001b[0m\u001b[0;34m\u001b[0m\u001b[0;34m\u001b[0m\u001b[0m\n\u001b[0;32m--> 848\u001b[0;31m               \u001b[0mtmp_logs\u001b[0m \u001b[0;34m=\u001b[0m \u001b[0mtrain_function\u001b[0m\u001b[0;34m(\u001b[0m\u001b[0miterator\u001b[0m\u001b[0;34m)\u001b[0m\u001b[0;34m\u001b[0m\u001b[0;34m\u001b[0m\u001b[0m\n\u001b[0m\u001b[1;32m    849\u001b[0m               \u001b[0;31m# Catch OutOfRangeError for Datasets of unknown size.\u001b[0m\u001b[0;34m\u001b[0m\u001b[0;34m\u001b[0m\u001b[0;34m\u001b[0m\u001b[0m\n\u001b[1;32m    850\u001b[0m               \u001b[0;31m# This blocks until the batch has finished executing.\u001b[0m\u001b[0;34m\u001b[0m\u001b[0;34m\u001b[0m\u001b[0;34m\u001b[0m\u001b[0m\n",
      "\u001b[0;32m~/.conda/envs/CSE204/lib/python3.8/site-packages/tensorflow/python/eager/def_function.py\u001b[0m in \u001b[0;36m__call__\u001b[0;34m(self, *args, **kwds)\u001b[0m\n\u001b[1;32m    578\u001b[0m         \u001b[0mxla_context\u001b[0m\u001b[0;34m.\u001b[0m\u001b[0mExit\u001b[0m\u001b[0;34m(\u001b[0m\u001b[0;34m)\u001b[0m\u001b[0;34m\u001b[0m\u001b[0;34m\u001b[0m\u001b[0m\n\u001b[1;32m    579\u001b[0m     \u001b[0;32melse\u001b[0m\u001b[0;34m:\u001b[0m\u001b[0;34m\u001b[0m\u001b[0;34m\u001b[0m\u001b[0m\n\u001b[0;32m--> 580\u001b[0;31m       \u001b[0mresult\u001b[0m \u001b[0;34m=\u001b[0m \u001b[0mself\u001b[0m\u001b[0;34m.\u001b[0m\u001b[0m_call\u001b[0m\u001b[0;34m(\u001b[0m\u001b[0;34m*\u001b[0m\u001b[0margs\u001b[0m\u001b[0;34m,\u001b[0m \u001b[0;34m**\u001b[0m\u001b[0mkwds\u001b[0m\u001b[0;34m)\u001b[0m\u001b[0;34m\u001b[0m\u001b[0;34m\u001b[0m\u001b[0m\n\u001b[0m\u001b[1;32m    581\u001b[0m \u001b[0;34m\u001b[0m\u001b[0m\n\u001b[1;32m    582\u001b[0m     \u001b[0;32mif\u001b[0m \u001b[0mtracing_count\u001b[0m \u001b[0;34m==\u001b[0m \u001b[0mself\u001b[0m\u001b[0;34m.\u001b[0m\u001b[0m_get_tracing_count\u001b[0m\u001b[0;34m(\u001b[0m\u001b[0;34m)\u001b[0m\u001b[0;34m:\u001b[0m\u001b[0;34m\u001b[0m\u001b[0;34m\u001b[0m\u001b[0m\n",
      "\u001b[0;32m~/.conda/envs/CSE204/lib/python3.8/site-packages/tensorflow/python/eager/def_function.py\u001b[0m in \u001b[0;36m_call\u001b[0;34m(self, *args, **kwds)\u001b[0m\n\u001b[1;32m    609\u001b[0m       \u001b[0;31m# In this case we have created variables on the first call, so we run the\u001b[0m\u001b[0;34m\u001b[0m\u001b[0;34m\u001b[0m\u001b[0;34m\u001b[0m\u001b[0m\n\u001b[1;32m    610\u001b[0m       \u001b[0;31m# defunned version which is guaranteed to never create variables.\u001b[0m\u001b[0;34m\u001b[0m\u001b[0;34m\u001b[0m\u001b[0;34m\u001b[0m\u001b[0m\n\u001b[0;32m--> 611\u001b[0;31m       \u001b[0;32mreturn\u001b[0m \u001b[0mself\u001b[0m\u001b[0;34m.\u001b[0m\u001b[0m_stateless_fn\u001b[0m\u001b[0;34m(\u001b[0m\u001b[0;34m*\u001b[0m\u001b[0margs\u001b[0m\u001b[0;34m,\u001b[0m \u001b[0;34m**\u001b[0m\u001b[0mkwds\u001b[0m\u001b[0;34m)\u001b[0m  \u001b[0;31m# pylint: disable=not-callable\u001b[0m\u001b[0;34m\u001b[0m\u001b[0;34m\u001b[0m\u001b[0m\n\u001b[0m\u001b[1;32m    612\u001b[0m     \u001b[0;32melif\u001b[0m \u001b[0mself\u001b[0m\u001b[0;34m.\u001b[0m\u001b[0m_stateful_fn\u001b[0m \u001b[0;32mis\u001b[0m \u001b[0;32mnot\u001b[0m \u001b[0;32mNone\u001b[0m\u001b[0;34m:\u001b[0m\u001b[0;34m\u001b[0m\u001b[0;34m\u001b[0m\u001b[0m\n\u001b[1;32m    613\u001b[0m       \u001b[0;31m# Release the lock early so that multiple threads can perform the call\u001b[0m\u001b[0;34m\u001b[0m\u001b[0;34m\u001b[0m\u001b[0;34m\u001b[0m\u001b[0m\n",
      "\u001b[0;32m~/.conda/envs/CSE204/lib/python3.8/site-packages/tensorflow/python/eager/function.py\u001b[0m in \u001b[0;36m__call__\u001b[0;34m(self, *args, **kwargs)\u001b[0m\n\u001b[1;32m   2418\u001b[0m     \u001b[0;32mwith\u001b[0m \u001b[0mself\u001b[0m\u001b[0;34m.\u001b[0m\u001b[0m_lock\u001b[0m\u001b[0;34m:\u001b[0m\u001b[0;34m\u001b[0m\u001b[0;34m\u001b[0m\u001b[0m\n\u001b[1;32m   2419\u001b[0m       \u001b[0mgraph_function\u001b[0m\u001b[0;34m,\u001b[0m \u001b[0margs\u001b[0m\u001b[0;34m,\u001b[0m \u001b[0mkwargs\u001b[0m \u001b[0;34m=\u001b[0m \u001b[0mself\u001b[0m\u001b[0;34m.\u001b[0m\u001b[0m_maybe_define_function\u001b[0m\u001b[0;34m(\u001b[0m\u001b[0margs\u001b[0m\u001b[0;34m,\u001b[0m \u001b[0mkwargs\u001b[0m\u001b[0;34m)\u001b[0m\u001b[0;34m\u001b[0m\u001b[0;34m\u001b[0m\u001b[0m\n\u001b[0;32m-> 2420\u001b[0;31m     \u001b[0;32mreturn\u001b[0m \u001b[0mgraph_function\u001b[0m\u001b[0;34m.\u001b[0m\u001b[0m_filtered_call\u001b[0m\u001b[0;34m(\u001b[0m\u001b[0margs\u001b[0m\u001b[0;34m,\u001b[0m \u001b[0mkwargs\u001b[0m\u001b[0;34m)\u001b[0m  \u001b[0;31m# pylint: disable=protected-access\u001b[0m\u001b[0;34m\u001b[0m\u001b[0;34m\u001b[0m\u001b[0m\n\u001b[0m\u001b[1;32m   2421\u001b[0m \u001b[0;34m\u001b[0m\u001b[0m\n\u001b[1;32m   2422\u001b[0m   \u001b[0;34m@\u001b[0m\u001b[0mproperty\u001b[0m\u001b[0;34m\u001b[0m\u001b[0;34m\u001b[0m\u001b[0m\n",
      "\u001b[0;32m~/.conda/envs/CSE204/lib/python3.8/site-packages/tensorflow/python/eager/function.py\u001b[0m in \u001b[0;36m_filtered_call\u001b[0;34m(self, args, kwargs)\u001b[0m\n\u001b[1;32m   1659\u001b[0m       \u001b[0;31m`\u001b[0m\u001b[0margs\u001b[0m\u001b[0;31m`\u001b[0m \u001b[0;32mand\u001b[0m\u001b[0;31m \u001b[0m\u001b[0;31m`\u001b[0m\u001b[0mkwargs\u001b[0m\u001b[0;31m`\u001b[0m\u001b[0;34m.\u001b[0m\u001b[0;34m\u001b[0m\u001b[0;34m\u001b[0m\u001b[0m\n\u001b[1;32m   1660\u001b[0m     \"\"\"\n\u001b[0;32m-> 1661\u001b[0;31m     return self._call_flat(\n\u001b[0m\u001b[1;32m   1662\u001b[0m         (t for t in nest.flatten((args, kwargs), expand_composites=True)\n\u001b[1;32m   1663\u001b[0m          if isinstance(t, (ops.Tensor,\n",
      "\u001b[0;32m~/.conda/envs/CSE204/lib/python3.8/site-packages/tensorflow/python/eager/function.py\u001b[0m in \u001b[0;36m_call_flat\u001b[0;34m(self, args, captured_inputs, cancellation_manager)\u001b[0m\n\u001b[1;32m   1743\u001b[0m         and executing_eagerly):\n\u001b[1;32m   1744\u001b[0m       \u001b[0;31m# No tape is watching; skip to running the function.\u001b[0m\u001b[0;34m\u001b[0m\u001b[0;34m\u001b[0m\u001b[0;34m\u001b[0m\u001b[0m\n\u001b[0;32m-> 1745\u001b[0;31m       return self._build_call_outputs(self._inference_function.call(\n\u001b[0m\u001b[1;32m   1746\u001b[0m           ctx, args, cancellation_manager=cancellation_manager))\n\u001b[1;32m   1747\u001b[0m     forward_backward = self._select_forward_and_backward_functions(\n",
      "\u001b[0;32m~/.conda/envs/CSE204/lib/python3.8/site-packages/tensorflow/python/eager/function.py\u001b[0m in \u001b[0;36mcall\u001b[0;34m(self, ctx, args, cancellation_manager)\u001b[0m\n\u001b[1;32m    591\u001b[0m       \u001b[0;32mwith\u001b[0m \u001b[0m_InterpolateFunctionError\u001b[0m\u001b[0;34m(\u001b[0m\u001b[0mself\u001b[0m\u001b[0;34m)\u001b[0m\u001b[0;34m:\u001b[0m\u001b[0;34m\u001b[0m\u001b[0;34m\u001b[0m\u001b[0m\n\u001b[1;32m    592\u001b[0m         \u001b[0;32mif\u001b[0m \u001b[0mcancellation_manager\u001b[0m \u001b[0;32mis\u001b[0m \u001b[0;32mNone\u001b[0m\u001b[0;34m:\u001b[0m\u001b[0;34m\u001b[0m\u001b[0;34m\u001b[0m\u001b[0m\n\u001b[0;32m--> 593\u001b[0;31m           outputs = execute.execute(\n\u001b[0m\u001b[1;32m    594\u001b[0m               \u001b[0mstr\u001b[0m\u001b[0;34m(\u001b[0m\u001b[0mself\u001b[0m\u001b[0;34m.\u001b[0m\u001b[0msignature\u001b[0m\u001b[0;34m.\u001b[0m\u001b[0mname\u001b[0m\u001b[0;34m)\u001b[0m\u001b[0;34m,\u001b[0m\u001b[0;34m\u001b[0m\u001b[0;34m\u001b[0m\u001b[0m\n\u001b[1;32m    595\u001b[0m               \u001b[0mnum_outputs\u001b[0m\u001b[0;34m=\u001b[0m\u001b[0mself\u001b[0m\u001b[0;34m.\u001b[0m\u001b[0m_num_outputs\u001b[0m\u001b[0;34m,\u001b[0m\u001b[0;34m\u001b[0m\u001b[0;34m\u001b[0m\u001b[0m\n",
      "\u001b[0;32m~/.conda/envs/CSE204/lib/python3.8/site-packages/tensorflow/python/eager/execute.py\u001b[0m in \u001b[0;36mquick_execute\u001b[0;34m(op_name, num_outputs, inputs, attrs, ctx, name)\u001b[0m\n\u001b[1;32m     57\u001b[0m   \u001b[0;32mtry\u001b[0m\u001b[0;34m:\u001b[0m\u001b[0;34m\u001b[0m\u001b[0;34m\u001b[0m\u001b[0m\n\u001b[1;32m     58\u001b[0m     \u001b[0mctx\u001b[0m\u001b[0;34m.\u001b[0m\u001b[0mensure_initialized\u001b[0m\u001b[0;34m(\u001b[0m\u001b[0;34m)\u001b[0m\u001b[0;34m\u001b[0m\u001b[0;34m\u001b[0m\u001b[0m\n\u001b[0;32m---> 59\u001b[0;31m     tensors = pywrap_tfe.TFE_Py_Execute(ctx._handle, device_name, op_name,\n\u001b[0m\u001b[1;32m     60\u001b[0m                                         inputs, attrs, num_outputs)\n\u001b[1;32m     61\u001b[0m   \u001b[0;32mexcept\u001b[0m \u001b[0mcore\u001b[0m\u001b[0;34m.\u001b[0m\u001b[0m_NotOkStatusException\u001b[0m \u001b[0;32mas\u001b[0m \u001b[0me\u001b[0m\u001b[0;34m:\u001b[0m\u001b[0;34m\u001b[0m\u001b[0;34m\u001b[0m\u001b[0m\n",
      "\u001b[0;31mKeyboardInterrupt\u001b[0m: "
     ]
    }
   ],
   "source": [
    "from tensorflow import keras\n",
    "cnn = keras.Sequential([\n",
    "    keras.layers.Dense(214 * 2, activation='relu', input_shape=(214, 1)),\n",
    "    keras.layers.Conv1D(32, 8, padding='same', activation='relu'),\n",
    "    keras.layers.Conv1D(32, 8, activation='relu'),\n",
    "    keras.layers.BatchNormalization(),\n",
    "    \n",
    "    keras.layers.MaxPool1D(4),\n",
    "    keras.layers.Conv1D(64, 8, activation='relu'),\n",
    "    keras.layers.Conv1D(64, 8, activation='relu'),\n",
    "    keras.layers.BatchNormalization(),\n",
    "    \n",
    "    keras.layers.Dense(128, activation='relu'),\n",
    "    keras.layers.Dropout(0.2),\n",
    "    keras.layers.MaxPool1D(4),\n",
    "    keras.layers.Dense(32, activation='relu'),\n",
    "    keras.layers.Dropout(0.2),\n",
    "    keras.layers.BatchNormalization(),\n",
    "    keras.layers.Dense(16, activation='relu'),\n",
    "    keras.layers.Dropout(0.2),\n",
    "    keras.layers.BatchNormalization(),\n",
    "    keras.layers.Dense(4, activation='relu'),\n",
    "    keras.layers.Dense(1, activation='sigmoid'),\n",
    "])\n",
    "early_stopping = keras.callbacks.EarlyStopping(monitor='accuracy', patience=5)\n",
    "cnn.compile(\n",
    "    optimizer=keras.optimizers.SGD(learning_rate=0.001),\n",
    "    loss=\"binary_crossentropy\",\n",
    "    metrics=['accuracy'],\n",
    ")\n",
    "\n",
    "cnn.fit(x_train.reshape((x_train.shape[0], x_train.shape[1], 1)), y_train-1, validation_split=0.1, epochs=30, batch_size=16, callbacks=[early_stopping])\n",
    "# cnn.fit(x_train, y_train-1, validation_split=0.1, epochs=30, batch_size=16, callbacks=[early_stopping])"
   ]
  },
  {
   "cell_type": "code",
   "execution_count": 96,
   "metadata": {
    "execution": {
     "iopub.execute_input": "2022-04-16T09:08:02.996404Z",
     "iopub.status.busy": "2022-04-16T09:08:02.996106Z",
     "iopub.status.idle": "2022-04-16T09:08:04.817185Z",
     "shell.execute_reply": "2022-04-16T09:08:04.816533Z",
     "shell.execute_reply.started": "2022-04-16T09:08:02.996348Z"
    },
    "vscode": {
     "languageId": "python"
    }
   },
   "outputs": [
    {
     "name": "stdout",
     "output_type": "stream",
     "text": [
      "246/246 [==============================] - 9s 37ms/step - loss: 0.6808 - accuracy: 0.5330\n"
     ]
    },
    {
     "data": {
      "text/plain": [
       "[0.6807851791381836, 0.5330368876457214]"
      ]
     },
     "execution_count": 96,
     "metadata": {},
     "output_type": "execute_result"
    }
   ],
   "source": [
    "cnn.evaluate(x_test.reshape((x_test.shape[0], x_test.shape[1], 1)), y_test-1)"
   ]
  },
  {
   "cell_type": "markdown",
   "metadata": {},
   "source": [
    "#### Remarks:\n",
    "The result indeed looks better than our naive model. We observe that indeed, it is better to look at a match in terms of a combination of cards instead of each in particular. However, it appears that, unfortunately, we cannot really get a very good prediction of outcome than decision trees.\n",
    "\n",
    "A limitation to this model is that the convolutional layer would only consider a small subset of cards that have similar `id`. As a result, since cards that are used together usually do not have consecutive `id`, it would fail to take into account this factor. We have tried to remedy this by introducing a `Dense` layer as the first layer to remap the input, but this does not really give a much better prediction."
   ]
  },
  {
   "cell_type": "markdown",
   "metadata": {},
   "source": [
    "### Algorithms for Card types, rarity, elixir"
   ]
  },
  {
   "cell_type": "code",
   "execution_count": 97,
   "metadata": {},
   "outputs": [
    {
     "name": "stdout",
     "output_type": "stream",
     "text": [
      "           elixir            id  flying_height         range\n",
      "count  107.000000  1.070000e+02     107.000000    107.000000\n",
      "mean     3.981308  2.647666e+07     318.691589   2346.261682\n",
      "std      1.601776  7.812031e+05     957.801220   2546.387572\n",
      "min      1.000000  2.600000e+07       0.000000      0.000000\n",
      "25%      3.000000  2.600003e+07       0.000000    500.000000\n",
      "50%      4.000000  2.600005e+07       0.000000   1200.000000\n",
      "75%      5.000000  2.700000e+07       0.000000   4500.000000\n",
      "max      9.000000  2.800002e+07    4000.000000  11500.000000\n",
      "\n",
      "\n",
      "{26000000: 0, 26000001: 1, 26000002: 2, 26000003: 3, 26000004: 4, 26000005: 5, 26000006: 6, 26000007: 7, 26000008: 8, 26000009: 9, 26000010: 10, 26000011: 11, 26000012: 12, 26000013: 13, 26000014: 14, 26000015: 15, 26000016: 16, 26000017: 17, 26000018: 18, 26000019: 19, 26000020: 20, 26000021: 21, 26000022: 22, 26000023: 23, 26000024: 24, 26000025: 25, 26000026: 26, 26000027: 27, 26000028: 28, 26000029: 29, 26000030: 30, 26000031: 31, 26000032: 32, 26000033: 33, 26000034: 34, 26000035: 35, 26000036: 36, 26000037: 37, 26000038: 38, 26000039: 39, 26000040: 40, 26000041: 41, 26000042: 42, 26000043: 43, 26000044: 44, 26000045: 45, 26000046: 46, 26000047: 47, 26000048: 48, 26000049: 49, 26000050: 50, 26000051: 51, 26000052: 52, 26000053: 53, 26000054: 54, 26000055: 55, 26000056: 56, 26000057: 57, 26000058: 58, 26000059: 59, 26000060: 60, 26000061: 61, 26000062: 62, 26000063: 63, 26000064: 64, 26000065: 65, 26000067: 66, 26000068: 67, 26000069: 68, 26000072: 69, 26000074: 70, 26000080: 71, 26000083: 72, 26000084: 73, 26000085: 74, 27000000: 75, 27000001: 76, 27000002: 77, 27000003: 78, 27000004: 79, 27000005: 80, 27000006: 81, 27000007: 82, 27000008: 83, 27000009: 84, 27000010: 85, 27000012: 86, 27000013: 87, 28000000: 88, 28000001: 89, 28000002: 90, 28000003: 91, 28000004: 92, 28000005: 93, 28000006: 94, 28000007: 95, 28000008: 96, 28000009: 97, 28000010: 98, 28000011: 99, 28000012: 100, 28000013: 101, 28000014: 102, 28000015: 103, 28000016: 104, 28000017: 105, 28000018: 106}\n",
      "                 key  elixir      type    rarity attack_grid\n",
      "67     battle-healer       4  0.121495  0.037383    0.448598\n",
      "68     skeleton-king       4  0.121495  0.261682    0.448598\n",
      "69      archer-queen       5  0.121495  0.261682    0.551402\n",
      "70     golden-knight       4  0.121495  0.261682    0.448598\n",
      "71  skeleton-dragons       4  0.598131  0.261682    0.551402\n"
     ]
    }
   ],
   "source": [
    "print(cards.describe())\n",
    "print(\"\")\n",
    "print(\"\")\n",
    "print(id_map)\n",
    "print(cards[['key', 'elixir', 'type', 'rarity', 'attack_grid']][67:72])"
   ]
  },
  {
   "cell_type": "code",
   "execution_count": 98,
   "metadata": {},
   "outputs": [],
   "source": [
    "from sklearn.model_selection import train_test_split\n",
    "df = battles[(battles['p1_trophy'] < 2700) & (battles['p1_trophy'] > 600)]\n",
    "y_train = df['winner']\n",
    "x_train, decks = [], []\n",
    "\n",
    "# we first combine the DataFrame into 1x106 vectors, where V[i] = 1 if the ith card is in the deck\n",
    "# this \n",
    "for i in df.index:\n",
    "    t1 = np.zeros(107)\n",
    "    t2 = np.zeros(107)\n",
    "    r1 = np.zeros(107)\n",
    "    r2 = np.zeros(107)\n",
    "    e1 = np.zeros(107)\n",
    "    e2 = np.zeros(107)\n",
    "    for j in range(0, 8):\n",
    "        card1 = df[f'p1_card_{j}_id'][i]\n",
    "        card2 = df[f'p2_card_{j}_id'][i]\n",
    "        \n",
    "        t1[id_map[card1]] = cards.at[id_map[card1],\"type\"]\n",
    "        t2[id_map[card2]] = cards.at[id_map[card2],\"type\"]\n",
    "        \n",
    "        r1[id_map[card1]] = cards.at[id_map[card1],\"rarity\"]\n",
    "        r2[id_map[card2]] = cards.at[id_map[card2],\"rarity\"]\n",
    "        \n",
    "        e1[id_map[card1]] = cards.at[id_map[card1],\"elixir\"]\n",
    "        e2[id_map[card2]] = cards.at[id_map[card2],\"elixir\"]\n",
    "        \n",
    "    x_train.append(np.concatenate((t1, t2, r1, r2, e1, e2)))\n",
    "    \n",
    "x_train = np.array(x_train)\n",
    "x_train, x_test, y_train, y_test = train_test_split(x_train, y_train, test_size=0.2, random_state=6233)\n",
    "# d_train, d_test = train_test_split(decks, test_size=0.2, random_state=47483)"
   ]
  },
  {
   "cell_type": "code",
   "execution_count": 99,
   "metadata": {
    "execution": {
     "iopub.execute_input": "2022-04-11T17:04:13.123753Z",
     "iopub.status.busy": "2022-04-11T17:04:13.123428Z",
     "iopub.status.idle": "2022-04-11T17:05:08.994533Z",
     "shell.execute_reply": "2022-04-11T17:05:08.993383Z",
     "shell.execute_reply.started": "2022-04-11T17:04:13.123713Z"
    },
    "vscode": {
     "languageId": "python"
    }
   },
   "outputs": [
    {
     "name": "stdout",
     "output_type": "stream",
     "text": [
      "Training accuracy:\t 0.7409582276791672\n",
      "Testing accuracy:\t 0.5939167556029883\n"
     ]
    }
   ],
   "source": [
    "knn = KNeighborsClassifier(n_neighbors=5)\n",
    "knn.fit(x_train, y_train)\n",
    "print('Training accuracy:\\t', knn.score(x_train, y_train))\n",
    "print('Testing accuracy:\\t', knn.score(x_test, y_test))"
   ]
  },
  {
   "cell_type": "code",
   "execution_count": 100,
   "metadata": {
    "execution": {
     "iopub.execute_input": "2022-04-11T17:05:08.996554Z",
     "iopub.status.busy": "2022-04-11T17:05:08.996121Z",
     "iopub.status.idle": "2022-04-11T17:05:08.999825Z",
     "shell.execute_reply": "2022-04-11T17:05:08.99906Z",
     "shell.execute_reply.started": "2022-04-11T17:05:08.996517Z"
    },
    "vscode": {
     "languageId": "python"
    }
   },
   "outputs": [
    {
     "name": "stdout",
     "output_type": "stream",
     "text": [
      "Training accuracy:\t 0.9971973842252769\n",
      "Testing accuracy:\t 0.5784418356456777\n"
     ]
    }
   ],
   "source": [
    "ada = AdaBoostClassifier(DecisionTreeClassifier(max_depth=20))\n",
    "ada.fit(x_train, y_train)\n",
    "print('Training accuracy:\\t', ada.score(x_train, y_train))\n",
    "print('Testing accuracy:\\t', ada.score(x_test, y_test))"
   ]
  },
  {
   "cell_type": "code",
   "execution_count": 101,
   "metadata": {
    "execution": {
     "iopub.execute_input": "2022-04-11T17:05:09.002721Z",
     "iopub.status.busy": "2022-04-11T17:05:09.00216Z",
     "iopub.status.idle": "2022-04-11T17:05:19.560104Z",
     "shell.execute_reply": "2022-04-11T17:05:19.559098Z",
     "shell.execute_reply.started": "2022-04-11T17:05:09.002686Z"
    },
    "vscode": {
     "languageId": "python"
    }
   },
   "outputs": [
    {
     "name": "stdout",
     "output_type": "stream",
     "text": [
      "Training accuracy:\t 0.9603630054717737\n",
      "Testing accuracy:\t 0.5896478121664888\n"
     ]
    }
   ],
   "source": [
    "bagging = BaggingClassifier(DecisionTreeClassifier(max_depth=20))\n",
    "bagging.fit(x_train, y_train)\n",
    "print('Training accuracy:\\t', bagging.score(x_train, y_train))\n",
    "print('Testing accuracy:\\t', bagging.score(x_test, y_test))"
   ]
  },
  {
   "cell_type": "code",
   "execution_count": 102,
   "metadata": {
    "execution": {
     "iopub.execute_input": "2022-04-11T17:05:19.561681Z",
     "iopub.status.busy": "2022-04-11T17:05:19.561406Z",
     "iopub.status.idle": "2022-04-11T17:05:35.384486Z",
     "shell.execute_reply": "2022-04-11T17:05:35.383316Z",
     "shell.execute_reply.started": "2022-04-11T17:05:19.561651Z"
    },
    "vscode": {
     "languageId": "python"
    }
   },
   "outputs": [
    {
     "name": "stdout",
     "output_type": "stream",
     "text": [
      "Training accuracy:\t 0.9945282263445883\n",
      "Testing accuracy:\t 0.6099252934898612\n"
     ]
    }
   ],
   "source": [
    "extra = ExtraTreesClassifier(max_depth=20)\n",
    "extra.fit(x_train, y_train)\n",
    "print('Training accuracy:\\t', extra.score(x_train, y_train))\n",
    "print('Testing accuracy:\\t', extra.score(x_test, y_test))"
   ]
  },
  {
   "cell_type": "code",
   "execution_count": 103,
   "metadata": {
    "execution": {
     "iopub.execute_input": "2022-04-11T17:05:35.386026Z",
     "iopub.status.busy": "2022-04-11T17:05:35.3858Z",
     "iopub.status.idle": "2022-04-11T17:05:46.258677Z",
     "shell.execute_reply": "2022-04-11T17:05:46.257807Z",
     "shell.execute_reply.started": "2022-04-11T17:05:35.385999Z"
    },
    "scrolled": false,
    "vscode": {
     "languageId": "python"
    }
   },
   "outputs": [
    {
     "name": "stdout",
     "output_type": "stream",
     "text": [
      "Training accuracy:\t 0.9894568263712799\n",
      "Testing accuracy:\t 0.6067235859124867\n"
     ]
    }
   ],
   "source": [
    "rf = RandomForestClassifier(max_depth=20)\n",
    "rf.fit(x_train, y_train)\n",
    "print('Training accuracy:\\t', rf.score(x_train, y_train))\n",
    "print('Testing accuracy:\\t', rf.score(x_test, y_test))"
   ]
  },
  {
   "cell_type": "markdown",
   "metadata": {},
   "source": [
    "### Neural Network for Card types, rarity, elixir"
   ]
  },
  {
   "cell_type": "code",
   "execution_count": 104,
   "metadata": {},
   "outputs": [
    {
     "name": "stdout",
     "output_type": "stream",
     "text": [
      "Epoch 1/10\n",
      "WARNING:tensorflow:Layer dense_73 is casting an input tensor from dtype float64 to the layer's dtype of float32, which is new behavior in TensorFlow 2.  The layer has dtype float32 because it's dtype defaults to floatx.\n",
      "\n",
      "If you intended to run this layer in float32, you can safely ignore this warning. If in doubt, this warning is likely only an issue if you are porting a TensorFlow 1.X model to TensorFlow 2.\n",
      "\n",
      "To change all layers to have dtype float64 by default, call `tf.keras.backend.set_floatx('float64')`. To change just this layer, pass dtype='float64' to the layer constructor. If you are the author of this layer, you can disable autocasting by passing autocast=False to the base Layer constructor.\n",
      "\n",
      "422/422 [==============================] - 2s 5ms/step - loss: 0.7538 - accuracy: 0.4890 - val_loss: 0.7020 - val_accuracy: 0.4773\n",
      "Epoch 2/10\n",
      "422/422 [==============================] - 2s 4ms/step - loss: 0.7470 - accuracy: 0.4940 - val_loss: 0.7040 - val_accuracy: 0.4853\n",
      "Epoch 3/10\n",
      "422/422 [==============================] - 1s 3ms/step - loss: 0.7505 - accuracy: 0.4888 - val_loss: 0.7048 - val_accuracy: 0.4960\n",
      "Epoch 4/10\n",
      "422/422 [==============================] - 1s 3ms/step - loss: 0.7443 - accuracy: 0.5011 - val_loss: 0.7061 - val_accuracy: 0.4973\n",
      "Epoch 5/10\n",
      "422/422 [==============================] - 1s 3ms/step - loss: 0.7492 - accuracy: 0.4953 - val_loss: 0.7036 - val_accuracy: 0.4947\n",
      "Epoch 6/10\n",
      "422/422 [==============================] - 1s 3ms/step - loss: 0.7332 - accuracy: 0.5042 - val_loss: 0.7024 - val_accuracy: 0.4987\n",
      "Epoch 7/10\n",
      "422/422 [==============================] - 1s 3ms/step - loss: 0.7430 - accuracy: 0.4869 - val_loss: 0.7002 - val_accuracy: 0.5000\n",
      "Epoch 8/10\n",
      "422/422 [==============================] - 1s 3ms/step - loss: 0.7385 - accuracy: 0.4977 - val_loss: 0.7021 - val_accuracy: 0.4987\n"
     ]
    },
    {
     "data": {
      "text/plain": [
       "<tensorflow.python.keras.callbacks.History at 0x7f8968612a90>"
      ]
     },
     "execution_count": 104,
     "metadata": {},
     "output_type": "execute_result"
    }
   ],
   "source": [
    "from tensorflow import keras\n",
    "nn = keras.Sequential([\n",
    "    keras.layers.Dense(106, activation='relu'),\n",
    "    keras.layers.Dense(53, activation='tanh'),\n",
    "    keras.layers.Dropout(0.2),\n",
    "    keras.layers.BatchNormalization(),\n",
    "    keras.layers.Dense(26, activation='relu'),\n",
    "    keras.layers.Dropout(0.2),\n",
    "    keras.layers.BatchNormalization(),\n",
    "    keras.layers.Dense(13, activation='relu'),\n",
    "    keras.layers.Dense(6, activation='relu'),\n",
    "    keras.layers.Dropout(0.2),\n",
    "    keras.layers.BatchNormalization(),\n",
    "    keras.layers.Dense(3, activation='relu'),\n",
    "    keras.layers.Dropout(0.2),\n",
    "    keras.layers.BatchNormalization(),\n",
    "    keras.layers.Dense(1, activation='sigmoid'),\n",
    "])\n",
    "early_stopping = keras.callbacks.EarlyStopping(monitor='loss', patience=2)\n",
    "nn.compile(\n",
    "    optimizer=keras.optimizers.SGD(learning_rate=0.0001),\n",
    "    loss=\"binary_crossentropy\",\n",
    "    metrics=['accuracy'],\n",
    ")\n",
    "nn.fit(x_train, y_train-1, validation_split=0.1, epochs=10, batch_size=16, callbacks=[early_stopping])"
   ]
  },
  {
   "cell_type": "markdown",
   "metadata": {},
   "source": [
    "### Algorithms for Card types"
   ]
  },
  {
   "cell_type": "code",
   "execution_count": 105,
   "metadata": {},
   "outputs": [
    {
     "ename": "ValueError",
     "evalue": "Found input variables with inconsistent numbers of samples: [9367, 7493]",
     "output_type": "error",
     "traceback": [
      "\u001b[0;31m---------------------------------------------------------------------------\u001b[0m",
      "\u001b[0;31mValueError\u001b[0m                                Traceback (most recent call last)",
      "\u001b[0;32m/tmp/ipykernel_3324/1807558631.py\u001b[0m in \u001b[0;36m<module>\u001b[0;34m\u001b[0m\n\u001b[1;32m     16\u001b[0m \u001b[0;34m\u001b[0m\u001b[0m\n\u001b[1;32m     17\u001b[0m \u001b[0mx_train\u001b[0m \u001b[0;34m=\u001b[0m \u001b[0mnp\u001b[0m\u001b[0;34m.\u001b[0m\u001b[0marray\u001b[0m\u001b[0;34m(\u001b[0m\u001b[0mx_train\u001b[0m\u001b[0;34m)\u001b[0m\u001b[0;34m\u001b[0m\u001b[0;34m\u001b[0m\u001b[0m\n\u001b[0;32m---> 18\u001b[0;31m \u001b[0mx_train\u001b[0m\u001b[0;34m,\u001b[0m \u001b[0mx_test\u001b[0m\u001b[0;34m,\u001b[0m \u001b[0my_train\u001b[0m\u001b[0;34m,\u001b[0m \u001b[0my_test\u001b[0m \u001b[0;34m=\u001b[0m \u001b[0mtrain_test_split\u001b[0m\u001b[0;34m(\u001b[0m\u001b[0mx_train\u001b[0m\u001b[0;34m,\u001b[0m \u001b[0my_train\u001b[0m\u001b[0;34m,\u001b[0m \u001b[0mtest_size\u001b[0m\u001b[0;34m=\u001b[0m\u001b[0;36m0.2\u001b[0m\u001b[0;34m,\u001b[0m \u001b[0mrandom_state\u001b[0m\u001b[0;34m=\u001b[0m\u001b[0;36m6233\u001b[0m\u001b[0;34m)\u001b[0m\u001b[0;34m\u001b[0m\u001b[0;34m\u001b[0m\u001b[0m\n\u001b[0m\u001b[1;32m     19\u001b[0m \u001b[0;31m# d_train, d_test = train_test_split(decks, test_size=0.2, random_state=47483)\u001b[0m\u001b[0;34m\u001b[0m\u001b[0;34m\u001b[0m\u001b[0;34m\u001b[0m\u001b[0m\n",
      "\u001b[0;32m~/.conda/envs/CSE204/lib/python3.8/site-packages/sklearn/model_selection/_split.py\u001b[0m in \u001b[0;36mtrain_test_split\u001b[0;34m(test_size, train_size, random_state, shuffle, stratify, *arrays)\u001b[0m\n\u001b[1;32m   2415\u001b[0m         \u001b[0;32mraise\u001b[0m \u001b[0mValueError\u001b[0m\u001b[0;34m(\u001b[0m\u001b[0;34m\"At least one array required as input\"\u001b[0m\u001b[0;34m)\u001b[0m\u001b[0;34m\u001b[0m\u001b[0;34m\u001b[0m\u001b[0m\n\u001b[1;32m   2416\u001b[0m \u001b[0;34m\u001b[0m\u001b[0m\n\u001b[0;32m-> 2417\u001b[0;31m     \u001b[0marrays\u001b[0m \u001b[0;34m=\u001b[0m \u001b[0mindexable\u001b[0m\u001b[0;34m(\u001b[0m\u001b[0;34m*\u001b[0m\u001b[0marrays\u001b[0m\u001b[0;34m)\u001b[0m\u001b[0;34m\u001b[0m\u001b[0;34m\u001b[0m\u001b[0m\n\u001b[0m\u001b[1;32m   2418\u001b[0m \u001b[0;34m\u001b[0m\u001b[0m\n\u001b[1;32m   2419\u001b[0m     \u001b[0mn_samples\u001b[0m \u001b[0;34m=\u001b[0m \u001b[0m_num_samples\u001b[0m\u001b[0;34m(\u001b[0m\u001b[0marrays\u001b[0m\u001b[0;34m[\u001b[0m\u001b[0;36m0\u001b[0m\u001b[0;34m]\u001b[0m\u001b[0;34m)\u001b[0m\u001b[0;34m\u001b[0m\u001b[0;34m\u001b[0m\u001b[0m\n",
      "\u001b[0;32m~/.conda/envs/CSE204/lib/python3.8/site-packages/sklearn/utils/validation.py\u001b[0m in \u001b[0;36mindexable\u001b[0;34m(*iterables)\u001b[0m\n\u001b[1;32m    376\u001b[0m \u001b[0;34m\u001b[0m\u001b[0m\n\u001b[1;32m    377\u001b[0m     \u001b[0mresult\u001b[0m \u001b[0;34m=\u001b[0m \u001b[0;34m[\u001b[0m\u001b[0m_make_indexable\u001b[0m\u001b[0;34m(\u001b[0m\u001b[0mX\u001b[0m\u001b[0;34m)\u001b[0m \u001b[0;32mfor\u001b[0m \u001b[0mX\u001b[0m \u001b[0;32min\u001b[0m \u001b[0miterables\u001b[0m\u001b[0;34m]\u001b[0m\u001b[0;34m\u001b[0m\u001b[0;34m\u001b[0m\u001b[0m\n\u001b[0;32m--> 378\u001b[0;31m     \u001b[0mcheck_consistent_length\u001b[0m\u001b[0;34m(\u001b[0m\u001b[0;34m*\u001b[0m\u001b[0mresult\u001b[0m\u001b[0;34m)\u001b[0m\u001b[0;34m\u001b[0m\u001b[0;34m\u001b[0m\u001b[0m\n\u001b[0m\u001b[1;32m    379\u001b[0m     \u001b[0;32mreturn\u001b[0m \u001b[0mresult\u001b[0m\u001b[0;34m\u001b[0m\u001b[0;34m\u001b[0m\u001b[0m\n\u001b[1;32m    380\u001b[0m \u001b[0;34m\u001b[0m\u001b[0m\n",
      "\u001b[0;32m~/.conda/envs/CSE204/lib/python3.8/site-packages/sklearn/utils/validation.py\u001b[0m in \u001b[0;36mcheck_consistent_length\u001b[0;34m(*arrays)\u001b[0m\n\u001b[1;32m    330\u001b[0m     \u001b[0muniques\u001b[0m \u001b[0;34m=\u001b[0m \u001b[0mnp\u001b[0m\u001b[0;34m.\u001b[0m\u001b[0munique\u001b[0m\u001b[0;34m(\u001b[0m\u001b[0mlengths\u001b[0m\u001b[0;34m)\u001b[0m\u001b[0;34m\u001b[0m\u001b[0;34m\u001b[0m\u001b[0m\n\u001b[1;32m    331\u001b[0m     \u001b[0;32mif\u001b[0m \u001b[0mlen\u001b[0m\u001b[0;34m(\u001b[0m\u001b[0muniques\u001b[0m\u001b[0;34m)\u001b[0m \u001b[0;34m>\u001b[0m \u001b[0;36m1\u001b[0m\u001b[0;34m:\u001b[0m\u001b[0;34m\u001b[0m\u001b[0;34m\u001b[0m\u001b[0m\n\u001b[0;32m--> 332\u001b[0;31m         raise ValueError(\n\u001b[0m\u001b[1;32m    333\u001b[0m             \u001b[0;34m\"Found input variables with inconsistent numbers of samples: %r\"\u001b[0m\u001b[0;34m\u001b[0m\u001b[0;34m\u001b[0m\u001b[0m\n\u001b[1;32m    334\u001b[0m             \u001b[0;34m%\u001b[0m \u001b[0;34m[\u001b[0m\u001b[0mint\u001b[0m\u001b[0;34m(\u001b[0m\u001b[0ml\u001b[0m\u001b[0;34m)\u001b[0m \u001b[0;32mfor\u001b[0m \u001b[0ml\u001b[0m \u001b[0;32min\u001b[0m \u001b[0mlengths\u001b[0m\u001b[0;34m]\u001b[0m\u001b[0;34m\u001b[0m\u001b[0;34m\u001b[0m\u001b[0m\n",
      "\u001b[0;31mValueError\u001b[0m: Found input variables with inconsistent numbers of samples: [9367, 7493]"
     ]
    }
   ],
   "source": [
    "x_train, decks = [], []\n",
    "\n",
    "# we first combine the DataFrame into 1x106 vectors, where V[i] = 1 if the ith card is in the deck\n",
    "# this \n",
    "for i in df.index:\n",
    "    t1 = np.zeros(107)\n",
    "    t2 = np.zeros(107)\n",
    "    for j in range(0, 8):\n",
    "        card1 = df[f'p1_card_{j}_id'][i]\n",
    "        card2 = df[f'p2_card_{j}_id'][i]\n",
    "        \n",
    "        t1[id_map[card1]] = cards.at[id_map[card1],\"type\"]\n",
    "        t2[id_map[card2]] = cards.at[id_map[card2],\"type\"]\n",
    "        \n",
    "    x_train.append(np.concatenate((t1, t2)))\n",
    "    \n",
    "x_train = np.array(x_train)\n",
    "x_train, x_test, y_train, y_test = train_test_split(x_train, y_train, test_size=0.2, random_state=6233)\n",
    "# d_train, d_test = train_test_split(decks, test_size=0.2, random_state=47483)"
   ]
  },
  {
   "cell_type": "code",
   "execution_count": null,
   "metadata": {
    "execution": {
     "iopub.execute_input": "2022-04-11T17:04:13.123753Z",
     "iopub.status.busy": "2022-04-11T17:04:13.123428Z",
     "iopub.status.idle": "2022-04-11T17:05:08.994533Z",
     "shell.execute_reply": "2022-04-11T17:05:08.993383Z",
     "shell.execute_reply.started": "2022-04-11T17:04:13.123713Z"
    },
    "vscode": {
     "languageId": "python"
    }
   },
   "outputs": [],
   "source": [
    "knn = KNeighborsClassifier(n_neighbors=5)\n",
    "knn.fit(x_train, y_train)\n",
    "print('Training accuracy:\\t', knn.score(x_train, y_train))\n",
    "print('Testing accuracy:\\t', knn.score(x_test, y_test))"
   ]
  },
  {
   "cell_type": "code",
   "execution_count": null,
   "metadata": {
    "execution": {
     "iopub.execute_input": "2022-04-11T17:05:08.996554Z",
     "iopub.status.busy": "2022-04-11T17:05:08.996121Z",
     "iopub.status.idle": "2022-04-11T17:05:08.999825Z",
     "shell.execute_reply": "2022-04-11T17:05:08.99906Z",
     "shell.execute_reply.started": "2022-04-11T17:05:08.996517Z"
    },
    "vscode": {
     "languageId": "python"
    }
   },
   "outputs": [],
   "source": [
    "ada = AdaBoostClassifier(DecisionTreeClassifier(max_depth=20))\n",
    "ada.fit(x_train, y_train)\n",
    "print('Training accuracy:\\t', ada.score(x_train, y_train))\n",
    "print('Testing accuracy:\\t', ada.score(x_test, y_test))"
   ]
  },
  {
   "cell_type": "code",
   "execution_count": null,
   "metadata": {
    "execution": {
     "iopub.execute_input": "2022-04-11T17:05:09.002721Z",
     "iopub.status.busy": "2022-04-11T17:05:09.00216Z",
     "iopub.status.idle": "2022-04-11T17:05:19.560104Z",
     "shell.execute_reply": "2022-04-11T17:05:19.559098Z",
     "shell.execute_reply.started": "2022-04-11T17:05:09.002686Z"
    },
    "vscode": {
     "languageId": "python"
    }
   },
   "outputs": [],
   "source": [
    "bagging = BaggingClassifier(DecisionTreeClassifier(max_depth=20))\n",
    "bagging.fit(x_train, y_train)\n",
    "print('Training accuracy:\\t', bagging.score(x_train, y_train))\n",
    "print('Testing accuracy:\\t', bagging.score(x_test, y_test))"
   ]
  },
  {
   "cell_type": "code",
   "execution_count": null,
   "metadata": {
    "execution": {
     "iopub.execute_input": "2022-04-11T17:05:19.561681Z",
     "iopub.status.busy": "2022-04-11T17:05:19.561406Z",
     "iopub.status.idle": "2022-04-11T17:05:35.384486Z",
     "shell.execute_reply": "2022-04-11T17:05:35.383316Z",
     "shell.execute_reply.started": "2022-04-11T17:05:19.561651Z"
    },
    "vscode": {
     "languageId": "python"
    }
   },
   "outputs": [],
   "source": [
    "extra = ExtraTreesClassifier(max_depth=20)\n",
    "extra.fit(x_train, y_train)\n",
    "print('Training accuracy:\\t', extra.score(x_train, y_train))\n",
    "print('Testing accuracy:\\t', extra.score(x_test, y_test))"
   ]
  },
  {
   "cell_type": "code",
   "execution_count": null,
   "metadata": {
    "execution": {
     "iopub.execute_input": "2022-04-11T17:05:35.386026Z",
     "iopub.status.busy": "2022-04-11T17:05:35.3858Z",
     "iopub.status.idle": "2022-04-11T17:05:46.258677Z",
     "shell.execute_reply": "2022-04-11T17:05:46.257807Z",
     "shell.execute_reply.started": "2022-04-11T17:05:35.385999Z"
    },
    "vscode": {
     "languageId": "python"
    }
   },
   "outputs": [],
   "source": [
    "rf = RandomForestClassifier(max_depth=20)\n",
    "rf.fit(x_train, y_train)\n",
    "print('Training accuracy:\\t', rf.score(x_train, y_train))\n",
    "print('Testing accuracy:\\t', rf.score(x_test, y_test))"
   ]
  },
  {
   "cell_type": "markdown",
   "metadata": {},
   "source": [
    "### Neural Network for Card types"
   ]
  },
  {
   "cell_type": "code",
   "execution_count": null,
   "metadata": {},
   "outputs": [],
   "source": [
    "from tensorflow import keras\n",
    "nn = keras.Sequential([\n",
    "    keras.layers.Dense(106, activation='relu'),\n",
    "    keras.layers.Dense(53, activation='tanh'),\n",
    "    keras.layers.Dropout(0.2),\n",
    "    keras.layers.BatchNormalization(),\n",
    "    keras.layers.Dense(26, activation='relu'),\n",
    "    keras.layers.Dropout(0.2),\n",
    "    keras.layers.BatchNormalization(),\n",
    "    keras.layers.Dense(13, activation='relu'),\n",
    "    keras.layers.Dense(6, activation='relu'),\n",
    "    keras.layers.Dropout(0.2),\n",
    "    keras.layers.BatchNormalization(),\n",
    "    keras.layers.Dense(3, activation='relu'),\n",
    "    keras.layers.Dropout(0.2),\n",
    "    keras.layers.BatchNormalization(),\n",
    "    keras.layers.Dense(1, activation='sigmoid'),\n",
    "])\n",
    "early_stopping = keras.callbacks.EarlyStopping(monitor='loss', patience=2)\n",
    "nn.compile(\n",
    "    optimizer=keras.optimizers.SGD(learning_rate=0.0001),\n",
    "    loss=\"binary_crossentropy\",\n",
    "    metrics=['accuracy'],\n",
    ")\n",
    "nn.fit(x_train, y_train-1, validation_split=0.1, epochs=10, batch_size=16, callbacks=[early_stopping])"
   ]
  },
  {
   "cell_type": "markdown",
   "metadata": {},
   "source": [
    "### Algorithms for Card rarity"
   ]
  },
  {
   "cell_type": "code",
   "execution_count": null,
   "metadata": {},
   "outputs": [],
   "source": [
    "x_train, decks = [], []\n",
    "\n",
    "# we first combine the DataFrame into 1x106 vectors, where V[i] = 1 if the ith card is in the deck\n",
    "# this \n",
    "for i in df.index:\n",
    "    r1 = np.zeros(107)\n",
    "    r2 = np.zeros(107)\n",
    "    for j in range(0, 8):\n",
    "        card1 = df[f'p1_card_{j}_id'][i]\n",
    "        card2 = df[f'p2_card_{j}_id'][i]\n",
    "        \n",
    "        r1[id_map[card1]] = cards.at[id_map[card1],\"rarity\"]\n",
    "        r2[id_map[card2]] = cards.at[id_map[card2],\"rarity\"]\n",
    "        \n",
    "    x_train.append(np.concatenate((r1, r2)))\n",
    "    \n",
    "x_train = np.array(x_train)\n",
    "y_train = df['winner']\n",
    "x_train, x_test, y_train, y_test = train_test_split(x_train, y_train, test_size=0.2, random_state=6233)\n",
    "# d_train, d_test = train_test_split(decks, test_size=0.2, random_state=47483)"
   ]
  },
  {
   "cell_type": "code",
   "execution_count": 248,
   "metadata": {
    "execution": {
     "iopub.execute_input": "2022-04-11T17:04:13.123753Z",
     "iopub.status.busy": "2022-04-11T17:04:13.123428Z",
     "iopub.status.idle": "2022-04-11T17:05:08.994533Z",
     "shell.execute_reply": "2022-04-11T17:05:08.993383Z",
     "shell.execute_reply.started": "2022-04-11T17:04:13.123713Z"
    },
    "vscode": {
     "languageId": "python"
    }
   },
   "outputs": [
    {
     "name": "stdout",
     "output_type": "stream",
     "text": [
      "Training accuracy:\t 0.733484585613239\n",
      "Testing accuracy:\t 0.5586979722518677\n"
     ]
    }
   ],
   "source": [
    "knn = KNeighborsClassifier(n_neighbors=5)\n",
    "knn.fit(x_train, y_train)\n",
    "print('Training accuracy:\\t', knn.score(x_train, y_train))\n",
    "print('Testing accuracy:\\t', knn.score(x_test, y_test))"
   ]
  },
  {
   "cell_type": "code",
   "execution_count": 249,
   "metadata": {
    "execution": {
     "iopub.execute_input": "2022-04-11T17:05:08.996554Z",
     "iopub.status.busy": "2022-04-11T17:05:08.996121Z",
     "iopub.status.idle": "2022-04-11T17:05:08.999825Z",
     "shell.execute_reply": "2022-04-11T17:05:08.99906Z",
     "shell.execute_reply.started": "2022-04-11T17:05:08.996517Z"
    },
    "vscode": {
     "languageId": "python"
    }
   },
   "outputs": [
    {
     "name": "stdout",
     "output_type": "stream",
     "text": [
      "Training accuracy:\t 0.9971973842252769\n",
      "Testing accuracy:\t 0.5917822838847385\n"
     ]
    }
   ],
   "source": [
    "ada = AdaBoostClassifier(DecisionTreeClassifier(max_depth=20))\n",
    "ada.fit(x_train, y_train)\n",
    "print('Training accuracy:\\t', ada.score(x_train, y_train))\n",
    "print('Testing accuracy:\\t', ada.score(x_test, y_test))"
   ]
  },
  {
   "cell_type": "code",
   "execution_count": 250,
   "metadata": {
    "execution": {
     "iopub.execute_input": "2022-04-11T17:05:09.002721Z",
     "iopub.status.busy": "2022-04-11T17:05:09.00216Z",
     "iopub.status.idle": "2022-04-11T17:05:19.560104Z",
     "shell.execute_reply": "2022-04-11T17:05:19.559098Z",
     "shell.execute_reply.started": "2022-04-11T17:05:09.002686Z"
    },
    "vscode": {
     "languageId": "python"
    }
   },
   "outputs": [
    {
     "name": "stdout",
     "output_type": "stream",
     "text": [
      "Training accuracy:\t 0.9551581476044309\n",
      "Testing accuracy:\t 0.5773745997865528\n"
     ]
    }
   ],
   "source": [
    "bagging = BaggingClassifier(DecisionTreeClassifier(max_depth=20))\n",
    "bagging.fit(x_train, y_train)\n",
    "print('Training accuracy:\\t', bagging.score(x_train, y_train))\n",
    "print('Testing accuracy:\\t', bagging.score(x_test, y_test))"
   ]
  },
  {
   "cell_type": "code",
   "execution_count": 251,
   "metadata": {
    "execution": {
     "iopub.execute_input": "2022-04-11T17:05:19.561681Z",
     "iopub.status.busy": "2022-04-11T17:05:19.561406Z",
     "iopub.status.idle": "2022-04-11T17:05:35.384486Z",
     "shell.execute_reply": "2022-04-11T17:05:35.383316Z",
     "shell.execute_reply.started": "2022-04-11T17:05:19.561651Z"
    },
    "vscode": {
     "languageId": "python"
    }
   },
   "outputs": [
    {
     "name": "stdout",
     "output_type": "stream",
     "text": [
      "Training accuracy:\t 0.9935940210863473\n",
      "Testing accuracy:\t 0.6125933831376734\n"
     ]
    }
   ],
   "source": [
    "extra = ExtraTreesClassifier(max_depth=20)\n",
    "extra.fit(x_train, y_train)\n",
    "print('Training accuracy:\\t', extra.score(x_train, y_train))\n",
    "print('Testing accuracy:\\t', extra.score(x_test, y_test))"
   ]
  },
  {
   "cell_type": "code",
   "execution_count": 252,
   "metadata": {
    "execution": {
     "iopub.execute_input": "2022-04-11T17:05:35.386026Z",
     "iopub.status.busy": "2022-04-11T17:05:35.3858Z",
     "iopub.status.idle": "2022-04-11T17:05:46.258677Z",
     "shell.execute_reply": "2022-04-11T17:05:46.257807Z",
     "shell.execute_reply.started": "2022-04-11T17:05:35.385999Z"
    },
    "vscode": {
     "languageId": "python"
    }
   },
   "outputs": [
    {
     "name": "stdout",
     "output_type": "stream",
     "text": [
      "Training accuracy:\t 0.9865207527025224\n",
      "Testing accuracy:\t 0.5976520811099253\n"
     ]
    }
   ],
   "source": [
    "rf = RandomForestClassifier(max_depth=20)\n",
    "rf.fit(x_train, y_train)\n",
    "print('Training accuracy:\\t', rf.score(x_train, y_train))\n",
    "print('Testing accuracy:\\t', rf.score(x_test, y_test))"
   ]
  },
  {
   "cell_type": "markdown",
   "metadata": {},
   "source": [
    "### Neural Network for Card rarity"
   ]
  },
  {
   "cell_type": "code",
   "execution_count": 262,
   "metadata": {},
   "outputs": [
    {
     "name": "stdout",
     "output_type": "stream",
     "text": [
      "Epoch 1/10\n",
      "422/422 [==============================] - 5s 6ms/step - loss: 0.8006 - accuracy: 0.5145 - val_loss: 0.7192 - val_accuracy: 0.5160\n",
      "Epoch 2/10\n",
      "422/422 [==============================] - 2s 5ms/step - loss: 0.8052 - accuracy: 0.5087 - val_loss: 0.7309 - val_accuracy: 0.5160\n",
      "Epoch 3/10\n",
      "422/422 [==============================] - 2s 6ms/step - loss: 0.7809 - accuracy: 0.5235 - val_loss: 0.7326 - val_accuracy: 0.5093\n",
      "Epoch 4/10\n",
      "422/422 [==============================] - 3s 6ms/step - loss: 0.7896 - accuracy: 0.5106 - val_loss: 0.7249 - val_accuracy: 0.5227\n",
      "Epoch 5/10\n",
      "422/422 [==============================] - 3s 7ms/step - loss: 0.7905 - accuracy: 0.5124 - val_loss: 0.7226 - val_accuracy: 0.5213\n"
     ]
    },
    {
     "data": {
      "text/plain": [
       "<keras.callbacks.History at 0x28747184f70>"
      ]
     },
     "execution_count": 262,
     "metadata": {},
     "output_type": "execute_result"
    }
   ],
   "source": [
    "from tensorflow import keras\n",
    "nn = keras.Sequential([\n",
    "    keras.layers.Dense(106, activation='relu'),\n",
    "    keras.layers.Dense(53, activation='tanh'),\n",
    "    keras.layers.Dropout(0.2),\n",
    "    keras.layers.BatchNormalization(),\n",
    "    keras.layers.Dense(26, activation='relu'),\n",
    "    keras.layers.Dropout(0.2),\n",
    "    keras.layers.BatchNormalization(),\n",
    "    keras.layers.Dense(13, activation='relu'),\n",
    "    keras.layers.Dense(6, activation='relu'),\n",
    "    keras.layers.Dropout(0.2),\n",
    "    keras.layers.BatchNormalization(),\n",
    "    keras.layers.Dense(3, activation='relu'),\n",
    "    keras.layers.Dropout(0.2),\n",
    "    keras.layers.BatchNormalization(),\n",
    "    keras.layers.Dense(1, activation='sigmoid'),\n",
    "])\n",
    "early_stopping = keras.callbacks.EarlyStopping(monitor='loss', patience=2)\n",
    "nn.compile(\n",
    "    optimizer=keras.optimizers.SGD(learning_rate=0.0001),\n",
    "    loss=\"binary_crossentropy\",\n",
    "    metrics=['accuracy'],\n",
    ")\n",
    "nn.fit(x_train, y_train-1, validation_split=0.1, epochs=10, batch_size=16, callbacks=[early_stopping])"
   ]
  },
  {
   "cell_type": "markdown",
   "metadata": {},
   "source": [
    "### Algorithms for Card elixir"
   ]
  },
  {
   "cell_type": "code",
   "execution_count": 269,
   "metadata": {},
   "outputs": [],
   "source": [
    "x_train, decks = [], []\n",
    "\n",
    "# we first combine the DataFrame into 1x106 vectors, where V[i] = 1 if the ith card is in the deck\n",
    "# this \n",
    "for i in df.index:\n",
    "    e1 = np.zeros(107)\n",
    "    e2 = np.zeros(107)\n",
    "    for j in range(0, 8):\n",
    "        card1 = df[f'p1_card_{j}_id'][i]\n",
    "        card2 = df[f'p2_card_{j}_id'][i]\n",
    "        \n",
    "        e1[id_map[card1]] = cards.at[id_map[card1],\"elixir\"]\n",
    "        e2[id_map[card2]] = cards.at[id_map[card2],\"elixir\"]\n",
    "        \n",
    "    x_train.append(np.concatenate((e1, e2)))\n",
    "    \n",
    "x_train = np.array(x_train)\n",
    "y_train = df['winner']\n",
    "x_train, x_test, y_train, y_test = train_test_split(x_train, y_train, test_size=0.2, random_state=6233)\n",
    "# d_train, d_test = train_test_split(decks, test_size=0.2, random_state=47483)"
   ]
  },
  {
   "cell_type": "code",
   "execution_count": 270,
   "metadata": {
    "execution": {
     "iopub.execute_input": "2022-04-11T17:04:13.123753Z",
     "iopub.status.busy": "2022-04-11T17:04:13.123428Z",
     "iopub.status.idle": "2022-04-11T17:05:08.994533Z",
     "shell.execute_reply": "2022-04-11T17:05:08.993383Z",
     "shell.execute_reply.started": "2022-04-11T17:04:13.123713Z"
    },
    "vscode": {
     "languageId": "python"
    }
   },
   "outputs": [
    {
     "name": "stdout",
     "output_type": "stream",
     "text": [
      "Training accuracy:\t 0.7392232750567196\n",
      "Testing accuracy:\t 0.5923159018143009\n"
     ]
    }
   ],
   "source": [
    "knn = KNeighborsClassifier(n_neighbors=5)\n",
    "knn.fit(x_train, y_train)\n",
    "print('Training accuracy:\\t', knn.score(x_train, y_train))\n",
    "print('Testing accuracy:\\t', knn.score(x_test, y_test))"
   ]
  },
  {
   "cell_type": "code",
   "execution_count": 271,
   "metadata": {
    "execution": {
     "iopub.execute_input": "2022-04-11T17:05:08.996554Z",
     "iopub.status.busy": "2022-04-11T17:05:08.996121Z",
     "iopub.status.idle": "2022-04-11T17:05:08.999825Z",
     "shell.execute_reply": "2022-04-11T17:05:08.99906Z",
     "shell.execute_reply.started": "2022-04-11T17:05:08.996517Z"
    },
    "vscode": {
     "languageId": "python"
    }
   },
   "outputs": [
    {
     "name": "stdout",
     "output_type": "stream",
     "text": [
      "Training accuracy:\t 0.9971973842252769\n",
      "Testing accuracy:\t 0.5912486659551761\n"
     ]
    }
   ],
   "source": [
    "ada = AdaBoostClassifier(DecisionTreeClassifier(max_depth=20))\n",
    "ada.fit(x_train, y_train)\n",
    "print('Training accuracy:\\t', ada.score(x_train, y_train))\n",
    "print('Testing accuracy:\\t', ada.score(x_test, y_test))"
   ]
  },
  {
   "cell_type": "code",
   "execution_count": 272,
   "metadata": {
    "execution": {
     "iopub.execute_input": "2022-04-11T17:05:09.002721Z",
     "iopub.status.busy": "2022-04-11T17:05:09.00216Z",
     "iopub.status.idle": "2022-04-11T17:05:19.560104Z",
     "shell.execute_reply": "2022-04-11T17:05:19.559098Z",
     "shell.execute_reply.started": "2022-04-11T17:05:09.002686Z"
    },
    "vscode": {
     "languageId": "python"
    }
   },
   "outputs": [
    {
     "name": "stdout",
     "output_type": "stream",
     "text": [
      "Training accuracy:\t 0.9579607633791539\n",
      "Testing accuracy:\t 0.583778014941302\n"
     ]
    }
   ],
   "source": [
    "bagging = BaggingClassifier(DecisionTreeClassifier(max_depth=20))\n",
    "bagging.fit(x_train, y_train)\n",
    "print('Training accuracy:\\t', bagging.score(x_train, y_train))\n",
    "print('Testing accuracy:\\t', bagging.score(x_test, y_test))"
   ]
  },
  {
   "cell_type": "code",
   "execution_count": 273,
   "metadata": {
    "execution": {
     "iopub.execute_input": "2022-04-11T17:05:19.561681Z",
     "iopub.status.busy": "2022-04-11T17:05:19.561406Z",
     "iopub.status.idle": "2022-04-11T17:05:35.384486Z",
     "shell.execute_reply": "2022-04-11T17:05:35.383316Z",
     "shell.execute_reply.started": "2022-04-11T17:05:19.561651Z"
    },
    "vscode": {
     "languageId": "python"
    }
   },
   "outputs": [
    {
     "name": "stdout",
     "output_type": "stream",
     "text": [
      "Training accuracy:\t 0.993193647404244\n",
      "Testing accuracy:\t 0.6141942369263608\n"
     ]
    }
   ],
   "source": [
    "extra = ExtraTreesClassifier(max_depth=20)\n",
    "extra.fit(x_train, y_train)\n",
    "print('Training accuracy:\\t', extra.score(x_train, y_train))\n",
    "print('Testing accuracy:\\t', extra.score(x_test, y_test))"
   ]
  },
  {
   "cell_type": "code",
   "execution_count": 274,
   "metadata": {
    "execution": {
     "iopub.execute_input": "2022-04-11T17:05:35.386026Z",
     "iopub.status.busy": "2022-04-11T17:05:35.3858Z",
     "iopub.status.idle": "2022-04-11T17:05:46.258677Z",
     "shell.execute_reply": "2022-04-11T17:05:46.257807Z",
     "shell.execute_reply.started": "2022-04-11T17:05:35.385999Z"
    },
    "vscode": {
     "languageId": "python"
    }
   },
   "outputs": [
    {
     "name": "stdout",
     "output_type": "stream",
     "text": [
      "Training accuracy:\t 0.9874549579607633\n",
      "Testing accuracy:\t 0.5976520811099253\n"
     ]
    }
   ],
   "source": [
    "rf = RandomForestClassifier(max_depth=20)\n",
    "rf.fit(x_train, y_train)\n",
    "print('Training accuracy:\\t', rf.score(x_train, y_train))\n",
    "print('Testing accuracy:\\t', rf.score(x_test, y_test))"
   ]
  },
  {
   "cell_type": "markdown",
   "metadata": {},
   "source": [
    "### Neural Network for Card elixir"
   ]
  },
  {
   "cell_type": "code",
   "execution_count": 264,
   "metadata": {
    "scrolled": false
   },
   "outputs": [
    {
     "name": "stdout",
     "output_type": "stream",
     "text": [
      "Epoch 1/10\n",
      "422/422 [==============================] - 5s 6ms/step - loss: 0.7712 - accuracy: 0.4927 - val_loss: 0.7302 - val_accuracy: 0.4653\n",
      "Epoch 2/10\n",
      "422/422 [==============================] - 2s 5ms/step - loss: 0.7605 - accuracy: 0.4967 - val_loss: 0.7307 - val_accuracy: 0.4653\n",
      "Epoch 3/10\n",
      "422/422 [==============================] - 2s 5ms/step - loss: 0.7549 - accuracy: 0.5032 - val_loss: 0.7308 - val_accuracy: 0.4680\n",
      "Epoch 4/10\n",
      "422/422 [==============================] - 2s 5ms/step - loss: 0.7620 - accuracy: 0.4909 - val_loss: 0.7284 - val_accuracy: 0.4640\n",
      "Epoch 5/10\n",
      "422/422 [==============================] - 2s 5ms/step - loss: 0.7501 - accuracy: 0.4973 - val_loss: 0.7233 - val_accuracy: 0.4800\n",
      "Epoch 6/10\n",
      "422/422 [==============================] - 2s 5ms/step - loss: 0.7491 - accuracy: 0.5013 - val_loss: 0.7235 - val_accuracy: 0.4733\n",
      "Epoch 7/10\n",
      "422/422 [==============================] - 2s 5ms/step - loss: 0.7497 - accuracy: 0.4949 - val_loss: 0.7235 - val_accuracy: 0.4627\n",
      "Epoch 8/10\n",
      "422/422 [==============================] - 2s 5ms/step - loss: 0.7414 - accuracy: 0.5013 - val_loss: 0.7217 - val_accuracy: 0.4720\n",
      "Epoch 9/10\n",
      "422/422 [==============================] - 2s 5ms/step - loss: 0.7450 - accuracy: 0.4990 - val_loss: 0.7194 - val_accuracy: 0.4693\n",
      "Epoch 10/10\n",
      "422/422 [==============================] - 2s 5ms/step - loss: 0.7456 - accuracy: 0.4968 - val_loss: 0.7181 - val_accuracy: 0.4653\n"
     ]
    },
    {
     "data": {
      "text/plain": [
       "<keras.callbacks.History at 0x287544addc0>"
      ]
     },
     "execution_count": 264,
     "metadata": {},
     "output_type": "execute_result"
    }
   ],
   "source": [
    "from tensorflow import keras\n",
    "nn = keras.Sequential([\n",
    "    keras.layers.Dense(106, activation='relu'),\n",
    "    keras.layers.Dense(53, activation='tanh'),\n",
    "    keras.layers.Dropout(0.2),\n",
    "    keras.layers.BatchNormalization(),\n",
    "    keras.layers.Dense(26, activation='relu'),\n",
    "    keras.layers.Dropout(0.2),\n",
    "    keras.layers.BatchNormalization(),\n",
    "    keras.layers.Dense(13, activation='relu'),\n",
    "    keras.layers.Dense(6, activation='relu'),\n",
    "    keras.layers.Dropout(0.2),\n",
    "    keras.layers.BatchNormalization(),\n",
    "    keras.layers.Dense(3, activation='relu'),\n",
    "    keras.layers.Dropout(0.2),\n",
    "    keras.layers.BatchNormalization(),\n",
    "    keras.layers.Dense(1, activation='sigmoid'),\n",
    "])\n",
    "early_stopping = keras.callbacks.EarlyStopping(monitor='loss', patience=2)\n",
    "nn.compile(\n",
    "    optimizer=keras.optimizers.SGD(learning_rate=0.0001),\n",
    "    loss=\"binary_crossentropy\",\n",
    "    metrics=['accuracy'],\n",
    ")\n",
    "nn.fit(x_train, y_train-1, validation_split=0.1, epochs=10, batch_size=16, callbacks=[early_stopping])"
   ]
  },
  {
   "cell_type": "markdown",
   "metadata": {},
   "source": []
  },
  {
   "cell_type": "markdown",
   "metadata": {},
   "source": []
  },
  {
   "cell_type": "markdown",
   "metadata": {},
   "source": []
  },
  {
   "cell_type": "markdown",
   "metadata": {},
   "source": []
  },
  {
   "cell_type": "markdown",
   "metadata": {},
   "source": [
    "### Algorithms for Card types, rarity, elixir"
   ]
  },
  {
   "cell_type": "code",
   "execution_count": 267,
   "metadata": {},
   "outputs": [
    {
     "data": {
      "text/plain": [
       "(9367, 60)"
      ]
     },
     "execution_count": 267,
     "metadata": {},
     "output_type": "execute_result"
    }
   ],
   "source": [
    "df.shape"
   ]
  },
  {
   "cell_type": "code",
   "execution_count": 265,
   "metadata": {},
   "outputs": [],
   "source": [
    "x_train, decks = [], []\n",
    "\n",
    "items = df.shape[0]\n",
    "# we first combine the DataFrame into 1x106 vectors, where V[i] = 1 if the ith card is in the deck\n",
    "for i in df.index:\n",
    "    t1 = np.zeros(it)\n",
    "    t2 = np.zeros(107)\n",
    "    r1 = np.zeros(107)\n",
    "    r2 = np.zeros(107)\n",
    "    e1 = np.zeros(107)\n",
    "    e2 = np.zeros(107)\n",
    "    for j in range(0, 8):\n",
    "        card1 = df[f'p1_card_{j}_id'][i]\n",
    "        card2 = df[f'p2_card_{j}_id'][i]\n",
    "        \n",
    "        t1[id_map[card1]] = cards.at[id_map[card1],\"type\"]\n",
    "        t2[id_map[card2]] = cards.at[id_map[card2],\"type\"]\n",
    "        \n",
    "        r1[id_map[card1]] = cards.at[id_map[card1],\"rarity\"]\n",
    "        r2[id_map[card2]] = cards.at[id_map[card2],\"rarity\"]\n",
    "        \n",
    "        e1[id_map[card1]] = cards.at[id_map[card1],\"elixir\"]\n",
    "        e2[id_map[card2]] = cards.at[id_map[card2],\"elixir\"]\n",
    "        \n",
    "    x_train.append(np.concatenate((t1, t2, r1, r2, e1, e2)))\n",
    "    \n",
    "y_train = df['winner']\n",
    "x_train = np.array(x_train)\n",
    "x_train, x_test, y_train, y_test = train_test_split(x_train, y_train, test_size=0.2, random_state=6233)\n",
    "# d_train, d_test = train_test_split(decks, test_size=0.2, random_state=47483)"
   ]
  },
  {
   "cell_type": "code",
   "execution_count": 220,
   "metadata": {
    "execution": {
     "iopub.execute_input": "2022-04-11T17:04:13.123753Z",
     "iopub.status.busy": "2022-04-11T17:04:13.123428Z",
     "iopub.status.idle": "2022-04-11T17:05:08.994533Z",
     "shell.execute_reply": "2022-04-11T17:05:08.993383Z",
     "shell.execute_reply.started": "2022-04-11T17:04:13.123713Z"
    },
    "vscode": {
     "languageId": "python"
    }
   },
   "outputs": [
    {
     "name": "stdout",
     "output_type": "stream",
     "text": [
      "Training accuracy:\t 0.7409582276791672\n",
      "Testing accuracy:\t 0.5939167556029883\n"
     ]
    }
   ],
   "source": [
    "knn = KNeighborsClassifier(n_neighbors=5)\n",
    "knn.fit(x_train, y_train)\n",
    "print('Training accuracy:\\t', knn.score(x_train, y_train))\n",
    "print('Testing accuracy:\\t', knn.score(x_test, y_test))"
   ]
  },
  {
   "cell_type": "code",
   "execution_count": 221,
   "metadata": {
    "execution": {
     "iopub.execute_input": "2022-04-11T17:05:08.996554Z",
     "iopub.status.busy": "2022-04-11T17:05:08.996121Z",
     "iopub.status.idle": "2022-04-11T17:05:08.999825Z",
     "shell.execute_reply": "2022-04-11T17:05:08.99906Z",
     "shell.execute_reply.started": "2022-04-11T17:05:08.996517Z"
    },
    "vscode": {
     "languageId": "python"
    }
   },
   "outputs": [
    {
     "name": "stdout",
     "output_type": "stream",
     "text": [
      "Training accuracy:\t 0.9971973842252769\n",
      "Testing accuracy:\t 0.5741728922091782\n"
     ]
    }
   ],
   "source": [
    "ada = AdaBoostClassifier(DecisionTreeClassifier(max_depth=20))\n",
    "ada.fit(x_train, y_train)\n",
    "print('Training accuracy:\\t', ada.score(x_train, y_train))\n",
    "print('Testing accuracy:\\t', ada.score(x_test, y_test))"
   ]
  },
  {
   "cell_type": "code",
   "execution_count": 222,
   "metadata": {
    "execution": {
     "iopub.execute_input": "2022-04-11T17:05:09.002721Z",
     "iopub.status.busy": "2022-04-11T17:05:09.00216Z",
     "iopub.status.idle": "2022-04-11T17:05:19.560104Z",
     "shell.execute_reply": "2022-04-11T17:05:19.559098Z",
     "shell.execute_reply.started": "2022-04-11T17:05:09.002686Z"
    },
    "vscode": {
     "languageId": "python"
    }
   },
   "outputs": [
    {
     "name": "stdout",
     "output_type": "stream",
     "text": [
      "Training accuracy:\t 0.9526224476177766\n",
      "Testing accuracy:\t 0.5944503735325507\n"
     ]
    }
   ],
   "source": [
    "bagging = BaggingClassifier(DecisionTreeClassifier(max_depth=20))\n",
    "bagging.fit(x_train, y_train)\n",
    "print('Training accuracy:\\t', bagging.score(x_train, y_train))\n",
    "print('Testing accuracy:\\t', bagging.score(x_test, y_test))"
   ]
  },
  {
   "cell_type": "code",
   "execution_count": 223,
   "metadata": {
    "execution": {
     "iopub.execute_input": "2022-04-11T17:05:19.561681Z",
     "iopub.status.busy": "2022-04-11T17:05:19.561406Z",
     "iopub.status.idle": "2022-04-11T17:05:35.384486Z",
     "shell.execute_reply": "2022-04-11T17:05:35.383316Z",
     "shell.execute_reply.started": "2022-04-11T17:05:19.561651Z"
    },
    "vscode": {
     "languageId": "python"
    }
   },
   "outputs": [
    {
     "name": "stdout",
     "output_type": "stream",
     "text": [
      "Training accuracy:\t 0.9941278526624849\n",
      "Testing accuracy:\t 0.5971184631803629\n"
     ]
    }
   ],
   "source": [
    "extra = ExtraTreesClassifier(max_depth=20)\n",
    "extra.fit(x_train, y_train)\n",
    "print('Training accuracy:\\t', extra.score(x_train, y_train))\n",
    "print('Testing accuracy:\\t', extra.score(x_test, y_test))"
   ]
  },
  {
   "cell_type": "code",
   "execution_count": 224,
   "metadata": {
    "execution": {
     "iopub.execute_input": "2022-04-11T17:05:35.386026Z",
     "iopub.status.busy": "2022-04-11T17:05:35.3858Z",
     "iopub.status.idle": "2022-04-11T17:05:46.258677Z",
     "shell.execute_reply": "2022-04-11T17:05:46.257807Z",
     "shell.execute_reply.started": "2022-04-11T17:05:35.385999Z"
    },
    "scrolled": false,
    "vscode": {
     "languageId": "python"
    }
   },
   "outputs": [
    {
     "name": "stdout",
     "output_type": "stream",
     "text": [
      "Training accuracy:\t 0.9898572000533832\n",
      "Testing accuracy:\t 0.6056563500533618\n"
     ]
    }
   ],
   "source": [
    "rf = RandomForestClassifier(max_depth=20)\n",
    "rf.fit(x_train, y_train)\n",
    "print('Training accuracy:\\t', rf.score(x_train, y_train))\n",
    "print('Testing accuracy:\\t', rf.score(x_test, y_test))"
   ]
  },
  {
   "cell_type": "markdown",
   "metadata": {},
   "source": [
    "### Neural Network for Card elixir"
   ]
  },
  {
   "cell_type": "code",
   "execution_count": 266,
   "metadata": {},
   "outputs": [
    {
     "name": "stdout",
     "output_type": "stream",
     "text": [
      "Epoch 1/10\n",
      "422/422 [==============================] - 6s 6ms/step - loss: 0.8639 - accuracy: 0.4956 - val_loss: 0.7656 - val_accuracy: 0.4787\n",
      "Epoch 2/10\n",
      "422/422 [==============================] - 2s 5ms/step - loss: 0.8536 - accuracy: 0.5023 - val_loss: 0.7636 - val_accuracy: 0.4800\n",
      "Epoch 3/10\n",
      "422/422 [==============================] - 2s 5ms/step - loss: 0.8401 - accuracy: 0.5082 - val_loss: 0.7578 - val_accuracy: 0.4853\n",
      "Epoch 4/10\n",
      "422/422 [==============================] - 2s 5ms/step - loss: 0.8523 - accuracy: 0.4959 - val_loss: 0.7508 - val_accuracy: 0.4987\n",
      "Epoch 5/10\n",
      "422/422 [==============================] - 2s 5ms/step - loss: 0.8210 - accuracy: 0.5183 - val_loss: 0.7433 - val_accuracy: 0.4987\n",
      "Epoch 6/10\n",
      "422/422 [==============================] - 2s 5ms/step - loss: 0.8319 - accuracy: 0.5048 - val_loss: 0.7370 - val_accuracy: 0.5067\n",
      "Epoch 7/10\n",
      "422/422 [==============================] - 2s 5ms/step - loss: 0.8090 - accuracy: 0.5228 - val_loss: 0.7311 - val_accuracy: 0.5133\n",
      "Epoch 8/10\n",
      "422/422 [==============================] - 2s 5ms/step - loss: 0.7996 - accuracy: 0.5280 - val_loss: 0.7266 - val_accuracy: 0.5160\n",
      "Epoch 9/10\n",
      "422/422 [==============================] - 2s 5ms/step - loss: 0.7945 - accuracy: 0.5254 - val_loss: 0.7219 - val_accuracy: 0.5240\n",
      "Epoch 10/10\n",
      "422/422 [==============================] - 2s 5ms/step - loss: 0.7927 - accuracy: 0.5214 - val_loss: 0.7145 - val_accuracy: 0.5227\n"
     ]
    },
    {
     "data": {
      "text/plain": [
       "<keras.callbacks.History at 0x28754216700>"
      ]
     },
     "execution_count": 266,
     "metadata": {},
     "output_type": "execute_result"
    }
   ],
   "source": [
    "from tensorflow import keras\n",
    "nn = keras.Sequential([\n",
    "    keras.layers.Dense(106, activation='relu'),\n",
    "    keras.layers.Dense(53, activation='tanh'),\n",
    "    keras.layers.Dropout(0.2),\n",
    "    keras.layers.BatchNormalization(),\n",
    "    keras.layers.Dense(26, activation='relu'),\n",
    "    keras.layers.Dropout(0.2),\n",
    "    keras.layers.BatchNormalization(),\n",
    "    keras.layers.Dense(13, activation='relu'),\n",
    "    keras.layers.Dense(6, activation='relu'),\n",
    "    keras.layers.Dropout(0.2),\n",
    "    keras.layers.BatchNormalization(),\n",
    "    keras.layers.Dense(3, activation='relu'),\n",
    "    keras.layers.Dropout(0.2),\n",
    "    keras.layers.BatchNormalization(),\n",
    "    keras.layers.Dense(1, activation='sigmoid'),\n",
    "])\n",
    "early_stopping = keras.callbacks.EarlyStopping(monitor='loss', patience=2)\n",
    "nn.compile(\n",
    "    optimizer=keras.optimizers.SGD(learning_rate=0.0001),\n",
    "    loss=\"binary_crossentropy\",\n",
    "    metrics=['accuracy'],\n",
    ")\n",
    "nn.fit(x_train, y_train-1, validation_split=0.1, epochs=10, batch_size=16, callbacks=[early_stopping])"
   ]
  },
  {
   "cell_type": "markdown",
   "metadata": {},
   "source": [
    "### Algorithms for Card types"
   ]
  },
  {
   "cell_type": "code",
   "execution_count": 259,
   "metadata": {},
   "outputs": [],
   "source": [
    "x_train, decks = [], []\n",
    "\n",
    "# we first combine the DataFrame into 1x106 vectors, where V[i] = 1 if the ith card is in the deck\n",
    "# this \n",
    "for i in df.index:\n",
    "    t1 = np.zeros(107)\n",
    "    t2 = np.zeros(107)\n",
    "    for j in range(0, 8):\n",
    "        card1 = df[f'p1_card_{j}_id'][i]\n",
    "        card2 = df[f'p2_card_{j}_id'][i]\n",
    "        \n",
    "        t1[id_map[card1]] = cards.at[id_map[card1],\"type\"]\n",
    "        t2[id_map[card2]] = cards.at[id_map[card2],\"type\"]\n",
    "        \n",
    "    x_train.append(np.concatenate((t1, t2)))\n",
    "    \n",
    "y_train = df['winner']\n",
    "x_train = np.array(x_train)\n",
    "x_train, x_test, y_train, y_test = train_test_split(x_train, y_train, test_size=0.2, random_state=6233)\n",
    "# d_train, d_test = train_test_split(decks, test_size=0.2, random_state=47483)"
   ]
  },
  {
   "cell_type": "code",
   "execution_count": 227,
   "metadata": {
    "execution": {
     "iopub.execute_input": "2022-04-11T17:04:13.123753Z",
     "iopub.status.busy": "2022-04-11T17:04:13.123428Z",
     "iopub.status.idle": "2022-04-11T17:05:08.994533Z",
     "shell.execute_reply": "2022-04-11T17:05:08.993383Z",
     "shell.execute_reply.started": "2022-04-11T17:04:13.123713Z"
    },
    "vscode": {
     "languageId": "python"
    }
   },
   "outputs": [
    {
     "name": "stdout",
     "output_type": "stream",
     "text": [
      "Training accuracy:\t 0.7333511277192046\n",
      "Testing accuracy:\t 0.5736392742796158\n"
     ]
    }
   ],
   "source": [
    "knn = KNeighborsClassifier(n_neighbors=5)\n",
    "knn.fit(x_train, y_train)\n",
    "print('Training accuracy:\\t', knn.score(x_train, y_train))\n",
    "print('Testing accuracy:\\t', knn.score(x_test, y_test))"
   ]
  },
  {
   "cell_type": "code",
   "execution_count": 229,
   "metadata": {
    "execution": {
     "iopub.execute_input": "2022-04-11T17:05:08.996554Z",
     "iopub.status.busy": "2022-04-11T17:05:08.996121Z",
     "iopub.status.idle": "2022-04-11T17:05:08.999825Z",
     "shell.execute_reply": "2022-04-11T17:05:08.99906Z",
     "shell.execute_reply.started": "2022-04-11T17:05:08.996517Z"
    },
    "vscode": {
     "languageId": "python"
    }
   },
   "outputs": [
    {
     "name": "stdout",
     "output_type": "stream",
     "text": [
      "Training accuracy:\t 0.9971973842252769\n",
      "Testing accuracy:\t 0.5805763073639274\n"
     ]
    }
   ],
   "source": [
    "ada = AdaBoostClassifier(DecisionTreeClassifier(max_depth=20))\n",
    "ada.fit(x_train, y_train)\n",
    "print('Training accuracy:\\t', ada.score(x_train, y_train))\n",
    "print('Testing accuracy:\\t', ada.score(x_test, y_test))"
   ]
  },
  {
   "cell_type": "code",
   "execution_count": 230,
   "metadata": {
    "execution": {
     "iopub.execute_input": "2022-04-11T17:05:09.002721Z",
     "iopub.status.busy": "2022-04-11T17:05:09.00216Z",
     "iopub.status.idle": "2022-04-11T17:05:19.560104Z",
     "shell.execute_reply": "2022-04-11T17:05:19.559098Z",
     "shell.execute_reply.started": "2022-04-11T17:05:09.002686Z"
    },
    "vscode": {
     "languageId": "python"
    }
   },
   "outputs": [
    {
     "name": "stdout",
     "output_type": "stream",
     "text": [
      "Training accuracy:\t 0.9608968370479114\n",
      "Testing accuracy:\t 0.5976520811099253\n"
     ]
    }
   ],
   "source": [
    "bagging = BaggingClassifier(DecisionTreeClassifier(max_depth=20))\n",
    "bagging.fit(x_train, y_train)\n",
    "print('Training accuracy:\\t', bagging.score(x_train, y_train))\n",
    "print('Testing accuracy:\\t', bagging.score(x_test, y_test))"
   ]
  },
  {
   "cell_type": "code",
   "execution_count": 231,
   "metadata": {
    "execution": {
     "iopub.execute_input": "2022-04-11T17:05:19.561681Z",
     "iopub.status.busy": "2022-04-11T17:05:19.561406Z",
     "iopub.status.idle": "2022-04-11T17:05:35.384486Z",
     "shell.execute_reply": "2022-04-11T17:05:35.383316Z",
     "shell.execute_reply.started": "2022-04-11T17:05:19.561651Z"
    },
    "vscode": {
     "languageId": "python"
    }
   },
   "outputs": [
    {
     "name": "stdout",
     "output_type": "stream",
     "text": [
      "Training accuracy:\t 0.9937274789803817\n",
      "Testing accuracy:\t 0.6019210245464247\n"
     ]
    }
   ],
   "source": [
    "extra = ExtraTreesClassifier(max_depth=20)\n",
    "extra.fit(x_train, y_train)\n",
    "print('Training accuracy:\\t', extra.score(x_train, y_train))\n",
    "print('Testing accuracy:\\t', extra.score(x_test, y_test))"
   ]
  },
  {
   "cell_type": "code",
   "execution_count": 232,
   "metadata": {
    "execution": {
     "iopub.execute_input": "2022-04-11T17:05:35.386026Z",
     "iopub.status.busy": "2022-04-11T17:05:35.3858Z",
     "iopub.status.idle": "2022-04-11T17:05:46.258677Z",
     "shell.execute_reply": "2022-04-11T17:05:46.257807Z",
     "shell.execute_reply.started": "2022-04-11T17:05:35.385999Z"
    },
    "vscode": {
     "languageId": "python"
    }
   },
   "outputs": [
    {
     "name": "stdout",
     "output_type": "stream",
     "text": [
      "Training accuracy:\t 0.9862538369144535\n",
      "Testing accuracy:\t 0.6035218783351121\n"
     ]
    }
   ],
   "source": [
    "rf = RandomForestClassifier(max_depth=20)\n",
    "rf.fit(x_train, y_train)\n",
    "print('Training accuracy:\\t', rf.score(x_train, y_train))\n",
    "print('Testing accuracy:\\t', rf.score(x_test, y_test))"
   ]
  },
  {
   "cell_type": "markdown",
   "metadata": {},
   "source": [
    "### Neural Network for Card types"
   ]
  },
  {
   "cell_type": "code",
   "execution_count": 260,
   "metadata": {},
   "outputs": [
    {
     "name": "stdout",
     "output_type": "stream",
     "text": [
      "Epoch 1/10\n",
      "422/422 [==============================] - 5s 6ms/step - loss: 0.8953 - accuracy: 0.4933 - val_loss: 0.7041 - val_accuracy: 0.5507\n",
      "Epoch 2/10\n",
      "422/422 [==============================] - 2s 5ms/step - loss: 0.8855 - accuracy: 0.4958 - val_loss: 0.7466 - val_accuracy: 0.5053\n",
      "Epoch 3/10\n",
      "422/422 [==============================] - 2s 5ms/step - loss: 0.8680 - accuracy: 0.5001 - val_loss: 0.7405 - val_accuracy: 0.5067\n",
      "Epoch 4/10\n",
      "422/422 [==============================] - 2s 6ms/step - loss: 0.8549 - accuracy: 0.4913 - val_loss: 0.7337 - val_accuracy: 0.5213\n",
      "Epoch 5/10\n",
      "422/422 [==============================] - 2s 6ms/step - loss: 0.8459 - accuracy: 0.4986 - val_loss: 0.7331 - val_accuracy: 0.5360\n",
      "Epoch 6/10\n",
      "422/422 [==============================] - 2s 6ms/step - loss: 0.8457 - accuracy: 0.4934 - val_loss: 0.7236 - val_accuracy: 0.5507\n",
      "Epoch 7/10\n",
      "422/422 [==============================] - 2s 6ms/step - loss: 0.8442 - accuracy: 0.4971 - val_loss: 0.7160 - val_accuracy: 0.5493\n",
      "Epoch 8/10\n",
      "422/422 [==============================] - 2s 5ms/step - loss: 0.8330 - accuracy: 0.5036 - val_loss: 0.7061 - val_accuracy: 0.5520\n",
      "Epoch 9/10\n",
      "422/422 [==============================] - 2s 5ms/step - loss: 0.8193 - accuracy: 0.5096 - val_loss: 0.7072 - val_accuracy: 0.5613\n",
      "Epoch 10/10\n",
      "422/422 [==============================] - 3s 6ms/step - loss: 0.8196 - accuracy: 0.5045 - val_loss: 0.7017 - val_accuracy: 0.5720\n"
     ]
    },
    {
     "data": {
      "text/plain": [
       "<keras.callbacks.History at 0x2874628ebe0>"
      ]
     },
     "execution_count": 260,
     "metadata": {},
     "output_type": "execute_result"
    }
   ],
   "source": [
    "from tensorflow import keras\n",
    "nn = keras.Sequential([\n",
    "    keras.layers.Dense(106, activation='relu'),\n",
    "    keras.layers.Dense(53, activation='tanh'),\n",
    "    keras.layers.Dropout(0.2),\n",
    "    keras.layers.BatchNormalization(),\n",
    "    keras.layers.Dense(26, activation='relu'),\n",
    "    keras.layers.Dropout(0.2),\n",
    "    keras.layers.BatchNormalization(),\n",
    "    keras.layers.Dense(13, activation='relu'),\n",
    "    keras.layers.Dense(6, activation='relu'),\n",
    "    keras.layers.Dropout(0.2),\n",
    "    keras.layers.BatchNormalization(),\n",
    "    keras.layers.Dense(3, activation='relu'),\n",
    "    keras.layers.Dropout(0.2),\n",
    "    keras.layers.BatchNormalization(),\n",
    "    keras.layers.Dense(1, activation='sigmoid'),\n",
    "])\n",
    "early_stopping = keras.callbacks.EarlyStopping(monitor='loss', patience=2)\n",
    "nn.compile(\n",
    "    optimizer=keras.optimizers.SGD(learning_rate=0.0001),\n",
    "    loss=\"binary_crossentropy\",\n",
    "    metrics=['accuracy'],\n",
    ")\n",
    "nn.fit(x_train, y_train-1, validation_split=0.1, epochs=10, batch_size=16, callbacks=[early_stopping])"
   ]
  },
  {
   "cell_type": "markdown",
   "metadata": {},
   "source": [
    "### Algorithm for Card rarity"
   ]
  },
  {
   "cell_type": "code",
   "execution_count": 261,
   "metadata": {},
   "outputs": [],
   "source": [
    "x_train, decks = [], []\n",
    "\n",
    "# we first combine the DataFrame into 1x106 vectors, where V[i] = 1 if the ith card is in the deck\n",
    "# this \n",
    "for i in df.index:\n",
    "    r1 = np.zeros(107)\n",
    "    r2 = np.zeros(107)\n",
    "    for j in range(0, 8):\n",
    "        card1 = df[f'p1_card_{j}_id'][i]\n",
    "        card2 = df[f'p2_card_{j}_id'][i]\n",
    "        \n",
    "        r1[id_map[card1]] = cards.at[id_map[card1],\"rarity\"]\n",
    "        r2[id_map[card2]] = cards.at[id_map[card2],\"rarity\"]\n",
    "        \n",
    "    x_train.append(np.concatenate((r1, r2)))\n",
    "    \n",
    "x_train = np.array(x_train)\n",
    "y_train = df['winner']\n",
    "x_train, x_test, y_train, y_test = train_test_split(x_train, y_train, test_size=0.2, random_state=6233)\n",
    "# d_train, d_test = train_test_split(decks, test_size=0.2, random_state=47483)"
   ]
  },
  {
   "cell_type": "code",
   "execution_count": 248,
   "metadata": {
    "execution": {
     "iopub.execute_input": "2022-04-11T17:04:13.123753Z",
     "iopub.status.busy": "2022-04-11T17:04:13.123428Z",
     "iopub.status.idle": "2022-04-11T17:05:08.994533Z",
     "shell.execute_reply": "2022-04-11T17:05:08.993383Z",
     "shell.execute_reply.started": "2022-04-11T17:04:13.123713Z"
    },
    "vscode": {
     "languageId": "python"
    }
   },
   "outputs": [
    {
     "name": "stdout",
     "output_type": "stream",
     "text": [
      "Training accuracy:\t 0.733484585613239\n",
      "Testing accuracy:\t 0.5586979722518677\n"
     ]
    }
   ],
   "source": [
    "knn = KNeighborsClassifier(n_neighbors=5)\n",
    "knn.fit(x_train, y_train)\n",
    "print('Training accuracy:\\t', knn.score(x_train, y_train))\n",
    "print('Testing accuracy:\\t', knn.score(x_test, y_test))"
   ]
  },
  {
   "cell_type": "code",
   "execution_count": 249,
   "metadata": {
    "execution": {
     "iopub.execute_input": "2022-04-11T17:05:08.996554Z",
     "iopub.status.busy": "2022-04-11T17:05:08.996121Z",
     "iopub.status.idle": "2022-04-11T17:05:08.999825Z",
     "shell.execute_reply": "2022-04-11T17:05:08.99906Z",
     "shell.execute_reply.started": "2022-04-11T17:05:08.996517Z"
    },
    "vscode": {
     "languageId": "python"
    }
   },
   "outputs": [
    {
     "name": "stdout",
     "output_type": "stream",
     "text": [
      "Training accuracy:\t 0.9971973842252769\n",
      "Testing accuracy:\t 0.5917822838847385\n"
     ]
    }
   ],
   "source": [
    "ada = AdaBoostClassifier(DecisionTreeClassifier(max_depth=20))\n",
    "ada.fit(x_train, y_train)\n",
    "print('Training accuracy:\\t', ada.score(x_train, y_train))\n",
    "print('Testing accuracy:\\t', ada.score(x_test, y_test))"
   ]
  },
  {
   "cell_type": "code",
   "execution_count": 250,
   "metadata": {
    "execution": {
     "iopub.execute_input": "2022-04-11T17:05:09.002721Z",
     "iopub.status.busy": "2022-04-11T17:05:09.00216Z",
     "iopub.status.idle": "2022-04-11T17:05:19.560104Z",
     "shell.execute_reply": "2022-04-11T17:05:19.559098Z",
     "shell.execute_reply.started": "2022-04-11T17:05:09.002686Z"
    },
    "vscode": {
     "languageId": "python"
    }
   },
   "outputs": [
    {
     "name": "stdout",
     "output_type": "stream",
     "text": [
      "Training accuracy:\t 0.9551581476044309\n",
      "Testing accuracy:\t 0.5773745997865528\n"
     ]
    }
   ],
   "source": [
    "bagging = BaggingClassifier(DecisionTreeClassifier(max_depth=20))\n",
    "bagging.fit(x_train, y_train)\n",
    "print('Training accuracy:\\t', bagging.score(x_train, y_train))\n",
    "print('Testing accuracy:\\t', bagging.score(x_test, y_test))"
   ]
  },
  {
   "cell_type": "code",
   "execution_count": 251,
   "metadata": {
    "execution": {
     "iopub.execute_input": "2022-04-11T17:05:19.561681Z",
     "iopub.status.busy": "2022-04-11T17:05:19.561406Z",
     "iopub.status.idle": "2022-04-11T17:05:35.384486Z",
     "shell.execute_reply": "2022-04-11T17:05:35.383316Z",
     "shell.execute_reply.started": "2022-04-11T17:05:19.561651Z"
    },
    "vscode": {
     "languageId": "python"
    }
   },
   "outputs": [
    {
     "name": "stdout",
     "output_type": "stream",
     "text": [
      "Training accuracy:\t 0.9935940210863473\n",
      "Testing accuracy:\t 0.6125933831376734\n"
     ]
    }
   ],
   "source": [
    "extra = ExtraTreesClassifier(max_depth=20)\n",
    "extra.fit(x_train, y_train)\n",
    "print('Training accuracy:\\t', extra.score(x_train, y_train))\n",
    "print('Testing accuracy:\\t', extra.score(x_test, y_test))"
   ]
  },
  {
   "cell_type": "code",
   "execution_count": 252,
   "metadata": {
    "execution": {
     "iopub.execute_input": "2022-04-11T17:05:35.386026Z",
     "iopub.status.busy": "2022-04-11T17:05:35.3858Z",
     "iopub.status.idle": "2022-04-11T17:05:46.258677Z",
     "shell.execute_reply": "2022-04-11T17:05:46.257807Z",
     "shell.execute_reply.started": "2022-04-11T17:05:35.385999Z"
    },
    "vscode": {
     "languageId": "python"
    }
   },
   "outputs": [
    {
     "name": "stdout",
     "output_type": "stream",
     "text": [
      "Training accuracy:\t 0.9865207527025224\n",
      "Testing accuracy:\t 0.5976520811099253\n"
     ]
    }
   ],
   "source": [
    "rf = RandomForestClassifier(max_depth=20)\n",
    "rf.fit(x_train, y_train)\n",
    "print('Training accuracy:\\t', rf.score(x_train, y_train))\n",
    "print('Testing accuracy:\\t', rf.score(x_test, y_test))"
   ]
  },
  {
   "cell_type": "markdown",
   "metadata": {},
   "source": [
    "### Neural Network for Card rarity"
   ]
  },
  {
   "cell_type": "code",
   "execution_count": 262,
   "metadata": {},
   "outputs": [
    {
     "name": "stdout",
     "output_type": "stream",
     "text": [
      "Epoch 1/10\n",
      "422/422 [==============================] - 5s 6ms/step - loss: 0.8006 - accuracy: 0.5145 - val_loss: 0.7192 - val_accuracy: 0.5160\n",
      "Epoch 2/10\n",
      "422/422 [==============================] - 2s 5ms/step - loss: 0.8052 - accuracy: 0.5087 - val_loss: 0.7309 - val_accuracy: 0.5160\n",
      "Epoch 3/10\n",
      "422/422 [==============================] - 2s 6ms/step - loss: 0.7809 - accuracy: 0.5235 - val_loss: 0.7326 - val_accuracy: 0.5093\n",
      "Epoch 4/10\n",
      "422/422 [==============================] - 3s 6ms/step - loss: 0.7896 - accuracy: 0.5106 - val_loss: 0.7249 - val_accuracy: 0.5227\n",
      "Epoch 5/10\n",
      "422/422 [==============================] - 3s 7ms/step - loss: 0.7905 - accuracy: 0.5124 - val_loss: 0.7226 - val_accuracy: 0.5213\n"
     ]
    },
    {
     "data": {
      "text/plain": [
       "<keras.callbacks.History at 0x28747184f70>"
      ]
     },
     "execution_count": 262,
     "metadata": {},
     "output_type": "execute_result"
    }
   ],
   "source": [
    "from tensorflow import keras\n",
    "nn = keras.Sequential([\n",
    "    keras.layers.Dense(106, activation='relu'),\n",
    "    keras.layers.Dense(53, activation='tanh'),\n",
    "    keras.layers.Dropout(0.2),\n",
    "    keras.layers.BatchNormalization(),\n",
    "    keras.layers.Dense(26, activation='relu'),\n",
    "    keras.layers.Dropout(0.2),\n",
    "    keras.layers.BatchNormalization(),\n",
    "    keras.layers.Dense(13, activation='relu'),\n",
    "    keras.layers.Dense(6, activation='relu'),\n",
    "    keras.layers.Dropout(0.2),\n",
    "    keras.layers.BatchNormalization(),\n",
    "    keras.layers.Dense(3, activation='relu'),\n",
    "    keras.layers.Dropout(0.2),\n",
    "    keras.layers.BatchNormalization(),\n",
    "    keras.layers.Dense(1, activation='sigmoid'),\n",
    "])\n",
    "early_stopping = keras.callbacks.EarlyStopping(monitor='loss', patience=2)\n",
    "nn.compile(\n",
    "    optimizer=keras.optimizers.SGD(learning_rate=0.0001),\n",
    "    loss=\"binary_crossentropy\",\n",
    "    metrics=['accuracy'],\n",
    ")\n",
    "nn.fit(x_train, y_train-1, validation_split=0.1, epochs=10, batch_size=16, callbacks=[early_stopping])"
   ]
  },
  {
   "cell_type": "markdown",
   "metadata": {},
   "source": [
    "### Algorithm for Card elixir"
   ]
  },
  {
   "cell_type": "code",
   "execution_count": 263,
   "metadata": {},
   "outputs": [],
   "source": [
    "x_train, decks = [], []\n",
    "\n",
    "# we first combine the DataFrame into 1x106 vectors, where V[i] = 1 if the ith card is in the deck\n",
    "# this \n",
    "for i in df.index:\n",
    "    e1 = np.zeros(107)\n",
    "    e2 = np.zeros(107)\n",
    "    for j in range(0, 8):\n",
    "        card1 = df[f'p1_card_{j}_id'][i]\n",
    "        card2 = df[f'p2_card_{j}_id'][i]\n",
    "        \n",
    "        e1[id_map[card1]] = cards.at[id_map[card1],\"elixir\"]\n",
    "        e2[id_map[card2]] = cards.at[id_map[card2],\"elixir\"]\n",
    "        \n",
    "    x_train.append(np.concatenate((e1, e2)))\n",
    "    \n",
    "x_train = np.array(x_train)\n",
    "y_train = df['winner']\n",
    "x_train, x_test, y_train, y_test = train_test_split(x_train, y_train, test_size=0.2, random_state=6233)\n",
    "# d_train, d_test = train_test_split(decks, test_size=0.2, random_state=47483)"
   ]
  },
  {
   "cell_type": "code",
   "execution_count": 254,
   "metadata": {
    "execution": {
     "iopub.execute_input": "2022-04-11T17:04:13.123753Z",
     "iopub.status.busy": "2022-04-11T17:04:13.123428Z",
     "iopub.status.idle": "2022-04-11T17:05:08.994533Z",
     "shell.execute_reply": "2022-04-11T17:05:08.993383Z",
     "shell.execute_reply.started": "2022-04-11T17:04:13.123713Z"
    },
    "vscode": {
     "languageId": "python"
    }
   },
   "outputs": [
    {
     "name": "stdout",
     "output_type": "stream",
     "text": [
      "Training accuracy:\t 0.7392232750567196\n",
      "Testing accuracy:\t 0.5923159018143009\n"
     ]
    }
   ],
   "source": [
    "knn = KNeighborsClassifier(n_neighbors=5)\n",
    "knn.fit(x_train, y_train)\n",
    "print('Training accuracy:\\t', knn.score(x_train, y_train))\n",
    "print('Testing accuracy:\\t', knn.score(x_test, y_test))"
   ]
  },
  {
   "cell_type": "code",
   "execution_count": 255,
   "metadata": {
    "execution": {
     "iopub.execute_input": "2022-04-11T17:05:08.996554Z",
     "iopub.status.busy": "2022-04-11T17:05:08.996121Z",
     "iopub.status.idle": "2022-04-11T17:05:08.999825Z",
     "shell.execute_reply": "2022-04-11T17:05:08.99906Z",
     "shell.execute_reply.started": "2022-04-11T17:05:08.996517Z"
    },
    "vscode": {
     "languageId": "python"
    }
   },
   "outputs": [
    {
     "name": "stdout",
     "output_type": "stream",
     "text": [
      "Training accuracy:\t 0.9971973842252769\n",
      "Testing accuracy:\t 0.5693703308431163\n"
     ]
    }
   ],
   "source": [
    "ada = AdaBoostClassifier(DecisionTreeClassifier(max_depth=20))\n",
    "ada.fit(x_train, y_train)\n",
    "print('Training accuracy:\\t', ada.score(x_train, y_train))\n",
    "print('Testing accuracy:\\t', ada.score(x_test, y_test))"
   ]
  },
  {
   "cell_type": "code",
   "execution_count": 256,
   "metadata": {
    "execution": {
     "iopub.execute_input": "2022-04-11T17:05:09.002721Z",
     "iopub.status.busy": "2022-04-11T17:05:09.00216Z",
     "iopub.status.idle": "2022-04-11T17:05:19.560104Z",
     "shell.execute_reply": "2022-04-11T17:05:19.559098Z",
     "shell.execute_reply.started": "2022-04-11T17:05:09.002686Z"
    },
    "vscode": {
     "languageId": "python"
    }
   },
   "outputs": [
    {
     "name": "stdout",
     "output_type": "stream",
     "text": [
      "Training accuracy:\t 0.9542239423461898\n",
      "Testing accuracy:\t 0.580042689434365\n"
     ]
    }
   ],
   "source": [
    "bagging = BaggingClassifier(DecisionTreeClassifier(max_depth=20))\n",
    "bagging.fit(x_train, y_train)\n",
    "print('Training accuracy:\\t', bagging.score(x_train, y_train))\n",
    "print('Testing accuracy:\\t', bagging.score(x_test, y_test))"
   ]
  },
  {
   "cell_type": "code",
   "execution_count": 257,
   "metadata": {
    "execution": {
     "iopub.execute_input": "2022-04-11T17:05:19.561681Z",
     "iopub.status.busy": "2022-04-11T17:05:19.561406Z",
     "iopub.status.idle": "2022-04-11T17:05:35.384486Z",
     "shell.execute_reply": "2022-04-11T17:05:35.383316Z",
     "shell.execute_reply.started": "2022-04-11T17:05:19.561651Z"
    },
    "vscode": {
     "languageId": "python"
    }
   },
   "outputs": [
    {
     "name": "stdout",
     "output_type": "stream",
     "text": [
      "Training accuracy:\t 0.9925263579340718\n",
      "Testing accuracy:\t 0.6045891141942369\n"
     ]
    }
   ],
   "source": [
    "extra = ExtraTreesClassifier(max_depth=20)\n",
    "extra.fit(x_train, y_train)\n",
    "print('Training accuracy:\\t', extra.score(x_train, y_train))\n",
    "print('Testing accuracy:\\t', extra.score(x_test, y_test))"
   ]
  },
  {
   "cell_type": "code",
   "execution_count": 258,
   "metadata": {
    "execution": {
     "iopub.execute_input": "2022-04-11T17:05:35.386026Z",
     "iopub.status.busy": "2022-04-11T17:05:35.3858Z",
     "iopub.status.idle": "2022-04-11T17:05:46.258677Z",
     "shell.execute_reply": "2022-04-11T17:05:46.257807Z",
     "shell.execute_reply.started": "2022-04-11T17:05:35.385999Z"
    },
    "vscode": {
     "languageId": "python"
    }
   },
   "outputs": [
    {
     "name": "stdout",
     "output_type": "stream",
     "text": [
      "Training accuracy:\t 0.986120379020419\n",
      "Testing accuracy:\t 0.6045891141942369\n"
     ]
    }
   ],
   "source": [
    "rf = RandomForestClassifier(max_depth=20)\n",
    "rf.fit(x_train, y_train)\n",
    "print('Training accuracy:\\t', rf.score(x_train, y_train))\n",
    "print('Testing accuracy:\\t', rf.score(x_test, y_test))"
   ]
  },
  {
   "cell_type": "markdown",
   "metadata": {},
   "source": [
    "### Neural Network for Card elixir"
   ]
  },
  {
   "cell_type": "code",
   "execution_count": 264,
   "metadata": {},
   "outputs": [
    {
     "name": "stdout",
     "output_type": "stream",
     "text": [
      "Epoch 1/10\n",
      "422/422 [==============================] - 5s 6ms/step - loss: 0.7712 - accuracy: 0.4927 - val_loss: 0.7302 - val_accuracy: 0.4653\n",
      "Epoch 2/10\n",
      "422/422 [==============================] - 2s 5ms/step - loss: 0.7605 - accuracy: 0.4967 - val_loss: 0.7307 - val_accuracy: 0.4653\n",
      "Epoch 3/10\n",
      "422/422 [==============================] - 2s 5ms/step - loss: 0.7549 - accuracy: 0.5032 - val_loss: 0.7308 - val_accuracy: 0.4680\n",
      "Epoch 4/10\n",
      "422/422 [==============================] - 2s 5ms/step - loss: 0.7620 - accuracy: 0.4909 - val_loss: 0.7284 - val_accuracy: 0.4640\n",
      "Epoch 5/10\n",
      "422/422 [==============================] - 2s 5ms/step - loss: 0.7501 - accuracy: 0.4973 - val_loss: 0.7233 - val_accuracy: 0.4800\n",
      "Epoch 6/10\n",
      "422/422 [==============================] - 2s 5ms/step - loss: 0.7491 - accuracy: 0.5013 - val_loss: 0.7235 - val_accuracy: 0.4733\n",
      "Epoch 7/10\n",
      "422/422 [==============================] - 2s 5ms/step - loss: 0.7497 - accuracy: 0.4949 - val_loss: 0.7235 - val_accuracy: 0.4627\n",
      "Epoch 8/10\n",
      "422/422 [==============================] - 2s 5ms/step - loss: 0.7414 - accuracy: 0.5013 - val_loss: 0.7217 - val_accuracy: 0.4720\n",
      "Epoch 9/10\n",
      "422/422 [==============================] - 2s 5ms/step - loss: 0.7450 - accuracy: 0.4990 - val_loss: 0.7194 - val_accuracy: 0.4693\n",
      "Epoch 10/10\n",
      "422/422 [==============================] - 2s 5ms/step - loss: 0.7456 - accuracy: 0.4968 - val_loss: 0.7181 - val_accuracy: 0.4653\n"
     ]
    },
    {
     "data": {
      "text/plain": [
       "<keras.callbacks.History at 0x287544addc0>"
      ]
     },
     "execution_count": 264,
     "metadata": {},
     "output_type": "execute_result"
    }
   ],
   "source": [
    "from tensorflow import keras\n",
    "nn = keras.Sequential([\n",
    "    keras.layers.Dense(106, activation='relu'),\n",
    "    keras.layers.Dense(53, activation='tanh'),\n",
    "    keras.layers.Dropout(0.2),\n",
    "    keras.layers.BatchNormalization(),\n",
    "    keras.layers.Dense(26, activation='relu'),\n",
    "    keras.layers.Dropout(0.2),\n",
    "    keras.layers.BatchNormalization(),\n",
    "    keras.layers.Dense(13, activation='relu'),\n",
    "    keras.layers.Dense(6, activation='relu'),\n",
    "    keras.layers.Dropout(0.2),\n",
    "    keras.layers.BatchNormalization(),\n",
    "    keras.layers.Dense(3, activation='relu'),\n",
    "    keras.layers.Dropout(0.2),\n",
    "    keras.layers.BatchNormalization(),\n",
    "    keras.layers.Dense(1, activation='sigmoid'),\n",
    "])\n",
    "early_stopping = keras.callbacks.EarlyStopping(monitor='loss', patience=2)\n",
    "nn.compile(\n",
    "    optimizer=keras.optimizers.SGD(learning_rate=0.0001),\n",
    "    loss=\"binary_crossentropy\",\n",
    "    metrics=['accuracy'],\n",
    ")\n",
    "nn.fit(x_train, y_train-1, validation_split=0.1, epochs=10, batch_size=16, callbacks=[early_stopping])"
   ]
  },
  {
   "cell_type": "markdown",
   "metadata": {},
   "source": [
    "## 6. Deck Building:"
   ]
  },
  {
   "cell_type": "markdown",
   "metadata": {},
   "source": [
    "### Troop Rarity"
   ]
  },
  {
   "cell_type": "code",
   "execution_count": 203,
   "metadata": {
    "execution": {
     "iopub.execute_input": "2022-04-11T17:05:57.034808Z",
     "iopub.status.busy": "2022-04-11T17:05:57.034563Z",
     "iopub.status.idle": "2022-04-11T17:05:57.050796Z",
     "shell.execute_reply": "2022-04-11T17:05:57.049463Z",
     "shell.execute_reply.started": "2022-04-11T17:05:57.034778Z"
    },
    "vscode": {
     "languageId": "python"
    }
   },
   "outputs": [],
   "source": [
    "N_CARDS = 107\n",
    "synergies = np.array([(i, j, d_corr[i][j]) for i in range(N_CARDS) for j in range(i+1, N_CARDS)])"
   ]
  },
  {
   "cell_type": "code",
   "execution_count": 204,
   "metadata": {
    "execution": {
     "iopub.execute_input": "2022-04-11T17:05:57.052274Z",
     "iopub.status.busy": "2022-04-11T17:05:57.05205Z",
     "iopub.status.idle": "2022-04-11T17:05:57.589881Z",
     "shell.execute_reply": "2022-04-11T17:05:57.589041Z",
     "shell.execute_reply.started": "2022-04-11T17:05:57.052243Z"
    },
    "vscode": {
     "languageId": "python"
    }
   },
   "outputs": [
    {
     "data": {
      "text/plain": [
       "<AxesSubplot:ylabel='Count'>"
      ]
     },
     "execution_count": 204,
     "metadata": {},
     "output_type": "execute_result"
    },
    {
     "data": {
      "image/png": "[encoded data removed]",
      "text/plain": [
       "<Figure size 864x576 with 1 Axes>"
      ]
     },
     "metadata": {
      "needs_background": "light"
     },
     "output_type": "display_data"
    }
   ],
   "source": [
    "import seaborn as sns\n",
    "x_train, y_train = synergies[:, :2], synergies[:, 2]\n",
    "fig = plt.figure(figsize=(12, 8))\n",
    "sns.histplot(y_train)"
   ]
  }
 ],
 "metadata": {
  "kernelspec": {
   "display_name": "Python 3 (ipykernel)",
   "language": "python",
   "name": "python3"
  },
  "language_info": {
   "codemirror_mode": {
    "name": "ipython",
    "version": 3
   },
   "file_extension": ".py",
   "mimetype": "text/x-python",
   "name": "python",
   "nbconvert_exporter": "python",
   "pygments_lexer": "ipython3",
   "version": "3.8.2"
  }
 },
 "nbformat": 4,
 "nbformat_minor": 4
}
